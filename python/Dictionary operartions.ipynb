{
 "cells": [
  {
   "cell_type": "code",
   "execution_count": null,
   "id": "66233325",
   "metadata": {},
   "outputs": [],
   "source": [
    "                    \"get()\""
   ]
  },
  {
   "cell_type": "code",
   "execution_count": 1,
   "id": "97a5599c",
   "metadata": {},
   "outputs": [
    {
     "name": "stdout",
     "output_type": "stream",
     "text": [
      "23\n"
     ]
    }
   ],
   "source": [
    "a = {\"name\":\"pranay\",\"age\":23}\n",
    "b = a.get(\"age\")\n",
    "print(b)"
   ]
  },
  {
   "cell_type": "code",
   "execution_count": null,
   "id": "663df8dd",
   "metadata": {},
   "outputs": [],
   "source": []
  },
  {
   "cell_type": "code",
   "execution_count": null,
   "id": "cd3812de",
   "metadata": {},
   "outputs": [],
   "source": [
    "                    \"keys()\""
   ]
  },
  {
   "cell_type": "code",
   "execution_count": 4,
   "id": "0e5546b7",
   "metadata": {},
   "outputs": [
    {
     "name": "stdout",
     "output_type": "stream",
     "text": [
      "dict_keys(['name', 'age'])\n"
     ]
    }
   ],
   "source": [
    "a = {\"name\":\"pranay\",\"age\":23}\n",
    "b= a.keys()\n",
    "print(b)"
   ]
  },
  {
   "cell_type": "code",
   "execution_count": null,
   "id": "dc56f8c5",
   "metadata": {},
   "outputs": [],
   "source": []
  },
  {
   "cell_type": "code",
   "execution_count": null,
   "id": "0c13538d",
   "metadata": {},
   "outputs": [],
   "source": [
    "                    \"copy\""
   ]
  },
  {
   "cell_type": "code",
   "execution_count": 5,
   "id": "fe04d48c",
   "metadata": {},
   "outputs": [
    {
     "name": "stdout",
     "output_type": "stream",
     "text": [
      "{'name': 'pranay', 'age': 23}\n"
     ]
    }
   ],
   "source": [
    "a = {\"name\":\"pranay\",\"age\":23}\n",
    "b = a.copy()\n",
    "print(b)"
   ]
  },
  {
   "cell_type": "code",
   "execution_count": null,
   "id": "3457b80c",
   "metadata": {},
   "outputs": [],
   "source": []
  },
  {
   "cell_type": "code",
   "execution_count": null,
   "id": "75ebef46",
   "metadata": {},
   "outputs": [],
   "source": [
    "                    \"items\""
   ]
  },
  {
   "cell_type": "code",
   "execution_count": 6,
   "id": "72dc1add",
   "metadata": {},
   "outputs": [
    {
     "name": "stdout",
     "output_type": "stream",
     "text": [
      "dict_items([('name', 'pranay'), ('age', 23)])\n"
     ]
    }
   ],
   "source": [
    "a = {\"name\":\"pranay\",\"age\":23}\n",
    "b = a.items()\n",
    "print(b)"
   ]
  },
  {
   "cell_type": "code",
   "execution_count": null,
   "id": "a337cb40",
   "metadata": {},
   "outputs": [],
   "source": []
  },
  {
   "cell_type": "code",
   "execution_count": null,
   "id": "d1c89815",
   "metadata": {},
   "outputs": [],
   "source": [
    "                    \"values\""
   ]
  },
  {
   "cell_type": "code",
   "execution_count": 14,
   "id": "85068438",
   "metadata": {},
   "outputs": [
    {
     "name": "stdout",
     "output_type": "stream",
     "text": [
      "dict_values(['pranay', 23])\n"
     ]
    }
   ],
   "source": [
    "a = {\"name\":\"pranay\",\"age\":23}\n",
    "b = a.values()\n",
    "print(b)"
   ]
  },
  {
   "cell_type": "code",
   "execution_count": 9,
   "id": "e8ff85d0",
   "metadata": {},
   "outputs": [
    {
     "name": "stdout",
     "output_type": "stream",
     "text": [
      "60\n"
     ]
    }
   ],
   "source": [
    "a = {\"V1\":10,\"v2\":20,\"v3\":30}\n",
    "b = sum(a.values())\n",
    "print(b)"
   ]
  },
  {
   "cell_type": "code",
   "execution_count": null,
   "id": "e192b7b3",
   "metadata": {},
   "outputs": [],
   "source": []
  },
  {
   "cell_type": "code",
   "execution_count": null,
   "id": "f265e984",
   "metadata": {},
   "outputs": [],
   "source": [
    "                    \"pop\""
   ]
  },
  {
   "cell_type": "code",
   "execution_count": 10,
   "id": "b19f0f39",
   "metadata": {},
   "outputs": [
    {
     "name": "stdout",
     "output_type": "stream",
     "text": [
      "pranay\n"
     ]
    }
   ],
   "source": [
    "a = {\"name\":\"pranay\",\"age\":23,\"job\":\"TCS\"}\n",
    "b = a.pop(\"name\")                             #shows value of given key\n",
    "print(b)"
   ]
  },
  {
   "cell_type": "code",
   "execution_count": 12,
   "id": "147ef258",
   "metadata": {},
   "outputs": [
    {
     "name": "stdout",
     "output_type": "stream",
     "text": [
      "{'age': 23, 'job': 'TCS'}\n"
     ]
    }
   ],
   "source": [
    "a = {\"name\":\"pranay\",\"age\":23,\"job\":\"TCS\"}   \n",
    "a.pop(\"name\")                                 #remove k and v\n",
    "print(a)"
   ]
  },
  {
   "cell_type": "code",
   "execution_count": null,
   "id": "eec2aa84",
   "metadata": {},
   "outputs": [],
   "source": []
  },
  {
   "cell_type": "code",
   "execution_count": null,
   "id": "fdc37214",
   "metadata": {},
   "outputs": [],
   "source": [
    "                        \"update\""
   ]
  },
  {
   "cell_type": "code",
   "execution_count": 18,
   "id": "2d21b640",
   "metadata": {},
   "outputs": [
    {
     "name": "stdout",
     "output_type": "stream",
     "text": [
      "{'name': 'pranay', 'age': 23, 'job': 'TCS', 'IPA': 40, 'next_IPA': 88}\n"
     ]
    }
   ],
   "source": [
    "a = {\"name\":\"pranay\",\"age\":23,\"job\":\"TCS\"}\n",
    "a.update({\"IPA\":40, \"next_IPA\":88})\n",
    "print(a)"
   ]
  },
  {
   "cell_type": "code",
   "execution_count": null,
   "id": "c0489dfa",
   "metadata": {},
   "outputs": [],
   "source": []
  },
  {
   "cell_type": "code",
   "execution_count": null,
   "id": "dbafaa96",
   "metadata": {},
   "outputs": [],
   "source": [
    "                        \"fromkeys\""
   ]
  },
  {
   "cell_type": "code",
   "execution_count": 27,
   "id": "ddc7400a",
   "metadata": {},
   "outputs": [
    {
     "name": "stdout",
     "output_type": "stream",
     "text": [
      "{'a1': 10, 'a2': 10, 'a3': 10}\n"
     ]
    }
   ],
   "source": [
    "a = {\"a1\",\"a2\",\"a3\"}\n",
    "b = 10\n",
    "d=dict.fromkeys(a,b)\n",
    "print(d)\n"
   ]
  },
  {
   "cell_type": "code",
   "execution_count": 23,
   "id": "0f1ed026",
   "metadata": {},
   "outputs": [
    {
     "name": "stdout",
     "output_type": "stream",
     "text": [
      "{'a1': None, 'a2': None, 'a3': None}\n"
     ]
    }
   ],
   "source": [
    "a = {\"a1\",\"a2\",\"a3\"}\n",
    "d=dict.fromkeys(a)\n",
    "print(d)\n"
   ]
  },
  {
   "cell_type": "code",
   "execution_count": 24,
   "id": "d94316fa",
   "metadata": {},
   "outputs": [
    {
     "name": "stdout",
     "output_type": "stream",
     "text": [
      "{'swapnil': 'TCS', 'sarvesh': 'TCS', 'pranay': 'TCS'}\n"
     ]
    }
   ],
   "source": [
    "a = {\"pranay\",\"sarvesh\",\"swapnil\"}\n",
    "b = \"TCS\"\n",
    "d=dict.fromkeys(a,b)\n",
    "print(d)\n"
   ]
  },
  {
   "cell_type": "code",
   "execution_count": null,
   "id": "0e442699",
   "metadata": {},
   "outputs": [],
   "source": []
  },
  {
   "cell_type": "code",
   "execution_count": null,
   "id": "7c84ae6a",
   "metadata": {},
   "outputs": [],
   "source": [
    "                        \"clear\""
   ]
  },
  {
   "cell_type": "code",
   "execution_count": 30,
   "id": "55237ea5",
   "metadata": {},
   "outputs": [
    {
     "name": "stdout",
     "output_type": "stream",
     "text": [
      "{}\n"
     ]
    }
   ],
   "source": [
    "a = {\"name\":\"pranay\",\"age\":23,\"job\":\"TCS\"}\n",
    "a.clear()\n",
    "print(a)\n"
   ]
  },
  {
   "cell_type": "code",
   "execution_count": null,
   "id": "9f6a0873",
   "metadata": {},
   "outputs": [],
   "source": []
  }
 ],
 "metadata": {
  "kernelspec": {
   "display_name": "Python 3 (ipykernel)",
   "language": "python",
   "name": "python3"
  },
  "language_info": {
   "codemirror_mode": {
    "name": "ipython",
    "version": 3
   },
   "file_extension": ".py",
   "mimetype": "text/x-python",
   "name": "python",
   "nbconvert_exporter": "python",
   "pygments_lexer": "ipython3",
   "version": "3.9.7"
  }
 },
 "nbformat": 4,
 "nbformat_minor": 5
}
