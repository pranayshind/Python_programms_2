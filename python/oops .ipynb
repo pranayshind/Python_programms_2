{
 "cells": [
  {
   "cell_type": "code",
   "execution_count": null,
   "id": "68d2632b",
   "metadata": {},
   "outputs": [],
   "source": [
    "                                             '''OOPS problems'''"
   ]
  },
  {
   "cell_type": "code",
   "execution_count": null,
   "id": "9c62c4d4",
   "metadata": {},
   "outputs": [],
   "source": []
  },
  {
   "cell_type": "code",
   "execution_count": 31,
   "id": "537ff957",
   "metadata": {},
   "outputs": [
    {
     "name": "stdout",
     "output_type": "stream",
     "text": [
      "Pranay Shinde\n",
      "Vishal Shirke\n"
     ]
    }
   ],
   "source": [
    "#Define a class named Person with first_name and last_name as instance variables and a method full_name which returns the full name of the person.\n",
    "\n",
    "class Person:\n",
    "    def __init__(self,first_name,last_name):\n",
    "        self.first_name = first_name\n",
    "        self.last_name = last_name\n",
    "        \n",
    "    def full_name(self):\n",
    "        return f\"{self.first_name} {self.last_name}\"\n",
    "\n",
    "person_1 = Person(\"Pranay\",\"Shinde\")\n",
    "person_2 = Person(\"Vishal\",\"Shirke\")\n",
    "print(person_1.full_name())\n",
    "print(person_2.full_name())\n",
    "        "
   ]
  },
  {
   "cell_type": "code",
   "execution_count": 19,
   "id": "1981da7f",
   "metadata": {},
   "outputs": [
    {
     "name": "stdout",
     "output_type": "stream",
     "text": [
      "Area is 50\n",
      "Perimeter is 30\n"
     ]
    }
   ],
   "source": [
    "#Define a class named Rectangle with length and breadth as instance variables and methods area and perimeter to calculate the area and perimeter of a rectangle. Initialize two objects with different values of length and breadth and call their respective methods.\n",
    "\n",
    "class Rectangle:\n",
    "  \n",
    "    def __init__(self,length,breadth):\n",
    "        self.length = length\n",
    "        self.breadth = breadth\n",
    "    \n",
    "    def area(self):\n",
    "        return self.length*self.breadth\n",
    "    \n",
    "    def perimeter(self):\n",
    "        return 2*(self.length+self.breadth)\n",
    "        \n",
    "first_input = Rectangle(5,10)\n",
    "\n",
    "\n",
    "print(f\"Area is {first_input.area()}\")\n",
    "print(f\"Perimeter is {first_input.perimeter()}\")\n"
   ]
  },
  {
   "cell_type": "code",
   "execution_count": 29,
   "id": "f5b06277",
   "metadata": {},
   "outputs": [
    {
     "data": {
      "text/plain": [
       "25.12"
      ]
     },
     "execution_count": 29,
     "metadata": {},
     "output_type": "execute_result"
    }
   ],
   "source": [
    "#Define a class named Circle with radius as instance variable and pi as class variable. Write a method to calculate the circumference of a circle using the class variable pi and instance variable radius.\n",
    "\n",
    "class Circle:\n",
    "    pi = 3.14\n",
    "    def __init__(self,radius):\n",
    "        self.radius = radius\n",
    "    \n",
    "    def circumference(self):\n",
    "        return 2*Circle.pi*self.radius\n",
    "\n",
    "circle_1 = Circle(4)\n",
    "circle_1.circumference()"
   ]
  },
  {
   "cell_type": "code",
   "execution_count": 34,
   "id": "a0303c60",
   "metadata": {},
   "outputs": [
    {
     "name": "stdout",
     "output_type": "stream",
     "text": [
      "make TATA\n",
      "model Nexon Ev\n",
      "year 2020\n",
      "make Mahindra\n",
      "model Thar\n",
      "year 2005\n"
     ]
    }
   ],
   "source": [
    "#Inheritance:Define a base class named Vehicle with instance variables make and model and a method display_details to display the details of the vehicle. Define a derived class named Car which inherits the properties of the Vehicle class and add an instance variable year and a method display_car_details to display the details of the car.\n",
    "\n",
    "class Vehicle:\n",
    "    def __init__(self,make,model):\n",
    "        self.make = make\n",
    "        self.model = model\n",
    "    \n",
    "    def display_details(self):\n",
    "        print(f\"make {self.make}\")\n",
    "        print(f\"model {self.model}\")\n",
    "\n",
    "class Car(Vehicle):\n",
    "    def __init__(self,make,model,year):\n",
    "        super().__init__(make,model)\n",
    "        self.year = year\n",
    "        \n",
    "    def display_car_details(self):\n",
    "        self.display_details()\n",
    "        print(f\"year {self.year}\")\n",
    "        \n",
    "car_1st = Car(\"TATA\",\"Nexon Ev\",2020)\n",
    "car_2nd = Car(\"Mahindra\",\"Thar\",2005)\n",
    "car_1st.display_car_details()\n",
    "car_2nd.display_car_details()"
   ]
  },
  {
   "cell_type": "code",
   "execution_count": 44,
   "id": "30a021fc",
   "metadata": {},
   "outputs": [
    {
     "name": "stdout",
     "output_type": "stream",
     "text": [
      "200\n",
      "100.0\n"
     ]
    }
   ],
   "source": [
    "#Polymorphism:Define two classes Rectangle and Triangle with methods area to calculate the area of the shape. Define a method in a separate class that takes an object of either Rectangle or Triangle class and calculates the area of the shape by calling the method area dynamically.\n",
    "\n",
    "class Shape:\n",
    "    def __init__(self,name):\n",
    "        self.name = name\n",
    "        \n",
    "class Rectanagle:\n",
    "    def __init__(self,length,breadth):\n",
    "        self.length =length\n",
    "        self.breadth = breadth\n",
    "        \n",
    "    def area(self):\n",
    "        return self.length * self.breadth\n",
    "\n",
    "class Triangle:\n",
    "    def __init__(self,base,height):\n",
    "        self.base = base\n",
    "        self.height = height\n",
    "    \n",
    "    def area(self):\n",
    "        return 0.5*self.base*self.height\n",
    "    \n",
    "\n",
    "def calculate_area(Shape):         #function mde class inherit krto\n",
    "    return Shape.area()\n",
    "    \n",
    "area_1 = Rectangle(10,20)\n",
    "area_2 = Triangle(10,20)\n",
    "\n",
    "print(calculate_area(area_1))\n",
    "print(calculate_area(area_2))\n",
    "\n",
    "        "
   ]
  },
  {
   "cell_type": "code",
   "execution_count": 43,
   "id": "c04703ff",
   "metadata": {},
   "outputs": [
    {
     "name": "stdout",
     "output_type": "stream",
     "text": [
      "200\n",
      "100.0\n"
     ]
    }
   ],
   "source": [
    "#or\n",
    "\n",
    "class Rectangle:\n",
    "    def __init__(self, length, breadth):\n",
    "        self.length = length\n",
    "        self.breadth = breadth\n",
    "    \n",
    "    def area(self):\n",
    "        return self.length * self.breadth\n",
    "\n",
    "class Triangle:\n",
    "    def __init__(self, base, height):\n",
    "        self.base = base\n",
    "        self.height = height\n",
    "    \n",
    "    def area(self):\n",
    "        return 0.5 * self.base * self.height\n",
    "\n",
    "class ShapeCalculator:\n",
    "    def calculate_area(self, shape):\n",
    "        return shape.area()\n",
    "\n",
    "rect = Rectangle(10, 20)\n",
    "tri = Triangle(10, 20)\n",
    "\n",
    "calculator = ShapeCalculator()\n",
    "print(calculator.calculate_area(rect)) # 200\n",
    "print(calculator.calculate_area(tri)) # 100\n"
   ]
  },
  {
   "cell_type": "code",
   "execution_count": 53,
   "id": "a4baa859",
   "metadata": {},
   "outputs": [],
   "source": [
    "#Encapsulation:Define a class named Person with first_name, last_name and age as instance variables and write methods to set and get values for these variables. Implement encapsulation for the instance variables by making them private and accessing them through the methods.\n",
    "\n",
    "class Person:\n",
    "    def __init__(self, first_name, last_name, age):\n",
    "        self.__first_name = first_name\n",
    "        self.__last_name = last_name\n",
    "        self.__age = age\n",
    "    \n",
    "    def get_first_name(self):\n",
    "        return self.__first_name\n",
    "    \n",
    "    def set_first_name(self, first_name):\n",
    "        self.__first_name = first_name\n",
    "    \n",
    "    def get_last_name(self):\n",
    "        return self.__last_name\n",
    "    \n",
    "    def set_last_name(self, last_name):\n",
    "        self.__last_name = last_name\n",
    "    \n",
    "    def get_age(self):\n",
    "        return self.__age\n",
    "    \n",
    "    def set_age(self, age):\n",
    "        self.__age = age\n",
    "\n",
    "'''In this example, the instance variables first_name, last_name, and age are made private by adding two underscores\n",
    "before their names. To access or modify these variables, we have provided setter and getter methods set_first_name, \n",
    "get_first_name, set_last_name, get_last_name, set_age, and get_age. This way, we can encapsulate the instance variables \n",
    "and control access to them, ensuring that they are only modified through the provided methods and not directly'''\n",
    "    \n",
    "        "
   ]
  },
  {
   "cell_type": "code",
   "execution_count": 62,
   "id": "2fc30293",
   "metadata": {},
   "outputs": [
    {
     "name": "stdout",
     "output_type": "stream",
     "text": [
      "meow\n",
      "woof\n",
      "\n",
      "\n",
      "mani\n",
      "cat\n",
      "\n",
      "\n",
      "Simba\n",
      "dog\n"
     ]
    }
   ],
   "source": [
    "#Write a class named Animal that has two instance variables: name and species. Define a method make_sound that returns the sound that the animal makes. Create two subclasses Cat and Dog that inherit from the Animal class. The Cat class should have a method that returns \"Meow\" and the Dog class should have a method that returns \"Woof\".\n",
    "\n",
    "class Animal:\n",
    "    def __init__(self,name,species):\n",
    "        self.name = name\n",
    "        self.species = species\n",
    "        \n",
    "    def make_sound(self):\n",
    "        pass\n",
    "       \n",
    "\n",
    "class Cat(Animal):\n",
    "    def make_sound(self):\n",
    "        return \"meow\"\n",
    "\n",
    "class Dog(Animal):\n",
    "    def make_sound(self):\n",
    "        return \"woof\"\n",
    "    \n",
    "cat_1 = Cat(\"mani\",\"cat\")\n",
    "dog_1 = Dog(\"Simba\",\"dog\")\n",
    "\n",
    "print(cat_1.make_sound())\n",
    "print(dog_1.make_sound())\n",
    "\n",
    "print(\"\\n\")\n",
    "\n",
    "print(cat_1.name)\n",
    "print(cat_1.species)\n",
    "\n",
    "print(\"\\n\")\n",
    "\n",
    "print(dog_1.name)\n",
    "print(dog_1.species)\n",
    "\n"
   ]
  },
  {
   "cell_type": "code",
   "execution_count": 69,
   "id": "2aae35ce",
   "metadata": {},
   "outputs": [
    {
     "name": "stdout",
     "output_type": "stream",
     "text": [
      "800 has been added to Pranay's account. New balance: 2800\n",
      "400 has been withdrawn from Pranay's account. New balance: 2400\n"
     ]
    }
   ],
   "source": [
    "#Create a class named BankAccount that has two instance variables: name and balance. Define a method deposit that adds an amount to the balance, and a method withdraw that subtracts an amount from the balance. Make sure the withdraw method only allows withdrawals that do not exceed the available balance.\n",
    "\n",
    "class BankAccount:\n",
    "    \n",
    "    def __init__(self,name,balance):\n",
    "        self.name = name\n",
    "        self.balance = balance\n",
    "    \n",
    "    def deposite(self,amount):\n",
    "        self.amount = amount\n",
    "        self.balance = self.balance + self.amount\n",
    "        print(f\"{self.amount} has been added to {self.name}'s account. New balance: {self.balance}\")\n",
    "    \n",
    "    def withdraw(self,amount):\n",
    "        self.amount = amount\n",
    "        if self.amount <= self.balance:\n",
    "            self.balance = self.balance- self.amount\n",
    "            print(f\"{self.amount} has been withdrawn from {self.name}'s account. New balance: {self.balance}\")\n",
    "        else:\n",
    "            print(\"Insufficient balance to withdraw\")\n",
    "            \n",
    "Account_1 = BankAccount(\"Pranay\",2000)\n",
    "Account_1.deposite(800)\n",
    "Account_1.withdraw(400)\n",
    "    "
   ]
  },
  {
   "cell_type": "code",
   "execution_count": 78,
   "id": "596e38bb",
   "metadata": {},
   "outputs": [
    {
     "name": "stdout",
     "output_type": "stream",
     "text": [
      "salary before raise was 3000\n",
      "after raise by 10%, new saalary will be 3300.0\n"
     ]
    },
    {
     "data": {
      "text/plain": [
       "3300.0"
      ]
     },
     "execution_count": 78,
     "metadata": {},
     "output_type": "execute_result"
    }
   ],
   "source": [
    "#Create a class named Employee with instance variables name, age, and salary. Define a method raise_salary that increases the salary of the employee by a given percentage. Create a subclass Manager that inherits from the Employee class and has an instance variable named department.\n",
    "class Employee:\n",
    "    def __init__(self,name,age,salary):\n",
    "        self.name = name\n",
    "        self.age = age\n",
    "        self.salary = salary\n",
    "        \n",
    "    def raise_salary(self,raise_amount_percent):\n",
    "        self.raise_amount_percent = raise_amount_percent\n",
    "        self.salary = self.salary + (self.salary * self.raise_amount_percent/100)\n",
    "        print(f\"after raise by {self.raise_amount_percent}%, new saalary will be {self.salary}\")\n",
    "\n",
    "class Manager(Employee):\n",
    "    def __init__(self,name,age,salary,department):\n",
    "        super().__init__(name,age,salary)\n",
    "        self.department = department\n",
    "              \n",
    "emp_1= Employee(\"Pranay\",21,30000)\n",
    "\n",
    "print(f\"salary before raise was {emp_1.salary}\")\n",
    "emp_1.raise_salary(10)\n",
    "emp_1.salary\n",
    "\n",
    "              "
   ]
  },
  {
   "cell_type": "code",
   "execution_count": 87,
   "id": "00e7f4e2",
   "metadata": {},
   "outputs": [
    {
     "name": "stdout",
     "output_type": "stream",
     "text": [
      "BMW\n",
      "X9\n",
      "2020\n",
      "Beep  Beep\n",
      "Vroom Vroom\n"
     ]
    }
   ],
   "source": [
    "#Create a class named Car with instance variables make, model, and year. Define a method honk that returns \"Beep Beep\". Create a subclass SportsCar that inherits from the Car class and has a method turbo_charge that returns \"VROOM VROOM\"\n",
    "\n",
    "class Car:\n",
    "    def __init__(self,make,model,year):\n",
    "        self.make = make\n",
    "        self.model = model\n",
    "        self.year = year\n",
    "        \n",
    "    def honk(self):\n",
    "        return \"Beep  Beep\"\n",
    "    \n",
    "class SportsCar(Car):\n",
    "        \n",
    "        def turbocharge(self):\n",
    "            return \"Vroom Vroom\"\n",
    "\n",
    "car = SportsCar(\"BMW\",\"X9\",2020)\n",
    "print(car.make) # Output: Ferrari\n",
    "print(car.model) # Output: 488\n",
    "print(car.year) # Output: 2020\n",
    "print(car.honk()) # Output: Beep Beep\n",
    "print(car.turbocharge()) # Output: VROOM VROOM"
   ]
  },
  {
   "cell_type": "code",
   "execution_count": 8,
   "id": "54fdea6e",
   "metadata": {},
   "outputs": [
    {
     "ename": "NameError",
     "evalue": "name 'Medicine' is not defined",
     "output_type": "error",
     "traceback": [
      "\u001b[1;31m---------------------------------------------------------------------------\u001b[0m",
      "\u001b[1;31mNameError\u001b[0m                                 Traceback (most recent call last)",
      "\u001b[1;32m~\\AppData\\Local\\Temp/ipykernel_21016/4263800869.py\u001b[0m in \u001b[0;36m<module>\u001b[1;34m\u001b[0m\n\u001b[0;32m     33\u001b[0m \u001b[1;33m\u001b[0m\u001b[0m\n\u001b[0;32m     34\u001b[0m \u001b[1;33m\u001b[0m\u001b[0m\n\u001b[1;32m---> 35\u001b[1;33m \u001b[1;32mclass\u001b[0m \u001b[0mMedicine\u001b[0m\u001b[1;33m:\u001b[0m\u001b[1;33m\u001b[0m\u001b[1;33m\u001b[0m\u001b[0m\n\u001b[0m\u001b[0;32m     36\u001b[0m     \u001b[1;32mdef\u001b[0m \u001b[0m__init__\u001b[0m\u001b[1;33m(\u001b[0m\u001b[0mself\u001b[0m\u001b[1;33m,\u001b[0m\u001b[0mMedicineName\u001b[0m\u001b[1;33m,\u001b[0m\u001b[0mbatch\u001b[0m\u001b[1;33m,\u001b[0m\u001b[0mdisease\u001b[0m\u001b[1;33m,\u001b[0m\u001b[0mprice\u001b[0m\u001b[1;33m)\u001b[0m\u001b[1;33m:\u001b[0m\u001b[1;33m\u001b[0m\u001b[1;33m\u001b[0m\u001b[0m\n\u001b[0;32m     37\u001b[0m         \u001b[0mself\u001b[0m\u001b[1;33m.\u001b[0m\u001b[0mMedicineName\u001b[0m \u001b[1;33m=\u001b[0m \u001b[0mMedicineName\u001b[0m\u001b[1;33m\u001b[0m\u001b[1;33m\u001b[0m\u001b[0m\n",
      "\u001b[1;32m~\\AppData\\Local\\Temp/ipykernel_21016/4263800869.py\u001b[0m in \u001b[0;36mMedicine\u001b[1;34m()\u001b[0m\n\u001b[0;32m     40\u001b[0m         \u001b[0mself\u001b[0m\u001b[1;33m.\u001b[0m\u001b[0mprice\u001b[0m \u001b[1;33m=\u001b[0m \u001b[0mprice\u001b[0m\u001b[1;33m\u001b[0m\u001b[1;33m\u001b[0m\u001b[0m\n\u001b[0;32m     41\u001b[0m \u001b[1;33m\u001b[0m\u001b[0m\n\u001b[1;32m---> 42\u001b[1;33m     \u001b[0mP\u001b[0m \u001b[1;33m=\u001b[0m \u001b[0mMedicine\u001b[0m\u001b[1;33m(\u001b[0m\u001b[1;34m\"cipla\"\u001b[0m\u001b[1;33m)\u001b[0m\u001b[1;33m\u001b[0m\u001b[1;33m\u001b[0m\u001b[0m\n\u001b[0m\u001b[0;32m     43\u001b[0m \u001b[1;33m\u001b[0m\u001b[0m\n\u001b[0;32m     44\u001b[0m \u001b[1;33m\u001b[0m\u001b[0m\n",
      "\u001b[1;31mNameError\u001b[0m: name 'Medicine' is not defined"
     ]
    }
   ],
   "source": [
    "# medicine \n",
    "'''Create class Medicine with below attributes:\n",
    "MedicineName - String\n",
    "\n",
    "batch - String\n",
    "\n",
    "disease - String\n",
    "\n",
    "price - int\n",
    "\n",
    "Create class Solution and\n",
    "\n",
    "implement static method \"getPriceByDisease\" in the Solution class.\n",
    "\n",
    "This method will take array of Medicine objects and a disease String as parameters.\n",
    "And will return another array of Integer objects\n",
    "\n",
    "where the disease String matches with the original array of Medicine object's\n",
    "disease attribute (case insensitive search).\n",
    "\n",
    "Write necessary getters and setters.\n",
    "Before calling \"getPriceByDisease\" method in the main method,\n",
    "\n",
    "read values for four Medicine objects referring the attributes in above sequence\n",
    "alona with a String disease.\n",
    "\n",
    "Then call the \"getPriceByDisease” method and print the result.\n",
    "\n",
    " \n",
    "'''\n",
    "\n",
    "\n",
    " \n",
    "\n",
    "class Medicine:\n",
    "    def __init__(self,MedicineName,batch,disease,price):\n",
    "        self.MedicineName = MedicineName\n",
    "        self.batch = batch\n",
    "        self.disease = disease\n",
    "        self.price = price\n",
    "        \n",
    "    P = Medicine(\"cipla\")\n",
    "    \n",
    "    \n",
    "    print(p)\n",
    "        \n",
    "    "
   ]
  },
  {
   "cell_type": "code",
   "execution_count": null,
   "id": "59cd6903",
   "metadata": {},
   "outputs": [],
   "source": []
  }
 ],
 "metadata": {
  "kernelspec": {
   "display_name": "Python 3 (ipykernel)",
   "language": "python",
   "name": "python3"
  },
  "language_info": {
   "codemirror_mode": {
    "name": "ipython",
    "version": 3
   },
   "file_extension": ".py",
   "mimetype": "text/x-python",
   "name": "python",
   "nbconvert_exporter": "python",
   "pygments_lexer": "ipython3",
   "version": "3.9.7"
  }
 },
 "nbformat": 4,
 "nbformat_minor": 5
}
