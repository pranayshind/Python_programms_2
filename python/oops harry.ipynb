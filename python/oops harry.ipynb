{
 "cells": [
  {
   "cell_type": "code",
   "execution_count": null,
   "id": "9b75119d",
   "metadata": {},
   "outputs": [],
   "source": [
    "#Decorator"
   ]
  },
  {
   "cell_type": "code",
   "execution_count": 2,
   "id": "9e67c92d",
   "metadata": {},
   "outputs": [
    {
     "name": "stdout",
     "output_type": "stream",
     "text": [
      "Executting now\n",
      "Harry is boy\n",
      "Executed\n"
     ]
    }
   ],
   "source": [
    "def dec1(func1):\n",
    "    def now_execute():\n",
    "        print(\"Executting now\")\n",
    "        func1()\n",
    "        print(\"Executed\")\n",
    "    return now_execute\n",
    "\n",
    "@dec1         #who_is_harry = dec1(who_is_harry)\n",
    "def who_is_harry():\n",
    "    print(\"Harry is boy\")\n",
    "    \n",
    "who_is_harry()"
   ]
  },
  {
   "cell_type": "code",
   "execution_count": 9,
   "id": "a437629d",
   "metadata": {},
   "outputs": [
    {
     "name": "stdout",
     "output_type": "stream",
     "text": [
      "2.0\n"
     ]
    }
   ],
   "source": [
    "def div(a,b):\n",
    "    print(a/b)\n",
    "    \n",
    "def smart_div(func):\n",
    "    \n",
    "    def inner(a,b):\n",
    "        if a<b:\n",
    "            a,b=b,a\n",
    "        return func(a,b)\n",
    "    return inner\n",
    "\n",
    "div1 = smart_div(div)\n",
    "div1(2,4)"
   ]
  },
  {
   "cell_type": "code",
   "execution_count": null,
   "id": "d48306ef",
   "metadata": {},
   "outputs": [],
   "source": []
  }
 ],
 "metadata": {
  "kernelspec": {
   "display_name": "Python 3 (ipykernel)",
   "language": "python",
   "name": "python3"
  },
  "language_info": {
   "codemirror_mode": {
    "name": "ipython",
    "version": 3
   },
   "file_extension": ".py",
   "mimetype": "text/x-python",
   "name": "python",
   "nbconvert_exporter": "python",
   "pygments_lexer": "ipython3",
   "version": "3.9.7"
  }
 },
 "nbformat": 4,
 "nbformat_minor": 5
}
