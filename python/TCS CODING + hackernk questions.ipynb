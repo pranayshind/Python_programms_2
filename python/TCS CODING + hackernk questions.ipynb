{
 "cells": [
  {
   "cell_type": "code",
   "execution_count": null,
   "id": "4836f445",
   "metadata": {},
   "outputs": [],
   "source": [
    "'''1] Problem statement-1:\n",
    "\n",
    "In the game of scrabble, in order to avoid over-usage of the same letters in any\n",
    "word, Mario is trying to calculate if a letter appears more than three times in any\n",
    " word and wants to discard such words. In order to assist Mario, write a program to\n",
    " identify the number of times the most repeating letter would appear within any\n",
    " word. If the output number is more than three, Mario shall discard such words and\n",
    " choose another word for the game.\n",
    " \n",
    " \n",
    " Sample input -1\n",
    " trigger\n",
    "                    I\n",
    " Sample output -1\n",
    " 2\n",
    "'''"
   ]
  },
  {
   "cell_type": "code",
   "execution_count": null,
   "id": "8e90fe0b",
   "metadata": {},
   "outputs": [],
   "source": []
  },
  {
   "cell_type": "code",
   "execution_count": 4,
   "id": "16c12c96",
   "metadata": {},
   "outputs": [
    {
     "name": "stdout",
     "output_type": "stream",
     "text": [
      "aaba\n",
      "3\n"
     ]
    }
   ],
   "source": [
    "#using list comprehension approach\n",
    "\n",
    "letter = input()\n",
    "repeat_words = [letter.count(i) for i in letter]\n",
    "print(max(repeat_words))\n",
    "\n",
    "'''expalination =>\n",
    "The input from the user is taken as a string, and it assigns that input to the variable \"letter\".\n",
    "Then it creates a new list called \"repeat_words\" using list comprehension. It iterates through each character in the \"letter\" \n",
    "string and uses the count() method to count the number of times that character appears in the string.\n",
    "It then appends that count to the \"repeat_words\" list.\n",
    "Finally, it finds the maximum value of repeat_words using max() function and prints it out. \n",
    "This will give the highest frequency of a letter in the input string.'''"
   ]
  },
  {
   "cell_type": "code",
   "execution_count": 6,
   "id": "02b22848",
   "metadata": {},
   "outputs": [
    {
     "name": "stdout",
     "output_type": "stream",
     "text": [
      "aaba\n",
      "3\n"
     ]
    }
   ],
   "source": [
    "#using other approach\n",
    "\n",
    "letter = input()\n",
    "l = []\n",
    "for i in letter:\n",
    "    l.append(letter.count(i))\n",
    "print(max(l))\n",
    "\n",
    "'''explaination => \n",
    "This code takes input from the user as a string and assigns it to the variable \"letter\". \n",
    "It then creates an empty list called \"l\".\n",
    "The code then uses a for loop to iterate through each character in the \"letter\" string. \n",
    "For each iteration, the code uses the count() method to count the number of times that character appears in the string \n",
    "and appends that count to the \"l\" list.\n",
    "Finally, the code uses the max() function to find the highest count in the \"l\" list and prints it out. \n",
    "This will give the highest frequency of a letter in the input string.'''"
   ]
  },
  {
   "cell_type": "code",
   "execution_count": null,
   "id": "745eaa8a",
   "metadata": {},
   "outputs": [],
   "source": [
    "'''Problem statement - 2:\n",
    "Write a python code to find numbers and alphabets from the given string and put it in\n",
    "one list.\n",
    " \n",
    "The list will have two elements — the first element is a type of string which contains the\n",
    "alphabet and the second element is a type of integer. The input string will not have any\n",
    "special characters. The input string can have either the combination of Alphabets and\n",
    "Numbers or only Alphabets or only Numbers or it can be an empty string.\n",
    "\n",
    "Define a function to build a logic which returns a list. This list will contains a string first\n",
    "followed by numbers (must be in an integer format).\n",
    "                                                                                      \n",
    "'''"
   ]
  },
  {
   "cell_type": "code",
   "execution_count": null,
   "id": "d26692ea",
   "metadata": {},
   "outputs": [],
   "source": []
  },
  {
   "cell_type": "code",
   "execution_count": 10,
   "id": "ea2d4aaa",
   "metadata": {},
   "outputs": [
    {
     "name": "stdout",
     "output_type": "stream",
     "text": [
      "admin@1245#$jv\n",
      "['adminjv', 1245]\n"
     ]
    }
   ],
   "source": [
    "def str_num_list(s1):\n",
    "    str_num = []\n",
    "    alpha = \"\".join([i for i in s1 if i.isalpha()])\n",
    "    if len(alpha) != 0:\n",
    "        str_num.append(alpha)\n",
    "    num = \"\".join([i for i in s1 if i.isdigit()])\n",
    "    if len(num) != 0:\n",
    "        str_num.append(int(num))\n",
    "    return str_num\n",
    "\n",
    "inp_s = input()\n",
    "ans = str_num_list(inp_s)\n",
    "print(ans)\n",
    "\n"
   ]
  },
  {
   "cell_type": "code",
   "execution_count": null,
   "id": "ee990dc4",
   "metadata": {},
   "outputs": [],
   "source": [
    "'''Problem statement- 3\n",
    "Given a word, create a function which returns whether or not it's\n",
    "possible to create a palindrome by rearranging the letters in the\n",
    "word\n",
    "Examples:\n",
    "isPalindromePossible('rearcac\") - true\n",
    "// You can make \"racecar\"\n",
    "isPalindromePossible(suhbeusheff)-true\n",
    "II You can make \"sfuehbheufs\" (not a real word but still a\n",
    "palindrome)\n",
    "isPalindromePossible(\"palindrome\")-f false\n",
    "//It's impossible\n",
    "isPalindromePossible('azererzxaee\") true\n",
    "//You can make \"azerexereza\"\n",
    "'''"
   ]
  },
  {
   "cell_type": "code",
   "execution_count": null,
   "id": "a2c16095",
   "metadata": {},
   "outputs": [],
   "source": [
    "'''Pseudo code\n",
    "1. str =input string:\n",
    "2. Is =empty list;\n",
    "3. for i=0 to n-1       ...(str length is eqaul to n)(str length strt from 0 and indexing starts from 0 hence we used n-1)\n",
    "        if str[l] in Is\n",
    "            remove(str[i]) from Is\n",
    "        else\n",
    "        push(str(i)) to Is\n",
    "4. if str.length is even and isEmpty(Is) == true\n",
    "Retum True\n",
    "else if str.length is odd and Is.length == 1\n",
    "Return True\n",
    "else\n",
    "Retum False\n",
    "'''"
   ]
  },
  {
   "cell_type": "code",
   "execution_count": 6,
   "id": "6cb78264",
   "metadata": {},
   "outputs": [
    {
     "name": "stdout",
     "output_type": "stream",
     "text": [
      "1234321\n",
      "True\n"
     ]
    }
   ],
   "source": [
    "#code\n",
    "def ispallindrome(string):\n",
    "    l = []\n",
    "    for i in range(len(string)):\n",
    "        if string[i] in l:\n",
    "            l.remove(string[i])\n",
    "        else:\n",
    "            l.append(string[i])\n",
    "            \n",
    "    if len(string)%2==0 \n",
    "    and len(l)==0:\n",
    "        return True\n",
    "    elif len(string)%2!=0 and len(l)==1:\n",
    "        return True\n",
    "    else:\n",
    "        return False\n",
    "    \n",
    "string = input()\n",
    "print(ispallindrome(string))"
   ]
  },
  {
   "cell_type": "code",
   "execution_count": null,
   "id": "afa87e7c",
   "metadata": {},
   "outputs": [],
   "source": [
    "'''Problem statement 4:\n",
    "‘An input string can be completed if additional letters can\n",
    "be added and no letters need to be taken away to\n",
    "match the word, Furthermore, the order of the letters,\n",
    "in the input string must be the same as the order of\n",
    "letters in the final word.\n",
    "\n",
    "Create a function that, given an input string, determines\n",
    "if the word can be completed\n",
    "\n",
    "Examples :\n",
    "canComplete(\"but!”, \"beautiful\") ~ tue\n",
    "1 We can add “ea” between \"b\" and \"u\", and \"ify\"\n",
    "between “t” and *T.\n",
    "\n",
    "canComplete(*butiz\", beautiful\") ~ false\n",
    "does not ekist in the word beautiful.\n",
    "\n",
    "  \n",
    "\n",
    "canComplete(tulb”, beautifur) ~ false\n",
    "I/Atthough “t, “u\", 7° and “b* all exist in beautiful, they\n",
    "are incorrectly ordered.\n",
    "\n",
    "canComplete(\"bbutl, \"beautiful\") ~ fase\n",
    "1/ Too many “b\"s, beautiful has only 1\n",
    "'''"
   ]
  },
  {
   "cell_type": "code",
   "execution_count": null,
   "id": "f72ea603",
   "metadata": {},
   "outputs": [],
   "source": []
  },
  {
   "cell_type": "code",
   "execution_count": 22,
   "id": "df9ad531",
   "metadata": {},
   "outputs": [
    {
     "name": "stdout",
     "output_type": "stream",
     "text": [
      "praNay Shinde\n",
      "PRAnAY sHINDE\n"
     ]
    }
   ],
   "source": [
    "#swap => here we can use directly swapcase() but it will not build logic\n",
    "\n",
    "def swap_case(string):\n",
    "    l = []\n",
    "    \n",
    "    for i in string:\n",
    "        if i.isupper():\n",
    "            l.append(i.lower())\n",
    "        \n",
    "        elif i.islower():\n",
    "            l.append(i.upper())\n",
    "            \n",
    "        else:\n",
    "            l.append(i)\n",
    "            \n",
    "    \n",
    "    output = ''.join(l)\n",
    "    \n",
    "    return output\n",
    "    \n",
    "string1 = input()\n",
    "print(swap_case(string1))\n",
    "\n"
   ]
  },
  {
   "cell_type": "code",
   "execution_count": 24,
   "id": "b3fbec4c",
   "metadata": {},
   "outputs": [
    {
     "name": "stdout",
     "output_type": "stream",
     "text": [
      "pranay shinde\n",
      "pranay-shinde\n"
     ]
    }
   ],
   "source": [
    "# split and join\n",
    "\n",
    "def split_join(string):\n",
    "    l = string.split(\" \")\n",
    "    output = \"-\".join(l)\n",
    "    return output\n",
    "    \n",
    "string1 = input()\n",
    "print(split_join(string1))\n",
    "    \n",
    "    "
   ]
  },
  {
   "cell_type": "code",
   "execution_count": 2,
   "id": "b3ed6683",
   "metadata": {},
   "outputs": [
    {
     "name": "stdout",
     "output_type": "stream",
     "text": [
      "pvyj ksbsbs\n",
      "['pvyj', 'ksbsbs']\n"
     ]
    }
   ],
   "source": [
    "string = input()\n",
    "l = string.split(\" \")\n",
    "print(l)"
   ]
  },
  {
   "cell_type": "code",
   "execution_count": 4,
   "id": "14fbcbf1",
   "metadata": {},
   "outputs": [
    {
     "name": "stdout",
     "output_type": "stream",
     "text": [
      "pvyj ksbsbs\n"
     ]
    }
   ],
   "source": [
    "join_l = ' '.join(l)\n",
    "print(join_l)"
   ]
  },
  {
   "cell_type": "code",
   "execution_count": 9,
   "id": "c029e321",
   "metadata": {},
   "outputs": [
    {
     "name": "stdout",
     "output_type": "stream",
     "text": [
      "prssan shh\n",
      "Prssan Shh\n"
     ]
    }
   ],
   "source": [
    "#capitalize firs word of name\n",
    "def cap(string):\n",
    "    l = string.split()\n",
    "    l1 = []\n",
    "    for i in l:\n",
    "        l1.append(i.capitalize())\n",
    "    return ' '.join(l1)\n",
    "\n",
    "string1 = input()\n",
    "print(cap(string1))"
   ]
  },
  {
   "cell_type": "code",
   "execution_count": 15,
   "id": "de7ad952",
   "metadata": {},
   "outputs": [
    {
     "name": "stdout",
     "output_type": "stream",
     "text": [
      " d vjkfd \n",
      "D Vjkfd\n"
     ]
    }
   ],
   "source": [
    "#using upper() and lower() approach\n",
    "def cap(string):\n",
    "    l = string.split()\n",
    "    l1 = []\n",
    "    for i in l:\n",
    "        l1.append(i[0].upper()+i[1:].lower())\n",
    "    return ' '.join(l1)\n",
    "string1 = input()\n",
    "print(cap(string1))        "
   ]
  },
  {
   "cell_type": "code",
   "execution_count": 6,
   "id": "825d4ff4",
   "metadata": {},
   "outputs": [
    {
     "name": "stdout",
     "output_type": "stream",
     "text": [
      "5\n",
      "10\n",
      "5,7\n"
     ]
    }
   ],
   "source": [
    "#30)Write a program to print prime numbers in a given range ex. range 4to10 o/p=> 5,7\n",
    "def Prime(n):\n",
    "    l = []\n",
    "    for i in range(1,n+1):\n",
    "        if n%i==0:\n",
    "            l.append(str(i))\n",
    "    \n",
    "    li = list(map(int,l))\n",
    "    if li==[1,n]:\n",
    "        return True\n",
    "\n",
    "\n",
    "\n",
    "\n",
    "def prime_range(a,b):\n",
    "    \n",
    "    lis=[]\n",
    "    for i in range(a,b+1):\n",
    "        if Prime(i):\n",
    "            lis.append(str(i))\n",
    "    \n",
    "    b = ','.join(lis)\n",
    "    print(b)\n",
    "\n",
    "a = int(input())\n",
    "b = int(input())\n",
    "prime_range(a,b)"
   ]
  },
  {
   "cell_type": "code",
   "execution_count": null,
   "id": "b853d7d2",
   "metadata": {},
   "outputs": [],
   "source": [
    "2\n",
    "3\n",
    "12\n",
    "u\n",
    "p\n",
    "106\n",
    "a\n",
    "i\n",
    "86\n",
    "a\n",
    "c\n",
    "Tri\n",
    "i\n",
    "7\n",
    "2020\n",
    "3\n",
    "3\n",
    "4\n",
    "1\n",
    "s\n",
    "ar\n",
    "5\n",
    "u\n",
    "e\n",
    "12\n",
    "u\n",
    "p\n",
    "3\n",
    "u\n",
    "n\n",
    "champ\n",
    "e\n",
    "7\n",
    "2021\n",
    "4\n",
    "2\n",
    "3"
   ]
  }
 ],
 "metadata": {
  "kernelspec": {
   "display_name": "Python 3 (ipykernel)",
   "language": "python",
   "name": "python3"
  },
  "language_info": {
   "codemirror_mode": {
    "name": "ipython",
    "version": 3
   },
   "file_extension": ".py",
   "mimetype": "text/x-python",
   "name": "python",
   "nbconvert_exporter": "python",
   "pygments_lexer": "ipython3",
   "version": "3.9.7"
  }
 },
 "nbformat": 4,
 "nbformat_minor": 5
}
