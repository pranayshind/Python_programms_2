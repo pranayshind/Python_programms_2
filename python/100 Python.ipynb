{
 "cells": [
  {
   "cell_type": "code",
   "execution_count": 2,
   "id": "ce8100ea",
   "metadata": {},
   "outputs": [
    {
     "name": "stdout",
     "output_type": "stream",
     "text": [
      "Enter a character: 5\n",
      "Not Alphabet\n"
     ]
    }
   ],
   "source": [
    "#1)character is alphabet or not\n",
    "char = input(\"Enter a character: \")\n",
    "if 'A'<=char>='Z' or 'a'<=char>='z':\n",
    "    print(\"Aplhabet\")\n",
    "else:\n",
    "    print(\"Not Alphabet\")\n",
    "\n"
   ]
  },
  {
   "cell_type": "code",
   "execution_count": 8,
   "id": "4739831b",
   "metadata": {},
   "outputs": [
    {
     "name": "stdout",
     "output_type": "stream",
     "text": [
      "cs\n",
      "Aplhabet\n"
     ]
    }
   ],
   "source": [
    "def is_alpha(char):\n",
    "    if char.isalpha():\n",
    "        print(\"Aplhabet\")\n",
    "    else:\n",
    "        print(\"Not Alphabet\")\n",
    "\n",
    "char = input()\n",
    "is_alpha(char)\n",
    "\n",
    "    "
   ]
  },
  {
   "cell_type": "code",
   "execution_count": 19,
   "id": "e4822734",
   "metadata": {},
   "outputs": [
    {
     "name": "stdout",
     "output_type": "stream",
     "text": [
      "5\n",
      "Invalid Input\n"
     ]
    }
   ],
   "source": [
    "#2) character is vowel or consonant\n",
    "def vowel_consonant(char):\n",
    "    if char == \"a\" or char ==\"e\" or char == \"i\" or char == \"o\" or char == \"u\" or char == \"A\" or char == \"E\" or char == \"I\" or char== \"O\"or char ==\"U\":\n",
    "        print(\"Vowel\")\n",
    "    elif \"A\"<=char>=\"Z\" or \"a\"<=char>=\"z\":\n",
    "        print('consonant')\n",
    "    else:\n",
    "        print('Invalid Input')\n",
    "\n",
    "char = input()\n",
    "vowel_consonant(char)"
   ]
  },
  {
   "cell_type": "code",
   "execution_count": 22,
   "id": "de100c8f",
   "metadata": {},
   "outputs": [
    {
     "name": "stdout",
     "output_type": "stream",
     "text": [
      "3\n",
      "Area of circle is:  28.259999999999998\n"
     ]
    }
   ],
   "source": [
    "#3) area of circle\n",
    "def area_circle(radius):\n",
    "    area = 3.14*radius*radius\n",
    "    print(\"Area of circle is: \",area)\n",
    "\n",
    "radius = float(input())\n",
    "area_circle(radius)"
   ]
  },
  {
   "cell_type": "code",
   "execution_count": 28,
   "id": "a72273b1",
   "metadata": {},
   "outputs": [
    {
     "name": "stdout",
     "output_type": "stream",
     "text": [
      "5.4\n",
      "5\n",
      "area of rectangle is:  27.0\n"
     ]
    }
   ],
   "source": [
    "#4) area of rectangle\n",
    "def rect(lenth,breadth):\n",
    "    area = length*breadth\n",
    "    print(\"area of rectangle is: \",area)\n",
    "\n",
    "length = float(input())\n",
    "breadth = float(input())\n",
    "rect(length,breadth)"
   ]
  },
  {
   "cell_type": "code",
   "execution_count": 29,
   "id": "0ba372b1",
   "metadata": {},
   "outputs": [
    {
     "name": "stdout",
     "output_type": "stream",
     "text": [
      "10\n",
      "2\n",
      "area of triangle  10.0\n"
     ]
    }
   ],
   "source": [
    "#5) area of triangle\n",
    "def tri(breadth, height):\n",
    "    area = 0.5*breadth*height\n",
    "    print(\"area of triangle \", area)\n",
    "\n",
    "breadth = float(input())\n",
    "height = float(input())\n",
    "tri(breadth,height)"
   ]
  },
  {
   "cell_type": "code",
   "execution_count": 36,
   "id": "db22a412",
   "metadata": {},
   "outputs": [
    {
     "name": "stdout",
     "output_type": "stream",
     "text": [
      "10\n",
      "total handshakes in room is 45\n"
     ]
    }
   ],
   "source": [
    "#6) number of handshakes in room \n",
    "def hand_shake(number):\n",
    "    total = int(number*(number-1)/2)\n",
    "    print(\"total handshakes in room is\",total)\n",
    "\n",
    "number = int(input())\n",
    "hand_shake(number)"
   ]
  },
  {
   "cell_type": "code",
   "execution_count": 37,
   "id": "2454e06b",
   "metadata": {},
   "outputs": [
    {
     "name": "stdout",
     "output_type": "stream",
     "text": [
      "Enter the number of people in the room: 10\n",
      "Total handshakes in the room: 45\n"
     ]
    }
   ],
   "source": [
    "def hand_shake(number):\n",
    "    total = 0\n",
    "    for i in range(number):\n",
    "        total += i\n",
    "    print(\"Total handshakes in the room:\", total)\n",
    "\n",
    "number = int(input(\"Enter the number of people in the room: \"))\n",
    "hand_shake(number)\n"
   ]
  },
  {
   "cell_type": "code",
   "execution_count": 3,
   "id": "ee4d2294",
   "metadata": {},
   "outputs": [
    {
     "name": "stdout",
     "output_type": "stream",
     "text": [
      "8\n",
      "16\n"
     ]
    }
   ],
   "source": [
    "#7)double of number without arihmetic operator\n",
    "def double(number):\n",
    "    print(number<<1)\n",
    "\n",
    "number=int(input())\n",
    "double(number)"
   ]
  },
  {
   "cell_type": "code",
   "execution_count": 5,
   "id": "b1862b29",
   "metadata": {},
   "outputs": [
    {
     "name": "stdout",
     "output_type": "stream",
     "text": [
      "b\n",
      "ascii value of given charactr is 98\n"
     ]
    }
   ],
   "source": [
    "#8) ascii value\n",
    "def asci_value(char):\n",
    "    output = ord(char)\n",
    "    print(\"ascii value of given charactr is\",output)\n",
    "\n",
    "char = input()\n",
    "asci_value(char)"
   ]
  },
  {
   "cell_type": "code",
   "execution_count": 14,
   "id": "77540c63",
   "metadata": {},
   "outputs": [
    {
     "name": "stdout",
     "output_type": "stream",
     "text": [
      "0\n",
      "number is whole number\n"
     ]
    }
   ],
   "source": [
    "#9) +ve or -ve\n",
    "def positive_negative(number):\n",
    "    if number > 0:\n",
    "        print(\"number is positive\")\n",
    "    elif number < 0:\n",
    "        print(\"number is negative\")\n",
    "    else:\n",
    "        print(\"number is whole number\")\n",
    "    \n",
    "number = int(input())\n",
    "positive_negative(number)\n"
   ]
  },
  {
   "cell_type": "code",
   "execution_count": 23,
   "id": "f4f80851",
   "metadata": {},
   "outputs": [
    {
     "name": "stdout",
     "output_type": "stream",
     "text": [
      "7\n",
      "number is odd\n"
     ]
    }
   ],
   "source": [
    "#10) even or odd\n",
    "def even_odd(number):\n",
    "    if number%2==0:\n",
    "        print('number is even')\n",
    "    elif number%2!=0:\n",
    "        print('number is odd')\n",
    "\n",
    "number = int(input())\n",
    "even_odd(number)"
   ]
  },
  {
   "cell_type": "code",
   "execution_count": 17,
   "id": "6647b9cc",
   "metadata": {},
   "outputs": [
    {
     "data": {
      "text/plain": [
       "0"
      ]
     },
     "execution_count": 17,
     "metadata": {},
     "output_type": "execute_result"
    }
   ],
   "source": [
    "n=20\n",
    "n%=2\n",
    "n\n"
   ]
  },
  {
   "cell_type": "code",
   "execution_count": 29,
   "id": "de844e90",
   "metadata": {},
   "outputs": [
    {
     "name": "stdout",
     "output_type": "stream",
     "text": [
      "0\n",
      "4\n",
      "coordinate lie in 1st quadrant\n"
     ]
    }
   ],
   "source": [
    "#11) quadrant in which coordinate lie\n",
    "def quadrant(x,y):\n",
    "    if x>=0 and y>=0:\n",
    "        print(\"coordinate lie in 1st quadrant\")\n",
    "    elif x<=0 and y>=0:\n",
    "        print(\"coordinate lie in 2nd quadrant\")\n",
    "    elif x<=0 and y<=0:\n",
    "        print(\"coordinate lie in 3rd quadrant\")\n",
    "    else:\n",
    "        print(\"coordinate lie in 4th quadrant\")\n",
    "    \n",
    "x = float(input())\n",
    "y = float(input())\n",
    "quadrant(x,y)\n",
    "\n",
    "        \n",
    "    \n",
    "    \n",
    "        \n",
    "         "
   ]
  },
  {
   "cell_type": "code",
   "execution_count": 43,
   "id": "e3024826",
   "metadata": {},
   "outputs": [
    {
     "name": "stdout",
     "output_type": "stream",
     "text": [
      "Enter the month: 2\n",
      "Enter the year: 1996\n",
      "Number of days is 29\n"
     ]
    }
   ],
   "source": [
    "#12) no. of month\n",
    "month = int(input('Enter the month: '))\n",
    "\n",
    "year = int(input('Enter the year: '))\n",
    "\n",
    "if month ==2 and (year%400==0 or (year%100!=0 and year%4==0)):\n",
    "\n",
    "    print('Number of days is 29')\n",
    "\n",
    "elif(month == 2):\n",
    "\n",
    "    print('Number of days is 28')\n",
    "\n",
    "elif(month == 1 or month == 3 or month == 5 or month == 7 or month == 8 or month == 10 or month == 12):\n",
    "\n",
    "    print('Number of days is 31')\n",
    "\n",
    "else:\n",
    "\n",
    "    print('Number of days is 30')\n",
    "\n"
   ]
  },
  {
   "cell_type": "code",
   "execution_count": 51,
   "id": "0f221d41",
   "metadata": {},
   "outputs": [
    {
     "name": "stdout",
     "output_type": "stream",
     "text": [
      "4567\n",
      "4\n"
     ]
    }
   ],
   "source": [
    "#13)find Number of digits in given input\n",
    "def find_digit(number):\n",
    "    a = str(number)\n",
    "    print(len(a))\n",
    "\n",
    "number = int(input())\n",
    "find_digit(number)\n",
    "    \n",
    "  \n"
   ]
  },
  {
   "cell_type": "code",
   "execution_count": 1,
   "id": "a37f8ca0",
   "metadata": {},
   "outputs": [
    {
     "name": "stdout",
     "output_type": "stream",
     "text": [
      "4567\n",
      "4\n"
     ]
    }
   ],
   "source": [
    "def find_digit(number):\n",
    "    count = 0\n",
    "    if number == 0:\n",
    "        print('1')\n",
    "    else:\n",
    "        while(number!=0):    #let number = 4567 then 4567/10=456.7,456.7/10=45.67,45.67/10=.567,4.56710=0.4567 hence iterare 4 times\n",
    "            number = number//10\n",
    "            count = count+1\n",
    "        print(count)\n",
    "        \n",
    "number = int(input())\n",
    "find_digit(number)"
   ]
  },
  {
   "cell_type": "code",
   "execution_count": 6,
   "id": "a1fc2b6b",
   "metadata": {},
   "outputs": [
    {
     "name": "stdout",
     "output_type": "stream",
     "text": [
      "6\n"
     ]
    }
   ],
   "source": [
    "#15) factorial\n",
    "n=3\n",
    "for i in range(1,n):\n",
    "    n = n*i\n",
    "\n",
    "    \n",
    "print(n)"
   ]
  },
  {
   "cell_type": "code",
   "execution_count": 15,
   "id": "9f9973bf",
   "metadata": {},
   "outputs": [
    {
     "name": "stdout",
     "output_type": "stream",
     "text": [
      "10\n",
      "3628800\n"
     ]
    }
   ],
   "source": [
    "def factorial(number):\n",
    "    for i in range(1,number):\n",
    "        number = number*i\n",
    "    print(number)\n",
    "    \n",
    "number = int(input())\n",
    "factorial(number)\n"
   ]
  },
  {
   "cell_type": "code",
   "execution_count": 14,
   "id": "672cd82a",
   "metadata": {},
   "outputs": [
    {
     "name": "stdout",
     "output_type": "stream",
     "text": [
      "5\n",
      "120\n"
     ]
    }
   ],
   "source": [
    "def factorial(number):\n",
    "    result = 1\n",
    "    for i in range(1, number + 1):\n",
    "        result *= i\n",
    "    print(result)\n",
    "\n",
    "number = int(input())\n",
    "factorial(number)\n"
   ]
  },
  {
   "cell_type": "code",
   "execution_count": 31,
   "id": "0ead4583",
   "metadata": {},
   "outputs": [
    {
     "name": "stdout",
     "output_type": "stream",
     "text": [
      "8\n",
      "0 1,1,2,3,5,8,13,"
     ]
    }
   ],
   "source": [
    "#16) fibonacci upto total given number i.e. total no. of intergers present in series\n",
    "def fibo(number):\n",
    "    a,b = 0,1\n",
    "    if number == 1:\n",
    "        print(a)\n",
    "    else:\n",
    "        print(a,b,end=',')\n",
    "       \n",
    "        for i in range(2,number):\n",
    "            c = a+b\n",
    "            a = b\n",
    "            b = c\n",
    "            print(c,end=',')\n",
    "number = int(input())\n",
    "fibo(number)\n",
    "            \n",
    "        \n",
    "    "
   ]
  },
  {
   "cell_type": "code",
   "execution_count": 49,
   "id": "effe381d",
   "metadata": {
    "scrolled": true
   },
   "outputs": [
    {
     "name": "stdout",
     "output_type": "stream",
     "text": [
      "10\n",
      "0,1,2,3,5,8\n"
     ]
    }
   ],
   "source": [
    "#17) fibonacci upto given number\n",
    "def fibo(n):\n",
    "    a,b,c = 0,1,0\n",
    "    l = []\n",
    "    \n",
    "    while(c<=n):\n",
    "        l.append(str(c))\n",
    "       \n",
    "        c=a+b\n",
    "        a = b\n",
    "        b = c\n",
    "        \n",
    "    print(\",\".join(l))\n",
    "        \n",
    "n = int(input())\n",
    "fibo(n)"
   ]
  },
  {
   "cell_type": "code",
   "execution_count": 79,
   "id": "954cb5c9",
   "metadata": {},
   "outputs": [
    {
     "name": "stdout",
     "output_type": "stream",
     "text": [
      "757\n",
      "19\n"
     ]
    }
   ],
   "source": [
    "#18)Write a program to find Sum of digits of a number\n",
    "\n",
    "def sum_number(n):\n",
    "    Sum = 0\n",
    "    while(n>0):\n",
    "        Sum = Sum + n%10\n",
    "        n = n//10\n",
    "    print(Sum)\n",
    "\n",
    "n=int(input())\n",
    "sum_number(n)\n",
    "        "
   ]
  },
  {
   "cell_type": "code",
   "execution_count": 84,
   "id": "61a48801",
   "metadata": {},
   "outputs": [
    {
     "name": "stdout",
     "output_type": "stream",
     "text": [
      "8\n",
      "75\n",
      "75.8\n"
     ]
    }
   ],
   "source": [
    "a = 758%10\n",
    "print(a)\n",
    "b = 758//10\n",
    "print(b)\n",
    "c = 758/10\n",
    "print(c)\n",
    "\n"
   ]
  },
  {
   "cell_type": "code",
   "execution_count": 86,
   "id": "d6f1019a",
   "metadata": {},
   "outputs": [
    {
     "name": "stdout",
     "output_type": "stream",
     "text": [
      "3\n",
      "6\n",
      "18\n"
     ]
    }
   ],
   "source": [
    "#19) Get the first and last value as input from the user, then calculate the sum within the given range.\n",
    "def Sum(a,b):\n",
    "    Sum = 0\n",
    "    for i in range(a,b+1):\n",
    "        Sum = Sum + i\n",
    "    print(Sum)\n",
    "\n",
    "a = int(input())\n",
    "b = int(input())\n",
    "Sum(a,b)\n"
   ]
  },
  {
   "cell_type": "code",
   "execution_count": 89,
   "id": "fcc23e8a",
   "metadata": {},
   "outputs": [
    {
     "name": "stdout",
     "output_type": "stream",
     "text": [
      "456\n",
      "654"
     ]
    }
   ],
   "source": [
    "#20) Write a program to reverse a given number\n",
    "def reverse(n):\n",
    "    \n",
    "    while(n>0):\n",
    "        a =  n%10\n",
    "        n = n//10\n",
    "        print(a,end='')\n",
    "\n",
    "n = int(input())\n",
    "reverse(n)"
   ]
  },
  {
   "cell_type": "code",
   "execution_count": 90,
   "id": "55108344",
   "metadata": {},
   "outputs": [
    {
     "name": "stdout",
     "output_type": "stream",
     "text": [
      "456\n",
      "654"
     ]
    }
   ],
   "source": [
    "a = int(input())\n",
    "b = reverse(a)\n",
    "b"
   ]
  },
  {
   "cell_type": "code",
   "execution_count": 91,
   "id": "b7226d46",
   "metadata": {},
   "outputs": [
    {
     "name": "stdout",
     "output_type": "stream",
     "text": [
      "Enter the Number:456\n",
      "654\n"
     ]
    }
   ],
   "source": [
    "num = int(input(\"Enter the Number:\"))\n",
    "rev = 0\n",
    "\n",
    "while num > 0:\n",
    "    rem = num % 10\n",
    "    rev = (rev * 10) + rem\n",
    "    num = num // 10\n",
    "\n",
    "print(rev)\n"
   ]
  },
  {
   "cell_type": "code",
   "execution_count": 122,
   "id": "c102714f",
   "metadata": {},
   "outputs": [
    {
     "name": "stdout",
     "output_type": "stream",
     "text": [
      "3\n",
      "6\n",
      "LCM is 6\n"
     ]
    }
   ],
   "source": [
    "#21) Write a program to find LCM of two numbers\n",
    "def LCM(a,b):\n",
    "    for i in range(1,(a*b)+1):\n",
    "        if i%a==0 and i%b==0:\n",
    "            print(\"LCM is\",i)\n",
    "            break\n",
    "\n",
    "a = int(input())\n",
    "b = int(input())\n",
    "LCM(a,b)"
   ]
  },
  {
   "cell_type": "code",
   "execution_count": 96,
   "id": "80f7507e",
   "metadata": {},
   "outputs": [
    {
     "name": "stdout",
     "output_type": "stream",
     "text": [
      "3\n",
      "6\n",
      "LCM is 6\n"
     ]
    }
   ],
   "source": [
    "def LCM(a,b):\n",
    "    for i in range(max(a,b),(a*b)+1):\n",
    "        if i%a==0 and i%b==0:\n",
    "            print(\"LCM is\",i)\n",
    "            break\n",
    "\n",
    "a = int(input())\n",
    "b = int(input())\n",
    "LCM(a,b)"
   ]
  },
  {
   "cell_type": "code",
   "execution_count": 98,
   "id": "dfa969a6",
   "metadata": {},
   "outputs": [
    {
     "name": "stdout",
     "output_type": "stream",
     "text": [
      "3\n",
      "6\n",
      "LCM is 6\n"
     ]
    }
   ],
   "source": [
    "def LCM(a,b):\n",
    "    for i in range(max(a,b),(a*b)+1,max(a,b)):\n",
    "        if i%a==0 and i%b==0:\n",
    "            print(\"LCM is\",i)\n",
    "            break\n",
    "\n",
    "a = int(input())\n",
    "b = int(input())\n",
    "LCM(a,b)"
   ]
  },
  {
   "cell_type": "code",
   "execution_count": 120,
   "id": "a48ccd7b",
   "metadata": {},
   "outputs": [
    {
     "name": "stdout",
     "output_type": "stream",
     "text": [
      "145\n",
      "145 is strong number\n"
     ]
    }
   ],
   "source": [
    "'''22)strong number\n",
    "Get a number as input from user and then check whether that number is a strong number or not.\n",
    "A number is said to be strong number if the sum of the factorial of each digit in the number is same as that of the number.\n",
    "E.g.  let the number be 145\n",
    "Here 1! + 4! + 5! is 1 + 24 + 120  which is equal to 145 itself.'''\n",
    "\n",
    "def strong(n):\n",
    "    sum_fact=0\n",
    "    number = n\n",
    "    \n",
    "    while(n>0):\n",
    "        a = n%10\n",
    "        fact = 1\n",
    "        for i in range(1,a+1):\n",
    "            fact = fact*i\n",
    "        sum_fact = sum_fact +fact\n",
    "        n = n //10\n",
    "    \n",
    "    if sum_fact == number:\n",
    "        print(number,'is strong number')\n",
    "    else:\n",
    "        print(number,'is not strong number')\n",
    "        \n",
    "n = int(input())\n",
    "strong(n)"
   ]
  },
  {
   "cell_type": "code",
   "execution_count": 132,
   "id": "d6a06d7a",
   "metadata": {},
   "outputs": [
    {
     "name": "stdout",
     "output_type": "stream",
     "text": [
      "28\n",
      "28 is perfect number\n"
     ]
    }
   ],
   "source": [
    "'''23)perfect number\n",
    "Get the input from the user and \n",
    "check whether that number is a perfect number or not.\n",
    "E.g. Let number is 28, factors of 28 are 1,2,4,7,14. \n",
    "Now the sum of all these factors are 28 itself'''\n",
    "def perfect(n):\n",
    "    Sum = 0\n",
    "    for i in range(1,n):\n",
    "        if n%i==0:\n",
    "            Sum = Sum + i\n",
    "            \n",
    "    if Sum==n:\n",
    "        print(n,'is perfect number')\n",
    "    else:\n",
    "        print(n,'is not perfect number')\n",
    "                \n",
    "                \n",
    "n = int(input())\n",
    "perfect(n)\n",
    "        "
   ]
  },
  {
   "cell_type": "code",
   "execution_count": 137,
   "id": "0ff09bcb",
   "metadata": {},
   "outputs": [
    {
     "name": "stdout",
     "output_type": "stream",
     "text": [
      "5\n",
      "2\n",
      "25\n"
     ]
    }
   ],
   "source": [
    "#24)power ex. 5^2 = 25\n",
    "def power(base,exponent):\n",
    "    a = base**exponent\n",
    "    print(a)\n",
    "    \n",
    "base=int(input())\n",
    "exponent=int(input())\n",
    "power(base,exponent)"
   ]
  },
  {
   "cell_type": "code",
   "execution_count": 140,
   "id": "fe8e6604",
   "metadata": {},
   "outputs": [
    {
     "name": "stdout",
     "output_type": "stream",
     "text": [
      "5\n",
      "2\n",
      "25\n"
     ]
    }
   ],
   "source": [
    "def power(base,exponent):\n",
    "    a = 1\n",
    "    for i in range(exponent):\n",
    "        a = a*base\n",
    "    print(a)\n",
    "    \n",
    "base=int(input())\n",
    "exponent=int(input())\n",
    "power(base,exponent)"
   ]
  },
  {
   "cell_type": "code",
   "execution_count": 136,
   "id": "86c04b04",
   "metadata": {},
   "outputs": [
    {
     "data": {
      "text/plain": [
       "25"
      ]
     },
     "execution_count": 136,
     "metadata": {},
     "output_type": "execute_result"
    }
   ],
   "source": [
    "5**2"
   ]
  },
  {
   "cell_type": "code",
   "execution_count": 7,
   "id": "667182b0",
   "metadata": {},
   "outputs": [
    {
     "name": "stdout",
     "output_type": "stream",
     "text": [
      "4\n",
      "1,2,4\n"
     ]
    }
   ],
   "source": [
    "#25)factors ex. 4 =1,2,4\n",
    "def factor(n):\n",
    "    l=[]\n",
    "    for i in range(1,n+1):\n",
    "        if n%i==0:\n",
    "            l.append(str(i))\n",
    "    print(','.join(l))  \n",
    "\n",
    "n=int(input())\n",
    "factor(n)\n",
    "\n",
    "        "
   ]
  },
  {
   "cell_type": "code",
   "execution_count": null,
   "id": "ee7af2bf",
   "metadata": {},
   "outputs": [],
   "source": [
    "#26)Get the values for numerator and denominator of two fractions, then add that fractions. \n",
    "\n",
    "'''x3/y3 = (x1/y1) + (x2/y2)\n",
    "\n",
    "here x3 = (x1*y2) + (x2*y1)\n",
    "\n",
    "and y3 = (y1*y2)'''\n"
   ]
  },
  {
   "cell_type": "code",
   "execution_count": 15,
   "id": "b839d381",
   "metadata": {},
   "outputs": [
    {
     "name": "stdout",
     "output_type": "stream",
     "text": [
      "1634\n",
      "1634 is armstrong number\n"
     ]
    }
   ],
   "source": [
    "#27) Armstrong number \n",
    "'''Get an input number from user and check whether the given number is an Armstrong number or not.\n",
    "E.g.  Let the number be 1634,\n",
    "Here 1^4 + 6^4 + 3 ^4 + 4^4 = 1634\n",
    "Therefore, this is an Armstrong number'''\n",
    "def Armstrong(n):\n",
    "    number = n\n",
    "    a = str(n)\n",
    "    b = len(a)\n",
    "    Sum = 0\n",
    "    while(n>0):\n",
    "        c = n%10\n",
    "        Sum = Sum + (c**b)\n",
    "        n =  n//10\n",
    "    if Sum == number:\n",
    "        print(number,'is armstrong number')\n",
    "    else:\n",
    "        print(number,'is not armstrong number')\n",
    "\n",
    "n = int(input())\n",
    "Armstrong(n)"
   ]
  },
  {
   "cell_type": "code",
   "execution_count": 16,
   "id": "26a67570",
   "metadata": {},
   "outputs": [
    {
     "name": "stdout",
     "output_type": "stream",
     "text": [
      "4\n",
      "4\n"
     ]
    }
   ],
   "source": [
    "\n",
    "n =  1634\n",
    "a = str(n)\n",
    "b = len(a)\n",
    "print(b)\n",
    "c = n%10\n",
    "print(c)\n"
   ]
  },
  {
   "cell_type": "code",
   "execution_count": 43,
   "id": "cd7f8831",
   "metadata": {},
   "outputs": [
    {
     "name": "stdout",
     "output_type": "stream",
     "text": [
      "8\n",
      "8 is not prime number\n"
     ]
    }
   ],
   "source": [
    "#28)prime\n",
    "'''A prime number is a number with factors as 1 and that number itself.'''\n",
    "def Prime(n):\n",
    "    l = []\n",
    "    for i in range(1,n+1):\n",
    "        if n%i==0:\n",
    "            l.append(str(i))\n",
    "    \n",
    "    li = list(map(int,l))\n",
    "    if li==[1,n]:                   #or can use     if li[0]==1 and li[-1]==n:\n",
    "        print(n,\"is prime number\")\n",
    "    else:\n",
    "        print(n,\"is not prime number\")\n",
    "        \n",
    "        \n",
    "        \n",
    "n = int(input())\n",
    "Prime(n)\n",
    "        "
   ]
  },
  {
   "cell_type": "code",
   "execution_count": 24,
   "id": "b561b0af",
   "metadata": {},
   "outputs": [
    {
     "name": "stdout",
     "output_type": "stream",
     "text": [
      "0\n",
      "1\n",
      "2\n",
      "1\n",
      "0\n"
     ]
    }
   ],
   "source": [
    "n = 5\n",
    "for i in range(1,n+1):\n",
    "    a = n%i\n",
    "    print(a)"
   ]
  },
  {
   "cell_type": "code",
   "execution_count": 41,
   "id": "8aef3c60",
   "metadata": {},
   "outputs": [
    {
     "name": "stdout",
     "output_type": "stream",
     "text": [
      "a\n"
     ]
    }
   ],
   "source": [
    "n=5\n",
    "l = []\n",
    "for i in range(1,n+1):\n",
    "    if n%i==0:\n",
    "        l.append(str(i))\n",
    "            \n",
    "    li = list(map(int,l))\n",
    "\n",
    "if li==[1,n]:\n",
    "    print(\"a\")\n"
   ]
  },
  {
   "cell_type": "code",
   "execution_count": 50,
   "id": "42672beb",
   "metadata": {},
   "outputs": [
    {
     "name": "stdout",
     "output_type": "stream",
     "text": [
      "5\n",
      "5 is prime number\n"
     ]
    }
   ],
   "source": [
    "def prime(n):\n",
    "    a = 0\n",
    "    for i in range(2,n):\n",
    "        if n%i==0:\n",
    "            a=1\n",
    "            break\n",
    "    \n",
    "    if a==1:\n",
    "        print(n,\"is not prime number\")\n",
    "    elif n<=1:\n",
    "        print(n,\"is not prime number\")\n",
    "    else:\n",
    "        print(n,\"is prime number\")\n",
    "        \n",
    "n = int(input())\n",
    "prime(n)\n",
    "        "
   ]
  },
  {
   "cell_type": "code",
   "execution_count": 76,
   "id": "acf1bc86",
   "metadata": {},
   "outputs": [
    {
     "name": "stdout",
     "output_type": "stream",
     "text": [
      "151\n",
      "151 is pallindrome\n"
     ]
    }
   ],
   "source": [
    "#29)pallindrome    ex.151 is palindrome\n",
    "def pallindrome(n):\n",
    "    \n",
    "    number = n\n",
    "    String = str(n)\n",
    "    \n",
    "    l=[]\n",
    "    while(n>0):\n",
    "        a = n%10\n",
    "        l.append(str(a))\n",
    "        n = n//10\n",
    "    \n",
    "    \n",
    "    b =''.join(l)\n",
    "    if b==String:\n",
    "        print(number,\"is pallindrome\")\n",
    "    else:\n",
    "        print(number,\"is not pallindrome\")\n",
    "        \n",
    "n = int(input())\n",
    "pallindrome(n)\n",
    "\n",
    "        \n",
    "    \n",
    "    "
   ]
  },
  {
   "cell_type": "code",
   "execution_count": 70,
   "id": "69d74b16",
   "metadata": {},
   "outputs": [
    {
     "data": {
      "text/plain": [
       "'151'"
      ]
     },
     "execution_count": 70,
     "metadata": {},
     "output_type": "execute_result"
    }
   ],
   "source": [
    "l=[]\n",
    "n=151\n",
    "while(n>0):\n",
    "    a = n%10\n",
    "    l.append(str(a))\n",
    "    n = n//10\n",
    "b =''.join(l)\n",
    "b"
   ]
  },
  {
   "cell_type": "code",
   "execution_count": 77,
   "id": "0d0c2216",
   "metadata": {},
   "outputs": [
    {
     "data": {
      "text/plain": [
       "'1,5,1'"
      ]
     },
     "execution_count": 77,
     "metadata": {},
     "output_type": "execute_result"
    }
   ],
   "source": [
    "li = ['1','5','1']\n",
    "','.join(li)"
   ]
  },
  {
   "cell_type": "code",
   "execution_count": 72,
   "id": "3b667372",
   "metadata": {},
   "outputs": [
    {
     "data": {
      "text/plain": [
       "'151'"
      ]
     },
     "execution_count": 72,
     "metadata": {},
     "output_type": "execute_result"
    }
   ],
   "source": [
    "n=151\n",
    "String = str(n)\n",
    "String"
   ]
  },
  {
   "cell_type": "code",
   "execution_count": 92,
   "id": "16c7a6dc",
   "metadata": {},
   "outputs": [
    {
     "name": "stdout",
     "output_type": "stream",
     "text": [
      "4\n",
      "10\n",
      "5,7 are prime numbers between 4 and 10 range\n"
     ]
    }
   ],
   "source": [
    "#30)Write a program to print prime numbers in a given range ex. range 4to10 o/p=> 5,7\n",
    "def Prime(n):\n",
    "    flag=0\n",
    "    for i in range(2,n):\n",
    "        if n%i==0:\n",
    "            flag = 1\n",
    "            break\n",
    "    \n",
    "    if flag == 1:\n",
    "        return False\n",
    "    \n",
    "    return True\n",
    "\n",
    "\n",
    "def Prime_range(a,b):\n",
    "    l=[]\n",
    "    for i in range(a,b):\n",
    "        if Prime(i):\n",
    "            l.append(str(i))\n",
    "    \n",
    "    c=','.join(l)\n",
    "    print(f\"{c} are prime numbers between {a} and {b} range\")\n",
    "   \n",
    "\n",
    "            \n",
    "a=int(input())\n",
    "b=int(input())\n",
    "Prime_range(a,b)\n",
    "                \n",
    "   "
   ]
  },
  {
   "cell_type": "code",
   "execution_count": 95,
   "id": "2d67f2a5",
   "metadata": {},
   "outputs": [
    {
     "name": "stdout",
     "output_type": "stream",
     "text": [
      "4\n",
      "10\n",
      "5,7 are prime numbers between given range\n"
     ]
    }
   ],
   "source": [
    "def Prime(n):\n",
    "    l = []\n",
    "    for i in range(1,n+1):\n",
    "        if n%i==0:\n",
    "            l.append(str(i))\n",
    "    \n",
    "    li = list(map(int,l))\n",
    "    if li==[1,n]:\n",
    "        return True\n",
    "\n",
    "\n",
    "\n",
    "\n",
    "def prime_range(a,b):\n",
    "    \n",
    "    lis=[]\n",
    "    for i in range(a,b+1):\n",
    "        if Prime(i):\n",
    "            lis.append(str(i))\n",
    "    \n",
    "    b = ','.join(lis)\n",
    "    print(b,'are prime numbers between given range')\n",
    "\n",
    "a = int(input())\n",
    "b = int(input())\n",
    "prime_range(a,b)"
   ]
  },
  {
   "cell_type": "code",
   "execution_count": 80,
   "id": "5455eb52",
   "metadata": {},
   "outputs": [
    {
     "name": "stdout",
     "output_type": "stream",
     "text": [
      "Enter the lower bound: 5\n",
      "Enter the upper bound: 10\n",
      "5 7 "
     ]
    }
   ],
   "source": [
    "lower = int(input(\"Enter the lower bound: \"))\n",
    "\n",
    "upper = int(input(\"Enter the upper bound: \"))\n",
    "\n",
    "for i in range(lower, upper+1):\n",
    "\n",
    "    flag=1\n",
    "\n",
    "    for j in range(2, (i//2)+1):\n",
    "\n",
    "        if i % j == 0:\n",
    "\n",
    "            flag=0\n",
    "\n",
    "            break\n",
    "\n",
    "    if flag==1 and i!=1:\n",
    "\n",
    "        print(i,end=\" \")"
   ]
  },
  {
   "cell_type": "code",
   "execution_count": 7,
   "id": "2eef801c",
   "metadata": {},
   "outputs": [
    {
     "name": "stdout",
     "output_type": "stream",
     "text": [
      "4\n"
     ]
    },
    {
     "data": {
      "text/plain": [
       "'4 can be expressed as sum of 2 and 2 this 2 prime numbers'"
      ]
     },
     "execution_count": 7,
     "metadata": {},
     "output_type": "execute_result"
    }
   ],
   "source": [
    "#31) indicates given number as sum of 2 prime numbers\n",
    "'''Get a number as input from the user and express that number as sum of two prime numbers.\n",
    "Input\n",
    "4\n",
    "Output\n",
    "4 can be expressed as sum of 2 and 2'''\n",
    "\n",
    "def Prime_number(num):\n",
    "    flag = 0\n",
    "    for i in range(2,num):\n",
    "        if num%i==0:\n",
    "            flag = 1\n",
    "            break\n",
    "            \n",
    "    if flag==1:\n",
    "        return False\n",
    "    \n",
    "    return True\n",
    "\n",
    "\n",
    "def sum_two_prime(n):\n",
    "    l = []\n",
    "    for i in range(2,n):\n",
    "        if Prime_number(i) and Prime_number(n-i):\n",
    "            return f'{n} can be expressed as sum of {i} and {n-i} this 2 prime numbers'\n",
    "    return f'{n} cannot be expressed as sum of 2 prime numbers'\n",
    "    \n",
    "n = int(input())\n",
    "sum_two_prime(n)"
   ]
  },
  {
   "cell_type": "code",
   "execution_count": 8,
   "id": "2bc225df",
   "metadata": {},
   "outputs": [
    {
     "name": "stdout",
     "output_type": "stream",
     "text": [
      "Enter a number :15\n",
      "15 can be expressed as the sum of 2 and 13\n"
     ]
    }
   ],
   "source": [
    "num = int(input('Enter a number :'))\n",
    "\n",
    "arr = []\n",
    "\n",
    "for i in range(2,num):\n",
    "\n",
    "    flag = 0\n",
    "\n",
    "    for j in range(2,i):\n",
    "\n",
    "        if i % j == 0:\n",
    "\n",
    "            flag = 1\n",
    "\n",
    "    if flag == 0:\n",
    "\n",
    "        arr.append(i)\n",
    "\n",
    "flag = 0\n",
    "\n",
    "for i in range(len(arr)):\n",
    "\n",
    "    for j in range(i+1,len(arr)):\n",
    "\n",
    "        if(arr[i] + arr[j] == num):\n",
    "\n",
    "            flag = 1\n",
    "\n",
    "            print(str(num) + \" can be expressed as the sum of \" + str(arr[i]) + \" and \" + str(arr[j]))\n",
    "\n",
    "            break\n",
    "\n",
    "if(flag == 0):\n",
    "\n",
    "    print('No Prime numbers can give sum of ' + str(num))"
   ]
  },
  {
   "cell_type": "code",
   "execution_count": null,
   "id": "e64d63a1",
   "metadata": {},
   "outputs": [],
   "source": [
    "'''Dry Run:\n",
    "\n",
    "Initialize an empty list arr to store prime numbers.\n",
    "Iterate i from 2 to 14 (since num is 15).\n",
    "For i = 2:\n",
    "Set flag to 0.\n",
    "Iterate j from 2 to 1 (not executed).\n",
    "Since the inner loop is not executed, flag remains 0, indicating that 2 is prime.\n",
    "Add 2 to the list arr.\n",
    "For i = 3:\n",
    "Set flag to 0.\n",
    "Iterate j from 2 to 2 (not executed).\n",
    "Since the inner loop is not executed, flag remains 0, indicating that 3 is prime.\n",
    "Add 3 to the list arr.\n",
    "For i = 4:\n",
    "Set flag to 0.\n",
    "Iterate j from 2 to 3.\n",
    "Since 4 % 2 == 0, the inner loop is executed, and flag is set to 1.\n",
    "Since flag is not 0, 4 is not considered prime.\n",
    "Continue this process until i = 14.\n",
    "Iterate i over the indices of arr.\n",
    "For i = 0:\n",
    "Iterate j from i + 1 (1) to 4.\n",
    "For j = 1:\n",
    "Since 2 + 3 == 15, print \"15 can be expressed as the sum of 2 and 3\" and break out of the loop.\n",
    "Since the inner loop is terminated, flag is set to 1.\n",
    "The condition flag == 0 is not satisfied, so no further output is generated.\n",
    "Output: \"15 can be expressed as the sum of 2 and 3\" (as per the inner loop).'''"
   ]
  },
  {
   "cell_type": "code",
   "execution_count": 15,
   "id": "d7eeb061",
   "metadata": {},
   "outputs": [
    {
     "name": "stdout",
     "output_type": "stream",
     "text": [
      "3100021\n",
      "3111121\n"
     ]
    }
   ],
   "source": [
    "#32) replace 0 with 1 \n",
    "'''Get a number as input from the user and find the zeros present in that number. Then convert the zeros into one and then print it.\n",
    "Input\n",
    "310020\n",
    "Output\n",
    "311121'''\n",
    "\n",
    "def replace_0(n):\n",
    "    String = str(n)\n",
    "    a = String.replace(\"0\",\"1\")\n",
    "    b = int(a)\n",
    "    print(b)\n",
    "\n",
    "n = int(input())\n",
    "replace_0(n)"
   ]
  },
  {
   "cell_type": "code",
   "execution_count": 16,
   "id": "11de5f31",
   "metadata": {},
   "outputs": [
    {
     "name": "stdout",
     "output_type": "stream",
     "text": [
      "Enter a number: 310001\n",
      "311111\n"
     ]
    }
   ],
   "source": [
    "num=int(input(\"Enter a number: \"))\n",
    "\n",
    "s=str(num)\n",
    "\n",
    "new=[]\n",
    "\n",
    "for i in s:\n",
    "\n",
    "    if(i=='0'):\n",
    "\n",
    "        new.append('1')\n",
    "\n",
    "    else:\n",
    "\n",
    "        new.append(i)\n",
    "\n",
    "newnum=\"\"\n",
    "\n",
    "for i in new:\n",
    "\n",
    "    newnum+=i\n",
    "\n",
    "print(int(newnum))"
   ]
  },
  {
   "cell_type": "code",
   "execution_count": 9,
   "id": "3449220e",
   "metadata": {},
   "outputs": [
    {
     "name": "stdout",
     "output_type": "stream",
     "text": [
      "4\n",
      "   *\n",
      "  **\n",
      " ***\n",
      "****\n"
     ]
    }
   ],
   "source": [
    "#33)Pyramid\n",
    "'''Get the number of lines as the input and print stars in that many lines or rows in a pyramid shape.\n",
    "Input 4\n",
    "Output\n",
    "\n",
    "      *\n",
    "\n",
    "    ***\n",
    "\n",
    "  *****\n",
    "\n",
    "*******      '''\n",
    "\n",
    "def pyr_1(n):\n",
    "    \n",
    "    #for printing space\n",
    "    i=1\n",
    "    while(i<=n):\n",
    "        j=1\n",
    "        while(j<=n-i):\n",
    "            print(\" \",end=\"\")    #end is use to cursor remain on same line\n",
    "            j = j+1\n",
    "            \n",
    "    #for printing *\n",
    "        k=1\n",
    "        while(k<=i):\n",
    "            print(\"*\",end=\"\")      \n",
    "            k=k+1\n",
    "        \n",
    "        \n",
    "        print()        #to get cursor on new line\n",
    "        i=i+1\n",
    "        \n",
    "        \n",
    "n=int(input())\n",
    "pyr_1(n)\n",
    "        \n",
    "        "
   ]
  },
  {
   "cell_type": "code",
   "execution_count": 18,
   "id": "b92119ac",
   "metadata": {},
   "outputs": [
    {
     "name": "stdout",
     "output_type": "stream",
     "text": [
      "4\n",
      "   *\n",
      "  **\n",
      " ***\n",
      "****\n"
     ]
    }
   ],
   "source": [
    "def pyr(n):\n",
    "    for i in range(1,n+1):\n",
    "        for j in range(1,n+1-i):\n",
    "            print(\" \",end=\"\")\n",
    "        \n",
    "        for k in range(1,i+1):\n",
    "            print(\"*\",end=\"\")\n",
    "            \n",
    "        print()\n",
    "\n",
    "n=int(input())\n",
    "pyr(n)\n",
    "    \n",
    "\n",
    "        "
   ]
  },
  {
   "cell_type": "code",
   "execution_count": 26,
   "id": "a50abdd5",
   "metadata": {},
   "outputs": [
    {
     "name": "stdout",
     "output_type": "stream",
     "text": [
      "4\n",
      "   1\n",
      "  222\n",
      " 33333\n",
      "4444444\n"
     ]
    }
   ],
   "source": [
    "#34)pyramid\n",
    "'''Get the number of lines as the input and print row number in that many lines in a pyramid shape.\n",
    "\n",
    "Input 4\n",
    "Output\n",
    "\n",
    "   1\n",
    "\n",
    "  222\n",
    "\n",
    " 33333\n",
    "\n",
    "4444444  '''\n",
    "\n",
    "def pyramid(n):                           # let n=5\n",
    "    for i in range(1,n+1):                # i in range(1,6)\n",
    "        for j in range(i,n):              # j in range(i=1,5)\n",
    "            print(\" \",end=\"\")             # 5 space print and cursor will remain on same line due to end=\"\"\n",
    "        \n",
    "        for k in range(1,2*(i-1)+2):      # i=1 => k in range(1,2) hence 1 will print 1 time in first row\n",
    "            print(i,end=\"\")\n",
    "        \n",
    "        print()\n",
    "        \n",
    "n = int(input())\n",
    "pyramid(n)"
   ]
  },
  {
   "cell_type": "code",
   "execution_count": 24,
   "id": "d4b4e90d",
   "metadata": {},
   "outputs": [
    {
     "data": {
      "text/plain": [
       "1"
      ]
     },
     "execution_count": 24,
     "metadata": {},
     "output_type": "execute_result"
    }
   ],
   "source": [
    "i=1\n",
    "2*(i-1)+1"
   ]
  },
  {
   "cell_type": "code",
   "execution_count": 28,
   "id": "2aa19ce2",
   "metadata": {},
   "outputs": [
    {
     "name": "stdout",
     "output_type": "stream",
     "text": [
      "4\n",
      "   1\n",
      "  222\n",
      " 33333\n",
      "4444444\n"
     ]
    }
   ],
   "source": [
    "def py(n):\n",
    "    i=1\n",
    "    while(i<=n):                \n",
    "        j=1\n",
    "        while(j<=n-i):            \n",
    "            print(\" \",end=\"\")\n",
    "            j=j+1\n",
    "            \n",
    "        k=1\n",
    "        while(k<=2*(i-1)+1):\n",
    "            print(i,end=\"\")\n",
    "            k=k+1\n",
    "    \n",
    "        print()\n",
    "        i=i+1\n",
    "\n",
    "n=int(input())\n",
    "py(n)\n"
   ]
  },
  {
   "cell_type": "code",
   "execution_count": 44,
   "id": "18279d19",
   "metadata": {},
   "outputs": [
    {
     "name": "stdout",
     "output_type": "stream",
     "text": [
      "4\n",
      "   1\n",
      "  121\n",
      " 12321\n",
      "1234321\n"
     ]
    }
   ],
   "source": [
    "#35)Get the number of rows from the user and print the palindromic pattern as given below.\n",
    "\n",
    "'''Input\n",
    "\n",
    "3\n",
    "\n",
    "Output\n",
    "\n",
    "  1\n",
    "\n",
    " 121\n",
    "\n",
    "12321  '''\n",
    "\n",
    "def pyr_pal(n):\n",
    "    for i in range(1,n+1):\n",
    "    \n",
    "        for j in range(i,n):\n",
    "            print(\" \",end=\"\")\n",
    "        \n",
    "        for k in range(1,i+1):\n",
    "            print(k,end=\"\")\n",
    "        \n",
    "        for l in range(i-1,0,-1):\n",
    "            print(l,end=\"\")\n",
    "            \n",
    "        print()\n",
    "\n",
    "n  = int(input())\n",
    "pyr_pal(n)\n",
    "\n",
    "            \n",
    "            "
   ]
  },
  {
   "cell_type": "code",
   "execution_count": 46,
   "id": "3a6b7458",
   "metadata": {},
   "outputs": [
    {
     "name": "stdout",
     "output_type": "stream",
     "text": [
      "21"
     ]
    }
   ],
   "source": [
    "i=3\n",
    "for j in range(i-1,0,-1):\n",
    "\n",
    "    print(j,end=\"\")"
   ]
  },
  {
   "cell_type": "code",
   "execution_count": 27,
   "id": "192459c4",
   "metadata": {},
   "outputs": [
    {
     "name": "stdout",
     "output_type": "stream",
     "text": [
      "1000\n",
      "8\n"
     ]
    }
   ],
   "source": [
    "#36)Get a binary value as input from the user and print the corresponding decimal number as the output\n",
    "\n",
    "'''Input\n",
    "\n",
    "1000\n",
    "\n",
    "Output\n",
    "\n",
    "8'''\n",
    "n = int(input())\n",
    "num = str(n)\n",
    "binary = int(num,2)\n",
    "print(binary)\n",
    "\n",
    "        \n",
    "    "
   ]
  },
  {
   "cell_type": "code",
   "execution_count": 25,
   "id": "7ff9b815",
   "metadata": {},
   "outputs": [
    {
     "name": "stdout",
     "output_type": "stream",
     "text": [
      "Enter binary value: 1000\n",
      "8\n"
     ]
    }
   ],
   "source": [
    "num = int(input(\"Enter binary value: \"))\n",
    "\n",
    "\n",
    "dec = 0\n",
    "\n",
    "base = 1\n",
    "\n",
    "while num > 0:\n",
    "\n",
    "    rem = num % 10\n",
    "\n",
    "    dec = dec + rem * base\n",
    "\n",
    "    num = num // 10\n",
    "\n",
    "    base = base * 2\n",
    "\n",
    "print(dec)"
   ]
  },
  {
   "cell_type": "code",
   "execution_count": 15,
   "id": "97c0c97b",
   "metadata": {},
   "outputs": [
    {
     "name": "stdout",
     "output_type": "stream",
     "text": [
      "8\n",
      "0b1000\n"
     ]
    }
   ],
   "source": [
    "#37) decimal to binary\n",
    "\n",
    "def dec_bin(n):\n",
    "    \n",
    "    binary = bin(n)\n",
    "    print(binary)\n",
    "\n",
    "n = int(input())\n",
    "dec_bin(n)\n",
    "\n",
    "    "
   ]
  },
  {
   "cell_type": "code",
   "execution_count": 21,
   "id": "e61df26c",
   "metadata": {},
   "outputs": [
    {
     "name": "stdout",
     "output_type": "stream",
     "text": [
      "8\n",
      "1000\n"
     ]
    }
   ],
   "source": [
    "def deci_bin(n):\n",
    "    a = \"\"\n",
    "    while(n>0):\n",
    "        a = str(n%2) + a \n",
    "        n = n//2\n",
    "    \n",
    "    print(a)\n",
    "\n",
    "n = int(input())\n",
    "deci_bin(n)\n",
    "        \n",
    "        "
   ]
  },
  {
   "cell_type": "code",
   "execution_count": 30,
   "id": "4854c458",
   "metadata": {},
   "outputs": [
    {
     "name": "stdout",
     "output_type": "stream",
     "text": [
      "1000\n",
      "0o10\n"
     ]
    }
   ],
   "source": [
    "#38)binary to octal \n",
    "'''Get a binary number as the input from the user and give the corresponding octal number as the output.\n",
    "\n",
    " \n",
    "\n",
    "Input\n",
    "\n",
    "1000\n",
    "\n",
    "Output\n",
    "\n",
    "10'''\n",
    "\n",
    "n = int(input())\n",
    "\n",
    "num = str(n)\n",
    "bin_dec = int(num,2)\n",
    "dec_oct = oct(bin_dec)\n",
    "\n",
    "print(dec_oct)\n",
    "    "
   ]
  },
  {
   "cell_type": "code",
   "execution_count": 31,
   "id": "0751a0d2",
   "metadata": {},
   "outputs": [
    {
     "name": "stdout",
     "output_type": "stream",
     "text": [
      "Enter the binary number: 1000\n",
      "10\n"
     ]
    }
   ],
   "source": [
    "bin = int(input(\"Enter the binary number: \"))\n",
    "\n",
    "octal = 0\n",
    "\n",
    "octalnum = []\n",
    "\n",
    "i = 0\n",
    "\n",
    "mul = 1\n",
    "\n",
    "c = 1\n",
    "\n",
    "while bin!=0:\n",
    "\n",
    "    rem = bin % 10\n",
    "\n",
    "    octal = octal + (rem * mul)\n",
    "\n",
    "    if c%3==0:\n",
    "\n",
    "        octalnum.insert(i, octal)\n",
    "\n",
    "        mul = 1\n",
    "\n",
    "        octal = 0\n",
    "\n",
    "        c = 1\n",
    "\n",
    "        i = i+1\n",
    "\n",
    "    else:\n",
    "\n",
    "        mul = mul*2\n",
    "\n",
    "        c = c+1\n",
    "\n",
    "    bin = int(bin / 10)\n",
    "\n",
    " \n",
    "\n",
    "if c!=1:\n",
    "\n",
    "    octalnum.insert(i, octal)\n",
    "\n",
    " \n",
    "\n",
    "#print(\"\\nEquivalent Octal Value = \", end=\"\")\n",
    "\n",
    "while i>=0:\n",
    "\n",
    "    print(str(octalnum[i]), end=\"\")\n",
    "\n",
    "    i = i-1\n",
    "\n",
    "print()"
   ]
  },
  {
   "cell_type": "code",
   "execution_count": 1,
   "id": "86b8e3b3",
   "metadata": {},
   "outputs": [
    {
     "name": "stdout",
     "output_type": "stream",
     "text": [
      "2\n"
     ]
    },
    {
     "ename": "NameError",
     "evalue": "name 'elements' is not defined",
     "output_type": "error",
     "traceback": [
      "\u001b[1;31m---------------------------------------------------------------------------\u001b[0m",
      "\u001b[1;31mNameError\u001b[0m                                 Traceback (most recent call last)",
      "\u001b[1;32m~\\AppData\\Local\\Temp/ipykernel_1152/1759763919.py\u001b[0m in \u001b[0;36m<module>\u001b[1;34m\u001b[0m\n\u001b[0;32m     34\u001b[0m \u001b[1;33m\u001b[0m\u001b[0m\n\u001b[0;32m     35\u001b[0m \u001b[0msize\u001b[0m \u001b[1;33m=\u001b[0m \u001b[0mint\u001b[0m\u001b[1;33m(\u001b[0m\u001b[0minput\u001b[0m\u001b[1;33m(\u001b[0m\u001b[1;33m)\u001b[0m\u001b[1;33m)\u001b[0m\u001b[1;33m\u001b[0m\u001b[1;33m\u001b[0m\u001b[0m\n\u001b[1;32m---> 36\u001b[1;33m \u001b[0mlongest_pallindrome\u001b[0m\u001b[1;33m(\u001b[0m\u001b[0msize\u001b[0m\u001b[1;33m,\u001b[0m\u001b[0melements\u001b[0m\u001b[1;33m)\u001b[0m\u001b[1;33m\u001b[0m\u001b[1;33m\u001b[0m\u001b[0m\n\u001b[0m\u001b[0;32m     37\u001b[0m \u001b[1;33m\u001b[0m\u001b[0m\n\u001b[0;32m     38\u001b[0m \u001b[1;33m\u001b[0m\u001b[0m\n",
      "\u001b[1;31mNameError\u001b[0m: name 'elements' is not defined"
     ]
    }
   ],
   "source": [
    "#44)longest pallindrome in list\n",
    "\n",
    "        \n",
    "def is_pallindrome(n):\n",
    "    num = str(n)\n",
    "    li=[]\n",
    "    while n>0:\n",
    "        a = n%10\n",
    "        li.append(str(a))\n",
    "        n = n//10\n",
    "    \n",
    "    b =\"\".join(li)\n",
    "    if b==num:\n",
    "        return True\n",
    "\n",
    "    \n",
    "    return False\n",
    "\n",
    "def longest_pallindrome(size,elements):\n",
    "    l = []\n",
    "    for i in range(size):\n",
    "        elements = int(input())\n",
    "        l.append(elements)\n",
    "    \n",
    "    lis=[]\n",
    "    for j in range(len(l)):\n",
    "        if is_pallindrome(l[j]):\n",
    "            lis.appendd(l[j])\n",
    "    \n",
    "    big = max(lis)\n",
    "            \n",
    "    print(\"longest pallindrome is \",big)\n",
    "        \n",
    "        \n",
    "size = int(input())            \n",
    "longest_pallindrome(size,elements)        \n",
    "        \n",
    "        \n",
    "    "
   ]
  },
  {
   "cell_type": "code",
   "execution_count": 2,
   "id": "ad131f1a",
   "metadata": {},
   "outputs": [
    {
     "name": "stdout",
     "output_type": "stream",
     "text": [
      "2\n"
     ]
    },
    {
     "ename": "NameError",
     "evalue": "name 'elements' is not defined",
     "output_type": "error",
     "traceback": [
      "\u001b[1;31m---------------------------------------------------------------------------\u001b[0m",
      "\u001b[1;31mNameError\u001b[0m                                 Traceback (most recent call last)",
      "\u001b[1;32m~\\AppData\\Local\\Temp/ipykernel_1152/1759763919.py\u001b[0m in \u001b[0;36m<module>\u001b[1;34m\u001b[0m\n\u001b[0;32m     34\u001b[0m \u001b[1;33m\u001b[0m\u001b[0m\n\u001b[0;32m     35\u001b[0m \u001b[0msize\u001b[0m \u001b[1;33m=\u001b[0m \u001b[0mint\u001b[0m\u001b[1;33m(\u001b[0m\u001b[0minput\u001b[0m\u001b[1;33m(\u001b[0m\u001b[1;33m)\u001b[0m\u001b[1;33m)\u001b[0m\u001b[1;33m\u001b[0m\u001b[1;33m\u001b[0m\u001b[0m\n\u001b[1;32m---> 36\u001b[1;33m \u001b[0mlongest_pallindrome\u001b[0m\u001b[1;33m(\u001b[0m\u001b[0msize\u001b[0m\u001b[1;33m,\u001b[0m\u001b[0melements\u001b[0m\u001b[1;33m)\u001b[0m\u001b[1;33m\u001b[0m\u001b[1;33m\u001b[0m\u001b[0m\n\u001b[0m\u001b[0;32m     37\u001b[0m \u001b[1;33m\u001b[0m\u001b[0m\n\u001b[0;32m     38\u001b[0m \u001b[1;33m\u001b[0m\u001b[0m\n",
      "\u001b[1;31mNameError\u001b[0m: name 'elements' is not defined"
     ]
    }
   ],
   "source": [
    "#44)longest pallindrome in list\n",
    "\n",
    "        \n",
    "def is_pallindrome(n):\n",
    "    num = str(n)\n",
    "    li=[]\n",
    "    while n>0:\n",
    "        a = n%10\n",
    "        li.append(str(a))\n",
    "        n = n//10\n",
    "    \n",
    "    b =\"\".join(li)\n",
    "    if b==num:\n",
    "        return True\n",
    "\n",
    "    \n",
    "    return False\n",
    "\n",
    "def longest_pallindrome(size,elements):\n",
    "    l = []\n",
    "    for i in range(size):\n",
    "        elements = int(input())\n",
    "        l.append(elements)\n",
    "    \n",
    "    lis=[]\n",
    "    for j in range(len(l)):\n",
    "        if is_pallindrome(l[j]):\n",
    "            lis.appendd(l[j])\n",
    "    \n",
    "    big = max(lis)\n",
    "            \n",
    "    print(\"longest pallindrome is \",big)\n",
    "        \n",
    "        \n",
    "size = int(input())            \n",
    "longest_pallindrome(size,elements)        \n",
    "        \n",
    "        \n",
    "    "
   ]
  },
  {
   "cell_type": "code",
   "execution_count": null,
   "id": "150eebc1",
   "metadata": {},
   "outputs": [],
   "source": []
  }
 ],
 "metadata": {
  "kernelspec": {
   "display_name": "Python 3 (ipykernel)",
   "language": "python",
   "name": "python3"
  },
  "language_info": {
   "codemirror_mode": {
    "name": "ipython",
    "version": 3
   },
   "file_extension": ".py",
   "mimetype": "text/x-python",
   "name": "python",
   "nbconvert_exporter": "python",
   "pygments_lexer": "ipython3",
   "version": "3.9.7"
  }
 },
 "nbformat": 4,
 "nbformat_minor": 5
}
