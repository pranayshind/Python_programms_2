{
 "cells": [
  {
   "cell_type": "code",
   "execution_count": null,
   "id": "483d2140",
   "metadata": {},
   "outputs": [],
   "source": [
    "'''implment student library uing oops where studentd can borrow book from \n",
    "list of books.\n",
    "create seprate  library and student class . your programm must be menu \n",
    "driven .\n",
    "you are free to choose methods and attributes'''"
   ]
  },
  {
   "cell_type": "code",
   "execution_count": 1,
   "id": "de3a226d",
   "metadata": {},
   "outputs": [],
   "source": [
    "class Library:\n",
    "    def __init__(self,listofBooks):\n",
    "        self.listofBooks = listofBooks\n",
    "        \n",
    "    def display_books(self):\n",
    "        print(\"Avaliable Books in Library are: \")\n",
    "        for books in self.listofBooks:\n",
    "            print(\" *\"+books)\n",
    "            \n",
    "    def borrow_book(self,book_name):\n",
    "        if book_name in self.listofBooks:\n",
    "            print(f\"You have been issued {book_name}. Please return book on time\")\n",
    "            self.listofBooks.remove(book_name)\n",
    "            return True\n",
    "        else:\n",
    "            print(\"sorry, currentlt this books is not avaliable in Library\")\n",
    "            return False\n",
    "            \n",
    "    def return_book(self,return_book_name):\n",
    "        self.listofBooks.append(return_book_name)\n",
    "        print(\"Thanks for returning Book!\")\n",
    "        \n",
    "            \n"
   ]
  },
  {
   "cell_type": "code",
   "execution_count": 2,
   "id": "e7d45510",
   "metadata": {},
   "outputs": [],
   "source": [
    "#we can made this project even without class student but question mentioned it"
   ]
  },
  {
   "cell_type": "code",
   "execution_count": 3,
   "id": "46d27ec9",
   "metadata": {},
   "outputs": [],
   "source": [
    "class Student:\n",
    "    def request_book(self):\n",
    "        self.book = input(\"Enter book that you want to borrow: \")\n",
    "        return self.book\n",
    "    \n",
    "    def return_boook(self):\n",
    "        self.book = input(\"Enter book you want to return: \")\n",
    "        return self.book"
   ]
  },
  {
   "cell_type": "code",
   "execution_count": 4,
   "id": "346ec758",
   "metadata": {},
   "outputs": [
    {
     "name": "stdout",
     "output_type": "stream",
     "text": [
      "Avaliable Books in Library are: \n",
      " *DME\n",
      " *OR\n",
      " *Q&RE\n",
      " *HVAC\n"
     ]
    }
   ],
   "source": [
    "CL = Library([\"DME\",\"OR\",\"Q&RE\",\"HVAC\"])\n",
    "CL.display_books()"
   ]
  },
  {
   "cell_type": "code",
   "execution_count": 5,
   "id": "b506991b",
   "metadata": {},
   "outputs": [],
   "source": [
    "ST = Student()"
   ]
  },
  {
   "cell_type": "code",
   "execution_count": null,
   "id": "357bebf0",
   "metadata": {},
   "outputs": [
    {
     "name": "stdout",
     "output_type": "stream",
     "text": [
      "====Welcome To Central Library====\n",
      "    Please choose an option:\n",
      "    1. Listing all avaliable books \n",
      "    2. Request Boook\n",
      "    3. Add/Return Book\n",
      "    4. Exit Library\n",
      "1\n",
      "Avaliable Books in Library are: \n",
      " *DME\n",
      " *OR\n",
      " *Q&RE\n",
      " *HVAC\n",
      "====Welcome To Central Library====\n",
      "    Please choose an option:\n",
      "    1. Listing all avaliable books \n",
      "    2. Request Boook\n",
      "    3. Add/Return Book\n",
      "    4. Exit Library\n",
      "2\n",
      "Enter book that you want to borrow: HVAC\n",
      "You have been issued HVAC. Please return book on time\n",
      "====Welcome To Central Library====\n",
      "    Please choose an option:\n",
      "    1. Listing all avaliable books \n",
      "    2. Request Boook\n",
      "    3. Add/Return Book\n",
      "    4. Exit Library\n",
      "3\n",
      "Enter book you want to return: IPOB\n",
      "Thanks for returning Book!\n",
      "====Welcome To Central Library====\n",
      "    Please choose an option:\n",
      "    1. Listing all avaliable books \n",
      "    2. Request Boook\n",
      "    3. Add/Return Book\n",
      "    4. Exit Library\n",
      "1\n",
      "Avaliable Books in Library are: \n",
      " *DME\n",
      " *OR\n",
      " *Q&RE\n",
      " *IPOB\n",
      "====Welcome To Central Library====\n",
      "    Please choose an option:\n",
      "    1. Listing all avaliable books \n",
      "    2. Request Boook\n",
      "    3. Add/Return Book\n",
      "    4. Exit Library\n",
      "4\n",
      "Thanks for using Library!!\n",
      "====Welcome To Central Library====\n",
      "    Please choose an option:\n",
      "    1. Listing all avaliable books \n",
      "    2. Request Boook\n",
      "    3. Add/Return Book\n",
      "    4. Exit Library\n"
     ]
    }
   ],
   "source": [
    "while(True):      #infinte loop\n",
    "    Welcome_msg = '''====Welcome To Central Library====\n",
    "    Please choose an option:\n",
    "    1. Listing all avaliable books \n",
    "    2. Request Boook\n",
    "    3. Add/Return Book\n",
    "    4. Exit Library'''\n",
    "    print(Welcome_msg)\n",
    "    a = int(input())\n",
    "    if a==1:\n",
    "        CL.display_books()\n",
    "    elif a==2:\n",
    "        CL.borrow_book(ST.request_book())\n",
    "    elif a==3:\n",
    "        CL.return_book(ST.return_boook())\n",
    "    elif a==4:\n",
    "        print(\"Thanks for using Library!!\")\n",
    "        exit()\n",
    "    else:\n",
    "        print(\"Invalid Input\")\n",
    "        \n",
    "    "
   ]
  },
  {
   "cell_type": "code",
   "execution_count": null,
   "id": "a602155c",
   "metadata": {},
   "outputs": [],
   "source": []
  },
  {
   "cell_type": "code",
   "execution_count": null,
   "id": "30ed450f",
   "metadata": {},
   "outputs": [],
   "source": []
  },
  {
   "cell_type": "code",
   "execution_count": null,
   "id": "bc1c6c33",
   "metadata": {},
   "outputs": [],
   "source": []
  },
  {
   "cell_type": "code",
   "execution_count": null,
   "id": "dc3b14b2",
   "metadata": {},
   "outputs": [],
   "source": []
  },
  {
   "cell_type": "code",
   "execution_count": null,
   "id": "1f1e5644",
   "metadata": {},
   "outputs": [],
   "source": []
  },
  {
   "cell_type": "code",
   "execution_count": null,
   "id": "f5f5e6fe",
   "metadata": {},
   "outputs": [],
   "source": []
  },
  {
   "cell_type": "code",
   "execution_count": null,
   "id": "4459119b",
   "metadata": {},
   "outputs": [],
   "source": []
  },
  {
   "cell_type": "code",
   "execution_count": null,
   "id": "b3e505ca",
   "metadata": {},
   "outputs": [],
   "source": []
  },
  {
   "cell_type": "code",
   "execution_count": null,
   "id": "d650dc14",
   "metadata": {},
   "outputs": [],
   "source": []
  },
  {
   "cell_type": "code",
   "execution_count": null,
   "id": "6d7cfaf7",
   "metadata": {},
   "outputs": [],
   "source": []
  },
  {
   "cell_type": "raw",
   "id": "ee647654",
   "metadata": {},
   "source": []
  }
 ],
 "metadata": {
  "kernelspec": {
   "display_name": "Python 3 (ipykernel)",
   "language": "python",
   "name": "python3"
  },
  "language_info": {
   "codemirror_mode": {
    "name": "ipython",
    "version": 3
   },
   "file_extension": ".py",
   "mimetype": "text/x-python",
   "name": "python",
   "nbconvert_exporter": "python",
   "pygments_lexer": "ipython3",
   "version": "3.9.7"
  }
 },
 "nbformat": 4,
 "nbformat_minor": 5
}
