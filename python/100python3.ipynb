{
 "cells": [
  {
   "cell_type": "code",
   "execution_count": null,
   "id": "8fe3bb19",
   "metadata": {},
   "outputs": [],
   "source": [
    "# int la range waprtat for loop mde  ani string la range nhi waprt for loop mde"
   ]
  },
  {
   "cell_type": "code",
   "execution_count": null,
   "id": "f9132c18",
   "metadata": {},
   "outputs": [],
   "source": [
    "#71 Write a program to find minimum sum of absolute difference of given array"
   ]
  },
  {
   "cell_type": "code",
   "execution_count": 6,
   "id": "480038f0",
   "metadata": {},
   "outputs": [
    {
     "name": "stdout",
     "output_type": "stream",
     "text": [
      "5\n",
      "10\n",
      "40\n",
      "50\n",
      "30\n",
      "20\n",
      "60\n"
     ]
    }
   ],
   "source": [
    "def  min_sum_abs_diff(size):\n",
    "    l=[]\n",
    "    for i in range(size):\n",
    "        element = int(input())\n",
    "        l.append(element)\n",
    "        \n",
    "    #to find median\n",
    "    a = list(map(int,l))\n",
    "    a.sort()\n",
    "    med = a[size//2]\n",
    "    \n",
    "    #find min sum\n",
    "    Sum = 0\n",
    "    for i in range(len(a)):\n",
    "        Sum = Sum + abs(l[i]- med)\n",
    "        \n",
    "    print(Sum)\n",
    "\n",
    "size = int(input())\n",
    "min_sum_abs_diff(size)\n",
    "    "
   ]
  },
  {
   "cell_type": "code",
   "execution_count": null,
   "id": "286638f3",
   "metadata": {},
   "outputs": [],
   "source": [
    "import sys\n",
    "\n",
    " \n",
    "\n",
    "def MinAbsDif(arr,n):\n",
    "\n",
    "    ans = sys.maxsize\n",
    "\n",
    "   \n",
    "\n",
    "    for i in range(0,n):\n",
    "\n",
    "        sum = 0;\n",
    "\n",
    "        for j in range(0, n):\n",
    "\n",
    "            sum += abs(arr[i]-arr[j])\n",
    "\n",
    "        ans = min(ans, sum)\n",
    "\n",
    "    return ans;\n",
    "\n",
    "a = [10, 40, 50, 30, 20]\n",
    "\n",
    "size = len(a)\n",
    "\n",
    "print(MinAbsDif(a, size))"
   ]
  },
  {
   "cell_type": "code",
   "execution_count": 7,
   "id": "826e532f",
   "metadata": {},
   "outputs": [
    {
     "name": "stdout",
     "output_type": "stream",
     "text": [
      "3\n"
     ]
    }
   ],
   "source": [
    "#72\n",
    "# Python3 program to find equilibrium\n",
    "# index of an array\n",
    "\n",
    "# function to find the equilibrium index\n",
    "\n",
    "\n",
    "def equilibrium(arr):\n",
    "\tleftsum = 0\n",
    "\trightsum = 0\n",
    "\tn = len(arr)\n",
    "\n",
    "\t# Check for indexes one by one\n",
    "\t# until an equilibrium index is found\n",
    "\tfor i in range(n):\n",
    "\t\tleftsum = 0\n",
    "\t\trightsum = 0\n",
    "\n",
    "\t\t# get left sum\n",
    "\t\tfor j in range(i):\n",
    "\t\t\tleftsum += arr[j]\n",
    "\n",
    "\t\t# get right sum\n",
    "\t\tfor j in range(i + 1, n):\n",
    "\t\t\trightsum += arr[j]\n",
    "\n",
    "\t\t# if leftsum and rightsum are same,\n",
    "\t\t# then we are done\n",
    "\t\tif leftsum == rightsum:\n",
    "\t\t\treturn i\n",
    "\n",
    "\t# return -1 if no equilibrium index is found\n",
    "\treturn -1\n",
    "\n",
    "\n",
    "# Driver code\n",
    "if __name__ == \"__main__\":\n",
    "\tarr = [-7, 1, 5, 2, -4, 3, 0]\n",
    "\n",
    "\t# Function call\n",
    "\tprint(equilibrium(arr))\n",
    "\n",
    "# This code is contributed by Abhishek Sharama\n"
   ]
  },
  {
   "cell_type": "code",
   "execution_count": null,
   "id": "8f2d5f7a",
   "metadata": {},
   "outputs": [],
   "source": []
  }
 ],
 "metadata": {
  "kernelspec": {
   "display_name": "Python 3 (ipykernel)",
   "language": "python",
   "name": "python3"
  },
  "language_info": {
   "codemirror_mode": {
    "name": "ipython",
    "version": 3
   },
   "file_extension": ".py",
   "mimetype": "text/x-python",
   "name": "python",
   "nbconvert_exporter": "python",
   "pygments_lexer": "ipython3",
   "version": "3.9.7"
  }
 },
 "nbformat": 4,
 "nbformat_minor": 5
}
