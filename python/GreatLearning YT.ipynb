{
 "cells": [
  {
   "cell_type": "code",
   "execution_count": 1,
   "id": "abf99c9a",
   "metadata": {},
   "outputs": [
    {
     "name": "stdout",
     "output_type": "stream",
     "text": [
      "making call\n"
     ]
    }
   ],
   "source": [
    "class Phone:\n",
    "    def make_call(self):\n",
    "        print(\"making call\")\n",
    "        \n",
    "    def play_game(self):\n",
    "        print(\"Playing game\")\n",
    "        \n",
    "ph = Phone()  #ph is object\n",
    "\n",
    "ph.make_call()"
   ]
  },
  {
   "cell_type": "code",
   "execution_count": 2,
   "id": "eb777a4f",
   "metadata": {},
   "outputs": [
    {
     "name": "stdout",
     "output_type": "stream",
     "text": [
      "Playing game\n"
     ]
    }
   ],
   "source": [
    "ph.play_game()"
   ]
  },
  {
   "cell_type": "code",
   "execution_count": 6,
   "id": "d7bf4645",
   "metadata": {},
   "outputs": [],
   "source": [
    "class Phone:\n",
    "    def set_color(self,color):\n",
    "        self.color = color\n",
    "    def set_cost(self,cost):\n",
    "        self.cost = cost\n",
    "    def show_color(self):\n",
    "        return self.color\n",
    "    def show_cost(self):\n",
    "        return self.cost\n",
    "    def make_call(self):\n",
    "        print(\"making call\")\n",
    "    def play_game(self):\n",
    "        print(\"Playing game\")\n",
    "        \n",
    "        "
   ]
  },
  {
   "cell_type": "code",
   "execution_count": 12,
   "id": "5003051b",
   "metadata": {},
   "outputs": [
    {
     "data": {
      "text/plain": [
       "5000"
      ]
     },
     "execution_count": 12,
     "metadata": {},
     "output_type": "execute_result"
    }
   ],
   "source": [
    "ph1 = Phone()\n",
    "ph1.set_color(\"blue\")\n",
    "ph1.set_cost(5000)"
   ]
  },
  {
   "cell_type": "code",
   "execution_count": 13,
   "id": "82d071a3",
   "metadata": {},
   "outputs": [
    {
     "data": {
      "text/plain": [
       "'blue'"
      ]
     },
     "execution_count": 13,
     "metadata": {},
     "output_type": "execute_result"
    }
   ],
   "source": [
    "ph1.show_color()"
   ]
  },
  {
   "cell_type": "code",
   "execution_count": 14,
   "id": "75b53baa",
   "metadata": {},
   "outputs": [
    {
     "data": {
      "text/plain": [
       "5000"
      ]
     },
     "execution_count": 14,
     "metadata": {},
     "output_type": "execute_result"
    }
   ],
   "source": [
    "ph1.show_cost()"
   ]
  },
  {
   "cell_type": "code",
   "execution_count": 15,
   "id": "809c0091",
   "metadata": {},
   "outputs": [
    {
     "name": "stdout",
     "output_type": "stream",
     "text": [
      "making call\n"
     ]
    }
   ],
   "source": [
    "ph1.make_call()"
   ]
  },
  {
   "cell_type": "code",
   "execution_count": null,
   "id": "b1f56c21",
   "metadata": {},
   "outputs": [],
   "source": [
    "'''consttructor'''"
   ]
  },
  {
   "cell_type": "code",
   "execution_count": 23,
   "id": "6656be54",
   "metadata": {},
   "outputs": [],
   "source": [
    "class Employee:\n",
    "    def __init__(self,name,age,salary):\n",
    "        self.name = name\n",
    "        self.age = age\n",
    "        self.salary = salary\n",
    "    def employee_details(self):\n",
    "        print(\"name of employee is \",self.name)\n",
    "        print(\"age of employee is \",self.age)\n",
    "        print(\"salary of employee is \",self.salary)"
   ]
  },
  {
   "cell_type": "code",
   "execution_count": 24,
   "id": "2933c300",
   "metadata": {},
   "outputs": [],
   "source": [
    "emp1 = Employee(\"Pranay\",22,700000)  #emp1 is object\n"
   ]
  },
  {
   "cell_type": "code",
   "execution_count": 25,
   "id": "49e6fbc2",
   "metadata": {},
   "outputs": [
    {
     "name": "stdout",
     "output_type": "stream",
     "text": [
      "name of employee is  Pranay\n",
      "age of employee is  22\n",
      "salary of employee is  700000\n"
     ]
    }
   ],
   "source": [
    "emp1.employee_details()"
   ]
  },
  {
   "cell_type": "code",
   "execution_count": null,
   "id": "9573fce3",
   "metadata": {},
   "outputs": [],
   "source": [
    "'''Inhertiance'''"
   ]
  },
  {
   "cell_type": "code",
   "execution_count": 30,
   "id": "1b2ac217",
   "metadata": {},
   "outputs": [],
   "source": [
    "class Vehicle:\n",
    "    def __init__(self,mileage,cost):\n",
    "        self.mileage = mileage\n",
    "        self.cost = cost\n",
    "    def show_details_vehicle(self):\n",
    "        print(\"mileage of car is \",self.mileage)\n",
    "        print(\"cost of car is \",self.cost)\n",
    "        print(\"I am Vehicle\")\n",
    "    "
   ]
  },
  {
   "cell_type": "code",
   "execution_count": 33,
   "id": "b18b6d25",
   "metadata": {},
   "outputs": [
    {
     "name": "stdout",
     "output_type": "stream",
     "text": [
      "mileage of car is  45\n",
      "cost of car is  400000\n",
      "I am Vehicle\n"
     ]
    }
   ],
   "source": [
    "class Car(Vehicle):\n",
    "    def car_details(self):\n",
    "        print(\"i am car\")\n",
    "\n",
    "c1 = Car(45,400000)\n",
    "c1.show_details_vehicle()"
   ]
  },
  {
   "cell_type": "code",
   "execution_count": 34,
   "id": "70a8067b",
   "metadata": {},
   "outputs": [
    {
     "name": "stdout",
     "output_type": "stream",
     "text": [
      "i am car\n"
     ]
    }
   ],
   "source": [
    "c1.car_details()"
   ]
  },
  {
   "cell_type": "code",
   "execution_count": null,
   "id": "ee21a88b",
   "metadata": {},
   "outputs": [],
   "source": [
    "'''override consrtuctor using super()'''"
   ]
  },
  {
   "cell_type": "code",
   "execution_count": 35,
   "id": "86f9bd5d",
   "metadata": {},
   "outputs": [],
   "source": [
    "class Vehicle:\n",
    "    def __init__(self,mileage,cost):\n",
    "        self.mileage = mileage\n",
    "        self.cost = cost\n",
    "    def show_details_vehicle(self):\n",
    "        print(\"mileage of car is \",self.mileage)\n",
    "        print(\"cost of car is \",self.cost)\n",
    "        print(\"I am Vehicle\")\n",
    "    "
   ]
  },
  {
   "cell_type": "code",
   "execution_count": 38,
   "id": "54532b6b",
   "metadata": {},
   "outputs": [],
   "source": [
    "class Car(Vehicle):\n",
    "    def __init__(self,mileage,cost,hp,tyre):\n",
    "        super().__init__(mileage,cost)\n",
    "        self.hp = hp\n",
    "        self.tyre = tyre\n",
    "    \n",
    "    def show_car_details(self):\n",
    "        print(\"hp of car is\",self.hp)\n",
    "        print(\"tyres of car are\",self.tyre)\n",
    "    "
   ]
  },
  {
   "cell_type": "code",
   "execution_count": 39,
   "id": "471bb39b",
   "metadata": {},
   "outputs": [],
   "source": [
    "c1 = Car(50,100000,989,4)"
   ]
  },
  {
   "cell_type": "code",
   "execution_count": 40,
   "id": "166404e1",
   "metadata": {},
   "outputs": [
    {
     "name": "stdout",
     "output_type": "stream",
     "text": [
      "mileage of car is  50\n",
      "cost of car is  100000\n",
      "I am Vehicle\n"
     ]
    }
   ],
   "source": [
    "c1.show_details_vehicle()"
   ]
  },
  {
   "cell_type": "code",
   "execution_count": 41,
   "id": "fc058330",
   "metadata": {},
   "outputs": [
    {
     "name": "stdout",
     "output_type": "stream",
     "text": [
      "hp of car is 989\n",
      "tyres of car are 4\n"
     ]
    }
   ],
   "source": [
    "c1.show_car_details()"
   ]
  },
  {
   "cell_type": "code",
   "execution_count": null,
   "id": "cea82901",
   "metadata": {},
   "outputs": [],
   "source": [
    "'''Multiple inheritance'''"
   ]
  },
  {
   "cell_type": "code",
   "execution_count": 42,
   "id": "c4fd2ee0",
   "metadata": {},
   "outputs": [],
   "source": [
    "class Parent1:\n",
    "    def assign_str_1(self,str1):\n",
    "        self.str1 = str1\n",
    "    def show_str_1(self):\n",
    "        return self.str1"
   ]
  },
  {
   "cell_type": "code",
   "execution_count": 43,
   "id": "5dc449b1",
   "metadata": {},
   "outputs": [],
   "source": [
    "class Parent2:\n",
    "    def assign_str_2(self,str2):\n",
    "        self.str2 = str2\n",
    "    def show_str_2(self):\n",
    "        return self.str2"
   ]
  },
  {
   "cell_type": "code",
   "execution_count": 51,
   "id": "fff444b3",
   "metadata": {},
   "outputs": [],
   "source": [
    "class Child(Parent1,Parent2):\n",
    "    def assign_str_3(self,str3):\n",
    "        self.str3 = str3\n",
    "    def show_str_3(self):\n",
    "        return self.str3"
   ]
  },
  {
   "cell_type": "code",
   "execution_count": 52,
   "id": "bbf4bcfe",
   "metadata": {},
   "outputs": [],
   "source": [
    "ch = Child()"
   ]
  },
  {
   "cell_type": "code",
   "execution_count": 53,
   "id": "58726e4f",
   "metadata": {},
   "outputs": [],
   "source": [
    "ch.assign_str_1(\"I am string1\")"
   ]
  },
  {
   "cell_type": "code",
   "execution_count": 54,
   "id": "e5a8868d",
   "metadata": {},
   "outputs": [],
   "source": [
    "ch.assign_str_2(\"I am string2\")"
   ]
  },
  {
   "cell_type": "code",
   "execution_count": 55,
   "id": "b099cce3",
   "metadata": {},
   "outputs": [],
   "source": [
    "ch.assign_str_3(\"I am string3\")"
   ]
  },
  {
   "cell_type": "code",
   "execution_count": 56,
   "id": "fe33aa9d",
   "metadata": {},
   "outputs": [
    {
     "data": {
      "text/plain": [
       "'I am string1'"
      ]
     },
     "execution_count": 56,
     "metadata": {},
     "output_type": "execute_result"
    }
   ],
   "source": [
    "ch.show_str_1()"
   ]
  },
  {
   "cell_type": "code",
   "execution_count": 57,
   "id": "e1b58e43",
   "metadata": {},
   "outputs": [
    {
     "data": {
      "text/plain": [
       "'I am string2'"
      ]
     },
     "execution_count": 57,
     "metadata": {},
     "output_type": "execute_result"
    }
   ],
   "source": [
    "ch.show_str_2()"
   ]
  },
  {
   "cell_type": "code",
   "execution_count": null,
   "id": "9be47e3f",
   "metadata": {},
   "outputs": [],
   "source": []
  },
  {
   "cell_type": "code",
   "execution_count": 58,
   "id": "f711f605",
   "metadata": {},
   "outputs": [
    {
     "data": {
      "text/plain": [
       "'I am string3'"
      ]
     },
     "execution_count": 58,
     "metadata": {},
     "output_type": "execute_result"
    }
   ],
   "source": [
    "ch.show_str_3()"
   ]
  },
  {
   "cell_type": "code",
   "execution_count": null,
   "id": "48bbbe15",
   "metadata": {},
   "outputs": [],
   "source": [
    "'''Multilevel Inheritance'''"
   ]
  },
  {
   "cell_type": "code",
   "execution_count": 59,
   "id": "b2ec066b",
   "metadata": {},
   "outputs": [],
   "source": [
    "class Parent:\n",
    "    def get_name(self,name):\n",
    "        self.name = name\n",
    "    def show_name(self):\n",
    "        return self.name\n"
   ]
  },
  {
   "cell_type": "code",
   "execution_count": 60,
   "id": "b0663bc2",
   "metadata": {},
   "outputs": [],
   "source": [
    "class Child(Parent):\n",
    "    def get_age(self,age):\n",
    "        self.age = age\n",
    "    def show_age(self):\n",
    "        return self.age\n",
    "    "
   ]
  },
  {
   "cell_type": "code",
   "execution_count": 61,
   "id": "6807badb",
   "metadata": {},
   "outputs": [],
   "source": [
    "class GrandChild(Child):\n",
    "    def get_gender(self,gender):\n",
    "        self.gender = gender\n",
    "    def show_gender(self):\n",
    "        return self.gender\n",
    "    "
   ]
  },
  {
   "cell_type": "code",
   "execution_count": 62,
   "id": "9dba8fdd",
   "metadata": {},
   "outputs": [],
   "source": [
    "gc = GrandChild()"
   ]
  },
  {
   "cell_type": "code",
   "execution_count": 63,
   "id": "547e1042",
   "metadata": {},
   "outputs": [],
   "source": [
    "gc.get_name(\"Pranay\")"
   ]
  },
  {
   "cell_type": "code",
   "execution_count": 64,
   "id": "fc6b5869",
   "metadata": {},
   "outputs": [
    {
     "data": {
      "text/plain": [
       "'Pranay'"
      ]
     },
     "execution_count": 64,
     "metadata": {},
     "output_type": "execute_result"
    }
   ],
   "source": [
    "gc.show_name()"
   ]
  },
  {
   "cell_type": "code",
   "execution_count": 65,
   "id": "3f849c28",
   "metadata": {},
   "outputs": [],
   "source": [
    "gc.get_age(45)"
   ]
  },
  {
   "cell_type": "code",
   "execution_count": 67,
   "id": "9fd4c9e5",
   "metadata": {},
   "outputs": [
    {
     "data": {
      "text/plain": [
       "45"
      ]
     },
     "execution_count": 67,
     "metadata": {},
     "output_type": "execute_result"
    }
   ],
   "source": [
    "gc.show_age()"
   ]
  },
  {
   "cell_type": "code",
   "execution_count": 68,
   "id": "b22ba8a4",
   "metadata": {},
   "outputs": [],
   "source": [
    "gc.get_gender(\"Male\")"
   ]
  },
  {
   "cell_type": "code",
   "execution_count": 70,
   "id": "c0e62906",
   "metadata": {},
   "outputs": [
    {
     "data": {
      "text/plain": [
       "'Male'"
      ]
     },
     "execution_count": 70,
     "metadata": {},
     "output_type": "execute_result"
    }
   ],
   "source": [
    "gc.show_gender()"
   ]
  },
  {
   "cell_type": "code",
   "execution_count": null,
   "id": "f0e24bca",
   "metadata": {},
   "outputs": [],
   "source": []
  }
 ],
 "metadata": {
  "kernelspec": {
   "display_name": "Python 3 (ipykernel)",
   "language": "python",
   "name": "python3"
  },
  "language_info": {
   "codemirror_mode": {
    "name": "ipython",
    "version": 3
   },
   "file_extension": ".py",
   "mimetype": "text/x-python",
   "name": "python",
   "nbconvert_exporter": "python",
   "pygments_lexer": "ipython3",
   "version": "3.9.7"
  }
 },
 "nbformat": 4,
 "nbformat_minor": 5
}
