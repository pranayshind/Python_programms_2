{
 "cells": [
  {
   "cell_type": "code",
   "execution_count": null,
   "id": "4bdd14ee",
   "metadata": {},
   "outputs": [],
   "source": [
    "'''1] Longest Substring Without Repeating Characters =>\n",
    "Input: s = \"abcabcbb\"\n",
    "Output: 3\n",
    "Explanation: The answer is \"abc\", with the length of 3.'''"
   ]
  },
  {
   "cell_type": "code",
   "execution_count": 5,
   "id": "3eaf11b0",
   "metadata": {},
   "outputs": [
    {
     "name": "stdout",
     "output_type": "stream",
     "text": [
      "abcabcbb\n",
      "9\n"
     ]
    }
   ],
   "source": [
    "def without_repeating(string):\n",
    "    count = 1\n",
    "    for i in string:\n",
    "        if i!=i:\n",
    "            count = count+1\n",
    "    return count   \n",
    "string1 = input()\n",
    "print(without_repeating(string1))"
   ]
  },
  {
   "cell_type": "code",
   "execution_count": null,
   "id": "82ad8d9b",
   "metadata": {},
   "outputs": [],
   "source": [
    "'''2] longest comon preffix'''\n",
    "def longest_preffix(s):\n",
    "    \n",
    "    "
   ]
  }
 ],
 "metadata": {
  "kernelspec": {
   "display_name": "Python 3 (ipykernel)",
   "language": "python",
   "name": "python3"
  },
  "language_info": {
   "codemirror_mode": {
    "name": "ipython",
    "version": 3
   },
   "file_extension": ".py",
   "mimetype": "text/x-python",
   "name": "python",
   "nbconvert_exporter": "python",
   "pygments_lexer": "ipython3",
   "version": "3.9.7"
  }
 },
 "nbformat": 4,
 "nbformat_minor": 5
}
