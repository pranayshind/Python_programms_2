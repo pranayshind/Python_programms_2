{
 "cells": [
  {
   "cell_type": "code",
   "execution_count": 1,
   "id": "9f66f48b",
   "metadata": {},
   "outputs": [
    {
     "name": "stdout",
     "output_type": "stream",
     "text": [
      "before swapping:\n",
      " value of a is 2 and value of b is 3\n"
     ]
    }
   ],
   "source": [
    "##### swap 2 numbers without using 3rd variable\n",
    "a=2\n",
    "b=3\n",
    "print(\"before swapping:\\n value of a is\",a, \"and value of b is\",b)"
   ]
  },
  {
   "cell_type": "code",
   "execution_count": null,
   "id": "2e3e8753",
   "metadata": {},
   "outputs": [],
   "source": []
  },
  {
   "cell_type": "code",
   "execution_count": 11,
   "id": "9f81424d",
   "metadata": {},
   "outputs": [
    {
     "name": "stdout",
     "output_type": "stream",
     "text": [
      "After swapping:\n",
      " value of a is 3 and value of b is 2\n"
     ]
    }
   ],
   "source": [
    "a,b=b,a\n",
    "print(\"After swapping:\\n value of a is\",a, \"and value of b is\",b)"
   ]
  },
  {
   "cell_type": "code",
   "execution_count": 3,
   "id": "b14d0169",
   "metadata": {},
   "outputs": [
    {
     "name": "stdout",
     "output_type": "stream",
     "text": [
      "yanarp\n"
     ]
    }
   ],
   "source": [
    "# reverse string\n",
    "a=\"pranay\"#{start,end,stepsize}\n",
    "print(a[::-1])"
   ]
  },
  {
   "cell_type": "code",
   "execution_count": 7,
   "id": "6d9de51c",
   "metadata": {},
   "outputs": [
    {
     "name": "stdout",
     "output_type": "stream",
     "text": [
      "no.of vowels 5\n"
     ]
    }
   ],
   "source": [
    "#count no. of vowels\n",
    "def count_vowel(str):\n",
    "    count=0\n",
    "    vowel=set(\"aeiouAEIOU\")\n",
    "    for aplhabet in str:\n",
    "        if aplhabet in vowel:\n",
    "            count=count+1\n",
    "    print(\"no.of vowels\",count)\n",
    "str='eeksforgeeks'\n",
    "count_vowel(str)"
   ]
  },
  {
   "cell_type": "code",
   "execution_count": 8,
   "id": "3978abbd",
   "metadata": {
    "scrolled": true
   },
   "outputs": [
    {
     "name": "stdout",
     "output_type": "stream",
     "text": [
      "No. of vowels : 5\n"
     ]
    }
   ],
   "source": [
    "# Function to count vowel\n",
    "def vowel_count(str):\n",
    "      \n",
    "    # Initializing count variable to 0\n",
    "    count = 0\n",
    "      \n",
    "    # Creating a set of vowels\n",
    "    vowel = set(\"aeiouAEIOU\")\n",
    "      \n",
    "    # Loop to traverse the alphabet\n",
    "    # in the given string\n",
    "    for alphabet in str:\n",
    "      \n",
    "        # If alphabet is present\n",
    "        # in set vowel\n",
    "        if alphabet in vowel:\n",
    "            count = count + 1\n",
    "      \n",
    "    print(\"No. of vowels :\", count)\n",
    "      \n",
    "# Driver code \n",
    "str = \"GeeksforGeeks\"\n",
    "  \n",
    "# Function Call\n",
    "vowel_count(str)"
   ]
  },
  {
   "cell_type": "code",
   "execution_count": 4,
   "id": "327e2e80",
   "metadata": {},
   "outputs": [
    {
     "name": "stdout",
     "output_type": "stream",
     "text": [
      "please enter number\n",
      "56454\n",
      "given number is not prime\n"
     ]
    }
   ],
   "source": [
    "#given no.is prime or not\n",
    "a=int(input(\"please enter number\\n\"))\n",
    "for i in range(2,a):\n",
    "    if a%i==0:\n",
    "        print(\"given number is not prime\")\n",
    "        break\n",
    "else:\n",
    "    print(\"given number is prime\")"
   ]
  },
  {
   "cell_type": "code",
   "execution_count": 20,
   "id": "4c2df7d1",
   "metadata": {},
   "outputs": [
    {
     "name": "stdout",
     "output_type": "stream",
     "text": [
      "Enter range:100\n",
      "1 2 3 5 7 11 13 17 19 23 29 31 37 41 43 47 53 59 61 67 71 73 79 83 89 97 "
     ]
    }
   ],
   "source": [
    "#print prime numbers\n",
    "\n",
    "numr=int(input(\"Enter range:\"))\n",
    "\n",
    "\n",
    "for n in range(1,numr):\n",
    "\n",
    "    for i in range(2,n):\n",
    "\n",
    "        if(n%i==0):\n",
    "\n",
    "            break\n",
    "\n",
    "    else:\n",
    "        \n",
    "\n",
    "        print(n,end=' ')\n"
   ]
  },
  {
   "cell_type": "code",
   "execution_count": null,
   "id": "82f8c5be",
   "metadata": {},
   "outputs": [],
   "source": [
    "#palindrome=1221\n",
    "#armstrong=sum of ,square,cube is number iself"
   ]
  },
  {
   "cell_type": "code",
   "execution_count": null,
   "id": "01ff7352",
   "metadata": {},
   "outputs": [],
   "source": [
    "# python 3 program\n",
    "# to check whether the given number is armstrong or not\n",
    "# without using power function\n",
    " \n",
    "n = 8 # or n=int(input()) -> taking input from user\n",
    "s = n  # assigning input value to the s variable\n",
    "b = len(str(n))\n",
    "sum1 = 0\n",
    "while n != 0:\n",
    "    r = n % 10\n",
    "    sum1 = sum1+(r**b)\n",
    "    n = n//10\n",
    "    \n",
    "if s == sum1:\n",
    "    print(\"The given number\", s, \"is armstrong number\")\n",
    "else:\n",
    "    print(\"The given number\", s, \"is not armstrong number\")\n",
    " \n",
    "# This code is contributed by Gangarajula Laxmi"
   ]
  },
  {
   "cell_type": "code",
   "execution_count": null,
   "id": "1592d378",
   "metadata": {},
   "outputs": [],
   "source": [
    "# Python program to find LCM of two numbers\n",
    " \n",
    "# Recursive function to return gcd of a and b\n",
    "def gcd(a,b):\n",
    "    if a == 0:\n",
    "        return b\n",
    "    return gcd(b % a, a)\n",
    " \n",
    "# Function to return LCM of two numbers\n",
    "def lcm(a,b):\n",
    "    return (a / gcd(a,b))* b\n",
    " \n",
    "# Driver program to test above function\n",
    "a = 15\n",
    "b = 20\n",
    "print('LCM of', a, 'and', b, 'is', lcm(a, b))"
   ]
  },
  {
   "cell_type": "code",
   "execution_count": 4,
   "id": "36a6f9b4",
   "metadata": {},
   "outputs": [
    {
     "data": {
      "text/plain": [
       "23"
      ]
     },
     "execution_count": 4,
     "metadata": {},
     "output_type": "execute_result"
    }
   ],
   "source": [
    "a=[10,20,23]\n",
    "a[-1]"
   ]
  },
  {
   "cell_type": "code",
   "execution_count": 6,
   "id": "3e722c8b",
   "metadata": {},
   "outputs": [
    {
     "data": {
      "text/plain": [
       "10"
      ]
     },
     "execution_count": 6,
     "metadata": {},
     "output_type": "execute_result"
    }
   ],
   "source": [
    "a=(10,20,30)\n",
    "a[0]"
   ]
  },
  {
   "cell_type": "code",
   "execution_count": null,
   "id": "efb08cd2",
   "metadata": {},
   "outputs": [],
   "source": []
  }
 ],
 "metadata": {
  "kernelspec": {
   "display_name": "Python 3 (ipykernel)",
   "language": "python",
   "name": "python3"
  },
  "language_info": {
   "codemirror_mode": {
    "name": "ipython",
    "version": 3
   },
   "file_extension": ".py",
   "mimetype": "text/x-python",
   "name": "python",
   "nbconvert_exporter": "python",
   "pygments_lexer": "ipython3",
   "version": "3.9.7"
  }
 },
 "nbformat": 4,
 "nbformat_minor": 5
}
