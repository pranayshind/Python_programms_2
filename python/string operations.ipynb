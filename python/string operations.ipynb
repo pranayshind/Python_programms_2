{
 "cells": [
  {
   "cell_type": "code",
   "execution_count": null,
   "id": "069f1d31",
   "metadata": {},
   "outputs": [],
   "source": [
    "                    '''concatenations'''"
   ]
  },
  {
   "cell_type": "code",
   "execution_count": 2,
   "id": "6f067a96",
   "metadata": {},
   "outputs": [
    {
     "name": "stdout",
     "output_type": "stream",
     "text": [
      "pranay shinde\n"
     ]
    }
   ],
   "source": [
    "a=\"pranay\"\n",
    "b=\"shinde\"\n",
    "print(a+\" \"+b)"
   ]
  },
  {
   "cell_type": "code",
   "execution_count": null,
   "id": "b5acc580",
   "metadata": {},
   "outputs": [],
   "source": []
  },
  {
   "cell_type": "code",
   "execution_count": null,
   "id": "3e6b395b",
   "metadata": {},
   "outputs": [],
   "source": [
    "                    \"count\""
   ]
  },
  {
   "cell_type": "code",
   "execution_count": 4,
   "id": "b40e7673",
   "metadata": {},
   "outputs": [
    {
     "name": "stdout",
     "output_type": "stream",
     "text": [
      "2\n"
     ]
    }
   ],
   "source": [
    "a=\"pranay shinde\"\n",
    "b=a.count(\"a\")\n",
    "print(b)"
   ]
  },
  {
   "cell_type": "code",
   "execution_count": null,
   "id": "ccadd9b5",
   "metadata": {},
   "outputs": [],
   "source": []
  },
  {
   "cell_type": "code",
   "execution_count": null,
   "id": "076822d9",
   "metadata": {},
   "outputs": [],
   "source": [
    "                    \"split\""
   ]
  },
  {
   "cell_type": "code",
   "execution_count": 44,
   "id": "ee0fe155",
   "metadata": {},
   "outputs": [
    {
     "name": "stdout",
     "output_type": "stream",
     "text": [
      "['Pranay', 'Ramesh', 'Shinde']\n"
     ]
    }
   ],
   "source": [
    "a=\"Pranay Ramesh Shinde\"\n",
    "b=a.split()\n",
    "print(b)"
   ]
  },
  {
   "cell_type": "code",
   "execution_count": 48,
   "id": "295842e5",
   "metadata": {},
   "outputs": [
    {
     "name": "stdout",
     "output_type": "stream",
     "text": [
      "['Pranay', 'Ramesh', 'Shinde']\n"
     ]
    }
   ],
   "source": [
    "a=\"Pranay Ramesh Shinde\"\n",
    "b=a.split(\" \")\n",
    "print(b)"
   ]
  },
  {
   "cell_type": "code",
   "execution_count": 45,
   "id": "c767fc7d",
   "metadata": {},
   "outputs": [
    {
     "name": "stdout",
     "output_type": "stream",
     "text": [
      "['Pr', 'n', 'y R', 'mesh Shinde']\n"
     ]
    }
   ],
   "source": [
    "a=\"Pranay Ramesh Shinde\"\n",
    "b=a.split(\"a\")\n",
    "print(b)"
   ]
  },
  {
   "cell_type": "code",
   "execution_count": 46,
   "id": "0af2b6ef",
   "metadata": {},
   "outputs": [
    {
     "name": "stdout",
     "output_type": "stream",
     "text": [
      "['Pr', 'nay Ramesh Shinde']\n"
     ]
    }
   ],
   "source": [
    "a=\"Pranay Ramesh Shinde\"\n",
    "b=a.split(\"a\",1)     #a is seperator and 1 is maxsplit\n",
    "print(b)"
   ]
  },
  {
   "cell_type": "code",
   "execution_count": null,
   "id": "8dbe6952",
   "metadata": {},
   "outputs": [],
   "source": []
  },
  {
   "cell_type": "code",
   "execution_count": null,
   "id": "7b8dee18",
   "metadata": {},
   "outputs": [],
   "source": [
    "                    \"find\""
   ]
  },
  {
   "cell_type": "code",
   "execution_count": 71,
   "id": "d4033c0f",
   "metadata": {},
   "outputs": [
    {
     "name": "stdout",
     "output_type": "stream",
     "text": [
      "1\n"
     ]
    }
   ],
   "source": [
    "a=\"Pranay Ramesh Shinde\"\n",
    "b=a.find(\"r\")\n",
    "print(b)"
   ]
  },
  {
   "cell_type": "code",
   "execution_count": null,
   "id": "53419c57",
   "metadata": {},
   "outputs": [],
   "source": []
  },
  {
   "cell_type": "code",
   "execution_count": null,
   "id": "b30d3716",
   "metadata": {},
   "outputs": [],
   "source": [
    "                    \"join\""
   ]
  },
  {
   "cell_type": "code",
   "execution_count": 19,
   "id": "4e20b68f",
   "metadata": {},
   "outputs": [
    {
     "name": "stdout",
     "output_type": "stream",
     "text": [
      "P,r,a,n,a,y, ,R,a,m,e,s,h, ,S,h,i,n,d,e\n"
     ]
    }
   ],
   "source": [
    "a=\"Pranay Ramesh Shinde\"\n",
    "b=\",\".join(a)\n",
    "print(b)"
   ]
  },
  {
   "cell_type": "code",
   "execution_count": 27,
   "id": "a336f4a3",
   "metadata": {},
   "outputs": [
    {
     "name": "stdout",
     "output_type": "stream",
     "text": [
      "abs\n",
      "a b s\n"
     ]
    }
   ],
   "source": [
    "l=[\"a\",\"b\",\"s\"]\n",
    "b=\"\".join(l)\n",
    "print(b)\n",
    "c=\" \".join(l)\n",
    "print(c)"
   ]
  },
  {
   "cell_type": "code",
   "execution_count": null,
   "id": "31800a2b",
   "metadata": {},
   "outputs": [],
   "source": []
  },
  {
   "cell_type": "code",
   "execution_count": null,
   "id": "1942e2a7",
   "metadata": {},
   "outputs": [],
   "source": [
    "                    \"Remove prefix\""
   ]
  },
  {
   "cell_type": "code",
   "execution_count": 36,
   "id": "64ddd82d",
   "metadata": {},
   "outputs": [
    {
     "name": "stdout",
     "output_type": "stream",
     "text": [
      "nay\n"
     ]
    }
   ],
   "source": [
    "a=\"pranay\"\n",
    "b=a.removeprefix(\"pra\")\n",
    "print(b)"
   ]
  },
  {
   "cell_type": "code",
   "execution_count": null,
   "id": "d1e298cb",
   "metadata": {},
   "outputs": [],
   "source": []
  },
  {
   "cell_type": "code",
   "execution_count": null,
   "id": "edc794fc",
   "metadata": {},
   "outputs": [],
   "source": [
    "                    \"remove suffix\""
   ]
  },
  {
   "cell_type": "code",
   "execution_count": 37,
   "id": "76f58b23",
   "metadata": {},
   "outputs": [
    {
     "name": "stdout",
     "output_type": "stream",
     "text": [
      "prana\n"
     ]
    }
   ],
   "source": [
    "a=\"pranay\"\n",
    "b=a.removesuffix(\"y\")\n",
    "print(b)"
   ]
  },
  {
   "cell_type": "code",
   "execution_count": null,
   "id": "6b4035d9",
   "metadata": {},
   "outputs": [],
   "source": []
  },
  {
   "cell_type": "code",
   "execution_count": null,
   "id": "8f9ca37f",
   "metadata": {},
   "outputs": [],
   "source": [
    "                    \"upper\""
   ]
  },
  {
   "cell_type": "code",
   "execution_count": 49,
   "id": "7f0b1053",
   "metadata": {},
   "outputs": [
    {
     "name": "stdout",
     "output_type": "stream",
     "text": [
      "PRANAY RAMESH SHINDE\n"
     ]
    }
   ],
   "source": [
    "a=\"Pranay Ramesh Shinde\"\n",
    "b=a.upper()\n",
    "print(b)"
   ]
  },
  {
   "cell_type": "code",
   "execution_count": null,
   "id": "cbd26f06",
   "metadata": {},
   "outputs": [],
   "source": []
  },
  {
   "cell_type": "code",
   "execution_count": null,
   "id": "80dfcfe5",
   "metadata": {},
   "outputs": [],
   "source": [
    "                    \"lower\""
   ]
  },
  {
   "cell_type": "code",
   "execution_count": 50,
   "id": "fed2225a",
   "metadata": {},
   "outputs": [
    {
     "name": "stdout",
     "output_type": "stream",
     "text": [
      "pranay ramesh shinde\n"
     ]
    }
   ],
   "source": [
    "a=\"Pranay Ramesh Shinde\"\n",
    "b=a.lower()\n",
    "print(b)"
   ]
  },
  {
   "cell_type": "code",
   "execution_count": null,
   "id": "b6e619f9",
   "metadata": {},
   "outputs": [],
   "source": []
  },
  {
   "cell_type": "code",
   "execution_count": null,
   "id": "9a9a65b7",
   "metadata": {},
   "outputs": [],
   "source": [
    "                    \"title\""
   ]
  },
  {
   "cell_type": "code",
   "execution_count": 52,
   "id": "559d0047",
   "metadata": {},
   "outputs": [
    {
     "name": "stdout",
     "output_type": "stream",
     "text": [
      "Pranay Ramesh Shinde\n"
     ]
    }
   ],
   "source": [
    "a=\"pranay ramesh shinde\"\n",
    "b=a.title()\n",
    "print(b)"
   ]
  },
  {
   "cell_type": "code",
   "execution_count": null,
   "id": "db0b36fc",
   "metadata": {},
   "outputs": [],
   "source": []
  },
  {
   "cell_type": "code",
   "execution_count": null,
   "id": "81c0441a",
   "metadata": {},
   "outputs": [],
   "source": [
    "                    \"swapcase\""
   ]
  },
  {
   "cell_type": "code",
   "execution_count": 53,
   "id": "e68c8f79",
   "metadata": {},
   "outputs": [
    {
     "name": "stdout",
     "output_type": "stream",
     "text": [
      "pRANAY rAMESH sHINDE\n"
     ]
    }
   ],
   "source": [
    "a=\"Pranay Ramesh Shinde\"\n",
    "b=a.swapcase()\n",
    "print(b)"
   ]
  },
  {
   "cell_type": "code",
   "execution_count": null,
   "id": "eeb2dcc6",
   "metadata": {},
   "outputs": [],
   "source": []
  },
  {
   "cell_type": "code",
   "execution_count": null,
   "id": "450071ce",
   "metadata": {},
   "outputs": [],
   "source": [
    "                    \"capitalize\""
   ]
  },
  {
   "cell_type": "code",
   "execution_count": 55,
   "id": "e2b670ed",
   "metadata": {},
   "outputs": [
    {
     "name": "stdout",
     "output_type": "stream",
     "text": [
      "Pranay ramesh shinde\n"
     ]
    }
   ],
   "source": [
    "a=\"Pranay Ramesh Shinde\"\n",
    "b=a.capitalize()\n",
    "print(b)"
   ]
  },
  {
   "cell_type": "code",
   "execution_count": null,
   "id": "f2f7514f",
   "metadata": {},
   "outputs": [],
   "source": []
  },
  {
   "cell_type": "code",
   "execution_count": null,
   "id": "f840e0fe",
   "metadata": {},
   "outputs": [],
   "source": [
    "                    \"isupper\""
   ]
  },
  {
   "cell_type": "code",
   "execution_count": 56,
   "id": "d6250bf2",
   "metadata": {},
   "outputs": [
    {
     "name": "stdout",
     "output_type": "stream",
     "text": [
      "True\n"
     ]
    }
   ],
   "source": [
    "a=\"PRANAY RAMESH SHINDE\"\n",
    "b=a.isupper()\n",
    "print(b)"
   ]
  },
  {
   "cell_type": "code",
   "execution_count": null,
   "id": "44273370",
   "metadata": {},
   "outputs": [],
   "source": []
  },
  {
   "cell_type": "code",
   "execution_count": null,
   "id": "d4448b4e",
   "metadata": {},
   "outputs": [],
   "source": [
    "                    \"islower\""
   ]
  },
  {
   "cell_type": "code",
   "execution_count": 57,
   "id": "a5518beb",
   "metadata": {},
   "outputs": [
    {
     "name": "stdout",
     "output_type": "stream",
     "text": [
      "False\n"
     ]
    }
   ],
   "source": [
    "a=\"PRANAY RAMESH SHINDE\"\n",
    "b=a.islower()\n",
    "print(b)"
   ]
  },
  {
   "cell_type": "code",
   "execution_count": null,
   "id": "9dc4893e",
   "metadata": {},
   "outputs": [],
   "source": []
  },
  {
   "cell_type": "code",
   "execution_count": null,
   "id": "9fb3e85c",
   "metadata": {},
   "outputs": [],
   "source": [
    "                \"endswith\""
   ]
  },
  {
   "cell_type": "code",
   "execution_count": 65,
   "id": "19f019ba",
   "metadata": {},
   "outputs": [
    {
     "name": "stdout",
     "output_type": "stream",
     "text": [
      "True\n"
     ]
    }
   ],
   "source": [
    "a=\"Pranay Ramesh Shinde\"\n",
    "b=a.endswith(\"e\")\n",
    "print(b)"
   ]
  },
  {
   "cell_type": "code",
   "execution_count": null,
   "id": "9978e5b8",
   "metadata": {},
   "outputs": [],
   "source": []
  },
  {
   "cell_type": "code",
   "execution_count": null,
   "id": "e16eb03a",
   "metadata": {},
   "outputs": [],
   "source": [
    "                \"startswith\""
   ]
  },
  {
   "cell_type": "code",
   "execution_count": 68,
   "id": "b6f4ad71",
   "metadata": {},
   "outputs": [
    {
     "name": "stdout",
     "output_type": "stream",
     "text": [
      "True\n"
     ]
    }
   ],
   "source": [
    "a=\"Pranay Ramesh Shinde\"\n",
    "b=a.startswith(\"P\")\n",
    "print(b)"
   ]
  },
  {
   "cell_type": "code",
   "execution_count": null,
   "id": "941bf9df",
   "metadata": {},
   "outputs": [],
   "source": []
  },
  {
   "cell_type": "code",
   "execution_count": null,
   "id": "18aff9ff",
   "metadata": {},
   "outputs": [],
   "source": [
    "                \"index\"  #=>same as find"
   ]
  },
  {
   "cell_type": "code",
   "execution_count": 1,
   "id": "d94ddf55",
   "metadata": {},
   "outputs": [
    {
     "name": "stdout",
     "output_type": "stream",
     "text": [
      "6\n"
     ]
    }
   ],
   "source": [
    "a=\"Pranay Ramesh Shinde\"\n",
    "b=a.index(\" \")\n",
    "print(b)"
   ]
  },
  {
   "cell_type": "code",
   "execution_count": 5,
   "id": "84d236ca",
   "metadata": {},
   "outputs": [
    {
     "name": "stdout",
     "output_type": "stream",
     "text": [
      "hey there!\n",
      "e hr!\n"
     ]
    }
   ],
   "source": [
    "#10)\n",
    "s=input()\n",
    "C=\"\"\n",
    "for i in range(len(s)):\n",
    "    if i%2!=0:\n",
    "        C=C+s[i]\n",
    "print(C)"
   ]
  },
  {
   "cell_type": "code",
   "execution_count": null,
   "id": "15ea3642",
   "metadata": {},
   "outputs": [],
   "source": []
  }
 ],
 "metadata": {
  "kernelspec": {
   "display_name": "Python 3 (ipykernel)",
   "language": "python",
   "name": "python3"
  },
  "language_info": {
   "codemirror_mode": {
    "name": "ipython",
    "version": 3
   },
   "file_extension": ".py",
   "mimetype": "text/x-python",
   "name": "python",
   "nbconvert_exporter": "python",
   "pygments_lexer": "ipython3",
   "version": "3.9.7"
  }
 },
 "nbformat": 4,
 "nbformat_minor": 5
}
