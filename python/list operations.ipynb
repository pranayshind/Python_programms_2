{
 "cells": [
  {
   "cell_type": "code",
   "execution_count": null,
   "id": "d37213cf",
   "metadata": {},
   "outputs": [],
   "source": [
    "                \"append\""
   ]
  },
  {
   "cell_type": "code",
   "execution_count": 9,
   "id": "adf21574",
   "metadata": {},
   "outputs": [
    {
     "name": "stdout",
     "output_type": "stream",
     "text": [
      "[1, 2, 3, 4, 5]\n"
     ]
    }
   ],
   "source": [
    "l=[1,2,3]\n",
    "l.append(4)\n",
    "l.append(5)\n",
    "print(l)"
   ]
  },
  {
   "cell_type": "code",
   "execution_count": null,
   "id": "053f6f39",
   "metadata": {},
   "outputs": [],
   "source": []
  },
  {
   "cell_type": "code",
   "execution_count": null,
   "id": "8064db8f",
   "metadata": {},
   "outputs": [],
   "source": [
    "                \"extend\""
   ]
  },
  {
   "cell_type": "code",
   "execution_count": 12,
   "id": "1d9f3b19",
   "metadata": {},
   "outputs": [
    {
     "name": "stdout",
     "output_type": "stream",
     "text": [
      "[1, 2, 3, 10, 11]\n"
     ]
    }
   ],
   "source": [
    "l=[1,2,3]\n",
    "l.extend([10,11])\n",
    "print(l)"
   ]
  },
  {
   "cell_type": "code",
   "execution_count": null,
   "id": "813a5f69",
   "metadata": {},
   "outputs": [],
   "source": []
  },
  {
   "cell_type": "code",
   "execution_count": null,
   "id": "0bc345e7",
   "metadata": {},
   "outputs": [],
   "source": [
    "                \"insert\""
   ]
  },
  {
   "cell_type": "code",
   "execution_count": 18,
   "id": "6cea3458",
   "metadata": {},
   "outputs": [
    {
     "name": "stdout",
     "output_type": "stream",
     "text": [
      "[1, 10, 2, 3]\n"
     ]
    }
   ],
   "source": [
    "l=[1,2,3]\n",
    "l.insert(1,10)    # 1=>index and 10=>inserting number\n",
    "print(l)"
   ]
  },
  {
   "cell_type": "code",
   "execution_count": null,
   "id": "453293e4",
   "metadata": {},
   "outputs": [],
   "source": []
  },
  {
   "cell_type": "code",
   "execution_count": null,
   "id": "21b7116e",
   "metadata": {},
   "outputs": [],
   "source": [
    "                \"remove\""
   ]
  },
  {
   "cell_type": "code",
   "execution_count": 3,
   "id": "f8c54eff",
   "metadata": {},
   "outputs": [
    {
     "data": {
      "text/plain": [
       "[1, 3, 4, 2, 2, 5]"
      ]
     },
     "execution_count": 3,
     "metadata": {},
     "output_type": "execute_result"
    }
   ],
   "source": [
    "l=[1,2,3,4,2,2,5]\n",
    "l.remove(2)   #2=>removing element not its index\n",
    "l"
   ]
  },
  {
   "cell_type": "code",
   "execution_count": null,
   "id": "ea24f494",
   "metadata": {},
   "outputs": [],
   "source": []
  },
  {
   "cell_type": "code",
   "execution_count": null,
   "id": "8af598c5",
   "metadata": {},
   "outputs": [],
   "source": [
    "                \"pop\" =>removes last element"
   ]
  },
  {
   "cell_type": "code",
   "execution_count": 22,
   "id": "eb9c810c",
   "metadata": {},
   "outputs": [
    {
     "data": {
      "text/plain": [
       "[1, 2]"
      ]
     },
     "execution_count": 22,
     "metadata": {},
     "output_type": "execute_result"
    }
   ],
   "source": [
    "l=[1,2,3]\n",
    "l.pop()\n",
    "l"
   ]
  },
  {
   "cell_type": "code",
   "execution_count": null,
   "id": "6f4e3f5e",
   "metadata": {},
   "outputs": [],
   "source": []
  },
  {
   "cell_type": "code",
   "execution_count": null,
   "id": "01431572",
   "metadata": {},
   "outputs": [],
   "source": [
    "                \"slice\""
   ]
  },
  {
   "cell_type": "code",
   "execution_count": 31,
   "id": "a646794c",
   "metadata": {},
   "outputs": [
    {
     "name": "stdout",
     "output_type": "stream",
     "text": [
      "[6, 8, 10]\n"
     ]
    }
   ],
   "source": [
    "l=[2,4,6,8,10,12,14,16]\n",
    "a=l[2:5]\n",
    "print(a)"
   ]
  },
  {
   "cell_type": "code",
   "execution_count": 37,
   "id": "0d899f7c",
   "metadata": {},
   "outputs": [
    {
     "name": "stdout",
     "output_type": "stream",
     "text": [
      "[6, 10, 14]\n"
     ]
    }
   ],
   "source": [
    "l=[2,4,6,8,10,12,14,16]\n",
    "a=l[2::2]\n",
    "print(a)"
   ]
  },
  {
   "cell_type": "code",
   "execution_count": 45,
   "id": "f1b567f1",
   "metadata": {},
   "outputs": [
    {
     "name": "stdout",
     "output_type": "stream",
     "text": [
      "[2, 8, 14]\n"
     ]
    }
   ],
   "source": [
    "l=[2,4,6,8,10,12,14,16]\n",
    "a = l[::3]\n",
    "print(a)"
   ]
  },
  {
   "cell_type": "code",
   "execution_count": null,
   "id": "3dfd9cf2",
   "metadata": {},
   "outputs": [],
   "source": []
  },
  {
   "cell_type": "code",
   "execution_count": null,
   "id": "598d48c5",
   "metadata": {},
   "outputs": [],
   "source": [
    "            \"reverse\""
   ]
  },
  {
   "cell_type": "code",
   "execution_count": 43,
   "id": "191002bc",
   "metadata": {},
   "outputs": [
    {
     "data": {
      "text/plain": [
       "[16, 14, 12, 10, 8, 6, 4, 2]"
      ]
     },
     "execution_count": 43,
     "metadata": {},
     "output_type": "execute_result"
    }
   ],
   "source": [
    "l=[2,4,6,8,10,12,14,16]\n",
    "l.reverse()\n",
    "l"
   ]
  },
  {
   "cell_type": "code",
   "execution_count": null,
   "id": "8dba0757",
   "metadata": {},
   "outputs": [],
   "source": []
  },
  {
   "cell_type": "code",
   "execution_count": null,
   "id": "b92cff1e",
   "metadata": {},
   "outputs": [],
   "source": [
    "            \"len\""
   ]
  },
  {
   "cell_type": "code",
   "execution_count": 46,
   "id": "97b5d68b",
   "metadata": {},
   "outputs": [
    {
     "name": "stdout",
     "output_type": "stream",
     "text": [
      "8\n"
     ]
    }
   ],
   "source": [
    "l=[2,4,6,8,10,12,14,16]\n",
    "a=len(l)\n",
    "print(a)"
   ]
  },
  {
   "cell_type": "code",
   "execution_count": null,
   "id": "4b358475",
   "metadata": {},
   "outputs": [],
   "source": []
  },
  {
   "cell_type": "code",
   "execution_count": null,
   "id": "c616f824",
   "metadata": {},
   "outputs": [],
   "source": [
    "            \"max\""
   ]
  },
  {
   "cell_type": "code",
   "execution_count": 47,
   "id": "ff751800",
   "metadata": {},
   "outputs": [
    {
     "name": "stdout",
     "output_type": "stream",
     "text": [
      "16\n"
     ]
    }
   ],
   "source": [
    "l=[2,4,6,8,10,12,14,16]\n",
    "a=max(l)\n",
    "print(a)"
   ]
  },
  {
   "cell_type": "code",
   "execution_count": null,
   "id": "084cbaa5",
   "metadata": {},
   "outputs": [],
   "source": []
  },
  {
   "cell_type": "code",
   "execution_count": null,
   "id": "ad75fcf8",
   "metadata": {},
   "outputs": [],
   "source": [
    "            \"min\""
   ]
  },
  {
   "cell_type": "code",
   "execution_count": 50,
   "id": "6e28d170",
   "metadata": {},
   "outputs": [
    {
     "name": "stdout",
     "output_type": "stream",
     "text": [
      "2\n"
     ]
    }
   ],
   "source": [
    "l=[2,4,6,8,10,12,14,16]\n",
    "a=min(l)\n",
    "print(a)"
   ]
  },
  {
   "cell_type": "code",
   "execution_count": null,
   "id": "59a6c996",
   "metadata": {},
   "outputs": [],
   "source": []
  },
  {
   "cell_type": "code",
   "execution_count": null,
   "id": "6aea77a0",
   "metadata": {},
   "outputs": [],
   "source": [
    "            \"count\""
   ]
  },
  {
   "cell_type": "code",
   "execution_count": 52,
   "id": "31f061f8",
   "metadata": {},
   "outputs": [
    {
     "name": "stdout",
     "output_type": "stream",
     "text": [
      "4\n"
     ]
    }
   ],
   "source": [
    "l=[2,2,2,4,2,6,8,10,12,14,16]\n",
    "a=l.count(2)\n",
    "print(a)"
   ]
  },
  {
   "cell_type": "code",
   "execution_count": null,
   "id": "b8208eeb",
   "metadata": {},
   "outputs": [],
   "source": []
  },
  {
   "cell_type": "code",
   "execution_count": null,
   "id": "d78948d4",
   "metadata": {},
   "outputs": [],
   "source": [
    "            \"Concatenate\""
   ]
  },
  {
   "cell_type": "code",
   "execution_count": 53,
   "id": "128a4d30",
   "metadata": {},
   "outputs": [
    {
     "name": "stdout",
     "output_type": "stream",
     "text": [
      "[2, 4, 6, 8, 10, 12, 14, 16]\n"
     ]
    }
   ],
   "source": [
    "l=[2,4,6,8]\n",
    "l1=[10,12,14,16]\n",
    "a=l+l1\n",
    "print(a)"
   ]
  },
  {
   "cell_type": "code",
   "execution_count": null,
   "id": "e85a72db",
   "metadata": {},
   "outputs": [],
   "source": []
  },
  {
   "cell_type": "code",
   "execution_count": null,
   "id": "0626b652",
   "metadata": {},
   "outputs": [],
   "source": [
    "            \"multiply=> prints list 3 times\""
   ]
  },
  {
   "cell_type": "code",
   "execution_count": 54,
   "id": "a254725f",
   "metadata": {},
   "outputs": [
    {
     "name": "stdout",
     "output_type": "stream",
     "text": [
      "[2, 4, 6, 8, 10, 12, 14, 16, 2, 4, 6, 8, 10, 12, 14, 16, 2, 4, 6, 8, 10, 12, 14, 16]\n"
     ]
    }
   ],
   "source": [
    "l=[2,4,6,8,10,12,14,16]\n",
    "a=l*3\n",
    "print(a)"
   ]
  },
  {
   "cell_type": "code",
   "execution_count": null,
   "id": "e7631e89",
   "metadata": {},
   "outputs": [],
   "source": []
  },
  {
   "cell_type": "code",
   "execution_count": null,
   "id": "644c4ac9",
   "metadata": {},
   "outputs": [],
   "source": [
    "            \"Index\""
   ]
  },
  {
   "cell_type": "code",
   "execution_count": 1,
   "id": "ac9cd6c9",
   "metadata": {},
   "outputs": [
    {
     "name": "stdout",
     "output_type": "stream",
     "text": [
      "2\n"
     ]
    }
   ],
   "source": [
    "l=[2,4,6,8,6,10,12,14,16]\n",
    "a=l.index(6)\n",
    "print(a)"
   ]
  },
  {
   "cell_type": "code",
   "execution_count": null,
   "id": "22edff02",
   "metadata": {},
   "outputs": [],
   "source": []
  },
  {
   "cell_type": "code",
   "execution_count": null,
   "id": "9adb35fe",
   "metadata": {},
   "outputs": [],
   "source": [
    "            \"sort\""
   ]
  },
  {
   "cell_type": "code",
   "execution_count": 57,
   "id": "ed147087",
   "metadata": {},
   "outputs": [
    {
     "name": "stdout",
     "output_type": "stream",
     "text": [
      "[2, 4, 6, 8, 10, 12, 14, 16]\n"
     ]
    }
   ],
   "source": [
    "l=[16, 14, 12, 10, 8, 6, 4, 2]\n",
    "l.sort()\n",
    "print(l)"
   ]
  },
  {
   "cell_type": "code",
   "execution_count": null,
   "id": "26b606a0",
   "metadata": {},
   "outputs": [],
   "source": []
  },
  {
   "cell_type": "code",
   "execution_count": null,
   "id": "347883f3",
   "metadata": {},
   "outputs": [],
   "source": [
    "            \"clear\""
   ]
  },
  {
   "cell_type": "code",
   "execution_count": 59,
   "id": "b5db8aec",
   "metadata": {},
   "outputs": [
    {
     "data": {
      "text/plain": [
       "[]"
      ]
     },
     "execution_count": 59,
     "metadata": {},
     "output_type": "execute_result"
    }
   ],
   "source": [
    "l=[16, 14, 12, 10, 8, 6, 4, 2]\n",
    "l.clear()\n",
    "l"
   ]
  },
  {
   "cell_type": "code",
   "execution_count": null,
   "id": "8ed7c236",
   "metadata": {},
   "outputs": [],
   "source": []
  },
  {
   "cell_type": "code",
   "execution_count": null,
   "id": "e543827f",
   "metadata": {},
   "outputs": [],
   "source": [
    "            \"accessing list\""
   ]
  },
  {
   "cell_type": "code",
   "execution_count": 61,
   "id": "1cd676fe",
   "metadata": {},
   "outputs": [
    {
     "name": "stdout",
     "output_type": "stream",
     "text": [
      "4\n"
     ]
    }
   ],
   "source": [
    "l=[2,4,6,8,10,12,14,16]\n",
    "\n",
    "print(l[1])"
   ]
  },
  {
   "cell_type": "code",
   "execution_count": null,
   "id": "6cb4ff87",
   "metadata": {},
   "outputs": [],
   "source": []
  },
  {
   "cell_type": "code",
   "execution_count": null,
   "id": "2a47e76c",
   "metadata": {},
   "outputs": [],
   "source": [
    "            \"-ve indexing\""
   ]
  },
  {
   "cell_type": "code",
   "execution_count": 62,
   "id": "78c80508",
   "metadata": {},
   "outputs": [
    {
     "name": "stdout",
     "output_type": "stream",
     "text": [
      "16\n"
     ]
    }
   ],
   "source": [
    "l=[2,4,6,8,10,12,14,16]\n",
    "\n",
    "print(l[-1])"
   ]
  },
  {
   "cell_type": "code",
   "execution_count": null,
   "id": "17d0f995",
   "metadata": {},
   "outputs": [],
   "source": []
  },
  {
   "cell_type": "code",
   "execution_count": null,
   "id": "05dc4775",
   "metadata": {},
   "outputs": [],
   "source": [
    "            \"list comprehension\""
   ]
  },
  {
   "cell_type": "code",
   "execution_count": 63,
   "id": "0d8019e5",
   "metadata": {},
   "outputs": [
    {
     "name": "stdout",
     "output_type": "stream",
     "text": [
      "[6, 12, 18, 24, 30, 36, 42, 48]\n"
     ]
    }
   ],
   "source": [
    "l=[2,4,6,8,10,12,14,16]\n",
    "a = [i*3 for i in l]\n",
    "print(a)"
   ]
  },
  {
   "cell_type": "code",
   "execution_count": null,
   "id": "01c28cbb",
   "metadata": {},
   "outputs": [],
   "source": []
  }
 ],
 "metadata": {
  "kernelspec": {
   "display_name": "Python 3 (ipykernel)",
   "language": "python",
   "name": "python3"
  },
  "language_info": {
   "codemirror_mode": {
    "name": "ipython",
    "version": 3
   },
   "file_extension": ".py",
   "mimetype": "text/x-python",
   "name": "python",
   "nbconvert_exporter": "python",
   "pygments_lexer": "ipython3",
   "version": "3.9.7"
  }
 },
 "nbformat": 4,
 "nbformat_minor": 5
}
