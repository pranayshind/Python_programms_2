{
 "cells": [
  {
   "cell_type": "code",
   "execution_count": null,
   "id": "b2a804d4",
   "metadata": {},
   "outputs": [],
   "source": [
    "                                    '''Strings Questions'''\n",
    " "
   ]
  },
  {
   "cell_type": "code",
   "execution_count": null,
   "id": "36fac13c",
   "metadata": {},
   "outputs": [],
   "source": [
    "##1)count of vowels, consonants,digits, specialcharactes"
   ]
  },
  {
   "cell_type": "code",
   "execution_count": 18,
   "id": "ee6809f2",
   "metadata": {},
   "outputs": [
    {
     "name": "stdout",
     "output_type": "stream",
     "text": [
      " A1 B@ d  adc\n",
      "count of vowels: 2 \n",
      " count of consonants: 4 \n",
      " count of digits: 1 \n",
      " count of special characters: 6\n"
     ]
    }
   ],
   "source": [
    "def counting(string):\n",
    "    l1 = []\n",
    "    l2 = []\n",
    "    l3 = []\n",
    "    l4 = []\n",
    "    lower_string = string.lower()\n",
    "    for i in lower_string:\n",
    "        if i==\"a\" or i==\"e\" or i==\"i\" or i==\"o\" or i==\"u\":\n",
    "            l1.append(i)\n",
    "        elif i.isalpha() and i not in [l1]:\n",
    "            l2.append(i)\n",
    "        elif i.isdigit():\n",
    "            l3.append(i)\n",
    "        else:\n",
    "            l4.append(i)\n",
    "            \n",
    "    return f\"count of vowels: {len(l1)} \\n count of consonants: {len(l2)} \\n count of digits: {len(l3)} \\n count of special characters: {len(l4)}\"\n",
    "    \n",
    "string1 = input()\n",
    "print(counting(string1))\n"
   ]
  },
  {
   "cell_type": "code",
   "execution_count": 17,
   "id": "1574f4cc",
   "metadata": {},
   "outputs": [
    {
     "name": "stdout",
     "output_type": "stream",
     "text": [
      " A1 B@ d  adc\n",
      "count of vowels: 2 \n",
      " count of consonants: 4 \n",
      " count of digits: 1 \n",
      " count of special characters: 6\n"
     ]
    }
   ],
   "source": [
    "#other approach\n",
    "def counting(string):\n",
    "    vowels = \"aeiou\"\n",
    "    vowels_count = 0\n",
    "    consonants_count = 0\n",
    "    digits_count = 0\n",
    "    special_characters_count = 0\n",
    "    for i in string:\n",
    "        if i.lower() in vowels:\n",
    "            vowels_count += 1\n",
    "        elif i.isalpha():\n",
    "            consonants_count += 1\n",
    "        elif i.isdigit():\n",
    "            digits_count += 1\n",
    "        else:\n",
    "            special_characters_count += 1\n",
    "            \n",
    "    return f\"count of vowels: {vowels_count} \\n count of consonants: {consonants_count} \\n count of digits: {digits_count} \\n count of special characters: {special_characters_count}\"\n",
    "    \n",
    "string1 = input()\n",
    "print(counting(string1))\n",
    "\n",
    "\n",
    "    \n",
    "            "
   ]
  },
  {
   "cell_type": "code",
   "execution_count": null,
   "id": "ce3e6e95",
   "metadata": {},
   "outputs": [],
   "source": [
    "#2)pallindrome"
   ]
  },
  {
   "cell_type": "code",
   "execution_count": null,
   "id": "63823e5c",
   "metadata": {},
   "outputs": [],
   "source": [
    "\n",
    "def is_palindrome(string):\n",
    "    length = len(string)\n",
    "    middle = length // 2     # 5//2 = 2\n",
    "    if string[:middle] == string[:-middle-1:-1]:  \n",
    "        return 1\n",
    "    else:\n",
    "        return 0\n",
    "'''This is because if the length of the string is odd, the second slice of the string should exclude the middle character. \n",
    "And if the length of the string is even, the second slice of the string should start from the last character and move backwards\n",
    "to the middle character, so that both slices are equal when the string is a palindrome.'''\n",
    "string1 = input()\n",
    "print(is_palindrome(string1))"
   ]
  },
  {
   "cell_type": "code",
   "execution_count": 8,
   "id": "64767c4c",
   "metadata": {},
   "outputs": [
    {
     "name": "stdout",
     "output_type": "stream",
     "text": [
      "yan\n"
     ]
    }
   ],
   "source": [
    "\n",
    "#explaination of (string[:middle:-1]\n",
    "string = \"prabnay\"\n",
    "length = len(string)\n",
    "middle = length // 2 \n",
    "print(string[:middle:-1])"
   ]
  },
  {
   "cell_type": "code",
   "execution_count": 41,
   "id": "54d25ddf",
   "metadata": {},
   "outputs": [
    {
     "name": "stdout",
     "output_type": "stream",
     "text": [
      "hcbj ae n\n",
      "hcbj  n\n"
     ]
    }
   ],
   "source": [
    "#3) remove vowels from string\n",
    "\n",
    "def vowels_remove(string):\n",
    "    vowels = \"aeiou\"\n",
    "    l = []\n",
    "    \n",
    "    for i in string:\n",
    "        l.append(i)\n",
    "        \n",
    "        for j in l:\n",
    "            if j in vowels:\n",
    "                l.remove(j)\n",
    "            else:\n",
    "                l\n",
    "    return \"\".join(l)\n",
    "        \n",
    "        \n",
    "string1 = input()\n",
    "print(vowels_remove(string1))\n",
    "        \n"
   ]
  },
  {
   "cell_type": "code",
   "execution_count": 34,
   "id": "e66bd8a6",
   "metadata": {},
   "outputs": [
    {
     "data": {
      "text/plain": [
       "['n', 'v', 'j', 's']"
      ]
     },
     "execution_count": 34,
     "metadata": {},
     "output_type": "execute_result"
    }
   ],
   "source": [
    "#explaination\n",
    "string = \"nvjs\"\n",
    "l=[]\n",
    "for i in string:\n",
    "    l.append(i)\n",
    "l"
   ]
  },
  {
   "cell_type": "code",
   "execution_count": 42,
   "id": "70d7bcbe",
   "metadata": {},
   "outputs": [
    {
     "name": "stdout",
     "output_type": "stream",
     "text": [
      "cvsgjd bbs kkb nn\n",
      "cvsgjdbbskkbnn\n"
     ]
    }
   ],
   "source": [
    "#4) reove space\n",
    "def remove_space(string):\n",
    "    l=[]\n",
    "    for i in string:\n",
    "        l.append(i)\n",
    "        \n",
    "        for j in l:\n",
    "            if j==\" \":\n",
    "                l.remove(\" \")\n",
    "            else:\n",
    "                l\n",
    "    return \"\".join(l)\n",
    "string1 = input()\n",
    "print(remove_space(string1))"
   ]
  },
  {
   "cell_type": "code",
   "execution_count": 2,
   "id": "78148c03",
   "metadata": {},
   "outputs": [
    {
     "name": "stdout",
     "output_type": "stream",
     "text": [
      "computer\n",
      "cat\n",
      "ompuer\n"
     ]
    }
   ],
   "source": [
    "#5) remove character from string1 if that character present in string2\n",
    "def remove_char(string1, string2):\n",
    "    l1 = []\n",
    "    for i in string1:\n",
    "        if i not in string2:\n",
    "            l1.append(i)\n",
    "    return \"\".join(l1)\n",
    "\n",
    "string1 = input()\n",
    "string2 = input()\n",
    "print(remove_char(string1, string2))\n"
   ]
  },
  {
   "cell_type": "code",
   "execution_count": 31,
   "id": "b7c80ad7",
   "metadata": {},
   "outputs": [
    {
     "name": "stdout",
     "output_type": "stream",
     "text": [
      "vvsvcyus@$^&151\n",
      "vvsvcyus\n"
     ]
    }
   ],
   "source": [
    "#6)remove all characters other than alphabets from string\n",
    "def removeSpecialCharacter(s):\n",
    "    result = \"\"\n",
    "    for char in s:\n",
    "        if char.isalpha():\n",
    "            result += char\n",
    "    if result:\n",
    "        return result\n",
    "    else:\n",
    "        return \"-1\"\n",
    "    \n",
    "\n",
    "string1 = input()\n",
    "print(removeSpecialCharacter(string1))\n"
   ]
  },
  {
   "cell_type": "code",
   "execution_count": 33,
   "id": "840ceb6b",
   "metadata": {},
   "outputs": [
    {
     "name": "stdout",
     "output_type": "stream",
     "text": [
      "jfbf\n",
      "fbfj\n"
     ]
    }
   ],
   "source": [
    "#7) reverse string\n",
    "def reverse_str(string):\n",
    "    l = []\n",
    "    for i in string:\n",
    "        l.append(i)\n",
    "    l.reverse()   \n",
    "    return \"\".join(l)\n",
    "\n",
    "string1 = input()\n",
    "print(reverse_str(string1))\n",
    "\n",
    "\n",
    "\n",
    "    "
   ]
  },
  {
   "cell_type": "code",
   "execution_count": 14,
   "id": "5de8aba9",
   "metadata": {},
   "outputs": [
    {
     "name": "stdout",
     "output_type": "stream",
     "text": [
      "chbh54\n",
      "9\n"
     ]
    }
   ],
   "source": [
    "#8)Given a string str containing alphanumeric characters. The task is to calculate the sum of all the numbers present in the string.\n",
    "\n",
    "def sum_of_digit_in_string(string):\n",
    "    count = 0\n",
    "    for i in string:\n",
    "        if i.isdigit():\n",
    "            count+=int(i) \n",
    "    return count\n",
    "\n",
    "string = input()\n",
    "print(sum_of_digit_in_string(string))"
   ]
  },
  {
   "cell_type": "code",
   "execution_count": 22,
   "id": "9453a826",
   "metadata": {},
   "outputs": [
    {
     "name": "stdout",
     "output_type": "stream",
     "text": [
      "12abc20yz68\n",
      "19\n"
     ]
    }
   ],
   "source": [
    "#9)Given a string str containing alphanumeric characters. The task is to calculate the sum of all the numbers present in the strin\n",
    "'''Input:  1abc23\n",
    "Output: 24\n",
    "Explanation: 1 + 23 = 24\n",
    "\n",
    "Input:  geeks4geeks\n",
    "Output: 4\n",
    "\n",
    "Input:  1abc2x30yz67\n",
    "Output: 100'''\n",
    "\n",
    "def sum_string(string):\n",
    "    count=\"0\"\n",
    "    count1=0\n",
    "    for i in string:\n",
    "        if i.isdigit():\n",
    "            count = count + i\n",
    "        else:\n",
    "            count1= count1 + int(count1)\n",
    "            \n",
    "            count = \"0\"\n",
    "    \n",
    "    return count1 + int(count)\n",
    "\n",
    "string1 = input()\n",
    "print(sum_of_digit_in_string(string1))\n",
    "            \n",
    "            \n",
    "            "
   ]
  },
  {
   "cell_type": "code",
   "execution_count": 18,
   "id": "f36d874a",
   "metadata": {},
   "outputs": [
    {
     "name": "stdout",
     "output_type": "stream",
     "text": [
      "12abc20yz68\n",
      "100\n"
     ]
    }
   ],
   "source": [
    "# Python3 program to calculate sum of\n",
    "# all numbers present in a string\n",
    "# containing alphanumeric characters\n",
    "\n",
    "# Function to calculate sum of all\n",
    "# numbers present in a string\n",
    "# containing alphanumeric characters\n",
    "\n",
    "\n",
    "def findSum(str1):\n",
    "\n",
    "\t# A temporary string\n",
    "\ttemp = \"0\"\n",
    "\n",
    "\t# holds sum of all numbers\n",
    "\t# present in the string\n",
    "\tSum = 0\n",
    "\n",
    "\t# read each character in input string\n",
    "\tfor ch in str1:\n",
    "\n",
    "\t\t# if current character is a digit\n",
    "\t\tif (ch.isdigit()):\n",
    "\t\t\ttemp += ch\n",
    "\n",
    "\t\t# if current character is an alphabet\n",
    "\t\telse:\n",
    "\n",
    "\t\t\t# increment Sum by number found\n",
    "\t\t\t# earlier(if any)\n",
    "\t\t\tSum += int(temp)\n",
    "\n",
    "\t\t\t# reset temporary string to empty\n",
    "\t\t\ttemp = \"0\"\n",
    "\n",
    "\t# atoi(temp.c_str1()) takes care\n",
    "\t# of trailing numbers\n",
    "\treturn Sum + int(temp)\n",
    "\n",
    "# Driver code\n",
    "\n",
    "\n",
    "# input alphanumeric string\n",
    "str1 = input()\n",
    "\n",
    "# Function call\n",
    "print(findSum(str1))\n",
    "\n",
    "# This code is contributed\n",
    "# by mohit kumar\n"
   ]
  },
  {
   "cell_type": "code",
   "execution_count": null,
   "id": "23c5a581",
   "metadata": {},
   "outputs": [],
   "source": []
  }
 ],
 "metadata": {
  "kernelspec": {
   "display_name": "Python 3 (ipykernel)",
   "language": "python",
   "name": "python3"
  },
  "language_info": {
   "codemirror_mode": {
    "name": "ipython",
    "version": 3
   },
   "file_extension": ".py",
   "mimetype": "text/x-python",
   "name": "python",
   "nbconvert_exporter": "python",
   "pygments_lexer": "ipython3",
   "version": "3.9.7"
  }
 },
 "nbformat": 4,
 "nbformat_minor": 5
}
