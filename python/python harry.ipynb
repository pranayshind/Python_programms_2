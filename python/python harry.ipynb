{
 "cells": [
  {
   "cell_type": "markdown",
   "id": "6fcc9f3a",
   "metadata": {},
   "source": [
    "###                     #python\n"
   ]
  },
  {
   "cell_type": "code",
   "execution_count": 2,
   "id": "ea1d47db",
   "metadata": {},
   "outputs": [
    {
     "name": "stdout",
     "output_type": "stream",
     "text": [
      "sum of a and b: 11\n"
     ]
    }
   ],
   "source": [
    "#1sum of 2 numbers\n",
    "a=5\n",
    "b=6\n",
    "print(\"sum of a and b:\", a+b)"
   ]
  },
  {
   "cell_type": "code",
   "execution_count": 3,
   "id": "3dd4fd58",
   "metadata": {},
   "outputs": [
    {
     "name": "stdout",
     "output_type": "stream",
     "text": [
      "remainder of a and b: 1\n"
     ]
    }
   ],
   "source": [
    "#2find remainder\n",
    "a=9\n",
    "b=2\n",
    "print(\"remainder of a and b:\", a%b)\n"
   ]
  },
  {
   "cell_type": "code",
   "execution_count": 4,
   "id": "e552f3f9",
   "metadata": {},
   "outputs": [
    {
     "data": {
      "text/plain": [
       "False"
      ]
     },
     "execution_count": 4,
     "metadata": {},
     "output_type": "execute_result"
    }
   ],
   "source": [
    "#3use comparison operator\n",
    "a=15\n",
    "b=16\n",
    "a>b\n"
   ]
  },
  {
   "cell_type": "code",
   "execution_count": 5,
   "id": "c04491af",
   "metadata": {},
   "outputs": [
    {
     "name": "stdout",
     "output_type": "stream",
     "text": [
      "enetr first number:5\n",
      "enter second number:10\n",
      "average of 2 numbers is 7.5\n"
     ]
    }
   ],
   "source": [
    "#4avg of 2 numbers\n",
    "a=input(\"enetr first number:\")\n",
    "a=int(a)\n",
    "b=input(\"enter second number:\")\n",
    "b=int(b)\n",
    "avg=(a+b)/2\n",
    "print(\"average of 2 numbers is\",avg)"
   ]
  },
  {
   "cell_type": "code",
   "execution_count": 6,
   "id": "f3c34507",
   "metadata": {},
   "outputs": [
    {
     "name": "stdout",
     "output_type": "stream",
     "text": [
      "enter number15\n",
      "15\n",
      "<class 'str'>\n"
     ]
    }
   ],
   "source": [
    "#5find class of vaiable\n",
    "a=input(\"enter number\")\n",
    "print(a)\n",
    "print(type(a))"
   ]
  },
  {
   "cell_type": "code",
   "execution_count": 7,
   "id": "499a3678",
   "metadata": {},
   "outputs": [
    {
     "name": "stdout",
     "output_type": "stream",
     "text": [
      "<class 'int'>\n"
     ]
    }
   ],
   "source": [
    "a=int(a)\n",
    "print(type(a))\n"
   ]
  },
  {
   "cell_type": "code",
   "execution_count": 9,
   "id": "abf55aba",
   "metadata": {},
   "outputs": [
    {
     "name": "stdout",
     "output_type": "stream",
     "text": [
      "enter a number:5\n",
      "square of a: 25\n"
     ]
    }
   ],
   "source": [
    "#6square of number\n",
    "a=input(\"enter a number:\")\n",
    "a=int(a)\n",
    "sqr=a**2\n",
    "print(\"square of a:\",sqr)"
   ]
  },
  {
   "cell_type": "code",
   "execution_count": 10,
   "id": "24be3d6a",
   "metadata": {},
   "outputs": [
    {
     "name": "stdout",
     "output_type": "stream",
     "text": [
      "enter a number:2\n",
      "cube of a: 8\n"
     ]
    }
   ],
   "source": [
    "#cube of number\n",
    "a=input(\"enter a number:\")\n",
    "a=int(a)\n",
    "cube=a**3\n",
    "print(\"cube of a:\",cube)"
   ]
  },
  {
   "cell_type": "code",
   "execution_count": 14,
   "id": "05d7eee4",
   "metadata": {},
   "outputs": [
    {
     "name": "stdout",
     "output_type": "stream",
     "text": [
      "pranayshinde\n"
     ]
    }
   ],
   "source": [
    "#concatening 2 strings \n",
    "a=\"pranay\"\n",
    "b=\"shinde\"\n",
    "c=a+b\n",
    "print(c)"
   ]
  },
  {
   "cell_type": "code",
   "execution_count": 4,
   "id": "102b8417",
   "metadata": {},
   "outputs": [
    {
     "name": "stdout",
     "output_type": "stream",
     "text": [
      "ana\n"
     ]
    }
   ],
   "source": [
    "#string slicing\n",
    "a='pranay'    #p=0,r=1,a=2,.....or  y=-1,a=-2,n=-3,....\n",
    "print(a[-4:-1])"
   ]
  },
  {
   "cell_type": "code",
   "execution_count": 7,
   "id": "012ea391",
   "metadata": {},
   "outputs": [
    {
     "name": "stdout",
     "output_type": "stream",
     "text": [
      "pnresn\n"
     ]
    }
   ],
   "source": [
    "#slicing with skip value\n",
    "a='pranayrameshshinde'\n",
    "b=a[0::3]\n",
    "print(b)"
   ]
  },
  {
   "cell_type": "code",
   "execution_count": 1,
   "id": "f17378c3",
   "metadata": {},
   "outputs": [
    {
     "name": "stdout",
     "output_type": "stream",
     "text": [
      "20\n"
     ]
    }
   ],
   "source": [
    "#string functions\n",
    "#1)len()\n",
    "a=\"pranay Ramesh Shinde\"\n",
    "print(len(a))"
   ]
  },
  {
   "cell_type": "code",
   "execution_count": 5,
   "id": "8f70d849",
   "metadata": {},
   "outputs": [
    {
     "name": "stdout",
     "output_type": "stream",
     "text": [
      "True\n"
     ]
    }
   ],
   "source": [
    "#2)endswith()\n",
    "print(a.endswith(\"de\"))"
   ]
  },
  {
   "cell_type": "code",
   "execution_count": 7,
   "id": "5136d948",
   "metadata": {},
   "outputs": [
    {
     "name": "stdout",
     "output_type": "stream",
     "text": [
      "3\n"
     ]
    }
   ],
   "source": [
    "#3)count()\n",
    "print(a.count(\"a\"))"
   ]
  },
  {
   "cell_type": "code",
   "execution_count": 9,
   "id": "840cb6f4",
   "metadata": {},
   "outputs": [
    {
     "name": "stdout",
     "output_type": "stream",
     "text": [
      "Pranay ramesh shinde\n"
     ]
    }
   ],
   "source": [
    "#4)capitalize()\n",
    "print(a.capitalize())"
   ]
  },
  {
   "cell_type": "code",
   "execution_count": 11,
   "id": "a3ea599d",
   "metadata": {},
   "outputs": [
    {
     "name": "stdout",
     "output_type": "stream",
     "text": [
      "1\n"
     ]
    }
   ],
   "source": [
    "#5)find()\n",
    "print(a.find(\"r\"))"
   ]
  },
  {
   "cell_type": "code",
   "execution_count": 12,
   "id": "eecd3b4c",
   "metadata": {},
   "outputs": [
    {
     "name": "stdout",
     "output_type": "stream",
     "text": [
      "pranay Rajashree Shinde\n"
     ]
    }
   ],
   "source": [
    "#6)replace()\n",
    "print(a.replace(\"Ramesh\",\"Rajashree\"))"
   ]
  },
  {
   "cell_type": "code",
   "execution_count": 18,
   "id": "b86740ca",
   "metadata": {},
   "outputs": [
    {
     "name": "stdout",
     "output_type": "stream",
     "text": [
      "pranay ramesh Shinde.\n",
      "studying \tEngineering \n",
      "like's cricket\\football\n"
     ]
    }
   ],
   "source": [
    "#escape Sequence Characters\n",
    "a=\"pranay ramesh Shinde.\\nstudying \\tEngineering \\nlike\\'s cricket\\\\football\"\n",
    "print(a)"
   ]
  },
  {
   "cell_type": "code",
   "execution_count": 3,
   "id": "eb8472a3",
   "metadata": {},
   "outputs": [
    {
     "name": "stdout",
     "output_type": "stream",
     "text": [
      "enter your name\n",
      "pranay\n",
      "Good morning, pranay\n"
     ]
    }
   ],
   "source": [
    "#7display user enter name followed by good morning \n",
    "a=input(\"enter your name\\n\")\n",
    "print(\"Good morning,\",a)   #or print(\"Good morning, \" +a)"
   ]
  },
  {
   "cell_type": "code",
   "execution_count": 32,
   "id": "b146c805",
   "metadata": {},
   "outputs": [
    {
     "name": "stdout",
     "output_type": "stream",
     "text": [
      "enter your name\n",
      "Pranay\n",
      "enter date31-07-2022\n",
      "'Dear Pranay,\n",
      "Greetings from ABC coding house.Iam happy to tell you about your selection\n",
      "You are selected!\n",
      "Haveagreat day ahead!\n",
      "Thanks and regards,\n",
      "Bill\n",
      "Date:31-07-2022\n"
     ]
    }
   ],
   "source": [
    "#8 To fill letter template or custmize letter\n",
    "letter=''''Dear <|NAME|>,\n",
    "Greetings from ABC coding house.Iam happy to tell you about your selection\n",
    "You are selected!\n",
    "Haveagreat day ahead!\n",
    "Thanks and regards,\n",
    "Bill\n",
    "Date:<|DATE|>'''\n",
    "a=input(\"enter your name\\n\")\n",
    "b=input(\"enter date\")\n",
    "letter=letter.replace(\"<|NAME|>\",a)\n",
    "letter=letter.replace(\"<|DATE|>\",b)\n",
    "print(letter)"
   ]
  },
  {
   "cell_type": "code",
   "execution_count": 44,
   "id": "c475c753",
   "metadata": {},
   "outputs": [
    {
     "name": "stdout",
     "output_type": "stream",
     "text": [
      "6\n"
     ]
    }
   ],
   "source": [
    "#9 TO detect duouble spaces and replace it with single space\n",
    "a=\"pranay  Shinde\"\n",
    "b=a.find(\"  \")\n",
    "print(b)"
   ]
  },
  {
   "cell_type": "code",
   "execution_count": 45,
   "id": "9564e352",
   "metadata": {},
   "outputs": [
    {
     "name": "stdout",
     "output_type": "stream",
     "text": [
      "pranay Shinde\n"
     ]
    }
   ],
   "source": [
    "a=\"pranay  Shinde\"\n",
    "a=a.replace(\"  \",\" \")\n",
    "print(a)"
   ]
  },
  {
   "cell_type": "code",
   "execution_count": 46,
   "id": "cd864449",
   "metadata": {},
   "outputs": [
    {
     "name": "stdout",
     "output_type": "stream",
     "text": [
      "['.cfx', '.conda', '.condarc', '.continuum', '.cxlayout.ini', '.flrecent', '.fluentconf', '.ipynb_checkpoints', '.ipython', '.jupyter', '.matplotlib', '3D Objects', 'anaconda3', 'AppData', 'AppDat_STEP_R.log', 'Application Data', 'Contacts', 'Cookies', 'Desktop', 'Documents', 'Downloads', 'Favorites', 'file.avi', 'file.db', 'file.dbb', 'file.DSP', 'file.esav', 'file.ldhi', 'file.mntr', 'file.mode', 'file.rdb', 'file.rst', 'file0.err', 'file0.esav', 'file0.full', 'file0.log', 'file0.mode', 'file0.r001', 'file0.rst', 'file0.stat', 'file1.err', 'file1.esav', 'file1.full', 'file1.mode', 'file1.out', 'file1.r001', 'file1.rst', 'IntelGraphicsProfiles', 'Links', 'Local Settings', 'Music', 'My Documents', 'NetHood', 'NTUSER.DAT', 'ntuser.dat.LOG1', 'ntuser.dat.LOG2', 'NTUSER.DAT{1c2b59c6-c5f5-11eb-bacb-000d3a96488e}.TM.blf', 'NTUSER.DAT{1c2b59c6-c5f5-11eb-bacb-000d3a96488e}.TMContainer00000000000000000001.regtrans-ms', 'NTUSER.DAT{1c2b59c6-c5f5-11eb-bacb-000d3a96488e}.TMContainer00000000000000000002.regtrans-ms', 'ntuser.ini', 'OneDrive', 'Pictures', 'PrintHood', 'python harry.ipynb', 'Recent', 'Saved Games', 'Searches', 'SendTo', 'Start Menu', 'Templates', 'Untitled.ipynb', 'Untitled1.ipynb', 'Videos']\n"
     ]
    }
   ],
   "source": [
    "# examples of module \n",
    "import os\n",
    "print(os.listdir())  #give name of folder"
   ]
  },
  {
   "cell_type": "code",
   "execution_count": 3,
   "id": "0eee17cc",
   "metadata": {},
   "outputs": [
    {
     "name": "stdout",
     "output_type": "stream",
     "text": [
      "['pranay', 'apple', 7, True, 8.5]\n"
     ]
    }
   ],
   "source": [
    "#lists \n",
    "a=[\"pranay\",\"apple\",7,True,8.5]\n",
    "print(a)"
   ]
  },
  {
   "cell_type": "code",
   "execution_count": 6,
   "id": "aa3a62bd",
   "metadata": {},
   "outputs": [
    {
     "name": "stdout",
     "output_type": "stream",
     "text": [
      "[5, 15, 40, 2, 1, 3]\n",
      "[1, 2, 3, 5, 15, 40]\n"
     ]
    }
   ],
   "source": [
    "#methods of lists\n",
    "#sort\n",
    "a=[5,15,40,2,1,3]\n",
    "print(a)\n",
    "a.sort()\n",
    "print(a)\n"
   ]
  },
  {
   "cell_type": "code",
   "execution_count": 7,
   "id": "d6296a56",
   "metadata": {},
   "outputs": [
    {
     "name": "stdout",
     "output_type": "stream",
     "text": [
      "[3, 1, 2, 40, 15, 5]\n"
     ]
    }
   ],
   "source": [
    "#reverse\n",
    "a=[5,15,40,2,1,3]\n",
    "a.reverse()\n",
    "print(a)\n"
   ]
  },
  {
   "cell_type": "code",
   "execution_count": 9,
   "id": "db205efc",
   "metadata": {},
   "outputs": [
    {
     "name": "stdout",
     "output_type": "stream",
     "text": [
      "[5, 15, 40, 2, 1, 3, 50]\n"
     ]
    }
   ],
   "source": [
    "#append\n",
    "a=[5,15,40,2,1,3]\n",
    "a.append(50)\n",
    "print(a)"
   ]
  },
  {
   "cell_type": "code",
   "execution_count": 10,
   "id": "6b1b1435",
   "metadata": {},
   "outputs": [
    {
     "name": "stdout",
     "output_type": "stream",
     "text": [
      "[10, 5, 15, 40, 2, 1, 3]\n"
     ]
    }
   ],
   "source": [
    "#insert\n",
    "a=[5,15,40,2,1,3]\n",
    "a.insert(0,10)\n",
    "print(a)"
   ]
  },
  {
   "cell_type": "code",
   "execution_count": 8,
   "id": "b8837902",
   "metadata": {},
   "outputs": [
    {
     "name": "stdout",
     "output_type": "stream",
     "text": [
      "[15, 40, 2, 1, 3]\n"
     ]
    }
   ],
   "source": [
    "#pop\n",
    "a=[5,15,40,2,1,3]\n",
    "a.pop(0)\n",
    "print(a)"
   ]
  },
  {
   "cell_type": "code",
   "execution_count": 5,
   "id": "4d248304",
   "metadata": {},
   "outputs": [
    {
     "name": "stdout",
     "output_type": "stream",
     "text": [
      "[5, 40, 2, 1, 3]\n"
     ]
    }
   ],
   "source": [
    "#remove\n",
    "a=[5,15,40,2,1,3]\n",
    "a.remove(15)\n",
    "print(a)"
   ]
  },
  {
   "cell_type": "code",
   "execution_count": null,
   "id": "c3c4e378",
   "metadata": {},
   "outputs": [],
   "source": [
    "#for more list methods visit list methods oython docs on google"
   ]
  },
  {
   "cell_type": "code",
   "execution_count": 13,
   "id": "08875273",
   "metadata": {},
   "outputs": [
    {
     "name": "stdout",
     "output_type": "stream",
     "text": [
      "(5, 10, 40)\n"
     ]
    }
   ],
   "source": [
    "#Tuples\n",
    "a=(5,10,40)\n",
    "print(a)"
   ]
  },
  {
   "cell_type": "code",
   "execution_count": 17,
   "id": "13839218",
   "metadata": {},
   "outputs": [
    {
     "name": "stdout",
     "output_type": "stream",
     "text": [
      "4\n"
     ]
    }
   ],
   "source": [
    "#tuple methods\n",
    "#count\n",
    "a=(5,10,40,4.5,4,5,7,5,5)\n",
    "b=a.count(5)\n",
    "print(b)"
   ]
  },
  {
   "cell_type": "code",
   "execution_count": 18,
   "id": "f70f6a22",
   "metadata": {},
   "outputs": [
    {
     "name": "stdout",
     "output_type": "stream",
     "text": [
      "2\n"
     ]
    }
   ],
   "source": [
    "#index\n",
    "c=a.index(40)\n",
    "print(c)"
   ]
  },
  {
   "cell_type": "code",
   "execution_count": 2,
   "id": "8b67252d",
   "metadata": {},
   "outputs": [
    {
     "name": "stdout",
     "output_type": "stream",
     "text": [
      "enter first fruit: apple\n",
      "enter second fruit: mango\n",
      "enter third fruit: orange\n",
      "['apple', 'mango', 'orange']\n"
     ]
    }
   ],
   "source": [
    "#10 store 3 fruits in a lists enter by user\n",
    "a=input(\"enter first fruit: \")\n",
    "b=input(\"enter second fruit: \")\n",
    "c=input(\"enter third fruit: \")\n",
    "d=[a,b,c]\n",
    "print(d)"
   ]
  },
  {
   "cell_type": "code",
   "execution_count": 3,
   "id": "aa3e4584",
   "metadata": {},
   "outputs": [
    {
     "name": "stdout",
     "output_type": "stream",
     "text": [
      "enter marks of student 1: 12\n",
      "enter marks of student 2: 5\n",
      "enter marks of student 3: 87\n",
      "[5, 12, 87]\n"
     ]
    }
   ],
   "source": [
    "#11 accept marks of 3 students and arrange them in sorted manner\n",
    "m1=int(input(\"enter marks of student 1: \"))\n",
    "m2=int(input(\"enter marks of student 2: \"))\n",
    "m3=int(input(\"enter marks of student 3: \"))\n",
    "marks=[m1,m2,m3]\n",
    "marks.sort()\n",
    "print(marks)"
   ]
  },
  {
   "cell_type": "code",
   "execution_count": 6,
   "id": "966e55d1",
   "metadata": {},
   "outputs": [
    {
     "ename": "TypeError",
     "evalue": "'tuple' object does not support item assignment",
     "output_type": "error",
     "traceback": [
      "\u001b[1;31m---------------------------------------------------------------------------\u001b[0m",
      "\u001b[1;31mTypeError\u001b[0m                                 Traceback (most recent call last)",
      "\u001b[1;32m~\\AppData\\Local\\Temp/ipykernel_18696/3479014382.py\u001b[0m in \u001b[0;36m<module>\u001b[1;34m\u001b[0m\n\u001b[0;32m      1\u001b[0m \u001b[1;31m#12 tuple cant change in python(show error)\u001b[0m\u001b[1;33m\u001b[0m\u001b[1;33m\u001b[0m\u001b[0m\n\u001b[0;32m      2\u001b[0m \u001b[0ma\u001b[0m\u001b[1;33m=\u001b[0m\u001b[1;33m(\u001b[0m\u001b[1;36m1\u001b[0m\u001b[1;33m,\u001b[0m\u001b[1;36m5\u001b[0m\u001b[1;33m,\u001b[0m\u001b[1;36m4\u001b[0m\u001b[1;33m,\u001b[0m\u001b[1;36m7\u001b[0m\u001b[1;33m)\u001b[0m\u001b[1;33m\u001b[0m\u001b[1;33m\u001b[0m\u001b[0m\n\u001b[1;32m----> 3\u001b[1;33m \u001b[0ma\u001b[0m\u001b[1;33m[\u001b[0m\u001b[1;36m0\u001b[0m\u001b[1;33m]\u001b[0m\u001b[1;33m=\u001b[0m\u001b[1;36m8\u001b[0m\u001b[1;33m\u001b[0m\u001b[1;33m\u001b[0m\u001b[0m\n\u001b[0m",
      "\u001b[1;31mTypeError\u001b[0m: 'tuple' object does not support item assignment"
     ]
    }
   ],
   "source": [
    "#12 tuple cant change in python(show error)\n",
    "a=(1,5,4,7)\n",
    "a[0]=8"
   ]
  },
  {
   "cell_type": "code",
   "execution_count": 7,
   "id": "9b274c22",
   "metadata": {},
   "outputs": [
    {
     "name": "stdout",
     "output_type": "stream",
     "text": [
      "100\n"
     ]
    }
   ],
   "source": [
    "#13 prinnt sum of list pf 4 numbers\n",
    "a=[10,20,30,40]\n",
    "print(sum(a))"
   ]
  },
  {
   "cell_type": "code",
   "execution_count": 8,
   "id": "eaf9c430",
   "metadata": {},
   "outputs": [
    {
     "name": "stdout",
     "output_type": "stream",
     "text": [
      "100\n"
     ]
    }
   ],
   "source": [
    "#or\n",
    "a=[10,20,30,40]\n",
    "print(a[0]+a[1]+a[2]+a[3])"
   ]
  },
  {
   "cell_type": "code",
   "execution_count": 12,
   "id": "80d156d1",
   "metadata": {},
   "outputs": [
    {
     "name": "stdout",
     "output_type": "stream",
     "text": [
      "3\n"
     ]
    }
   ],
   "source": [
    "#14 count no. of zeros in tuples\n",
    "a=(7,0,8,0,0,9)\n",
    "b=a.count(0)\n",
    "print(b)"
   ]
  },
  {
   "cell_type": "code",
   "execution_count": 40,
   "id": "c3a720f7",
   "metadata": {},
   "outputs": [
    {
     "name": "stdout",
     "output_type": "stream",
     "text": [
      "92\n"
     ]
    }
   ],
   "source": [
    "#Dictionary \n",
    "a={\n",
    "    \"name\":\"Pranay\",\n",
    "    \"marks\":92,\n",
    "    \"b\":[10,20,30],                #b key contains values as list\n",
    "    \"name\":{\"pranay\":\"shinde\"}\n",
    "  }\n",
    "print(a['marks'])"
   ]
  },
  {
   "cell_type": "code",
   "execution_count": 26,
   "id": "240c2d28",
   "metadata": {},
   "outputs": [
    {
     "name": "stdout",
     "output_type": "stream",
     "text": [
      "shinde\n"
     ]
    }
   ],
   "source": [
    "print(a['name']['pranay'])"
   ]
  },
  {
   "cell_type": "code",
   "execution_count": 27,
   "id": "e06fde68",
   "metadata": {},
   "outputs": [
    {
     "name": "stdout",
     "output_type": "stream",
     "text": [
      "dict_keys(['name', 'marks', 'list'])\n"
     ]
    }
   ],
   "source": [
    "#dictionary methods\n",
    "#1) Keys\n",
    "a={\n",
    "    \"name\":\"Pranay\",\n",
    "    \"marks\":91,\n",
    "    \"list\":[10,20,30],\n",
    "    \"name\":{\"pranay\":\"shinde\"}\n",
    "  }\n",
    "print(a.keys())"
   ]
  },
  {
   "cell_type": "code",
   "execution_count": 41,
   "id": "e59c4426",
   "metadata": {},
   "outputs": [
    {
     "name": "stdout",
     "output_type": "stream",
     "text": [
      "dict_values([{'pranay': 'shinde'}, 92, [10, 20, 30]])\n"
     ]
    }
   ],
   "source": [
    "#2) values\n",
    "print(a.values())"
   ]
  },
  {
   "cell_type": "code",
   "execution_count": 42,
   "id": "86a08e83",
   "metadata": {},
   "outputs": [
    {
     "name": "stdout",
     "output_type": "stream",
     "text": [
      "dict_items([('name', {'pranay': 'shinde'}), ('marks', 92), ('b', [10, 20, 30])])\n"
     ]
    }
   ],
   "source": [
    "#3)items\n",
    "print(a.items())"
   ]
  },
  {
   "cell_type": "code",
   "execution_count": 43,
   "id": "b5072c92",
   "metadata": {},
   "outputs": [
    {
     "name": "stdout",
     "output_type": "stream",
     "text": [
      "{'name': {'pranay': 'shinde'}, 'marks': 92, 'b': [10, 20, 30]}\n",
      "{'name': {'pranay': 'shinde'}, 'marks': 50, 'b': [10, 20, 30], 'mother': 'rajashree', 'bowler': 'steyn'}\n"
     ]
    }
   ],
   "source": [
    "#4)update\n",
    "print(a)\n",
    "updateA={\n",
    "          \"mother\":\"rajashree\",\n",
    "           \"bowler\":\"steyn\",\n",
    "           \"marks\":50\n",
    "         }\n",
    "a.update(updateA)\n",
    "print(a)"
   ]
  },
  {
   "cell_type": "code",
   "execution_count": 44,
   "id": "84d2eef1",
   "metadata": {},
   "outputs": [
    {
     "name": "stdout",
     "output_type": "stream",
     "text": [
      "steyn\n"
     ]
    }
   ],
   "source": [
    "#5) get\n",
    "print(a.get(\"bowler\"))"
   ]
  },
  {
   "cell_type": "code",
   "execution_count": 45,
   "id": "c078dc85",
   "metadata": {},
   "outputs": [
    {
     "name": "stdout",
     "output_type": "stream",
     "text": [
      "None\n"
     ]
    }
   ],
   "source": [
    "print(a.get(\"batsman\"))"
   ]
  },
  {
   "cell_type": "code",
   "execution_count": 47,
   "id": "8fd2e2a8",
   "metadata": {},
   "outputs": [
    {
     "name": "stdout",
     "output_type": "stream",
     "text": [
      "steyn\n"
     ]
    }
   ],
   "source": [
    "print(a['bowler'])"
   ]
  },
  {
   "cell_type": "code",
   "execution_count": 48,
   "id": "314bde67",
   "metadata": {},
   "outputs": [
    {
     "ename": "KeyError",
     "evalue": "'batsman'",
     "output_type": "error",
     "traceback": [
      "\u001b[1;31m---------------------------------------------------------------------------\u001b[0m",
      "\u001b[1;31mKeyError\u001b[0m                                  Traceback (most recent call last)",
      "\u001b[1;32m~\\AppData\\Local\\Temp/ipykernel_18696/2891878853.py\u001b[0m in \u001b[0;36m<module>\u001b[1;34m\u001b[0m\n\u001b[1;32m----> 1\u001b[1;33m \u001b[0mprint\u001b[0m\u001b[1;33m(\u001b[0m\u001b[0ma\u001b[0m\u001b[1;33m[\u001b[0m\u001b[1;34m'batsman'\u001b[0m\u001b[1;33m]\u001b[0m\u001b[1;33m)\u001b[0m\u001b[1;33m\u001b[0m\u001b[1;33m\u001b[0m\u001b[0m\n\u001b[0m",
      "\u001b[1;31mKeyError\u001b[0m: 'batsman'"
     ]
    }
   ],
   "source": [
    "print(a['batsman'])                # if we use .get then we dont get error even if key is not present in dictionary"
   ]
  },
  {
   "cell_type": "code",
   "execution_count": 4,
   "id": "34750faa",
   "metadata": {},
   "outputs": [
    {
     "name": "stdout",
     "output_type": "stream",
     "text": [
      "{1, 2, 3, 4, 5, 6}\n"
     ]
    }
   ],
   "source": [
    "# Sets\n",
    "#sets Methods\n",
    "#add\n",
    "s={4,5,6}\n",
    "s.add(1)\n",
    "s.add(2)\n",
    "s.add(3)\n",
    "s.add(2)\n",
    "print(s)"
   ]
  },
  {
   "cell_type": "code",
   "execution_count": 5,
   "id": "e1eeb714",
   "metadata": {},
   "outputs": [
    {
     "name": "stdout",
     "output_type": "stream",
     "text": [
      "6\n"
     ]
    }
   ],
   "source": [
    "#length\n",
    "print(len(s))"
   ]
  },
  {
   "cell_type": "code",
   "execution_count": 10,
   "id": "40ca4a79",
   "metadata": {},
   "outputs": [
    {
     "name": "stdout",
     "output_type": "stream",
     "text": [
      "{1, 2, 3, 4, 6}\n"
     ]
    }
   ],
   "source": [
    "#remove\n",
    "s={1,2,3,4,5,6}\n",
    "s.remove(5)\n",
    "print(s)"
   ]
  },
  {
   "cell_type": "code",
   "execution_count": 12,
   "id": "a7a238da",
   "metadata": {},
   "outputs": [
    {
     "name": "stdout",
     "output_type": "stream",
     "text": [
      "2\n"
     ]
    }
   ],
   "source": [
    "#pop\n",
    "print(s.pop())    #removoes any arbitary value"
   ]
  },
  {
   "cell_type": "code",
   "execution_count": 14,
   "id": "0eff3179",
   "metadata": {},
   "outputs": [
    {
     "name": "stdout",
     "output_type": "stream",
     "text": [
      "set()\n"
     ]
    }
   ],
   "source": [
    "#clear\n",
    "s.clear()      #empty the set & give empty set ,set()\n",
    "print(s)"
   ]
  },
  {
   "cell_type": "code",
   "execution_count": 1,
   "id": "31db650d",
   "metadata": {},
   "outputs": [
    {
     "name": "stdout",
     "output_type": "stream",
     "text": [
      "enter english word :\n",
      "runs\n",
      "options are: dict_keys(['name', 'ball', 'runs'])\n",
      "meaning in marathi is:  dhawa\n"
     ]
    }
   ],
   "source": [
    "#15 create dictonary with keys as english words and values as their meaning in marathi. provide user an pption to look at it \n",
    "Dict={\"name\":\"naw\",\n",
    "      \"ball\":\"chendu\",\n",
    "      \"runs\":\"dhawa\"\n",
    "    }\n",
    "a=input(\"enter english word :\\n\")\n",
    "print(\"options are:\",Dict.keys())\n",
    "print(\"meaning in marathi is: \",Dict[a])"
   ]
  },
  {
   "cell_type": "code",
   "execution_count": 10,
   "id": "14ffb157",
   "metadata": {},
   "outputs": [
    {
     "name": "stdout",
     "output_type": "stream",
     "text": [
      "{18, '18'}\n"
     ]
    }
   ],
   "source": [
    "#16 \n",
    "s={18,\"18\",18.0}\n",
    "print(s)"
   ]
  },
  {
   "cell_type": "code",
   "execution_count": 7,
   "id": "f1d5de07",
   "metadata": {},
   "outputs": [
    {
     "name": "stdout",
     "output_type": "stream",
     "text": [
      "enter your fav lanuage pranay\n",
      "c\n",
      "enter your fav lanuage alka\n",
      "c+\n",
      "enter your fav lanuage ramesh\n",
      "python\n",
      "enter your fav lanuage roshan\n",
      "java\n",
      "{'pranay': 'c', 'alka': 'c+', 'ramesh': 'python', 'roshan': 'java'}\n"
     ]
    }
   ],
   "source": [
    "#17 create a dctionary which allow user to enter their fav language as value and ther names as key.\n",
    "a=input(\"enter your fav lanuage pranay\\n\")\n",
    "b=input(\"enter your fav lanuage alka\\n\")\n",
    "c=input(\"enter your fav lanuage ramesh\\n\")\n",
    "d=input(\"enter your fav lanuage roshan\\n\")\n",
    "favLang={}\n",
    "favLang['pranay']=a\n",
    "favLang['alka']=b\n",
    "favLang['ramesh']=c\n",
    "favLang['roshan']=d\n",
    "print(favLang)"
   ]
  },
  {
   "cell_type": "code",
   "execution_count": 10,
   "id": "b6504ec2",
   "metadata": {},
   "outputs": [
    {
     "name": "stdout",
     "output_type": "stream",
     "text": [
      "enter your age\n",
      "18\n",
      "yes\n"
     ]
    }
   ],
   "source": [
    "#conditional statements\n",
    "#if elif else\n",
    "a=int(input('enter your age\\n'))\n",
    "if(a>=18):\n",
    "    print('yes')\n",
    "else:\n",
    "    print('no')"
   ]
  },
  {
   "cell_type": "code",
   "execution_count": 2,
   "id": "a5480c87",
   "metadata": {},
   "outputs": [
    {
     "name": "stdout",
     "output_type": "stream",
     "text": [
      "enter number 1:\n",
      "15\n",
      "enter number 2:\n",
      "40\n",
      "enter number 3:\n",
      "10\n",
      "enter number 4:\n",
      "5\n",
      "40 is greatest\n"
     ]
    }
   ],
   "source": [
    "#18 enter a 4 numbers and find greatest\n",
    "num1=(int(input(\"enter number 1:\\n\")))\n",
    "num2=(int(input(\"enter number 2:\\n\")))\n",
    "num3=(int(input(\"enter number 3:\\n\")))\n",
    "num4=(int(input(\"enter number 4:\\n\")))\n",
    "\n",
    "if(num1>num2):\n",
    "    a=num1\n",
    "else:\n",
    "    a=num2\n",
    "\n",
    "if(num3>num4):\n",
    "    b=num3\n",
    "else:\n",
    "    b=num4\n",
    "\n",
    "if(a>b):\n",
    "    print(a,\"is greatest\")\n",
    "else:\n",
    "    print(b,\"is greatest\")\n"
   ]
  },
  {
   "cell_type": "code",
   "execution_count": 3,
   "id": "f768d6df",
   "metadata": {},
   "outputs": [
    {
     "name": "stdout",
     "output_type": "stream",
     "text": [
      "enter marks of first subject\n",
      "40\n",
      "enter marks of second subject\n",
      "50\n",
      "enter marks of third subject\n",
      "60\n",
      "congrats , you are pass\n"
     ]
    }
   ],
   "source": [
    "#  19 programm to find student pass or fail in 3 subjects. criteria for passing is greater than 33 marks \n",
    "# in each subject and total percentage of marks is greater than 40\n",
    "a=int(input(\"enter marks of first subject\\n\"))\n",
    "b=int(input(\"enter marks of second subject\\n\"))\n",
    "c=int(input(\"enter marks of third subject\\n\"))\n",
    "if(a<33 or b<33 or c<33):\n",
    "    print(\"you are fail because of less marks than 33\")\n",
    "elif(a+b+c/3<40):\n",
    "    print(\"you are fail because of total percentage is less than 40\")\n",
    "else:\n",
    "    print(\"congrats , you are pass\")"
   ]
  },
  {
   "cell_type": "code",
   "execution_count": 1,
   "id": "9d3c800d",
   "metadata": {},
   "outputs": [
    {
     "name": "stdout",
     "output_type": "stream",
     "text": [
      "enter the text\n",
      "subscribe this channel\n",
      "it is spam\n"
     ]
    }
   ],
   "source": [
    "# 20 define spam comments if following words are present in text - make a lot of money, buy now ,subscribe this, click this\n",
    "a=input(\"enter the text\\n\")\n",
    "if(\"make a lot of money\" in a):\n",
    "    print(\"it is spam\")\n",
    "elif(\"buy now\" in a):\n",
    "    print(\"it is spam\")\n",
    "elif(\"subscribe this\" in a):\n",
    "    print(\"it is spam\")\n",
    "elif(\"click this\" in a):\n",
    "    print(\"it is spam\")\n",
    "else:\n",
    "    print(\"it is not spam\")\n",
    "    \n",
    "    \n",
    "#or you can use following code\n",
    "# a=input(\"enter the text\\n\")\n",
    "# if(\"make a lot of money\" in a):\n",
    "#     spam=True\n",
    "# elif(\"buy now\" in a):\n",
    "#     spam=True\n",
    "# elif(\"subscribe this\" in a):\n",
    "#     spam=True\n",
    "# elif(\"click this\" in a):\n",
    "#     spam=True\n",
    "# else:\n",
    "#     spam=False\n",
    "# if(spam):\n",
    "#     print(\"It is spam\")\n",
    "# else:\n",
    "#     print(\"It is not spam\")\n"
   ]
  },
  {
   "cell_type": "code",
   "execution_count": 11,
   "id": "08274f8f",
   "metadata": {},
   "outputs": [
    {
     "name": "stdout",
     "output_type": "stream",
     "text": [
      "enter username\n",
      "svbs\n",
      "correct username\n"
     ]
    }
   ],
   "source": [
    "#21 username contain less than 10 characters\n",
    "a=input(\"enter username\\n\")\n",
    "if(len(a)>=10):\n",
    "    print(\"incorrect username\")\n",
    "else:\n",
    "    print(\"correct username\")"
   ]
  },
  {
   "cell_type": "code",
   "execution_count": 4,
   "id": "83a4c538",
   "metadata": {},
   "outputs": [
    {
     "name": "stdout",
     "output_type": "stream",
     "text": [
      "please enter name\n",
      "bhai\n",
      "name is in list\n"
     ]
    }
   ],
   "source": [
    "#22 to find given name present in list or not\n",
    "a=['pranay', 'vaibhav', 'padya', 'bhai', 'rushi', 'tushar','omkar']\n",
    "b=input(\"please enter name\\n\")\n",
    "if(b in a):\n",
    "    print(\"name is in list\")\n",
    "else:\n",
    "    print(\"name is not in list\")"
   ]
  },
  {
   "cell_type": "code",
   "execution_count": 10,
   "id": "32ce7908",
   "metadata": {},
   "outputs": [
    {
     "name": "stdout",
     "output_type": "stream",
     "text": [
      "please enter marks\n",
      "35\n",
      "your grade is F\n"
     ]
    }
   ],
   "source": [
    "#23 find grade of a student\n",
    "a=int(input(\"please enter marks\\n\"))\n",
    "if(a>=90):\n",
    "    grade=\"Ex\"\n",
    "elif(a>=80):\n",
    "    grade=\"A\"\n",
    "elif(a>=70):\n",
    "    grade=\"B\"\n",
    "elif(a>=60):\n",
    "    grade=\"C\"\n",
    "elif(a>=50):\n",
    "    grade=\"D\"\n",
    "else:\n",
    "    grade=\"F\"\n",
    "print('your grade is '+grade)\n",
    "    "
   ]
  },
  {
   "cell_type": "code",
   "execution_count": 31,
   "id": "1637671a",
   "metadata": {},
   "outputs": [
    {
     "name": "stdout",
     "output_type": "stream",
     "text": [
      "enter post\n",
      "pranay\n",
      "post is talking about pranay\n"
     ]
    }
   ],
   "source": [
    "#24 post talking about pranay or not\n",
    "a=input(\"enter post\\n\")\n",
    "if('pranay' in a):\n",
    "    print('post is talking about pranay')\n",
    "else:\n",
    "    print('post is not talking about pranay')\n"
   ]
  },
  {
   "cell_type": "code",
   "execution_count": 25,
   "id": "a7fdd6b7",
   "metadata": {},
   "outputs": [
    {
     "name": "stdout",
     "output_type": "stream",
     "text": [
      "PRANAY\n"
     ]
    }
   ],
   "source": [
    "a=\"pranay\"\n",
    "print(a.upper())"
   ]
  },
  {
   "cell_type": "code",
   "execution_count": 1,
   "id": "cd8a3369",
   "metadata": {},
   "outputs": [
    {
     "name": "stdout",
     "output_type": "stream",
     "text": [
      "1\n",
      "2\n",
      "3\n",
      "4\n",
      "5\n",
      "6\n",
      "7\n",
      "8\n",
      "9\n",
      "10\n",
      "11\n",
      "12\n",
      "13\n",
      "14\n",
      "15\n",
      "16\n",
      "17\n",
      "18\n",
      "19\n",
      "20\n",
      "21\n",
      "22\n",
      "23\n",
      "24\n",
      "25\n",
      "26\n",
      "27\n",
      "28\n",
      "29\n",
      "30\n",
      "31\n",
      "32\n",
      "33\n",
      "34\n",
      "35\n",
      "36\n",
      "37\n",
      "38\n",
      "39\n",
      "40\n",
      "41\n",
      "42\n",
      "43\n",
      "44\n",
      "45\n",
      "46\n",
      "47\n",
      "48\n",
      "49\n",
      "50\n"
     ]
    }
   ],
   "source": [
    "# While loop (while= astana)\n",
    "#print 1 to 50\n",
    "i=1\n",
    "while i<=50:\n",
    "    print(i)\n",
    "    i=i+1"
   ]
  },
  {
   "cell_type": "code",
   "execution_count": 4,
   "id": "b92b7f8e",
   "metadata": {},
   "outputs": [
    {
     "name": "stdout",
     "output_type": "stream",
     "text": [
      "pranay\n",
      "pranay\n",
      "pranay\n",
      "pranay\n",
      "pranay\n"
     ]
    }
   ],
   "source": [
    "# print name 5 times\n",
    "i=1\n",
    "while i<=5:\n",
    "    print(\"pranay\")\n",
    "    i=i+1"
   ]
  },
  {
   "cell_type": "code",
   "execution_count": 7,
   "id": "18b8d81d",
   "metadata": {},
   "outputs": [
    {
     "name": "stdout",
     "output_type": "stream",
     "text": [
      "pranay\n",
      "vishal\n",
      "tejas\n"
     ]
    }
   ],
   "source": [
    "# print list using while loop\n",
    "name=[\"pranay\",\"vishal\",\"tejas\"]\n",
    "i=0\n",
    "while i<len(name):\n",
    "    print(name[i])\n",
    "    i=i+1"
   ]
  },
  {
   "cell_type": "code",
   "execution_count": 19,
   "id": "363ada17",
   "metadata": {},
   "outputs": [
    {
     "name": "stdout",
     "output_type": "stream",
     "text": [
      "pranay\n",
      "vishal\n",
      "tej\n"
     ]
    }
   ],
   "source": [
    "#for loop\n",
    "name=['pranay','vishal','tej']\n",
    "for item in name:\n",
    "    print(item)"
   ]
  },
  {
   "cell_type": "code",
   "execution_count": 25,
   "id": "6ff0def7",
   "metadata": {},
   "outputs": [
    {
     "name": "stdout",
     "output_type": "stream",
     "text": [
      "0\n",
      "1\n",
      "2\n",
      "3\n",
      "4\n",
      "5\n",
      "6\n",
      "7\n",
      "8\n",
      "9\n"
     ]
    }
   ],
   "source": [
    "#range function\n",
    "for i in range(10):         \n",
    "    print(i)"
   ]
  },
  {
   "cell_type": "code",
   "execution_count": 21,
   "id": "c9c4188b",
   "metadata": {},
   "outputs": [
    {
     "name": "stdout",
     "output_type": "stream",
     "text": [
      "1\n",
      "3\n",
      "5\n",
      "7\n",
      "9\n"
     ]
    }
   ],
   "source": [
    "for i in range(1,10,2):                  #1=start, 10=end, 2=stepsize\n",
    "    print(i)"
   ]
  },
  {
   "cell_type": "code",
   "execution_count": 24,
   "id": "37d089ef",
   "metadata": {},
   "outputs": [
    {
     "name": "stdout",
     "output_type": "stream",
     "text": [
      "1\n",
      "5\n",
      "4\n",
      "pranay\n"
     ]
    }
   ],
   "source": [
    "#for loop with else \n",
    "l=[1,5,4]\n",
    "for item in l:\n",
    "    print(item)\n",
    "else:\n",
    "    print(\"pranay\")"
   ]
  },
  {
   "cell_type": "code",
   "execution_count": 26,
   "id": "e3f2a9e0",
   "metadata": {},
   "outputs": [
    {
     "name": "stdout",
     "output_type": "stream",
     "text": [
      "0\n",
      "1\n",
      "2\n",
      "3\n",
      "4\n",
      "5\n"
     ]
    }
   ],
   "source": [
    "#break statement\n",
    "for i in range(10):\n",
    "    print(i)\n",
    "    if i==5:\n",
    "        break"
   ]
  },
  {
   "cell_type": "code",
   "execution_count": 1,
   "id": "78888e13",
   "metadata": {},
   "outputs": [
    {
     "name": "stdout",
     "output_type": "stream",
     "text": [
      "0\n",
      "1\n",
      "2\n",
      "3\n",
      "4\n",
      "5\n",
      "6\n",
      "7\n",
      "8\n",
      "9\n"
     ]
    }
   ],
   "source": [
    "#continue statement\n",
    "for i in range(10):\n",
    "    print(i)\n",
    "    if i==5:\n",
    "        continue\n",
    "        \n",
    "    "
   ]
  },
  {
   "cell_type": "code",
   "execution_count": 32,
   "id": "f8e1c6a2",
   "metadata": {},
   "outputs": [
    {
     "name": "stdout",
     "output_type": "stream",
     "text": [
      "pranay\n"
     ]
    }
   ],
   "source": [
    "#pass statement\n",
    "i=0\n",
    "if i<0:\n",
    "    pass\n",
    "print(\"pranay\")"
   ]
  },
  {
   "cell_type": "code",
   "execution_count": 1,
   "id": "50b8db61",
   "metadata": {},
   "outputs": [
    {
     "name": "stdout",
     "output_type": "stream",
     "text": [
      "please enter number\n",
      "5\n",
      "5×1=5\n",
      "5×2=10\n",
      "5×3=15\n",
      "5×4=20\n",
      "5×5=25\n",
      "5×6=30\n",
      "5×7=35\n",
      "5×8=40\n",
      "5×9=45\n",
      "5×10=50\n"
     ]
    }
   ],
   "source": [
    "#25 Multiplication table of given table using for loop\n",
    "a=int(input(\"please enter number\\n\"))\n",
    "for i in range(1,11):\n",
    "    print(str(a)+ \"×\"+str(i)+\"=\"+str(a*i))"
   ]
  },
  {
   "cell_type": "code",
   "execution_count": 37,
   "id": "6bc858aa",
   "metadata": {},
   "outputs": [
    {
     "name": "stdout",
     "output_type": "stream",
     "text": [
      "please enter number\n",
      "4\n",
      "4×1=4\n",
      "4×2=8\n",
      "4×3=12\n",
      "4×4=16\n",
      "4×5=20\n",
      "4×6=24\n",
      "4×7=28\n",
      "4×8=32\n",
      "4×9=36\n",
      "4×10=40\n"
     ]
    }
   ],
   "source": [
    "#or \n",
    "#25 Multiplication table of given table using for loop\n",
    "a=int(input(\"please enter number\\n\"))\n",
    "for i in range(1,11):\n",
    "    print(f\"{a}×{i}={a*i}\")"
   ]
  },
  {
   "cell_type": "code",
   "execution_count": 9,
   "id": "11decb11",
   "metadata": {
    "scrolled": true
   },
   "outputs": [
    {
     "name": "stdout",
     "output_type": "stream",
     "text": [
      "Hello ramesh\n",
      "Hello rajashree\n",
      "Hello roshan\n",
      "Hello roshani\n"
     ]
    }
   ],
   "source": [
    "#26 to greet person in list whose name starts with r\n",
    "l=[\"pranay\",\"ramesh\",\"rajashree\",\"roshan\",\"roshani\"]\n",
    "for name in l:\n",
    "    if name.startswith(\"r\"):\n",
    "        print(\"Hello \"+name)"
   ]
  },
  {
   "cell_type": "code",
   "execution_count": 3,
   "id": "a0aab7ee",
   "metadata": {},
   "outputs": [
    {
     "name": "stdout",
     "output_type": "stream",
     "text": [
      "please enter number\n",
      "5\n",
      "5×1=5\n",
      "5×2=10\n",
      "5×3=15\n",
      "5×4=20\n",
      "5×5=25\n",
      "5×6=30\n",
      "5×7=35\n",
      "5×8=40\n",
      "5×9=45\n",
      "5×10=50\n"
     ]
    }
   ],
   "source": [
    "#26 Multiplication table of given table using while loop\n",
    "a=int(input(\"please enter number\\n\"))\n",
    "i=1\n",
    "while i<11:\n",
    "    print(f\"{a}×{i}={a*i}\")\n",
    "    i=i+1"
   ]
  },
  {
   "cell_type": "code",
   "execution_count": 3,
   "id": "56986249",
   "metadata": {},
   "outputs": [
    {
     "name": "stdout",
     "output_type": "stream",
     "text": [
      "please enter number\n",
      "6434\n",
      "given number is not prime\n"
     ]
    }
   ],
   "source": [
    "#27 find given number is prime or not\n",
    "a=int(input(\"please enter number\\n\"))\n",
    "for i in range(2,a):\n",
    "    if a%i==0:\n",
    "        print(\"given number is not prime\")\n",
    "        break\n",
    "else:\n",
    "    print(\"given number is prime\")"
   ]
  },
  {
   "cell_type": "code",
   "execution_count": 16,
   "id": "c2facb20",
   "metadata": {},
   "outputs": [
    {
     "name": "stdout",
     "output_type": "stream",
     "text": [
      "enter given number\n",
      "10\n",
      "sum of first 10 natural numbers is 55\n"
     ]
    }
   ],
   "source": [
    "#28 find sum of first n natural numbers\n",
    "a=int(input(\"enter given number\\n\"))\n",
    "sum=0\n",
    "for i in range(1,a+1):\n",
    "    sum=sum+i\n",
    "print(f\"sum of first {a} natural numbers is {sum}\")"
   ]
  },
  {
   "cell_type": "code",
   "execution_count": 11,
   "id": "e7a37e6d",
   "metadata": {},
   "outputs": [
    {
     "name": "stdout",
     "output_type": "stream",
     "text": [
      "enter given number\n",
      "5\n",
      "factorial of 5 is 120\n"
     ]
    }
   ],
   "source": [
    "#29 find factorial of given number\n",
    "a=int(input(\"enter given number\\n\"))\n",
    "fact=1\n",
    "for i in range(1,a+1):\n",
    "    fact=fact*i\n",
    "print(f\"factorial of {a} is {fact}\")"
   ]
  },
  {
   "cell_type": "code",
   "execution_count": 34,
   "id": "0295dd70",
   "metadata": {},
   "outputs": [
    {
     "name": "stdout",
     "output_type": "stream",
     "text": [
      "*\n",
      "**\n",
      "***\n"
     ]
    }
   ],
   "source": [
    "#30 print star pattern\n",
    "for i in range(3):\n",
    "    print(\"*\"*(i+1))"
   ]
  },
  {
   "cell_type": "code",
   "execution_count": 25,
   "id": "d9470cb9",
   "metadata": {},
   "outputs": [
    {
     "name": "stdout",
     "output_type": "stream",
     "text": [
      "         *         \n",
      "        ***        \n",
      "       *****       \n",
      "      *******      \n",
      "     *********     \n",
      "    ***********    \n",
      "   *************   \n",
      "  ***************  \n",
      " ***************** \n",
      "*******************\n"
     ]
    }
   ],
   "source": [
    "#31 print star pattern\n",
    "n=10\n",
    "for i in range(10):\n",
    "    print(\" \"*(n-i-1),end=\"\")       # to print space\n",
    "    print(\"*\"*(2*i+1),end=\"\")       # to print stars\n",
    "    print(\" \"*(n-i-1))              # to print space"
   ]
  },
  {
   "cell_type": "code",
   "execution_count": 38,
   "id": "f6b93d4f",
   "metadata": {},
   "outputs": [
    {
     "name": "stdout",
     "output_type": "stream",
     "text": [
      "please enter number\n",
      "4\n",
      "4×10=40\n",
      "4×9=36\n",
      "4×8=32\n",
      "4×7=28\n",
      "4×6=24\n",
      "4×5=20\n",
      "4×4=16\n",
      "4×3=12\n",
      "4×2=8\n",
      "4×1=4\n"
     ]
    }
   ],
   "source": [
    "#32 Multiplication table of given table in reverse order using for loop\n",
    "a=int(input(\"please enter number\\n\"))\n",
    "for i in range(10,0,-1):\n",
    "    print(f\"{a}×{i}={a*i}\")"
   ]
  },
  {
   "cell_type": "code",
   "execution_count": 39,
   "id": "ab1e1679",
   "metadata": {},
   "outputs": [
    {
     "name": "stdout",
     "output_type": "stream",
     "text": [
      "enter number:3\n",
      "***\n",
      "* *\n",
      "***\n"
     ]
    }
   ],
   "source": [
    "#33 star pattern\n",
    "n=int(input(\"enter number:\"))\n",
    "print (\"*\" * n)\n",
    "c= n-2\n",
    "for i in range (c):\n",
    "    print (\"*\" + \" \"*c + \"*\")\n",
    "print (\"*\" * n)\n"
   ]
  },
  {
   "cell_type": "code",
   "execution_count": 21,
   "id": "c7ab3a50",
   "metadata": {},
   "outputs": [
    {
     "name": "stdout",
     "output_type": "stream",
     "text": [
      "maximum number is1000\n"
     ]
    }
   ],
   "source": [
    "#Functions and recursions\n",
    "#34 write function to find greatest of three numbers\n",
    "def max(num1, num2,num3):\n",
    "    if num1>num2:\n",
    "        if num1>num3:\n",
    "            return num1\n",
    "        else:\n",
    "            return num3\n",
    "    else:\n",
    "        if num2>num3:\n",
    "            return num2\n",
    "        else:\n",
    "            return num3\n",
    "    \n",
    "m=max(1000,555,87)\n",
    "print(f\"maximum number is{m}\")"
   ]
  },
  {
   "cell_type": "code",
   "execution_count": 18,
   "id": "f2d98c47",
   "metadata": {},
   "outputs": [
    {
     "name": "stdout",
     "output_type": "stream",
     "text": [
      "conversion of 45 celcius to fahrenite is 113.0\n"
     ]
    }
   ],
   "source": [
    "# 35 celcius to fahrenite conversion \n",
    "def farh(cel):\n",
    "    return (cel* (9/5)) + 32\n",
    "\n",
    "c=45\n",
    "f=farh(c)\n",
    "print(f\"conversion of {c} celcius to fahrenite is {f}\")"
   ]
  },
  {
   "cell_type": "code",
   "execution_count": 29,
   "id": "56a24d0b",
   "metadata": {},
   "outputs": [
    {
     "name": "stdout",
     "output_type": "stream",
     "text": [
      "sum of first 10 natural numbers is 55.0\n"
     ]
    }
   ],
   "source": [
    "# 36 sum of first n natural numbers\n",
    "def sum(n):\n",
    "    return n*(n+1)/2\n",
    "a=10\n",
    "b=sum(a)\n",
    "print(f\"sum of first {a} natural numbers is {b}\")"
   ]
  },
  {
   "cell_type": "code",
   "execution_count": 36,
   "id": "711f6b52",
   "metadata": {},
   "outputs": [
    {
     "name": "stdout",
     "output_type": "stream",
     "text": [
      "***\n",
      "**\n",
      "*\n"
     ]
    }
   ],
   "source": [
    "#37 star pattern\n",
    "n=3\n",
    "for i in range(n):\n",
    "    print(\"*\"*(n-i))"
   ]
  },
  {
   "cell_type": "code",
   "execution_count": 38,
   "id": "9de2aad6",
   "metadata": {},
   "outputs": [
    {
     "name": "stdout",
     "output_type": "stream",
     "text": [
      "conversion of 1 inch is 2.54cm\n"
     ]
    }
   ],
   "source": [
    "# 38 inches to cm\n",
    "def inch(cm):\n",
    "    return cm*2.54\n",
    "\n",
    "a=1\n",
    "b=inch(a)\n",
    "print(f\"conversion of {a} inch is {b}cm\")"
   ]
  },
  {
   "cell_type": "code",
   "execution_count": 31,
   "id": "2414a0c8",
   "metadata": {},
   "outputs": [
    {
     "name": "stdout",
     "output_type": "stream",
     "text": [
      "twinkle is present\n"
     ]
    }
   ],
   "source": [
    "# file i/o\n",
    "# 39 write programm which show gien file contain twinkle word or not\n",
    "with open('C:/Users/FX506LH/Desktop/twinle.txt') as a:\n",
    "    b=a.read()\n",
    "if 'twinkle' in b:\n",
    "    print(\"twinkle is present\")\n",
    "else:\n",
    "    print(\"twinkle is not present\")\n",
    "\n"
   ]
  },
  {
   "cell_type": "code",
   "execution_count": 19,
   "id": "e3982075",
   "metadata": {},
   "outputs": [],
   "source": [
    "#40 define game function and overwrite old score with new one whenever game breaks the hiscore\n",
    "def game():\n",
    "    return 70\n",
    "\n",
    "a=game()\n",
    "with open('C:/Users/FX506LH/Desktop/hiscore.txt') as b:\n",
    "    c=b.read()\n",
    "    \n",
    "if c=='':\n",
    "    with open('C:/Users/FX506LH/Desktop/hiscore.txt','w') as b:\n",
    "        b.write(str(a))\n",
    "elif int(c)<a:\n",
    "    with open('C:/Users/FX506LH/Desktop/hiscore.txt','w') as b:\n",
    "        b.write(str(a))\n",
    "\n"
   ]
  },
  {
   "cell_type": "code",
   "execution_count": 28,
   "id": "ee99612f",
   "metadata": {},
   "outputs": [],
   "source": [
    "#41 files of multiplication table from 2 to 10\n",
    "for i in range(2,11):\n",
    "    with open(f'C:/Users/FX506LH/Desktop/tables/multiplication_table_of_{i}.txt','w') as a:\n",
    "        for j in range(1,11):\n",
    "            a.write(f\"{i} x {j} = {i*j} \\n\")\n"
   ]
  },
  {
   "cell_type": "code",
   "execution_count": 35,
   "id": "7c12f683",
   "metadata": {},
   "outputs": [],
   "source": [
    "#42 replace certain word in file by #####\n",
    "with open('C:/Users/FX506LH/Desktop/ab.txt') as a:\n",
    "    b=a.read()\n",
    "    \n",
    "b=b.replace('pranay','######')\n",
    "\n",
    "with open('C:/Users/FX506LH/Desktop/ab','w') as a:\n",
    "    a.write(b)"
   ]
  },
  {
   "cell_type": "code",
   "execution_count": 19,
   "id": "08375879",
   "metadata": {},
   "outputs": [
    {
     "name": "stdout",
     "output_type": "stream",
     "text": [
      "the salary of the employee working in Google is 80000\n"
     ]
    }
   ],
   "source": [
    "                                  #oops \n",
    "#self\n",
    "class Employee:\n",
    "    company=\"Google\"\n",
    "    \n",
    "    def getSalary(self):\n",
    "        print(f\"the salary of the employee working in {self.company} is {self.salary}\")\n",
    "        \n",
    "        \n",
    "pranay=Employee()\n",
    "pranay.salary=80000\n",
    "pranay.getSalary()"
   ]
  },
  {
   "cell_type": "code",
   "execution_count": 18,
   "id": "2b12f9e1",
   "metadata": {},
   "outputs": [
    {
     "name": "stdout",
     "output_type": "stream",
     "text": [
      "The name of the Google programmer is Pranay Which is working at subunit YouTube and his salary is 80k\n",
      "The name of the Google programmer is Roshan Which is working at subunit Google Cloud and his salary is 90000\n"
     ]
    }
   ],
   "source": [
    "\n",
    "#43 create a class programmer FOR STORING THE INFORMATION of few programmers working at google\n",
    "\n",
    "class Programmer:\n",
    "    company = \"Google\"\n",
    "    \n",
    "    def __init__(self,name,subunit,salary):\n",
    "        self.name=name\n",
    "        self.subunit=subunit\n",
    "        self.salary=salary\n",
    "    \n",
    "    def getDetails(self):\n",
    "        print(f\"The name of the {self.company} programmer is {self.name} Which is working at subunit {self.subunit} and his salary is {self.salary}\")\n",
    "    \n",
    "pranay = Programmer(\"Pranay\",\"YouTube\",\"80k\")\n",
    "roshan = Programmer(\"Roshan\",\"Google Cloud\", 90000)\n",
    "pranay.getDetails()\n",
    "roshan.getDetails()"
   ]
  },
  {
   "cell_type": "code",
   "execution_count": 27,
   "id": "f89f7e3d",
   "metadata": {},
   "outputs": [
    {
     "name": "stdout",
     "output_type": "stream",
     "text": [
      "The square of 25 is 625\n",
      "The square root of 25 is 5.0\n",
      "The square root of 25 is 15625\n"
     ]
    }
   ],
   "source": [
    "#44 create a class calculator capable of finding square, squareroot,cuberoot\n",
    "class Calculator:\n",
    "    def __init__(self,num):\n",
    "        self.num=num\n",
    "    \n",
    "    \n",
    "    def square(self):\n",
    "        print(f\"The square of {self.num} is {self.num**2}\")\n",
    "    \n",
    "    def squareroot(self):\n",
    "        print(f\"The square root of {self.num} is {self.num**0.5}\")\n",
    "    \n",
    "    def cube(self):\n",
    "        print(f\"The square root of {self.num} is {self.num**3}\")\n",
    "              \n",
    "a=Calculator(25)\n",
    "a.square()\n",
    "a.squareroot()\n",
    "a.cube()\n",
    "              \n",
    "    "
   ]
  },
  {
   "cell_type": "code",
   "execution_count": 2,
   "id": "f1a4d36a",
   "metadata": {},
   "outputs": [
    {
     "name": "stdout",
     "output_type": "stream",
     "text": [
      "welcome to best calculator\n",
      "The square of 25 is 625\n",
      "The square root of 25 is 5.0\n",
      "The square root of 25 is 15625\n"
     ]
    }
   ],
   "source": [
    "#45 add static method to above and greet\n",
    "class Calculator:\n",
    "    def __init__(self,num):\n",
    "        self.num=num\n",
    "    \n",
    "    \n",
    "    def square(self):\n",
    "        print(f\"The square of {self.num} is {self.num**2}\")\n",
    "    \n",
    "    def squareroot(self):\n",
    "        print(f\"The square root of {self.num} is {self.num**0.5}\")\n",
    "    \n",
    "    def cube(self):\n",
    "        print(f\"The square root of {self.num} is {self.num**3}\")\n",
    "    \n",
    "    @staticmethod\n",
    "    def greet():\n",
    "        print(\"welcome to best calculator\")\n",
    "              \n",
    "a=Calculator(25)\n",
    "a.greet()\n",
    "a.square()\n",
    "a.squareroot()\n",
    "a.cube()\n"
   ]
  },
  {
   "cell_type": "code",
   "execution_count": 30,
   "id": "1d1fa9ef",
   "metadata": {},
   "outputs": [
    {
     "name": "stdout",
     "output_type": "stream",
     "text": [
      "pranay\n",
      "roshan\n"
     ]
    }
   ],
   "source": [
    "#creating object attribute\n",
    "class sample:\n",
    "    a=\"pranay\"\n",
    "    \n",
    "obj=sample()\n",
    "obj.a=\"roshan\"\n",
    "\n",
    "print(sample.a)\n",
    "print(obj.a)"
   ]
  },
  {
   "cell_type": "code",
   "execution_count": 17,
   "id": "1b2b8f05",
   "metadata": {},
   "outputs": [
    {
     "name": "stdout",
     "output_type": "stream",
     "text": [
      "*************\n",
      "The name of the train is Kokan Kanya Express\n",
      "The seats avaliable in train are 1\n",
      "*************\n",
      "Your seat is booked. Your seat number is 1\n",
      "sory! train is full booked\n",
      "*************\n",
      "The name of the train is Kokan Kanya Express\n",
      "The seats avaliable in train are 0\n",
      "*************\n"
     ]
    }
   ],
   "source": [
    "#46 write class Train having methods of book ticket, get status, get fare information\n",
    "\n",
    "class Trains:\n",
    "    def __init__(self,name,seats,ticket):\n",
    "        self.name=name\n",
    "        self.ticket=ticket\n",
    "        self.seats=seats\n",
    "        \n",
    "    def getStatus(self):\n",
    "        print('*************')\n",
    "        print(f\"The name of the train is {self.name}\")\n",
    "        print(f\"The seats avaliable in train are {self.seats}\")\n",
    "        print('*************')\n",
    "    \n",
    "    def ticketInfo(self):\n",
    "        print(f\"fare of ticket is {self.ticket}\")\n",
    "    \n",
    "    def bookTicket(self):\n",
    "        if(self.seats>0):\n",
    "            print(f\"Your seat is booked. Your seat number is {self.seats}\")\n",
    "            self.seats=self.seats-1\n",
    "        else:\n",
    "            print('sory! train is full booked')\n",
    "            \n",
    "a=Trains(\"Kokan Kanya Express\",1,105)\n",
    "a.getStatus()\n",
    "a.bookTicket()\n",
    "a.bookTicket()\n",
    "a.getStatus()\n",
    "            "
   ]
  },
  {
   "cell_type": "code",
   "execution_count": 7,
   "id": "2ae6c374",
   "metadata": {},
   "outputs": [
    {
     "name": "stdout",
     "output_type": "stream",
     "text": [
      "employee works here\n",
      "this is worlds leading softwae company\n",
      "Google\n",
      "employee works in subcompany youtube \n"
     ]
    }
   ],
   "source": [
    "# single inheritance\n",
    "class employee:\n",
    "    company = \"Google\"\n",
    "    \n",
    "    def myDetails(self):\n",
    "        print(f\"employee works here\")\n",
    "        \n",
    "class work(employee):\n",
    "    subcompany=\"youtube\"\n",
    "    \n",
    "    def mainWork(self):\n",
    "        print(f\"employee works in subcompany {self.subcompany} \")\n",
    "        \n",
    "    def mydetails(self):\n",
    "        print(\"this is worlds leading softwae company\")\n",
    "        \n",
    "e=employee()\n",
    "e.myDetails()\n",
    "w=work()\n",
    "w.mydetails()\n",
    "print(w.company)\n",
    "w.mainWork()"
   ]
  },
  {
   "cell_type": "code",
   "execution_count": 12,
   "id": "26efed58",
   "metadata": {},
   "outputs": [
    {
     "data": {
      "text/plain": [
       "30000"
      ]
     },
     "execution_count": 12,
     "metadata": {},
     "output_type": "execute_result"
    }
   ],
   "source": [
    "#multiple inheritance\n",
    "class employee:\n",
    "    company=\"google\"\n",
    "    salary=25000\n",
    "\n",
    "class work:\n",
    "    subcompany=\"Youtube\"\n",
    "    salary=30000\n",
    "\n",
    "class combine(work,employee):\n",
    "    domain='android'\n",
    "    \n",
    "c=combine()\n",
    "\n",
    "c.salary"
   ]
  },
  {
   "cell_type": "code",
   "execution_count": 12,
   "id": "a6ad5a79",
   "metadata": {},
   "outputs": [
    {
     "data": {
      "text/plain": [
       "1"
      ]
     },
     "execution_count": 12,
     "metadata": {},
     "output_type": "execute_result"
    }
   ],
   "source": [
    "10//6"
   ]
  },
  {
   "cell_type": "code",
   "execution_count": 13,
   "id": "9bd2bf35",
   "metadata": {},
   "outputs": [
    {
     "data": {
      "text/plain": [
       "1.6666666666666667"
      ]
     },
     "execution_count": 13,
     "metadata": {},
     "output_type": "execute_result"
    }
   ],
   "source": [
    "10/6"
   ]
  },
  {
   "cell_type": "code",
   "execution_count": 15,
   "id": "0e2c7ffe",
   "metadata": {},
   "outputs": [
    {
     "name": "stdout",
     "output_type": "stream",
     "text": [
      "50\n"
     ]
    }
   ],
   "source": [
    "#lambda function\n",
    "a = lambda x, y : x*y\n",
    "print(a(5, 10))"
   ]
  },
  {
   "cell_type": "code",
   "execution_count": 17,
   "id": "e96fb803",
   "metadata": {},
   "outputs": [
    {
     "data": {
      "text/plain": [
       "'gEEKSFORgEEKS'"
      ]
     },
     "execution_count": 17,
     "metadata": {},
     "output_type": "execute_result"
    }
   ],
   "source": [
    "#swapcase function\n",
    "string = \"GeeksforGeeks\"\n",
    "string.swapcase() "
   ]
  },
  {
   "cell_type": "code",
   "execution_count": 18,
   "id": "e25dc6c4",
   "metadata": {},
   "outputs": [
    {
     "name": "stdout",
     "output_type": "stream",
     "text": [
      "List Iteration\n",
      "geeks\n",
      "for\n",
      "geeks\n"
     ]
    }
   ],
   "source": [
    "print(\"List Iteration\")\n",
    "l = [\"geeks\", \"for\", \"geeks\"]\n",
    "for i in l:\n",
    "    print(i)"
   ]
  },
  {
   "cell_type": "code",
   "execution_count": 20,
   "id": "9ce7c03a",
   "metadata": {},
   "outputs": [
    {
     "name": "stdout",
     "output_type": "stream",
     "text": [
      "Tuple Iteration\n",
      "geeks\n",
      "for\n",
      "geeks\n"
     ]
    }
   ],
   "source": [
    "print(\"Tuple Iteration\")\n",
    "t = (\"geeks\", \"for\", \"geeks\")\n",
    "for i in t:\n",
    "    print(i)"
   ]
  },
  {
   "cell_type": "code",
   "execution_count": 21,
   "id": "3757b5aa",
   "metadata": {},
   "outputs": [
    {
     "name": "stdout",
     "output_type": "stream",
     "text": [
      "\n",
      "String Iteration\n",
      "G\n",
      "e\n",
      "e\n",
      "k\n",
      "s\n"
     ]
    }
   ],
   "source": [
    "print(\"\\nString Iteration\")   \n",
    "s = \"Geeks\"\n",
    "for i in s :\n",
    "    print(i)"
   ]
  },
  {
   "cell_type": "code",
   "execution_count": 24,
   "id": "12ace455",
   "metadata": {},
   "outputs": [
    {
     "name": "stdout",
     "output_type": "stream",
     "text": [
      "praanay\n",
      "ramesh\n",
      "shinde\n"
     ]
    }
   ],
   "source": [
    "a=('praanay','ramesh','shinde')\n",
    "for i in a:\n",
    "    print(i)"
   ]
  },
  {
   "cell_type": "code",
   "execution_count": 26,
   "id": "ed0bf07b",
   "metadata": {},
   "outputs": [
    {
     "name": "stdout",
     "output_type": "stream",
     "text": [
      "2\n",
      "5\n",
      "4\n"
     ]
    }
   ],
   "source": [
    "#generator function\n",
    "def a():\n",
    "    yield 2\n",
    "    yield 5\n",
    "    yield 4\n",
    "    \n",
    "for value in a():\n",
    "    print(value)"
   ]
  },
  {
   "cell_type": "code",
   "execution_count": 33,
   "id": "cf9581c9",
   "metadata": {},
   "outputs": [
    {
     "name": "stdout",
     "output_type": "stream",
     "text": [
      "5\n",
      "6\n"
     ]
    }
   ],
   "source": [
    "#polymorphism(many  forms)\n",
    "#user define polymorphic form\n",
    "def add(a,b,c=0):\n",
    "    return a+b+c\n",
    "print(add(2, 3))\n",
    "print(add(1,2,3))"
   ]
  },
  {
   "cell_type": "code",
   "execution_count": 38,
   "id": "742346aa",
   "metadata": {},
   "outputs": [
    {
     "name": "stdout",
     "output_type": "stream",
     "text": [
      "6\n",
      "3\n"
     ]
    }
   ],
   "source": [
    "#inbuilt poymorphicform\n",
    "a=\"pranay\"\n",
    "b=[1,2,3]\n",
    "print(len(a))\n",
    "print(len(b))"
   ]
  },
  {
   "cell_type": "code",
   "execution_count": 57,
   "id": "ff1934e5",
   "metadata": {},
   "outputs": [
    {
     "name": "stdout",
     "output_type": "stream",
     "text": [
      "name is pranay\n",
      "Roll no. is 1\n",
      "marks is 91%\n",
      "name is anay\n",
      "Roll no. is 2\n",
      "marks is 92%\n"
     ]
    }
   ],
   "source": [
    "#polymorphism with class methods\n",
    "class student():\n",
    "    def name(self):\n",
    "        print(\"name is pranay\")\n",
    "    \n",
    "    def rollno(self):\n",
    "        print(\"Roll no. is 1\")\n",
    "              \n",
    "    def  marks(self):\n",
    "        print(\"marks is 91%\")\n",
    "        \n",
    "class student1():\n",
    "    def name(self):\n",
    "        print(\"name is anay\")\n",
    "    \n",
    "    def rollno(self):\n",
    "        print(\"Roll no. is 2\")\n",
    "              \n",
    "    def  marks(self):\n",
    "        print(\"marks is 92%\")\n",
    "        \n",
    "a=student()\n",
    "b=student1()\n",
    "for i in (a,b):\n",
    "    i.name()\n",
    "    i.rollno()\n",
    "    i.marks()"
   ]
  },
  {
   "cell_type": "code",
   "execution_count": 4,
   "id": "da4bc886",
   "metadata": {},
   "outputs": [
    {
     "name": "stdout",
     "output_type": "stream",
     "text": [
      "{('roshani', 5), ('roshan', 3), ('rajashreee', 2), ('ramesh', 4), ('pranay', 1)}\n"
     ]
    }
   ],
   "source": [
    "#zip function \n",
    "name=('pranay','rajashreee','roshan','ramesh','roshani')\n",
    "rollno=(1,2,3,4,5)\n",
    "map=zip(name,rollno)\n",
    "\n",
    "print(set(map))"
   ]
  },
  {
   "cell_type": "code",
   "execution_count": 6,
   "id": "c3423cd6",
   "metadata": {},
   "outputs": [
    {
     "name": "stdout",
     "output_type": "stream",
     "text": [
      "{('pranay', 1), ('aai', 2)}\n"
     ]
    }
   ],
   "source": [
    "a=['pranay','aai']\n",
    "b=[1,2]\n",
    "map=zip(a,b)\n",
    "print(set(map))"
   ]
  },
  {
   "cell_type": "code",
   "execution_count": 7,
   "id": "1ecb5f3f",
   "metadata": {},
   "outputs": [
    {
     "name": "stdout",
     "output_type": "stream",
     "text": [
      "Name:  rahul\n",
      "Email id:  rahul@gmail.com\n"
     ]
    }
   ],
   "source": [
    "class student:    \n",
    "    def __init__(self, name):    \n",
    "        self.name = name    \n",
    "    def __init__(self, name, email):    \n",
    "        self.name = name    \n",
    "        self.email = email    \n",
    "         \n",
    "# This line will generate an error    \n",
    "#st = student(\"rahul\")    \n",
    "    \n",
    "# This line will call the second constructor    \n",
    "st = student(\"rahul\", \"rahul@gmail.com\")    \n",
    "print(\"Name: \", st.name)  \n",
    "print(\"Email id: \", st.email)  "
   ]
  },
  {
   "cell_type": "code",
   "execution_count": 1,
   "id": "995291d7",
   "metadata": {},
   "outputs": [
    {
     "name": "stdout",
     "output_type": "stream",
     "text": [
      "1\n",
      "3\n",
      "5\n",
      "7\n",
      "9\n",
      "11\n",
      "13\n",
      "15\n",
      "17\n",
      "19\n",
      "21\n",
      "23\n",
      "25\n",
      "27\n",
      "29\n",
      "31\n",
      "33\n",
      "35\n",
      "37\n",
      "39\n",
      "41\n",
      "43\n",
      "45\n",
      "47\n",
      "49\n"
     ]
    }
   ],
   "source": [
    "for i in range(1,50,2):\n",
    "    print(i)"
   ]
  },
  {
   "cell_type": "code",
   "execution_count": 1,
   "id": "790b3148",
   "metadata": {},
   "outputs": [
    {
     "name": "stdout",
     "output_type": "stream",
     "text": [
      "1\n",
      "2\n",
      "3\n",
      "4\n",
      "1\n",
      "2\n",
      "3\n",
      "4\n",
      "1\n",
      "2\n",
      "3\n",
      "4\n",
      "1\n",
      "2\n",
      "3\n",
      "4\n"
     ]
    }
   ],
   "source": [
    "#nested loops\n",
    "n = 1\n",
    "while(n<5):\n",
    "    i=1\n",
    "    while(i<5):\n",
    "        print(i)\n",
    "        i = i+1\n",
    "    n=n+1"
   ]
  },
  {
   "cell_type": "code",
   "execution_count": 2,
   "id": "8620aff6",
   "metadata": {},
   "outputs": [
    {
     "name": "stdout",
     "output_type": "stream",
     "text": [
      "*\n",
      "**\n",
      "***\n",
      "****\n",
      "*****\n"
     ]
    }
   ],
   "source": [
    "i = 1\n",
    "while(i<=5):\n",
    "    j=1\n",
    "    while(j<=i):\n",
    "        print('*',end='')\n",
    "        j = j+1\n",
    "    print()\n",
    "    i = i+1"
   ]
  },
  {
   "cell_type": "code",
   "execution_count": null,
   "id": "c2ae2363",
   "metadata": {},
   "outputs": [],
   "source": []
  }
 ],
 "metadata": {
  "kernelspec": {
   "display_name": "Python 3 (ipykernel)",
   "language": "python",
   "name": "python3"
  },
  "language_info": {
   "codemirror_mode": {
    "name": "ipython",
    "version": 3
   },
   "file_extension": ".py",
   "mimetype": "text/x-python",
   "name": "python",
   "nbconvert_exporter": "python",
   "pygments_lexer": "ipython3",
   "version": "3.9.7"
  }
 },
 "nbformat": 4,
 "nbformat_minor": 5
}
