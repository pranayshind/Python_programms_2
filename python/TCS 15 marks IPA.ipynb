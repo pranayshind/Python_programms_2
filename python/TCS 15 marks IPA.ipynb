{
 "cells": [
  {
   "cell_type": "code",
   "execution_count": null,
   "id": "f42deeb5",
   "metadata": {},
   "outputs": [],
   "source": [
    "                                        #Problem 1\n",
    "\n",
    "\n",
    "'''Write a python code to print the count of valid strings and invalid strings from a given list of strings.\n",
    "A string is considered as valid if it contains combinations of alphabets (in upper case or lower case) with/without spaces.\n",
    "\n",
    "Define a function to check if a given string is valid or not i.e if it contains combinations of alphabets (in upper case or lower case) with/without spaces. \n",
    "\n",
    "This function will take a string as input and return True if the string is valid, otherwise will return False.\n",
    "\n",
    "\n",
    "Example :\n",
    "If the string given as argument is \"Hello Good Morning\", the function will return True.\n",
    "If the string given as argument is \"Purabi@gmail.com\", the function will return False.\n",
    "\n",
    "\n",
    "Using this function in main section, build the logic to print the count of valid strings and invalid strings from a given list of strings.\n",
    "\n",
    "Refer to below instructions and sample input-output for more clarity on the requirement.\n",
    "\n",
    "Instructions to write main section of the code:\n",
    "\n",
    "a. You would require to write the main section completely, hence please follow the below instructions for the same.\n",
    "\n",
    "b. You would require to write the main program which is inline to the \"sample input description section\" mentioned below and to read the data in the same sequence. \n",
    "\n",
    "\n",
    "1. Create a list of strings. To create the list,\n",
    "i. First read the number of elements/strings you want to store in the list.\n",
    "ii. Read a string and add it to the list. This point repeats for the number of elements/strings to be stored in the list (considered in the first line of input i.e. in point #1.i).\n",
    "\n",
    "2. Next print the message \"Count Of Valid Strings=\". Followed by this print the count of valid strings found in the list.\n",
    "\n",
    "3. Next print the message \"Count Of Invalid Strings=\". Followed by this print the count of invalid strings found in the list.\n",
    "\n",
    "\n",
    "You can use/refer the below given sample input and output to verify your solution.\n",
    "\n",
    "Sample Input (below) description:\n",
    "\n",
    "The first line of input taken in the main section contains an integer value representing the number of elements/strings to be added to the list.\n",
    "\n",
    "The next lines of inputs are the strings to be added to the list one after another and is repeated for the number of elements/strings given in the first line of input. (each line represents one string to be added to the list).\n",
    "\n",
    "\n",
    "Sample Input:\n",
    "\n",
    "4\n",
    "Hello Good Morning\n",
    "abcd123Fghy\n",
    "India\n",
    "progoti.c\n",
    "\n",
    "\n",
    "Sample Output:\n",
    "\n",
    "Count Of Valid Strings= 2\n",
    "Count Of Invalid Strings= 2'''"
   ]
  },
  {
   "cell_type": "code",
   "execution_count": null,
   "id": "b2a4248e",
   "metadata": {},
   "outputs": [],
   "source": [
    "n=int(input())\n",
    "l=[]\n",
    "for i in range(n):\n",
    "    e=input()\n",
    "    l.append(e)\n",
    "\n",
    "CV=0\n",
    "IV=0\n",
    "\n",
    "\n",
    "for i in l:\n",
    "    if i.isalpha() or \" \" in i:\n",
    "        CV=CV+1\n",
    "    else:\n",
    "        IV=IV+1\n",
    "   \n",
    "print(\"CV\",CV)\n",
    "print(\"IV\",IV)"
   ]
  },
  {
   "cell_type": "code",
   "execution_count": null,
   "id": "c151c28e",
   "metadata": {},
   "outputs": [],
   "source": [
    "def isValidString(strLis):\n",
    "    countValidString = 0\n",
    "    CountInvalidString = 0\n",
    "    for str in strLis:\n",
    "        temp = \"\"\n",
    "        for word in str.split():\n",
    "            temp = temp + word.strip()\n",
    "        if temp.isalpha():\n",
    "            countValidString = countValidString + 1\n",
    "        else:\n",
    "            CountInvalidString = CountInvalidString + 1\n",
    "    return [countValidString,CountInvalidString]\n",
    "\n",
    "strLis = []\n",
    "for i in range(int(input())):\n",
    "    strLis.append(input())\n",
    "\n",
    "valid,Invalid = isValidString(strLis)\n",
    "print(\"Count Of Valid String = \",valid)\n",
    "print(\"Count of Invalid String =\",Invalid)"
   ]
  },
  {
   "cell_type": "code",
   "execution_count": null,
   "id": "7075fef4",
   "metadata": {},
   "outputs": [],
   "source": [
    "                                            "
   ]
  },
  {
   "cell_type": "code",
   "execution_count": null,
   "id": "29b8b8f5",
   "metadata": {},
   "outputs": [],
   "source": []
  },
  {
   "cell_type": "code",
   "execution_count": null,
   "id": "3d22b5a3",
   "metadata": {},
   "outputs": [],
   "source": [
    "                                        #Problem 3\n",
    "\n",
    "'''Write a python code to print the position or index of a given string(taken as an input from user) from a given list of strings.\n",
    "\n",
    "The program will take an input from user in the form of a string and will pass the string as argument to a function. The function will take the string as argument and return position(or index) of the list if the passed string is present in the list, else it'll return “String not found”. If the passed string is present at multiple indices, in that case the function should only return the first index of occurrence.\n",
    "\n",
    "Considering the above scenario into account, build the logic to print the position of passed string from a given list of strings.\n",
    "\n",
    "Refer to below instructions and sample input-output for more clarity on the requirement.\n",
    "\n",
    "Instructions to write main section of the code:\n",
    "\n",
    "a. You would require to write the main section completely, hence please follow the below instructions for the same.\n",
    "b. You would require to write the main program which is inline to the \"sample input description section\" mentioned below and to read the data in the same sequence. \n",
    "\n",
    "\n",
    "Steps inside main section:\n",
    "\n",
    "1. Create a list of strings. To create the list,\n",
    "i. First read the number of elements/strings you want to store in the list.\n",
    "ii. Read a string and add it to the list. This point repeats for the number of elements/strings to be stored in the list (considered in the first line of input i.e. in point #1.i).\n",
    "\n",
    "2. Read a string from user which will be searched in the list of strings. Call the function 'searchMyString' and pass the taken input to be searched in the list of strings.\n",
    "\n",
    "3. Print the output as “Position of the searched string is: ” (excluding quotes, value is the index of first occurence returned by the function).\n",
    "\n",
    "\n",
    "You can use/refer the below given sample input and output to verify your solution.\n",
    "\n",
    "Sample Input (below) description:\n",
    "\n",
    "The first line of input taken in the main section contains an integer value representing the number of elements/strings to be added to the list.\n",
    "\n",
    "The next lines of inputs are the strings to be added to the list one after another and is repeated for the number of elements/strings given in the first line of input. \n",
    "(each line represents one string to be added to the list).\n",
    "\n",
    "The last line of input is the string which user wants to search in the given list.\n",
    "\n",
    "\n",
    "Sample Input:\n",
    "\n",
    "4\n",
    "Hello Good Morning\n",
    "abcd123Fghy\n",
    "India\n",
    "progoti.c\n",
    "India\n",
    "\n",
    "\n",
    "Sample Output:\n",
    "Position of the searched string is:2'''"
   ]
  },
  {
   "cell_type": "code",
   "execution_count": 11,
   "id": "4d19ed1c",
   "metadata": {},
   "outputs": [
    {
     "name": "stdout",
     "output_type": "stream",
     "text": [
      "4\n",
      "aa\n",
      "bb\n",
      "cc\n",
      "dd\n",
      "cc\n",
      "Position of the searched string is:2\n"
     ]
    }
   ],
   "source": [
    "def searchMyString(size):\n",
    " l=[]\n",
    " for i in range(size):\n",
    "  element  = str(input())\n",
    "  l.append(element)\n",
    "  \n",
    "  \n",
    " String = str(input())\n",
    " for j in range(len(l)):\n",
    "  if l[j]==String:\n",
    "   print(f\"Position of the searched string is:{j}\")\n",
    "   break\n",
    "  \n",
    "  if String not in l:\n",
    "   print(\"String not found\")\n",
    "    \n",
    "size = int(input())\n",
    "searchMyString(size)"
   ]
  },
  {
   "cell_type": "code",
   "execution_count": null,
   "id": "4ee8fa32",
   "metadata": {},
   "outputs": [],
   "source": [
    "                                    #problem 5\n",
    "\n",
    "'''1.Read a string.\n",
    "\n",
    "2.Read a value N. Value of N should be greater than 0 (zero).\n",
    "\n",
    "3.Find the N characters starting from the middle of the string.\n",
    "NOTE 1: middle=int(len(string)/2)\n",
    "NOTE 2: If the N characters are not available starting from the middle, then return up to the end of the string\n",
    "\n",
    "\n",
    "You can use/refer the below given sample input and outputs to verify your solution.\n",
    "\n",
    "Sample Input (below) description:\n",
    "\n",
    "The first line of input taken in the main section contains a String value.\n",
    "The next line of input represents the value of N, i.e. the number of characters to be extracted starting from middle of String.\n",
    "\n",
    "Sample Input:\n",
    "python1\n",
    "1\n",
    "Sample Output:\n",
    "h\n",
    "\n",
    "Sample Input:\n",
    "have123fun\n",
    "5\n",
    "Sample Output:\n",
    "123fu\n",
    "\n",
    "'''"
   ]
  },
  {
   "cell_type": "code",
   "execution_count": 27,
   "id": "aaef9324",
   "metadata": {},
   "outputs": [
    {
     "name": "stdout",
     "output_type": "stream",
     "text": [
      "have123fun\n",
      "5\n",
      "123fu\n"
     ]
    }
   ],
   "source": [
    "def middle_char(String,n):\n",
    "    middle = int(len(String)/2)\n",
    "    \n",
    "    if len(String)%2==0:\n",
    "        middle = middle - 1\n",
    "    \n",
    "    if middle+n > len(String):\n",
    "        print(String[middle:])\n",
    "\n",
    "    else:\n",
    "        print(String[middle:middle+n])\n",
    "        \n",
    "String = input()\n",
    "n = int(input())\n",
    "middle_char(String,n)\n",
    "    "
   ]
  },
  {
   "cell_type": "code",
   "execution_count": 24,
   "id": "a9a805b2",
   "metadata": {},
   "outputs": [
    {
     "name": "stdout",
     "output_type": "stream",
     "text": [
      "10\n",
      "4\n"
     ]
    }
   ],
   "source": [
    "String = \"have123fun\"\n",
    "middle = int(len(String)/2)\n",
    "if len(String)%2==0:\n",
    "    middle = middle - 1\n",
    "print(len(String))\n",
    "print(middle)"
   ]
  },
  {
   "cell_type": "code",
   "execution_count": null,
   "id": "ced15128",
   "metadata": {},
   "outputs": [],
   "source": [
    "                                #IPA 20th jan 1st problem\n",
    "'''\n",
    "\n",
    "Write a python code to find numbers and alphabets from the given string and put it in\n",
    "one list.\n",
    "\n",
    "The list will have two elements – the first element is a type of string which contains the\n",
    "alphabet and the second element is a type of integer. The input string will not have any\n",
    "special characters. The input string can have either the combination of Alphabets and\n",
    "Numbers or only Alphabets or only Numbers or it can be an empty string.\n",
    "Define a function to build a logic which returns a list. This list will contains a string first\n",
    "followed by numbers (must be in an integer format).\n",
    "\n",
    "Cases to be handled:\n",
    "1. If the string contains alphabets and numbers both then the list will contain two\n",
    "elements. First will be a string and the second will be a number(s) [Alphabets,\n",
    "Numbers].\n",
    "2. If the string contains only alphabets then the list will contain only one element in the\n",
    "list [Alphabets].\n",
    "3. If the string contains only numbers then the list will contain only one element in the\n",
    "list [Numbers].\n",
    "4. If the string is empty, then it will return an empty list [].\n",
    "Refer to the instructions below and sample input-output for more clarity on the\n",
    "requirement.\n",
    "Instructions to write the main section of the code.\n",
    "You would be required to write the main section completely, hence follow the below\n",
    "instructions\n",
    "1. First read a string from the user.\n",
    "2. Next, call a function str_num_list(string) with string as an argument.\n",
    "3. str_num_list(string) function will separate the alphabet and numbers and return the\n",
    "list.\n",
    "4. Print the returned list from the str_num_list(string)\n",
    "\n",
    "You can use/refer the below given sample input and output to verify your solution.\n",
    "\n",
    "Sample Input:\n",
    "Hyper12345Lower100\n",
    "Sample Output:\n",
    "['HyperLower', 12345100]\n",
    "'''"
   ]
  },
  {
   "cell_type": "code",
   "execution_count": 32,
   "id": "43ae958e",
   "metadata": {},
   "outputs": [
    {
     "name": "stdout",
     "output_type": "stream",
     "text": [
      "Hyper12345Lower100\n",
      "['HyperLower', 12345100]\n"
     ]
    }
   ],
   "source": [
    "def sep_alpha_num(string):\n",
    "    alpha = \"\"\n",
    "    num = \"\"\n",
    "    \n",
    "    for i in string:\n",
    "        if i.isalpha():\n",
    "            alpha=alpha+i\n",
    "            \n",
    "        if i.isdigit():\n",
    "            num = num+i\n",
    "    l = []       \n",
    "    l.append(alpha)\n",
    "    l.append(int(num))\n",
    "    \n",
    "    print(l)\n",
    "    \n",
    "string = input()\n",
    "sep_alpha_num(string)\n",
    "            "
   ]
  },
  {
   "cell_type": "code",
   "execution_count": 45,
   "id": "d6859f48",
   "metadata": {},
   "outputs": [
    {
     "data": {
      "text/plain": [
       "'IPA 14-Jan-2022'"
      ]
     },
     "execution_count": 45,
     "metadata": {},
     "output_type": "execute_result"
    }
   ],
   "source": [
    "'''IPA 14-Jan-2022'''\n"
   ]
  },
  {
   "cell_type": "code",
   "execution_count": 39,
   "id": "611b8c32",
   "metadata": {},
   "outputs": [
    {
     "name": "stdout",
     "output_type": "stream",
     "text": [
      "Enter the input string: i am good\n",
      "Enter the comparison string: who am i\n",
      "Input string is not valid\n",
      "Input string: i am good\n"
     ]
    }
   ],
   "source": [
    "def validate_input_string():\n",
    "    input_string = input(\"Enter the input string: \")\n",
    "    comparison_string = input(\"Enter the comparison string: \").lower()\n",
    "\n",
    "    for word in input_string.split():\n",
    "        for ch in word.lower():\n",
    "            if ch not in comparison_string:\n",
    "                print(\"Input string is not valid\")\n",
    "                print(\"Input string:\", input_string)\n",
    "                return\n",
    "\n",
    "    print(\"Input string is valid\")\n",
    "    print(\"Input string:\", input_string)\n",
    "\n",
    "validate_input_string()\n"
   ]
  },
  {
   "cell_type": "code",
   "execution_count": null,
   "id": "35fe8bbb",
   "metadata": {},
   "outputs": [],
   "source": [
    "'''. Make a function check_palindrome() that takes a list of strings as an argument. \n",
    "It returns the string which is a palindrome.\n",
    "Input:\n",
    "\n",
    "3\n",
    "\n",
    "malayalam\n",
    "\n",
    "radar\n",
    "\n",
    "nitish\n",
    "\n",
    "Output:\n",
    "\n",
    "malayalam\n",
    "\n",
    "radar'''"
   ]
  },
  {
   "cell_type": "code",
   "execution_count": 51,
   "id": "e5620802",
   "metadata": {},
   "outputs": [
    {
     "name": "stdout",
     "output_type": "stream",
     "text": [
      "3\n",
      "malayalam\n",
      "radar\n",
      "nitish\n",
      "malayalam\n",
      "radar\n"
     ]
    }
   ],
   "source": [
    "def check_palindrome(size):\n",
    "    l=[]\n",
    "    for i in range(size):\n",
    "        element = str(input())\n",
    "        l.append(element)\n",
    "    \n",
    "  \n",
    "    for j in l:\n",
    "        if j==j[::-1]:\n",
    "            print(j)\n",
    "            \n",
    "   \n",
    "size = int(input())\n",
    "check_palindrome(size)\n",
    "    "
   ]
  },
  {
   "cell_type": "code",
   "execution_count": null,
   "id": "45224091",
   "metadata": {},
   "outputs": [],
   "source": [
    "''' Create a function count_words() which takes a string as input and creates a dictionary\n",
    "with a word in the string as a key and its value as the number of times the word is repeated in the string. \n",
    "It should return the dictionary.\n",
    "eg: “hello hi hello world hello” \n",
    "          dict={‘hello’:3,’hi’:1,’word’:1}\n",
    "Create another function max_accurance_word() which takes a string as input and returns the word \n",
    "which is occurring a maximum number of times in the string. Use the count_words function inside this function.\n",
    "\n",
    "Sample input:\n",
    "\n",
    "“hello hi hello world hello”\n",
    "\n",
    "Sample output:\n",
    "\n",
    "‘hello'''"
   ]
  },
  {
   "cell_type": "code",
   "execution_count": 67,
   "id": "5dba5341",
   "metadata": {},
   "outputs": [
    {
     "name": "stdout",
     "output_type": "stream",
     "text": [
      "['hello', 'hi', 'hello', 'world', 'hello']\n",
      "{'hello', 'hi', 'world'}\n",
      "{'hello': 3, 'hi': 1, 'world': 1}\n",
      "[3, 1, 1]\n",
      "3\n",
      "hello\n"
     ]
    }
   ],
   "source": [
    "#def count_words(string):\n",
    "a = \"hello hi hello world hello\"\n",
    "\n",
    "b = a.split()\n",
    "print(b)\n",
    "\n",
    "s =set(b)\n",
    "print(s)\n",
    "\n",
    "d={}\n",
    "for i in s:\n",
    "    e = b.count(i)\n",
    "    d[i] = e\n",
    "print(d)\n",
    "\n",
    "l1=[]\n",
    "for j in d.values():\n",
    "    l1.append(j)\n",
    "print(l1)\n",
    "\n",
    "max_l1 = max(l1)\n",
    "print(max_l1)\n",
    "\n",
    "for k in d.keys():\n",
    "    if d[k]==max_l1:\n",
    "        print(k)"
   ]
  },
  {
   "cell_type": "code",
   "execution_count": 2,
   "id": "3050b834",
   "metadata": {},
   "outputs": [
    {
     "name": "stdout",
     "output_type": "stream",
     "text": [
      "hello hi hello world hello\n",
      "hello\n"
     ]
    }
   ],
   "source": [
    "def count_words(string):\n",
    "    l = string.split()\n",
    "    s = set(l)\n",
    "    d = {}\n",
    "    \n",
    "    for i in s:\n",
    "        a = l.count(i)\n",
    "        d[i] = a\n",
    "    return d\n",
    "        \n",
    "def max_occurance_word(string):\n",
    "    \n",
    "    d = count_words(string)\n",
    "    \n",
    "    li = []\n",
    "    for j in d.values():\n",
    "        li.append(j)\n",
    "        \n",
    "    max_li = max(li)\n",
    "    \n",
    "    for k in d.keys():\n",
    "        if d[k]==max_li:\n",
    "            print(k)\n",
    "            \n",
    "\n",
    "string = input()        \n",
    "max_occurance_word(string)        \n",
    "    \n",
    "    \n",
    "    "
   ]
  },
  {
   "cell_type": "code",
   "execution_count": null,
   "id": "6f591245",
   "metadata": {},
   "outputs": [],
   "source": [
    "'''Question \n",
    "Write a python code to print the total number of multiples of an integer taken from the user present in \n",
    "a list of Integers taken as an input from the user. \n",
    "Write a python code to print the total number of multiples of an integer.\n",
    "The program will take 3 inputs:\n",
    "1. The number of elements, lets say n\n",
    "2. n integers(List of elements) \n",
    "3. The number whose multiples are to be determined. \n",
    "Write the program that includes a function will take an argument(integer type) whose multiples are to \n",
    "be determined.This function will return the total number of multiples found in the list for the input \n",
    "argument.\n",
    "In case, no multiples are found, the method will return \"Multiples not found\".\n",
    "Considering the above scenario into account, build the logic to print total number of multiples of passed \n",
    "integer from a given list of elements.\n",
    "Refer to below instructions and sample input-output for more clarity on the requirement.\n",
    "Instructions to write main section of the code:\n",
    "a. You would require to write the main section completely, hence please follow the below instructions \n",
    "for the same.\n",
    "b. You would require to write the main program which is inline to the \"sample input description section\" \n",
    "mentioned below and to read the data in the same sequence.\n",
    "Steps inside main section:\n",
    "1. Create a list of Integers.To create the list,\n",
    "i. First read the number of elements/integers you want to store in the list.\n",
    "ii. Read an Integer and add it to the list. This point repeats for the number of elements/Integers to be \n",
    "stored in the list \n",
    "(considered in the first line of input i.e. in point #1.i).\n",
    "\n",
    "2. Read an Integer from user whose multiples will be searched in the list of integers.\n",
    "3.Call the function 'findMultiples' and pass the taken input whose multiples will be searched in the list \n",
    "of Integers.\n",
    "4. Print the output as “Number of Multiples of the passed Integer<Space>:<Space><value>” (excluding \n",
    "quotes, value is the frequency of number of multiples).\n",
    "You can use/refer the below given sample input and output to verify your solution.\n",
    "Sample Input (below) description:\n",
    "1.The first line of input taken in the main section contains an integer value representing the number of \n",
    "elements/Integers to be added to the list.\n",
    "2.The next lines of inputs are the strings to be added to the list one after another and is repeated for the \n",
    "number of elements/Integers given in the first line of input.\n",
    "(each line represents one Integer to be added to the list).\n",
    "3.The last line of input is the Integer whose multiples is to be found.\n",
    "Sample Input:\n",
    "4\n",
    "5\n",
    "5\n",
    "15\n",
    "2\n",
    "5\n",
    "Sample Output:\n",
    "Number of Multiples of the passed Integer : 3\n",
    "'''"
   ]
  },
  {
   "cell_type": "code",
   "execution_count": 16,
   "id": "bad30842",
   "metadata": {},
   "outputs": [
    {
     "name": "stdout",
     "output_type": "stream",
     "text": [
      "2\n",
      "7\n",
      "9\n",
      "5\n",
      "Multiples not found\n"
     ]
    }
   ],
   "source": [
    "def findMultiples(size):\n",
    "    l = []\n",
    "    for i in range(size):\n",
    "        element = int(input())\n",
    "        l.append(element)\n",
    "    \n",
    "    \n",
    "    number = int(input())\n",
    "    count = 0\n",
    "    for j in l:\n",
    "        if j%number==0:\n",
    "            count = count + 1\n",
    "    \n",
    "            \n",
    "    if count == 0:\n",
    "        print(\"Multiples not found\")\n",
    "    else:\n",
    "        print(\"Number of Multiples of the passed Integer :\",count)\n",
    "    \n",
    "    \n",
    "            \n",
    "size = int(input())\n",
    "findMultiples(size)"
   ]
  },
  {
   "cell_type": "code",
   "execution_count": null,
   "id": "66cd9b84",
   "metadata": {},
   "outputs": [],
   "source": [
    "'''Write a python program to remove the suffix \"ly\" in words of a string ,if present .\n",
    "The program will take an input from user in the form of a string. It then has to look for words within \n",
    "the string who have the suffix \"ly\" and remove the suffix .For other words i.e. The ones who do not \n",
    "have the suffix \"ly\", must be retained as it is. The output will be a string of words without having the \n",
    "suffix “ly”.Any two words in a string is separated by a single space. Considering the above scenario \n",
    "into account, build the logic to print the string having words with no suffix \"ly\"..\n",
    "Refer to below instructions and sample input-output for more clarity on the requirement.\n",
    "Instructions to write main section of the code:\n",
    "a. You would require to write the main section completely, hence please follow the below instructions \n",
    "for the same.\n",
    "b. You would require to write the main program which is inline to the \"sample input description \n",
    "section\" mentioned below and to read the data in the same sequence. \n",
    "Steps inside main section:\n",
    "1. First read an input string from the user \n",
    "2.For each word in the string, if the word contains the suffix \"ly\", remove it\n",
    "3. Print the output string i.e.string containing words without having the suffix \"ly\".\n",
    "You can use/refer the below given sample input and output to verify your solution.\n",
    "Sample Input (below) description:\n",
    "The line of input taken in the main section is a string with words having /not having suffix \"ly\"\n",
    "\n",
    "\n",
    "For example :\n",
    "Input-The patient simply waited patiently in the clinic\n",
    "Output-The patient simp waited patient in the clinic'''"
   ]
  },
  {
   "cell_type": "code",
   "execution_count": 10,
   "id": "cfffdaf9",
   "metadata": {},
   "outputs": [
    {
     "name": "stdout",
     "output_type": "stream",
     "text": [
      "simppatient\n"
     ]
    }
   ],
   "source": [
    "string = \"The patient simply waited patiently in the clinic\"\n",
    "b=\"ly\"\n",
    "a = string.split()\n",
    "l=[]\n",
    "for i in a:\n",
    "    if i[len(i)-2:]==\"ly\":\n",
    "        c=i.replace(b,\"\")\n",
    "        l.append(c)\n",
    "output = \"\".join(l)\n",
    "print(output)"
   ]
  },
  {
   "cell_type": "code",
   "execution_count": 21,
   "id": "74e52cba",
   "metadata": {},
   "outputs": [
    {
     "name": "stdout",
     "output_type": "stream",
     "text": [
      "The patient simp waited patient in the clinic\n"
     ]
    }
   ],
   "source": [
    "string = \"The patient simply waited patiently in the clinic\"\n",
    "b = \"ly\"\n",
    "a = string.split()\n",
    "l = []\n",
    "\n",
    "for i in a:\n",
    "    if i[len(i)-2:] == \"ly\":\n",
    "        c = i[:-2]\n",
    "        l.append(c)\n",
    "    else:\n",
    "        l.append(i)\n",
    "\n",
    "output = \" \".join(l)\n",
    "print(output)\n"
   ]
  },
  {
   "cell_type": "code",
   "execution_count": null,
   "id": "3ba88b38",
   "metadata": {},
   "outputs": [],
   "source": [
    "'''Write a python code to find numbers and alphabets from the given string and put it in\n",
    "one list.\n",
    "The list will have two elements – the first element is a type of string which contains the\n",
    "alphabet and the second element is a type of integer. The input string will not have any\n",
    "special characters. The input string can have either the combination of Alphabets and\n",
    "Numbers or only Alphabets or only Numbers or it can be an empty string.\n",
    "Define a function to build a logic which returns a list. This list will contains a string first\n",
    "followed by numbers (must be in an integer format).\n",
    "Cases to be handled:\n",
    "1. If the string contains alphabets and numbers both then the list will contain two\n",
    "elements. First will be a string and the second will be a number(s) [Alphabets,\n",
    "Numbers].\n",
    "2. If the string contains only alphabets then the list will contain only one element in the\n",
    "list [Alphabets].\n",
    "3. If the string contains only numbers then the list will contain only one element in the\n",
    "list [Numbers].\n",
    "4. If the string is empty, then it will return an empty list [].\n",
    "Refer to the instructions below and sample input-output for more clarity on the\n",
    "requirement.\n",
    "Instructions to write the main section of the code.\n",
    "You would be required to write the main section completely, hence follow the below\n",
    "instructions\n",
    "1. First read a string from the user.\n",
    "2. Next, call a function str_num_list(string) with string as an argument.\n",
    "3. str_num_list(string) function will separate the alphabet and numbers and return the\n",
    "list.\n",
    "4. Print the returned list from the str_num_list(string)\n",
    "You can use/refer the below given sample input and output to verify your solution.\n",
    "\n",
    "Sample Input:\n",
    "Hyper12345Lower100\n",
    "Sample Output:\n",
    "['HyperLower', 12345100]\n",
    "'''\n",
    "\n"
   ]
  },
  {
   "cell_type": "code",
   "execution_count": 89,
   "id": "dcac041c",
   "metadata": {},
   "outputs": [
    {
     "name": "stdout",
     "output_type": "stream",
     "text": [
      "Hyper12345Lower100\n",
      "['HyperLower', 12345100]\n"
     ]
    }
   ],
   "source": [
    "def str_num_list(string):\n",
    "    \n",
    "   \n",
    "    l1=[]\n",
    "    l2=[]\n",
    "    for i in string:\n",
    "        if i.isalpha():\n",
    "            l1.append(i)\n",
    "        else:\n",
    "            l2.append(i)\n",
    "            \n",
    "   \n",
    "    l=[]\n",
    "    if len(l1)!=0 and len(l2)!=0:\n",
    "        l3=\"\".join(l1)\n",
    "        l4=int(\"\".join(l2))\n",
    "        l.append(l3)\n",
    "        l.append(l4)\n",
    "        print(l)\n",
    "    elif len(l1)==0:\n",
    "        l4=int(\"\".join(l2))\n",
    "        l5 = [l4]\n",
    "        print(l5)\n",
    "    elif len(l2)==0:\n",
    "        l3=\"\".join(l1)\n",
    "        l6 = [l3]\n",
    "        print(l6)\n",
    "    \n",
    "string=input()\n",
    "str_num_list(string)\n",
    "            "
   ]
  },
  {
   "cell_type": "code",
   "execution_count": 8,
   "id": "e3afcbc7",
   "metadata": {},
   "outputs": [
    {
     "name": "stdout",
     "output_type": "stream",
     "text": [
      "4\n",
      "1\n",
      "2\n",
      "3\n",
      "4\n",
      "3\n",
      "2\n",
      "34\n",
      "3\n",
      "Common elements: [2, 3]\n"
     ]
    }
   ],
   "source": [
    "def find_common_elements(size1,size2):\n",
    "    \n",
    "    size1=int(input())\n",
    "    l1=[]\n",
    "    for i in range(size1):\n",
    "        e = int(input())\n",
    "        l1.append(e)\n",
    "    \n",
    "    size2=int(input())\n",
    "    l2=[]\n",
    "    for j in range(size2):\n",
    "        e1 = int(input())\n",
    "        l2.append(e1)\n",
    "    \n",
    "    l3=[]\n",
    "    for i in l1:\n",
    "        for j in l2:\n",
    "            if i==j:\n",
    "                l3.append(i)\n",
    "    \n",
    "    \n",
    "    if l3==[]:\n",
    "        print(\"No Common Elements\")\n",
    "    else:\n",
    "        print(\"Common elements:\",l3)\n",
    "            \n",
    "\n",
    "\n",
    "find_common_elements(size1,size2)\n",
    "        \n",
    "        "
   ]
  },
  {
   "cell_type": "code",
   "execution_count": 5,
   "id": "123cf900",
   "metadata": {},
   "outputs": [
    {
     "name": "stdout",
     "output_type": "stream",
     "text": [
      "madam is smart\n",
      "1\n",
      "2\n"
     ]
    }
   ],
   "source": [
    "s=input()\n",
    "c=0\n",
    "d=0\n",
    "for i in s.split():\n",
    "    if i[::]==i[::-1]:\n",
    "        c=c+1\n",
    "    else:\n",
    "        d=d+1\n",
    "print(c)\n",
    "print(d)\n",
    "        \n",
    "    "
   ]
  },
  {
   "cell_type": "code",
   "execution_count": 10,
   "id": "c2fd02fa",
   "metadata": {},
   "outputs": [
    {
     "name": "stdout",
     "output_type": "stream",
     "text": [
      "['ewnwb', 'cnjwenwn']\n",
      "Ewnwb  Cnjwenwn\n",
      "Ewnwb  cnjwenwn\n"
     ]
    }
   ],
   "source": [
    "s=\"ewnwb  cnjwenwn\"\n",
    "a=s.split()\n",
    "print(a)\n",
    "b=s.title()\n",
    "print(b)\n",
    "c=s.capitalize()\n",
    "print(c)"
   ]
  },
  {
   "cell_type": "code",
   "execution_count": null,
   "id": "51e36057",
   "metadata": {},
   "outputs": [],
   "source": []
  }
 ],
 "metadata": {
  "kernelspec": {
   "display_name": "Python 3 (ipykernel)",
   "language": "python",
   "name": "python3"
  },
  "language_info": {
   "codemirror_mode": {
    "name": "ipython",
    "version": 3
   },
   "file_extension": ".py",
   "mimetype": "text/x-python",
   "name": "python",
   "nbconvert_exporter": "python",
   "pygments_lexer": "ipython3",
   "version": "3.9.7"
  }
 },
 "nbformat": 4,
 "nbformat_minor": 5
}
