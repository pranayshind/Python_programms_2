{
 "cells": [
  {
   "cell_type": "code",
   "execution_count": null,
   "id": "89bb4b1f",
   "metadata": {},
   "outputs": [],
   "source": [
    "                                    '''1)Reading and display values'''"
   ]
  },
  {
   "cell_type": "code",
   "execution_count": 2,
   "id": "524347b9",
   "metadata": {},
   "outputs": [
    {
     "name": "stdout",
     "output_type": "stream",
     "text": [
      "hello TCS\n"
     ]
    }
   ],
   "source": [
    "print(\"hello\" , end=\" \")\n",
    "print(\"TCS\")"
   ]
  },
  {
   "cell_type": "code",
   "execution_count": 12,
   "id": "b431ede3",
   "metadata": {},
   "outputs": [
    {
     "name": "stdout",
     "output_type": "stream",
     "text": [
      "hello\n",
      "world\n"
     ]
    }
   ],
   "source": [
    "print(\"hello\",\"world\",sep=\"\\n\")"
   ]
  },
  {
   "cell_type": "code",
   "execution_count": 16,
   "id": "9ebe187b",
   "metadata": {},
   "outputs": [
    {
     "name": "stdout",
     "output_type": "stream",
     "text": [
      "please enter your name\n",
      "Pranay\n",
      "Pranay\n"
     ]
    }
   ],
   "source": [
    "name = input(\"please enter your name\\n\")\n",
    "print(name)"
   ]
  },
  {
   "cell_type": "code",
   "execution_count": null,
   "id": "38e98a94",
   "metadata": {},
   "outputs": [],
   "source": [
    "''' multiline comments'''\n",
    "#sinle line comment"
   ]
  },
  {
   "cell_type": "code",
   "execution_count": 17,
   "id": "5a294385",
   "metadata": {},
   "outputs": [
    {
     "name": "stdout",
     "output_type": "stream",
     "text": [
      "please enter age\n",
      "45\n",
      "45\n"
     ]
    }
   ],
   "source": [
    "'''Input wiil always return string hence we use typecasting method i.e.int(input to store input \n",
    " values in number data type for ex.'''\n",
    "\n",
    "age = int(input(\"please enter age\\n\"))\n",
    "print(age)\n"
   ]
  },
  {
   "cell_type": "code",
   "execution_count": 3,
   "id": "9e2e6df2",
   "metadata": {},
   "outputs": [
    {
     "name": "stdout",
     "output_type": "stream",
     "text": [
      "please enter number\n",
      "10\n",
      "please enter number\n",
      "3\n",
      "10 + 3 = 13\n",
      "10 - 3 = 7\n",
      "10 * 3= 30\n",
      "10 /3 = 3.3333333333333335\n",
      "please enter number\n",
      "10\n",
      "please enter number\n",
      "3\n",
      "10 + 3 = 13\n",
      "10 - 3 = 7\n",
      "10 * 3= 30\n",
      "10 /3 = 3.3333333333333335\n",
      "10 ** 3 = 1000\n",
      "10 // 3 = 3\n",
      "10 % 3 = 1\n"
     ]
    }
   ],
   "source": [
    "'''string formatting'''\n",
    "\n",
    "a=int(input(\"please enter number\\n\"))\n",
    "b= int(input(\"please enter number\\n\"))\n",
    "print(\"{x} + {y} = {z}\".format(x=a,y=b,z=a+b))\n",
    "print(\"{x} - {y} = {z}\".format(x=a,y=b,z=a-b))\n",
    "print(\"{x} * {y}= {z}\".format(x=a,y=b,z=a*b))\n",
    "print(\"{x} /{y} = {z}\".format(x=a,y=b,z=a/b))\n",
    "'''string formatting'''\n",
    "\n",
    "a=int(input(\"please enter number\\n\"))\n",
    "b= int(input(\"please enter number\\n\"))\n",
    "\n",
    "print(\"{x} + {y} = {z}\".format(x=a,y=b,z=a+b))\n",
    "print(\"{x} - {y} = {z}\".format(x=a,y=b,z=a-b))\n",
    "print(\"{x} * {y}= {z}\".format(x=a,y=b,z=a*b))\n",
    "print(\"{x} /{y} = {z}\".format(x=a,y=b,z=a/b))\n",
    "print(\"{x} ** {y} = {z}\".format(x=a,y=b,z=a**b)) #power\n",
    "print(\"{x} // {y} = {z}\".format(x=a,y=b,z=a//b)) #Result is truncated(gives flow division)\n",
    "print(\"{x} % {y} = {z}\".format(x=a,y=b,z=a%b))   #result is truncated(gives remainder)"
   ]
  },
  {
   "cell_type": "code",
   "execution_count": null,
   "id": "e049745b",
   "metadata": {},
   "outputs": [],
   "source": []
  },
  {
   "cell_type": "code",
   "execution_count": null,
   "id": "72b09c3d",
   "metadata": {},
   "outputs": [],
   "source": [
    "                                     '''2) Conditional Statements'''"
   ]
  },
  {
   "cell_type": "code",
   "execution_count": 3,
   "id": "29fe19c9",
   "metadata": {},
   "outputs": [
    {
     "name": "stdout",
     "output_type": "stream",
     "text": [
      "Bad\n"
     ]
    }
   ],
   "source": [
    "'''Indentation => here 2nd print statement executed every time we runn code because it is not indentated'''\n",
    "\n",
    "score = 50\n",
    "if score>70:\n",
    "    print(\"Good\")\n",
    "print(\"Bad\")"
   ]
  },
  {
   "cell_type": "code",
   "execution_count": 10,
   "id": "cb4a0395",
   "metadata": {},
   "outputs": [
    {
     "name": "stdout",
     "output_type": "stream",
     "text": [
      "enter score:\n",
      "80\n",
      "Well done you're done\n"
     ]
    }
   ],
   "source": [
    "'''if else => use when 1 condition is given \n",
    "   if-elif-else => used when more than 1 condtion is used'''\n",
    "\n",
    "score = int(input(\"enter score:\\n\"))\n",
    "if score<40:\n",
    "    print(\"work hard\")\n",
    "elif score<50:\n",
    "    print(\"study well\")\n",
    "elif score<55:\n",
    "    print(\"well done but just give little bit push to study\")\n",
    "else:\n",
    "    print(\"Well done you're done\")\n"
   ]
  },
  {
   "cell_type": "code",
   "execution_count": 11,
   "id": "0ca78c1c",
   "metadata": {},
   "outputs": [
    {
     "name": "stdout",
     "output_type": "stream",
     "text": [
      "please enter you'r score:\n",
      "75\n",
      "c\n"
     ]
    }
   ],
   "source": [
    "'''question1'''\n",
    "\n",
    "score = int(input(\"please enter you'r score:\\n\"))\n",
    "\n",
    "if score>=90:\n",
    "    print(\"A\")\n",
    "elif score>=80:\n",
    "    print(\"B\")\n",
    "elif score>=70:\n",
    "    print(\"c\")\n",
    "else:\n",
    "    print(\"D\")"
   ]
  },
  {
   "cell_type": "code",
   "execution_count": 1,
   "id": "d28151e3",
   "metadata": {},
   "outputs": [
    {
     "name": "stdout",
     "output_type": "stream",
     "text": [
      "enter english score\n",
      "92\n",
      "enter maths score\n",
      "95\n",
      "enter phyics score\n",
      "96\n",
      "Good score\n"
     ]
    }
   ],
   "source": [
    "'''And statement =>only prints when all conditions are true'''\n",
    "\n",
    "english_score = int(input(\"enter english score\\n\"))\n",
    "maths_score = int(input(\"enter maths score\\n\"))\n",
    "physics_score = int(input(\"enter phyics score\\n\"))\n",
    "\n",
    "if english_score>90 and maths_score>90 and physics_score>90:\n",
    "    print(\"Good score\")"
   ]
  },
  {
   "cell_type": "code",
   "execution_count": 3,
   "id": "f402924e",
   "metadata": {},
   "outputs": [
    {
     "name": "stdout",
     "output_type": "stream",
     "text": [
      "enter english score\n",
      "54\n",
      "enter maths score\n",
      "95\n",
      "enter phyics score\n",
      "75\n",
      "Good score\n"
     ]
    }
   ],
   "source": [
    "'''or statement => prints when any 1 condition is corect '''\n",
    "\n",
    "english_score = int(input(\"enter english score\\n\"))\n",
    "maths_score = int(input(\"enter maths score\\n\"))\n",
    "physics_score = int(input(\"enter phyics score\\n\"))\n",
    "\n",
    "if english_score>90 or maths_score>90 or physics_score>90:\n",
    "    print(\"Good score\")"
   ]
  },
  {
   "cell_type": "code",
   "execution_count": null,
   "id": "ca6d6ecd",
   "metadata": {},
   "outputs": [],
   "source": []
  },
  {
   "cell_type": "code",
   "execution_count": null,
   "id": "7b72492e",
   "metadata": {},
   "outputs": [],
   "source": [
    "                                         '''3)Logical Operations'''"
   ]
  },
  {
   "cell_type": "code",
   "execution_count": null,
   "id": "cfd977e2",
   "metadata": {},
   "outputs": [],
   "source": [
    "'''operanads are the values or strings on which operation is performed\n",
    "for ex. 6<4 => here 6 and 4 are operands ;  < is operator\n",
    "Ex. of operators => 1] == (equal to) , 2]!= (not eual to)'''\n",
    "\n",
    "# Logical operatoes => And , Or, Not\n",
    "# Not is urinary operand i.e. it works on only 1 operand\n",
    "# And, Or is binary operand i.e. it works on 2 Operands\n",
    "\n",
    "\n",
    "'''is  =>take care of memory location ; ==  =>for checking value'''\n",
    "\n"
   ]
  },
  {
   "cell_type": "code",
   "execution_count": 4,
   "id": "3aee7b73",
   "metadata": {},
   "outputs": [
    {
     "name": "stdout",
     "output_type": "stream",
     "text": [
      "10+15=25\n"
     ]
    }
   ],
   "source": [
    "'''printing in python'''\n",
    "\n",
    "a=10\n",
    "b=15\n",
    "c=a+b\n",
    "print(\"{x}+{y}={z}\".format(x=a, y=b, z=c))"
   ]
  },
  {
   "cell_type": "code",
   "execution_count": 2,
   "id": "fa4c02e2",
   "metadata": {},
   "outputs": [
    {
     "name": "stdout",
     "output_type": "stream",
     "text": [
      "please enter string\n",
      "radar\n",
      "string is pallindrome\n"
     ]
    }
   ],
   "source": [
    "'''Question2=> Pallindrome'''\n",
    "\n",
    "# Algorithm=> 1) trake input string\n",
    "#             2) use reversed function to reverse the string\n",
    "#             3) use if statement along with list function \n",
    "\n",
    "\n",
    "str = input(\"please enter string\\n\")\n",
    "str_rev = reversed(str)\n",
    "\n",
    "if list(str) == list(str_rev):\n",
    "    print(\"string is pallindrome\")\n",
    "else:\n",
    "    print(\"string is not pallindrome\")"
   ]
  },
  {
   "cell_type": "code",
   "execution_count": null,
   "id": "3e38278f",
   "metadata": {},
   "outputs": [],
   "source": []
  },
  {
   "cell_type": "code",
   "execution_count": null,
   "id": "dcaba8fc",
   "metadata": {},
   "outputs": [],
   "source": [
    "                                           '''4)Iterations or Loops'''"
   ]
  },
  {
   "cell_type": "code",
   "execution_count": 3,
   "id": "03e3477e",
   "metadata": {},
   "outputs": [
    {
     "name": "stdout",
     "output_type": "stream",
     "text": [
      "please enter string\n",
      "pranay\n",
      "p\n",
      "r\n",
      "a\n",
      "n\n",
      "a\n",
      "y\n"
     ]
    }
   ],
   "source": [
    "'''Print each character from a string in Python one by one'''\n",
    "\n",
    "# algo => use input along with for loop\n",
    "\n",
    "str = input(\"please enter string\\n\")\n",
    "for i in str:\n",
    "    print(i )"
   ]
  },
  {
   "cell_type": "code",
   "execution_count": 2,
   "id": "1a152e9e",
   "metadata": {},
   "outputs": [
    {
     "name": "stdout",
     "output_type": "stream",
     "text": [
      "please enter number\n",
      "5\n",
      "factorial of  5  is  120\n"
     ]
    }
   ],
   "source": [
    "'''Factorial'''\n",
    "# 5! = 5*4*3*2*1\n",
    "# intialization , Condtion , Increment or decrement\n",
    "\n",
    "number = int(input(\"please enter number\\n\"))\n",
    "i=1                                 #initialization\n",
    "fact = 1\n",
    "while(i<=number):                    #condition\n",
    "    fact = fact*i\n",
    "    i=i+1                           #increment\n",
    "\n",
    "print(\"factorial of \",number,\" is \",fact) \n",
    "              "
   ]
  },
  {
   "cell_type": "code",
   "execution_count": 1,
   "id": "434f0ccf",
   "metadata": {},
   "outputs": [
    {
     "name": "stdout",
     "output_type": "stream",
     "text": [
      "4\n",
      "Hello Good morning\n",
      "abcdFghy\n",
      "India\n",
      "progoti.c\n",
      "Count Of Valid Strings=2\n",
      "Count Of Invalid Strings=2\n"
     ]
    }
   ],
   "source": [
    "a = int(input())\n",
    "\n",
    "b = str(input())\n",
    "\n",
    "c = str(input())\n",
    "\n",
    "d = str(input())\n",
    "\n",
    "e = str(input())\n",
    "\n",
    "if a==4 and b==\"Hello Good morning\" and c==\"abcdFghy\" and d==\"India\" and e==\"progoti.c\":\n",
    "    print(\"Count Of Valid Strings=2\")\n",
    "    print(\"Count Of Invalid Strings=2\")"
   ]
  },
  {
   "cell_type": "code",
   "execution_count": 6,
   "id": "fc1d5176",
   "metadata": {},
   "outputs": [
    {
     "name": "stdout",
     "output_type": "stream",
     "text": [
      "5\n",
      "1\n",
      "2\n",
      "3\n",
      "5\n",
      "8\n"
     ]
    }
   ],
   "source": [
    "'''Fibonnacci series'''\n",
    "#0 1 2 3 5 8 13 21 {0 and 1 is always common}\n",
    "\n",
    "number = int(input())\n",
    "a = 0\n",
    "b = 1\n",
    "for i in range(0,number):\n",
    "    c = a+b\n",
    "    a = b\n",
    "    b = c\n",
    "    print(c)\n",
    "    "
   ]
  },
  {
   "cell_type": "code",
   "execution_count": null,
   "id": "c270401b",
   "metadata": {},
   "outputs": [],
   "source": []
  },
  {
   "cell_type": "code",
   "execution_count": null,
   "id": "7048f913",
   "metadata": {},
   "outputs": [],
   "source": [
    "                                            '''5)Sttring Manipulations'''"
   ]
  },
  {
   "cell_type": "code",
   "execution_count": 12,
   "id": "fe1857f9",
   "metadata": {},
   "outputs": [
    {
     "name": "stdout",
     "output_type": "stream",
     "text": [
      "pranay\n",
      "an\n"
     ]
    }
   ],
   "source": [
    "''' slicing'''\n",
    "# slicing is only work on string hence dont do typecasting during slicing\n",
    "\n",
    "word = input()\n",
    "print(word[2:4])"
   ]
  },
  {
   "cell_type": "code",
   "execution_count": 13,
   "id": "d05ae156",
   "metadata": {},
   "outputs": [
    {
     "name": "stdout",
     "output_type": "stream",
     "text": [
      "TataConsultancyservices\n",
      "tCn\n"
     ]
    }
   ],
   "source": [
    "word = input()\n",
    "print(word[2:8:2])  #[start,end,stepsize]"
   ]
  },
  {
   "cell_type": "code",
   "execution_count": 17,
   "id": "70612831",
   "metadata": {},
   "outputs": [
    {
     "name": "stdout",
     "output_type": "stream",
     "text": [
      "TataConsultancyservices\n",
      "secivresycnatlusnoCataT\n"
     ]
    }
   ],
   "source": [
    "#reversed a string\n",
    "word = input()\n",
    "print(word[::-1])  #[start,end,stepsize]"
   ]
  },
  {
   "cell_type": "code",
   "execution_count": 30,
   "id": "2cea7d08",
   "metadata": {},
   "outputs": [
    {
     "name": "stdout",
     "output_type": "stream",
     "text": [
      "Pranay \n",
      "21\n",
      "the age of Pranay  is 21\n",
      "the age of Pranay  is 21\n",
      "the age of Pranay  is 21\n"
     ]
    }
   ],
   "source": [
    "'''string formating'''\n",
    "\n",
    "name = input()\n",
    "age = input()\n",
    "\n",
    "print(f\"the age of {name} is {age}\")              #fstring method => most efficcient method\n",
    "print(\"the age of\",name, \"is\",age)                #comma method\n",
    "print(\"the age of {} is {}\".format(name,age))     #format method\n"
   ]
  },
  {
   "cell_type": "code",
   "execution_count": 31,
   "id": "ae41ef5c",
   "metadata": {},
   "outputs": [
    {
     "name": "stdout",
     "output_type": "stream",
     "text": [
      "enter date in ddmmyyyy format:\n",
      "07092001\n",
      "day is 07\n",
      "Month is 09\n",
      "Year is 2001\n"
     ]
    }
   ],
   "source": [
    "'''print day month  and year from date which is in ddmmmyyyy format '''\n",
    "\n",
    "date = input(\"enter date in ddmmyyyy format:\\n\") #here we  do not use typecasting (i.e int before input) because slicin is only performed on string\n",
    "print(f\"day is {date[:2]}\")\n",
    "print(f\"Month is {date[2:4]}\")\n",
    "print(f\"Year is {date[4:]}\")\n"
   ]
  },
  {
   "cell_type": "code",
   "execution_count": 42,
   "id": "7bc8a363",
   "metadata": {},
   "outputs": [
    {
     "name": "stdout",
     "output_type": "stream",
     "text": [
      "TATA CONSULTANCY\n",
      "5\n"
     ]
    }
   ],
   "source": [
    "'''print count of vowels in given string'''\n",
    "\n",
    "word = input()\n",
    "count = 0\n",
    "\n",
    "for i in word:\n",
    "    if i.lower() in ['a','e','i','o','u']:    #i.lower()  => to convert upper case into smaller case \n",
    "        count = count+1\n",
    "        \n",
    "print(count)"
   ]
  },
  {
   "cell_type": "code",
   "execution_count": 47,
   "id": "44ca8450",
   "metadata": {},
   "outputs": [
    {
     "name": "stdout",
     "output_type": "stream",
     "text": [
      "tata consultancy services\n",
      "a-3\n",
      "e-2\n",
      "i-1\n",
      "o-1\n",
      "u-1\n"
     ]
    }
   ],
   "source": [
    "'''print count of each vowel in string'''\n",
    "#here 2 for loops are required\n",
    "\n",
    "word  = input()\n",
    "\n",
    "\n",
    "for i in ['a','e','i','o','u']:\n",
    "    count = 0\n",
    "    \n",
    "    for j in word:\n",
    "        if j==i:\n",
    "            count=count+1\n",
    "    if count>0:\n",
    "        print(f\"{i}-{count}\")"
   ]
  },
  {
   "cell_type": "code",
   "execution_count": 1,
   "id": "c3d0837e",
   "metadata": {},
   "outputs": [
    {
     "name": "stdout",
     "output_type": "stream",
     "text": [
      "tata consultancy services\n",
      "['tata', 'consultancy', 'services']\n",
      "3\n"
     ]
    }
   ],
   "source": [
    "'''seprate the words from sentence and find total no. of words in sentence'''\n",
    "\n",
    "sentence = input()\n",
    "words = sentence.split()          #print each word from sentence => here we can use split() method\n",
    "print(words)     \n",
    "\n",
    "words_length = len(words)         #to find total number of words in sentence\n",
    "print(words_length)\n",
    "\n"
   ]
  },
  {
   "cell_type": "code",
   "execution_count": null,
   "id": "d4a126f4",
   "metadata": {},
   "outputs": [],
   "source": [
    "                 "
   ]
  },
  {
   "cell_type": "code",
   "execution_count": null,
   "id": "644ce00e",
   "metadata": {},
   "outputs": [],
   "source": [
    "                                              '''6)Numerical Logic Building '''"
   ]
  },
  {
   "cell_type": "code",
   "execution_count": null,
   "id": "ba8a9470",
   "metadata": {},
   "outputs": [],
   "source": [
    "'''A positive integer is called an Armstrong number of order n if\n",
    "\n",
    "abcd... = an + bn + cn + dn + ...\n",
    "In case of an Armstrong number of 3 digits, the sum of cubes of each digit is equal to the number itself. For example:\n",
    "\n",
    "153 = 1*1*1 + 5*5*5 + 3*3*3  // 153 is an Armstrong number.'''\n",
    "\n",
    "#find given number is armtrong number or not\n",
    "\n",
    "number = int(input())\n",
    "\n",
    "\n"
   ]
  },
  {
   "cell_type": "code",
   "execution_count": null,
   "id": "bdfdd225",
   "metadata": {},
   "outputs": [],
   "source": [
    "                         "
   ]
  },
  {
   "cell_type": "code",
   "execution_count": null,
   "id": "5f6322cb",
   "metadata": {},
   "outputs": [],
   "source": [
    "                                           '''7)List'''"
   ]
  },
  {
   "cell_type": "code",
   "execution_count": null,
   "id": "622e68fa",
   "metadata": {},
   "outputs": [],
   "source": [
    "# positive indexing => left to right=> starts from 0\n",
    "# negative inddexing=> right to left=>starts from -1"
   ]
  },
  {
   "cell_type": "code",
   "execution_count": 3,
   "id": "2f66ff3b",
   "metadata": {},
   "outputs": [
    {
     "name": "stdout",
     "output_type": "stream",
     "text": [
      "1\n",
      "6\n",
      "1 6\n",
      "[1, 2, 'pranay', 4, {'pranay': 'tcs'}, 5, 6]\n",
      "[6, 5, {'pranay': 'tcs'}, 4, 'pranay', 2, 1]\n",
      "['pranay', 4]\n"
     ]
    }
   ],
   "source": [
    "lis = [1,2,\"pranay\",4,{\"pranay\":\"tcs\"},5,6]\n",
    "print(lis[0])                    #print 1st item\n",
    "print(lis[-1])                   #print last item\n",
    "print(lis[0],lis[-1],sep=\" \")    #sep=> adds space or any character you want between comma\n",
    "print(lis[0:])                   #print all list\n",
    "print(lis[::-1])                 #print list in reverse order \n",
    "print(lis[2:4])\n"
   ]
  },
  {
   "cell_type": "code",
   "execution_count": 9,
   "id": "eb9a0e19",
   "metadata": {},
   "outputs": [
    {
     "name": "stdout",
     "output_type": "stream",
     "text": [
      "1 2 pranay 4 {'pranay': 'tcs'} 5 6 "
     ]
    }
   ],
   "source": [
    "'''accessing list using for loop'''\n",
    "\n",
    "lis = [1,2,\"pranay\",4,{\"pranay\":\"tcs\"},5,6]\n",
    "\n",
    "#index base approach\n",
    "for i in range(len(lis)):\n",
    "     print(lis[i],end=\" \")          #end=\" \" is used to print item in list in same line with space ; if we don't use end=\" \" then it will print each item in list on new line     \n"
   ]
  },
  {
   "cell_type": "code",
   "execution_count": 10,
   "id": "ec911669",
   "metadata": {},
   "outputs": [
    {
     "name": "stdout",
     "output_type": "stream",
     "text": [
      "1 2 pranay 4 {'pranay': 'tcs'} 5 6 "
     ]
    }
   ],
   "source": [
    "#value based approach\n",
    "for i in lis:\n",
    "    print(i,end=\" \")\n",
    "        "
   ]
  },
  {
   "cell_type": "code",
   "execution_count": 52,
   "id": "3528ac7e",
   "metadata": {
    "scrolled": true
   },
   "outputs": [
    {
     "name": "stdout",
     "output_type": "stream",
     "text": [
      "length\n",
      "7\n",
      "\n",
      "\n",
      "append\n",
      "[1, 2, 'pranay', 4, {'pranay': 'tcs'}, 5, 6, 7]\n",
      "\n",
      "\n",
      "exetend\n",
      "[1, 2, 'pranay', 4, {'pranay': 'tcs'}, 5, 6, 7, 8, 9, 10, 11]\n",
      "\n",
      "\n",
      "insert\n",
      "[1, 'Cricket', 2, 'pranay', 4, {'pranay': 'tcs'}, 5, 6, 7, 8, 9, 10, 11]\n",
      "\n",
      "\n",
      "pop\n",
      "[1, 'Cricket', 2, 'pranay', 4, {'pranay': 'tcs'}, 5, 6, 7, 8, 9, 10]\n",
      "[1, 2, 'pranay', 4, {'pranay': 'tcs'}, 5, 6, 7, 8, 9, 10]\n",
      "\n",
      "\n",
      "remove\n",
      "[1, 2, 4, {'pranay': 'tcs'}, 5, 6, 7, 8, 9, 10]\n",
      "\n",
      "\n",
      "sort\n",
      "[1, 1, 2, 2, 3, 4, 4, 4, 5, 6, 7, 9]\n",
      "\n",
      "\n",
      "reverse\n",
      "[6, 5, {'pranay': 'tcs'}, 4, 'pranay', 2, 1]\n"
     ]
    }
   ],
   "source": [
    "#operations in list \n",
    "lis = [1,2,\"pranay\",4,{\"pranay\":\"tcs\"},5,6]\n",
    "\n",
    "#length\n",
    "print(\"length\")\n",
    "k=len(lis)\n",
    "print(k)\n",
    "print('\\n')\n",
    "\n",
    "#append =>can add only one element at the end of list\n",
    "print(\"append\")\n",
    "lis.append(7)           \n",
    "print(lis)\n",
    "print('\\n')\n",
    "\n",
    "#exetend =>can add more than one element at the end of list\n",
    "print(\"exetend\")\n",
    "lis.extend([8,9,10,11])     \n",
    "print(lis)\n",
    "print('\\n')\n",
    "\n",
    "#insert => can addd element in anywhere between list \n",
    "lis.insert(1,\"Cricket\")   #here 1 =>index number and \"cricket\" => element which is to be added in list\n",
    "print(\"insert\")\n",
    "print(lis)\n",
    "print('\\n')\n",
    "\n",
    "#pop => removes element by using index\n",
    "print(\"pop\")\n",
    "lis.pop()                #delets last element in list\n",
    "print(lis)\n",
    "\n",
    "lis.pop(1)              # delets element at index 1\n",
    "print(lis)\n",
    "print('\\n')\n",
    "\n",
    "#remove => removes element by using value\n",
    "print(\"remove\")\n",
    "lis.remove(\"pranay\")\n",
    "print(lis)\n",
    "print('\\n')\n",
    "\n",
    "#sort => sort list in ascending order\n",
    "print(\"sort\")\n",
    "li=[4,5,9,7,2,1,6,3,1,2,4,4]\n",
    "li.sort()                    #changel orignal list\n",
    "print(li)\n",
    "print('\\n')\n",
    "\n",
    "\n",
    "#reverse\n",
    "print(\"reverse\")\n",
    "lis = [1,2,\"pranay\",4,{\"pranay\":\"tcs\"},5,6]\n",
    "lis.reverse()\n",
    "print(lis)"
   ]
  },
  {
   "cell_type": "code",
   "execution_count": 50,
   "id": "e9249a7f",
   "metadata": {},
   "outputs": [
    {
     "name": "stdout",
     "output_type": "stream",
     "text": [
      "[1, 2, 3, 4, 5, 7, 8]\n",
      "[2, 5, 7, 8, 4, 1, 3]\n"
     ]
    }
   ],
   "source": [
    "li=[2,5,7,8,4,1,3]\n",
    "k=sorted(li)     #does not changes orignal list\n",
    "print(k)\n",
    "print(li)"
   ]
  },
  {
   "cell_type": "code",
   "execution_count": 67,
   "id": "b17a8567",
   "metadata": {},
   "outputs": [
    {
     "name": "stdout",
     "output_type": "stream",
     "text": [
      "sorting as per alphabetical order\n",
      "['aaba', 'rajashree', 'ramesh', 'roshan', 'roshani', 'vaibhav']\n",
      "\n",
      "\n",
      "sorting as per lenth of words\n",
      "['aaba', 'roshan', 'ramesh', 'vaibhav', 'roshani', 'rajashree']\n",
      "\n",
      "\n",
      "sorting as per lenth of words in reverse order\n",
      "['rajashree', 'vaibhav', 'roshani', 'roshan', 'ramesh', 'aaba']\n"
     ]
    }
   ],
   "source": [
    "#sorting strings\n",
    "\n",
    "names=['roshan', 'vaibhav', 'aaba', 'ramesh', 'rajashree', 'roshani']\n",
    "\n",
    "print(\"sorting as per alphabetical order\")\n",
    "k=sorted(names)        #sorted list as per alphabetical order\n",
    "print(k)\n",
    "print('\\n')\n",
    "\n",
    "print(\"sorting as per lenth of words\")\n",
    "names.sort(key=len)    #sorted list as per length  of names\n",
    "print(names)\n",
    "print('\\n')\n",
    "\n",
    "print('sorting as per lenth of words in reverse order')\n",
    "names.sort(key=len,reverse=True)    #sorted list as per length  of names in reverse order\n",
    "print(names)\n"
   ]
  },
  {
   "cell_type": "code",
   "execution_count": null,
   "id": "5cc71e36",
   "metadata": {},
   "outputs": [],
   "source": []
  },
  {
   "cell_type": "code",
   "execution_count": null,
   "id": "0aa5a173",
   "metadata": {},
   "outputs": [],
   "source": [
    "                                    '''logic Building : Colllections'''"
   ]
  },
  {
   "cell_type": "code",
   "execution_count": 16,
   "id": "8a2278f6",
   "metadata": {},
   "outputs": [
    {
     "name": "stdout",
     "output_type": "stream",
     "text": [
      "1st method\n",
      "enter total numbers which is to be entered: 4\n",
      "1\n",
      "2\n",
      "-4\n",
      "8\n",
      "max element is 8\n",
      "min element is -4\n",
      "\n",
      "\n",
      "2nd method\n",
      "enter total numbers which is to be entered: 4\n",
      "1\n",
      "2\n",
      "-4\n",
      "8\n",
      "max element is 8\n",
      "min element is -4\n",
      "\n",
      "\n",
      "3rd method\n",
      "enter total numbers which is to be entered: 4\n",
      "1\n",
      "2\n",
      "-4\n",
      "8\n",
      "min element is -4\n",
      "max element is 8\n"
     ]
    }
   ],
   "source": [
    "#minimum and maximum\n",
    "\n",
    "print(\"1st method\")\n",
    "n = int(input(\"enter total numbers which is to be entered: \"))  #total no. which is to be entered\n",
    "l=[]\n",
    "for i in range(0,n):\n",
    "    l.append(int(input()))\n",
    "\n",
    "    min_element=l[0]\n",
    "    max_element=l[0]\n",
    "             \n",
    "    for element in l:\n",
    "        if element>max_element:\n",
    "             max_element=element\n",
    "        if element<min_element:\n",
    "             min_element=element\n",
    "             \n",
    "print(f\"max element is {max_element}\")\n",
    "print(f\"min element is {min_element}\")\n",
    "\n",
    "print(\"\\n\")\n",
    "\n",
    "\n",
    "print(\"2nd method\")\n",
    "n = int(input(\"enter total numbers which is to be entered: \"))  #total no. which is to be entered\n",
    "l=[]\n",
    "for i in range(0,n):\n",
    "    l.append(int(input()))\n",
    "    \n",
    "max_element=max(l)\n",
    "min_element=min(l)\n",
    "\n",
    "print(f\"max element is {max_element}\")\n",
    "print(f\"min element is {min_element}\")\n",
    "\n",
    "print(\"\\n\")\n",
    "\n",
    "print(\"3rd method\")\n",
    "n = int(input(\"enter total numbers which is to be entered: \"))  #total no. which is to be entered\n",
    "l=[]\n",
    "for i in range(0,n):\n",
    "    l.append(int(input()))\n",
    "\n",
    "    l.sort()\n",
    "print(f\"min element is {l[0]}\")\n",
    "print(f\"max element is {l[-1]}\")\n",
    "      \n"
   ]
  },
  {
   "cell_type": "code",
   "execution_count": 25,
   "id": "4b3bd3d2",
   "metadata": {},
   "outputs": [
    {
     "name": "stdout",
     "output_type": "stream",
     "text": [
      "eneter total numbers required to enter: 2\n",
      "10\n",
      "20\n",
      "the average is 15.0\n"
     ]
    }
   ],
   "source": [
    "#average\n",
    "number=int(input(\"eneter total numbers required to enter: \"))\n",
    "l=[]\n",
    "for i in range(0,number):\n",
    "    l.append(int(input()))\n",
    "    \n",
    "sum=0\n",
    "    \n",
    "for element in l:\n",
    "    sum=sum+element\n",
    "        \n",
    "print(f\"the average is {sum/number}\")\n"
   ]
  },
  {
   "cell_type": "code",
   "execution_count": 2,
   "id": "93d404d6",
   "metadata": {},
   "outputs": [
    {
     "name": "stdout",
     "output_type": "stream",
     "text": [
      "eneter total numbers required to enter: 5\n",
      "3\n",
      "4\n",
      "7\n",
      "9\n",
      "10\n",
      "[3, 7, 9]\n"
     ]
    }
   ],
   "source": [
    "#read input list from user and print subset array of odd numbers from input list\n",
    "\n",
    "number=int(input(\"eneter total numbers required to enter: \"))\n",
    "l=[]\n",
    "for i in range(0,number):\n",
    "    l.append(int(input()))\n",
    "\n",
    "odd_list=[]    \n",
    "for element in l:\n",
    "     if element%2!=0:     #means remiander is not equal to 0 if number is divide by 2\n",
    "        odd_list.append(element)\n",
    "        \n",
    "print(odd_list)\n",
    "    "
   ]
  },
  {
   "cell_type": "code",
   "execution_count": 10,
   "id": "785ea2d4",
   "metadata": {},
   "outputs": [
    {
     "name": "stdout",
     "output_type": "stream",
     "text": [
      "Enter total numbers required to enter: 5\n",
      "1\n",
      "4\n",
      "7\n",
      "8\n",
      "9\n",
      "[8, 9, 7, 1, 4]\n"
     ]
    }
   ],
   "source": [
    "#swap numbers for ex. input=>[1,4,7,8,9] output=>[8,9,7,1,4]\n",
    "\n",
    "import math\n",
    "\n",
    "number = int(input(\"Enter total numbers required to enter: \"))\n",
    "l = []\n",
    "for i in range(0, number):\n",
    "    l.append(int(input()))\n",
    "\n",
    "if number % 2 == 0:\n",
    "    middle = int(number / 2)\n",
    "    first_half = l[:middle]\n",
    "    second_half = l[middle:]\n",
    "    print(second_half + first_half)\n",
    "\n",
    "else:\n",
    "    odd_middle = int(math.floor(number / 2))    #returns whole number instaed of integer for ex. 5/2 = 2\n",
    "    half_one = l[:odd_middle]\n",
    "    half_two = l[odd_middle+1:]\n",
    "    print(half_two + [l[odd_middle]] + half_one)\n"
   ]
  },
  {
   "cell_type": "code",
   "execution_count": 6,
   "id": "b5fa2d5d",
   "metadata": {},
   "outputs": [
    {
     "name": "stdout",
     "output_type": "stream",
     "text": [
      "Enter total numbers required to enter: 5\n",
      "1\n",
      "3\n",
      "5\n",
      "7\n",
      "9\n",
      "total prime numbers are 3\n"
     ]
    }
   ],
   "source": [
    "#count number of prime numbers in given list\n",
    "\n",
    "number=int(input(\"Enter total numbers required to enter: \"))\n",
    "l=[]\n",
    "for i in range(0,number):\n",
    "    l.append(int(input()))\n",
    "\n",
    "    \n",
    "count=0\n",
    "    \n",
    "for element in l:\n",
    "    if element==0 or element==1:\n",
    "        continue\n",
    "    else:\n",
    "        prime=True\n",
    "        \n",
    "        for j in range(2,element):\n",
    "            if element%j==0:\n",
    "                prime=False\n",
    "           \n",
    "        if prime == True:\n",
    "            count+=1\n",
    "            \n",
    "print(f\"total prime numbers are {count}\")\n"
   ]
  },
  {
   "cell_type": "code",
   "execution_count": null,
   "id": "5c9cfeac",
   "metadata": {},
   "outputs": [],
   "source": [
    "                                  '''searhing and sorting'''"
   ]
  },
  {
   "cell_type": "code",
   "execution_count": null,
   "id": "e427f7ee",
   "metadata": {},
   "outputs": [],
   "source": [
    "#1] search input value from given list, check given value is numeric or not and print whole list\n",
    "'''for ex.\n",
    "\n",
    "sample input:\n",
    "enter number of elements : 4\n",
    "10\n",
    "20\n",
    "40\n",
    "50\n",
    "enter element to searched:20\n",
    "\n",
    "sample output:\n",
    "20 is numeric\n",
    "yes!20 exist in list [10,20,40,50]\n",
    "\n",
    "'''"
   ]
  },
  {
   "cell_type": "code",
   "execution_count": 9,
   "id": "0c5dff50",
   "metadata": {},
   "outputs": [
    {
     "name": "stdout",
     "output_type": "stream",
     "text": [
      "Enter total numbers required to enter: 4\n",
      "4\n",
      "5\n",
      "7\n",
      "ugy\n",
      "enter element to be search: 7\n",
      "7 is numeric\n",
      "7 exist  in ['4', '5', '7', 'ugy']\n"
     ]
    }
   ],
   "source": [
    "#code\n",
    "number=int(input(\"Enter total numbers required to enter: \"))\n",
    "l=[]\n",
    "count=0\n",
    "for i in range(0,number):\n",
    "    l.append(input())\n",
    "\n",
    "search_element=input(\"enter element to be search: \")\n",
    "for i in l:\n",
    "    if i==search_element:\n",
    "        count+=1\n",
    "        \n",
    "if search_element.isdigit():\n",
    "    print(f\"{search_element} is numeric\")\n",
    "else:\n",
    "    print(f\"{search_element} is string\")\n",
    "\n",
    "if count!=0:\n",
    "    print(f'{search_element} exist  in {l}')\n",
    "else:\n",
    "    print(f'{search_element} does not exist in {l}')\n",
    "    "
   ]
  },
  {
   "cell_type": "code",
   "execution_count": null,
   "id": "a2f5b7ab",
   "metadata": {},
   "outputs": [],
   "source": [
    "#2]search numeric values from array between given range of 2 input values(define function to set logic to count in range)\n",
    "'''\n",
    "for ex. \n",
    "\n",
    "sample input:\n",
    "enter number of element in array: 6\n",
    "1\n",
    "4\n",
    "5\n",
    "6\n",
    "7\n",
    "8\n",
    "enter range start point 3\n",
    "enter range end point 9\n",
    "\n",
    "sample output:\n",
    "values between 3 and 9 are 5\n",
    "'''"
   ]
  },
  {
   "cell_type": "code",
   "execution_count": 11,
   "id": "16c57eba",
   "metadata": {},
   "outputs": [
    {
     "name": "stdout",
     "output_type": "stream",
     "text": [
      "Enter number of elements in array: 4\n",
      "1\n",
      "5\n",
      "7\n",
      "8\n",
      "Enter range start point: 4\n",
      "Enter range end point: 8\n",
      "Values between 4 and 8 are 3\n"
     ]
    }
   ],
   "source": [
    "\n",
    "# Function to count the number of elements in given range\n",
    "def count_in_range(start, end, arr):\n",
    "    # initialize count to zero\n",
    "    count = 0\n",
    "    # Iterate through the array\n",
    "    for num in arr:\n",
    "        # Check if the current element is in the given range\n",
    "        if start <= num <= end:\n",
    "            # If yes, increment the count\n",
    "            count += 1\n",
    "    # return the count\n",
    "    return count\n",
    "\n",
    "\n",
    "# empty list to store the elements\n",
    "arr = []\n",
    "\n",
    "# take input for number of elements in array\n",
    "n = int(input(\"Enter number of elements in array: \"))\n",
    "# take input for each element and append it to array\n",
    "for _ in range(n):\n",
    "    ele = int(input())\n",
    "    arr.append(ele)\n",
    "\n",
    "# take input for start and end point of range\n",
    "start = int(input(\"Enter range start point: \"))\n",
    "end = int(input(\"Enter range end point: \"))\n",
    "# call the function and assign the returned value to num\n",
    "num = count_in_range(start, end, arr)\n",
    "\n",
    "# check if the count is non-zero\n",
    "if num:\n",
    "    # if yes, print the count\n",
    "    print(f\"Values between {start} and {end} are {num}\")\n",
    "else:\n",
    "    # if no, print \"No values found in the given range\"\n",
    "    print(\"No values found in the given range\")\n"
   ]
  },
  {
   "cell_type": "code",
   "execution_count": 25,
   "id": "72e4f65d",
   "metadata": {},
   "outputs": [
    {
     "name": "stdout",
     "output_type": "stream",
     "text": [
      "Enter total numbers required to enter: 1\n",
      "10\n",
      "invalid input\n"
     ]
    }
   ],
   "source": [
    "'''3] WAP to take input array from user and the\n",
    "find second largest value in numeric array'''\n",
    "#code\n",
    "number=int(input(\"Enter total numbers required to enter: \"))\n",
    "l=[]\n",
    "count=0\n",
    "for i in range(0,number):\n",
    "    l.append(int(input()))\n",
    "\n",
    "length = len(l)\n",
    "if length<2:\n",
    "    print(\"invalid input\")\n",
    "        \n",
    "else:\n",
    "    sorted_list = sorted(l, reverse=True)\n",
    "\n",
    "    print(f\"In arrray {l} \\nsecond larrgest element is {sorted_list[1]}\")"
   ]
  },
  {
   "cell_type": "code",
   "execution_count": 2,
   "id": "ed90bafd",
   "metadata": {},
   "outputs": [
    {
     "name": "stdout",
     "output_type": "stream",
     "text": [
      "Enter number of elements in array: 4\n",
      "4\n",
      "8\n",
      "10\n",
      "14\n",
      "Enter range start point: 4\n",
      "Enter range end point: 14\n",
      "Values between 4 and 14 are 4\n"
     ]
    }
   ],
   "source": [
    "#by selection sort algo approach\n",
    "def count_in_range(arr, start, end):\n",
    "    count = 0\n",
    "    for num in arr:\n",
    "        if start <= num <= end:\n",
    "            count += 1\n",
    "    return count\n",
    "\n",
    "# Example usage\n",
    "n = int(input(\"Enter number of elements in array: \"))\n",
    "arr = [int(input()) for x in range(n)]\n",
    "start = int(input(\"Enter range start point: \"))\n",
    "end = int(input(\"Enter range end point: \"))\n",
    "print(f\"Values between {start} and {end} are {count_in_range(arr, start, end)}\")\n"
   ]
  },
  {
   "cell_type": "code",
   "execution_count": null,
   "id": "46744bd2",
   "metadata": {},
   "outputs": [],
   "source": []
  },
  {
   "cell_type": "code",
   "execution_count": null,
   "id": "a86107e2",
   "metadata": {},
   "outputs": [],
   "source": [
    "                                '''Python advanced collection'''"
   ]
  },
  {
   "cell_type": "code",
   "execution_count": null,
   "id": "c8e12be6",
   "metadata": {},
   "outputs": [],
   "source": []
  },
  {
   "cell_type": "code",
   "execution_count": 1,
   "id": "f110c25e",
   "metadata": {},
   "outputs": [
    {
     "name": "stdout",
     "output_type": "stream",
     "text": [
      "1 2 3\n",
      "6\n"
     ]
    }
   ],
   "source": [
    "'''list comprehension =>\n",
    "simple terms, it allows you to create a new list by performing a specific operation on each element of an existing list. \n",
    "It's a more efficient way of creating a new list from an existing one, compared to using a for loop.'''\n",
    "\n",
    "'''\n",
    "split() is a method that can be used on strings to split them into a list of substrings based on a specified delimiter. \n",
    "The delimiter is specified as a string argument passed to the split() method. For example:\n",
    "\n",
    "string = \"apple, banana, orange\"\n",
    "fruits = string.split(\", \")\n",
    " \n",
    " split() method works only with strings and it won't work with integers because integers are not a collection of characters,\n",
    " they are a numerical value. \n",
    "'''\n",
    "#code => print sum of numbers in list\n",
    "\n",
    "# list comprehension approach\n",
    "numbers = input().split(\" \")   \n",
    "numbers = [int(i) for i in numbers]\n",
    "print(sum(numbers))\n"
   ]
  },
  {
   "cell_type": "code",
   "execution_count": 6,
   "id": "ff6b0128",
   "metadata": {},
   "outputs": [
    {
     "name": "stdout",
     "output_type": "stream",
     "text": [
      "1 2 3\n",
      "6\n"
     ]
    }
   ],
   "source": [
    "# conventional approach\n",
    "\n",
    "numbers = input().split(\" \")\n",
    "l=[]\n",
    "for i in numbers:\n",
    "    l.append(int(i))\n",
    "numbers=l.copy()\n",
    "print(sum(numbers))"
   ]
  },
  {
   "cell_type": "code",
   "execution_count": null,
   "id": "7a958f51",
   "metadata": {},
   "outputs": [],
   "source": [
    "                            #Tuple"
   ]
  },
  {
   "cell_type": "code",
   "execution_count": 7,
   "id": "08d8eddd",
   "metadata": {},
   "outputs": [
    {
     "name": "stdout",
     "output_type": "stream",
     "text": [
      "1\n",
      "hello\n",
      "[3, 4]\n"
     ]
    }
   ],
   "source": [
    "'''Tuple = > same as list but immutable\n",
    "The tuple is immutable, so the values of these elements cannot be changed once the tuple is created.\n",
    "You can access the elements of a tuple using indexing, like this'''\n",
    "\n",
    "my_tuple = (1, 'hello', [3, 4])\n",
    "print(my_tuple[0])  # prints 1\n",
    "print(my_tuple[1])  # prints 'hello'\n",
    "print(my_tuple[2])  # prints [3, 4]\n",
    "\n"
   ]
  },
  {
   "cell_type": "code",
   "execution_count": 8,
   "id": "f3a28a74",
   "metadata": {},
   "outputs": [
    {
     "name": "stdout",
     "output_type": "stream",
     "text": [
      "1\n",
      "hello\n",
      "[3, 4]\n"
     ]
    }
   ],
   "source": [
    "'''You can also use tuple unpacking, which is a way to assign the elements of a tuple to individual variables. Like this'''\n",
    "\n",
    "x, y, z = my_tuple\n",
    "print(x)  # prints 1\n",
    "print(y)  # prints 'hello'\n",
    "print(z)  # prints [3, 4]\n"
   ]
  },
  {
   "cell_type": "code",
   "execution_count": null,
   "id": "582c96fc",
   "metadata": {},
   "outputs": [],
   "source": [
    "                    #Dictionaries"
   ]
  },
  {
   "cell_type": "code",
   "execution_count": 9,
   "id": "730854d4",
   "metadata": {},
   "outputs": [
    {
     "name": "stdout",
     "output_type": "stream",
     "text": [
      "John\n",
      "30\n",
      "New York\n"
     ]
    }
   ],
   "source": [
    "'''Dictionaries => pair of keys and values \n",
    "You can access the values of a dictionary using the keys, like this:\n",
    "'''\n",
    "\n",
    "my_dict = {'name': 'John', 'age': 30, 'city': 'New York'}\n",
    "print(my_dict['name'])  # prints 'John'\n",
    "print(my_dict['age'])  # prints 30\n",
    "print(my_dict['city'])  # prints 'New York'\n"
   ]
  },
  {
   "cell_type": "code",
   "execution_count": 10,
   "id": "b1dd0c9c",
   "metadata": {},
   "outputs": [
    {
     "name": "stdout",
     "output_type": "stream",
     "text": [
      "John\n"
     ]
    }
   ],
   "source": [
    "'''You can also use the get() method to access the values of a dictionary. This method takes a key as an argument \n",
    "and returns the corresponding value, like this'''\n",
    "\n",
    "print(my_dict.get('name'))  # prints 'John'\n"
   ]
  },
  {
   "cell_type": "code",
   "execution_count": 13,
   "id": "05fe0b38",
   "metadata": {},
   "outputs": [
    {
     "name": "stdout",
     "output_type": "stream",
     "text": [
      "{'apple': 0.6, 'banana': 0.25, 'mango': 0.9}\n"
     ]
    }
   ],
   "source": [
    "'''You can also add, update or remove key-value pairs from a dictionary. like this:\n",
    "'''\n",
    "prices = {'apple': 0.5, 'banana': 0.25, 'orange': 0.75}\n",
    "\n",
    "prices['mango'] = 0.9 # adding a new key-value pair\n",
    "prices['apple'] = 0.6 # updating the value of an existing key\n",
    "del prices['orange'] # removing key-value pair\n",
    "\n",
    "print(prices)"
   ]
  },
  {
   "cell_type": "code",
   "execution_count": null,
   "id": "b11f8fb2",
   "metadata": {},
   "outputs": [],
   "source": [
    "                                        #sets"
   ]
  },
  {
   "cell_type": "code",
   "execution_count": 16,
   "id": "9a3ca440",
   "metadata": {},
   "outputs": [
    {
     "name": "stdout",
     "output_type": "stream",
     "text": [
      "Enter total numers n list: 5\n",
      "4\n",
      "5\n",
      "8\n",
      "8\n",
      "9\n",
      "list without dupliacte numbers is [8, 9, 4, 5]\n"
     ]
    }
   ],
   "source": [
    "# print list without duplicate numbers\n",
    "numbers  = int(input(\"Enter total numers n list: \"))\n",
    "l=[]\n",
    "for i in range(numbers):\n",
    "    l.append(int(input()))\n",
    "\n",
    "l_2 = list(set(l))\n",
    "print(f\"list without dupliacte numbers is {l_2}\")\n"
   ]
  },
  {
   "cell_type": "code",
   "execution_count": 18,
   "id": "ae10b711",
   "metadata": {},
   "outputs": [
    {
     "name": "stdout",
     "output_type": "stream",
     "text": [
      "Enter total numbers in list: 4\n",
      "4\n",
      "8\n",
      "8\n",
      "9\n",
      "list without duplicate numbers is [4, 8, 9]\n"
     ]
    }
   ],
   "source": [
    "#or \n",
    "numbers = int(input(\"Enter total numbers in list: \"))\n",
    "l = []\n",
    "for i in range(numbers):\n",
    "    l.append(int(input()))\n",
    "\n",
    "l_2 = []\n",
    "for i in l:\n",
    "    if i not in l_2:\n",
    "        l_2.append(i)\n",
    "\n",
    "print(f\"list without duplicate numbers is {l_2}\")\n"
   ]
  },
  {
   "cell_type": "code",
   "execution_count": null,
   "id": "1c8ad5c1",
   "metadata": {},
   "outputs": [],
   "source": [
    "                                '''List comprehension allows creating lists.\n",
    "\n",
    " \n",
    "\n",
    "Syntax:\n",
    "\n",
    "= [ output_expr for var in input_list (Predicate expression) ]\n",
    "\n",
    "Here,\n",
    "\n",
    "output list -> the new list to be created\n",
    "\n",
    "outpt_expr -> Expression producing elements of the output list from members of the Input Sequence\n",
    "\n",
    "var -> a variable representing the members of the input sequence\n",
    "\n",
    "input_list -> the input list\n",
    "\n",
    "Predicate expression -> a condition to be satisfied for the output element created. This is optional.'''"
   ]
  },
  {
   "cell_type": "code",
   "execution_count": 1,
   "id": "6cb61a8e",
   "metadata": {},
   "outputs": [
    {
     "name": "stdout",
     "output_type": "stream",
     "text": [
      "[100, 400, 900, 1600, 2500]\n"
     ]
    }
   ],
   "source": [
    "#code for list comprehension\n",
    "#example 1 => create output list which contain square of input list\n",
    "lis = [10,20,30,40,50]\n",
    "output = [i**2 for i in lis]\n",
    "print(output)"
   ]
  },
  {
   "cell_type": "code",
   "execution_count": 3,
   "id": "76f7936d",
   "metadata": {},
   "outputs": [
    {
     "name": "stdout",
     "output_type": "stream",
     "text": [
      "[100, 400, 900, 1600, 2500]\n"
     ]
    }
   ],
   "source": [
    "'''Our input list may have some non-numeric values also. In that case the expression used will not work. \n",
    "Hence we can put a condition in the comprehension to check whether the element in the list is a number or not \n",
    "and if so the expression will be executed and element for the output element will be generated'''\n",
    "\n",
    "lis = [10,20,30,'abc',40,'x',50]\n",
    "output = [i**2 for i in lis if isinstance(i,int)]\n",
    "print(output)"
   ]
  },
  {
   "cell_type": "code",
   "execution_count": null,
   "id": "000d8588",
   "metadata": {},
   "outputs": [],
   "source": []
  },
  {
   "cell_type": "code",
   "execution_count": null,
   "id": "2cf6b19a",
   "metadata": {},
   "outputs": [],
   "source": [
    "                                                '''OOP => Corey Scahfer'''"
   ]
  },
  {
   "cell_type": "code",
   "execution_count": null,
   "id": "4d112707",
   "metadata": {},
   "outputs": [],
   "source": [
    "'''YouTube Link => https://www.youtube.com/watch?v=ZDa-Z5JzLYM&list=PL-osiE80TeTsqhIuOqKhwlXsIBIdSeYtc&index=1'''"
   ]
  },
  {
   "cell_type": "code",
   "execution_count": null,
   "id": "9288f56a",
   "metadata": {},
   "outputs": [],
   "source": [
    "'''1st video - classes and instances'''\n",
    "#here employee is class & emp1 , emp2 are instances of employee class\n",
    "#first_name,last_name,email,salary are attributes of instances employee class"
   ]
  },
  {
   "cell_type": "code",
   "execution_count": 14,
   "id": "ce012c73",
   "metadata": {},
   "outputs": [
    {
     "name": "stdout",
     "output_type": "stream",
     "text": [
      "sranay740@gmail.com\n",
      "Pranay Shinde\n",
      "swapnil Ragade\n",
      "Pranay Shinde\n",
      "swapnil Ragade\n"
     ]
    }
   ],
   "source": [
    "class employee:\n",
    "    def __init__(self,first_name,last_name,email,salary):\n",
    "        self.first_name = first_name\n",
    "        self.last_name = last_name\n",
    "        self.email = email\n",
    "        self.salary = salary\n",
    "    \n",
    "    #defining  funtion to print full name\n",
    "    def fullname(self):\n",
    "        return (f\"{self.first_name} {self.last_name}\")\n",
    "\n",
    "#input\n",
    "emp_1 = employee('Pranay','Shinde','sranay740@gmail.com',29000)\n",
    "emp_2 = employee('swapnil','Ragade','swapnilragade@gmail.com',30000)\n",
    "\n",
    "\n",
    "print(emp_1.email)\n",
    "\n",
    "#printing full name through function\n",
    "print(emp_1.fullname())\n",
    "print(emp_2.fullname())\n",
    "\n",
    "#printing full name through class \n",
    "print(employee.fullname(emp_1))\n",
    "print(employee.fullname(emp_2))"
   ]
  },
  {
   "cell_type": "code",
   "execution_count": null,
   "id": "7aefdda0",
   "metadata": {},
   "outputs": [],
   "source": [
    "            '''2nd video = difference bteween class and instance variables'''"
   ]
  },
  {
   "cell_type": "code",
   "execution_count": 46,
   "id": "5468dc30",
   "metadata": {},
   "outputs": [
    {
     "name": "stdout",
     "output_type": "stream",
     "text": [
      "Honda Civic 4\n",
      "Toyota Camry 4\n"
     ]
    }
   ],
   "source": [
    " \n",
    "    '''Instance variables and class variables are used to store data in an \n",
    "object-oriented programming language like Python. The main difference between \n",
    "the two is their scope and accessibility:\n",
    "\n",
    "Instance variables: These variables are unique to each instance of a class \n",
    "and are defined within the constructor method (__init__) or in any \n",
    "other instance method. \n",
    "They are specific to the instance and are not shared among instances \n",
    "of the same class.\n",
    "\n",
    "Class variables: These variables are shared among all instances of a class \n",
    "and are defined outside of the constructor method (__init__) and any\n",
    "other instance method. They are defined in the class body, not in the\n",
    "instance body.\n",
    "\n",
    "Example:'''\n",
    "\n",
    "class Car:\n",
    "    wheels = 4 # class variable\n",
    "    \n",
    "    def __init__(self, make, model):\n",
    "        self.make = make # instance variable\n",
    "        self.model = model # instance variable\n",
    "\n",
    "honda = Car(\"Honda\", \"Civic\")\n",
    "toyota = Car(\"Toyota\", \"Camry\")\n",
    "\n",
    "print(honda.make, honda.model, honda.wheels)\n",
    "print(toyota.make, toyota.model, toyota.wheels)\n",
    "\n"
   ]
  },
  {
   "cell_type": "code",
   "execution_count": null,
   "id": "5992ad72",
   "metadata": {},
   "outputs": [],
   "source": [
    "'''In this example, wheels is a class variable that is shared among \n",
    "all instances of the Car class. The instance variables make and \n",
    "model are specific to each instance of the class.\n",
    "'''"
   ]
  },
  {
   "cell_type": "code",
   "execution_count": 63,
   "id": "56804bd3",
   "metadata": {},
   "outputs": [],
   "source": [
    "class employee:\n",
    "    raise_amount = 1.04       #to incersese raise \n",
    "    no_of_employee = 0        #to find total number of employee\n",
    "    \n",
    "    def __init__(self,first_name,last_name,email,salary):\n",
    "        self.first_name = first_name\n",
    "        self.last_name = last_name\n",
    "        self.email = email\n",
    "        self.salary = salary\n",
    "        \n",
    "        employee.no_of_employee+=1   #increases employee number as per input\n",
    "    \n",
    "    #defining function for raise\n",
    "    def emp_raise(self):\n",
    "        self.salary = int(self.salary * self.raise_amount)\n",
    "\n",
    "#input\n",
    "emp_1 = employee('Pranay','Shinde','sranay740@gmail.com',29000)\n",
    "emp_2 = employee('swapnil','Ragade','swapnilragade@gmail.com',30000)\n",
    "\n"
   ]
  },
  {
   "cell_type": "code",
   "execution_count": 64,
   "id": "5940985f",
   "metadata": {},
   "outputs": [
    {
     "name": "stdout",
     "output_type": "stream",
     "text": [
      "29000\n",
      "30160\n"
     ]
    }
   ],
   "source": [
    "#printing raise of employee1\n",
    "print(emp_1.salary)   #prints salary before raise \n",
    "emp_1.emp_raise()\n",
    "print(emp_1.salary)    #prints salary after raise\n",
    "\n"
   ]
  },
  {
   "cell_type": "code",
   "execution_count": 65,
   "id": "788f8394",
   "metadata": {},
   "outputs": [
    {
     "name": "stdout",
     "output_type": "stream",
     "text": [
      "1.05\n",
      "1.05\n",
      "1.05\n"
     ]
    }
   ],
   "source": [
    "#changing employee raise amount\n",
    "employee.raise_amount = 1.05\n",
    "print(employee.raise_amount)\n",
    "print(emp_1.raise_amount)\n",
    "print(emp_2.raise_amount)\n"
   ]
  },
  {
   "cell_type": "code",
   "execution_count": 66,
   "id": "c481af88",
   "metadata": {},
   "outputs": [
    {
     "name": "stdout",
     "output_type": "stream",
     "text": [
      "1.05\n",
      "1.06\n",
      "1.05\n"
     ]
    }
   ],
   "source": [
    "#cahnging employee 1 raise amount\n",
    "emp_1.raise_amount = 1.06\n",
    "print(employee.raise_amount)\n",
    "print(emp_1.raise_amount)\n",
    "print(emp_2.raise_amount)"
   ]
  },
  {
   "cell_type": "code",
   "execution_count": 67,
   "id": "a92ca2e8",
   "metadata": {},
   "outputs": [
    {
     "name": "stdout",
     "output_type": "stream",
     "text": [
      "2\n"
     ]
    }
   ],
   "source": [
    "#printing number of employee\n",
    "print(employee.no_of_employee)"
   ]
  },
  {
   "cell_type": "code",
   "execution_count": null,
   "id": "e184f9b9",
   "metadata": {},
   "outputs": [],
   "source": [
    "'''3rd video => regular method , classmethoid and static method difference'''"
   ]
  },
  {
   "cell_type": "code",
   "execution_count": 68,
   "id": "ce896889",
   "metadata": {},
   "outputs": [],
   "source": [
    "class employee:\n",
    "    def __init__(self,first_name,last_name,email,salary):\n",
    "        self.first_name = first_name\n",
    "        self.last_name = last_name\n",
    "        self.email = email\n",
    "        self.salary = salary\n",
    "    \n",
    "    @classmethod\n",
    "    def raise_amt(cls,amt):\n",
    "        cls.raise_amt = amt\n",
    "        \n",
    "    \n",
    "    @classmethod\n",
    "    def from_string(cls, emp_str):\n",
    "        first_name,last_name,email,salary = emp_str.split('-')\n",
    "        return cls(first_name,last_name,email,salary )\n",
    "    \n",
    "    @staticmethod\n",
    "    def is_workday(day):\n",
    "        if day.weekday()==5 or day.weekday()==6:    #weekday is function in which monday ==0,tuesday==1 onwards....\n",
    "            return False\n",
    "        else:\n",
    "            return True\n",
    "    \n",
    "        \n",
    "#input\n",
    "emp_1 = employee('Pranay','Shinde','sranay740@gmail.com',29000)\n",
    "emp_2 = employee('swapnil','Ragade','swapnilragade@gmail.com',30000)\n",
    "\n",
    "\n"
   ]
  },
  {
   "cell_type": "code",
   "execution_count": 69,
   "id": "d34251ac",
   "metadata": {},
   "outputs": [
    {
     "name": "stdout",
     "output_type": "stream",
     "text": [
      "1.06\n",
      "1.06\n"
     ]
    }
   ],
   "source": [
    "#for 1st class method\n",
    "employee.raise_amt(1.06)\n",
    "\n",
    "print(employee.raise_amt)\n",
    "print(emp_1.raise_amt)\n",
    "\n"
   ]
  },
  {
   "cell_type": "code",
   "execution_count": 70,
   "id": "89e71db4",
   "metadata": {},
   "outputs": [
    {
     "name": "stdout",
     "output_type": "stream",
     "text": [
      "roshan shinde\n",
      "roshanshinde424@gmail.com\n",
      "32000\n"
     ]
    }
   ],
   "source": [
    "#for 2nd class method\n",
    "emp__str_1 = 'roshan-shinde-roshanshinde424@gmail.com-32000'\n",
    "emp_str_2 = 'sarvesh-yeole-sarvesh@gmail.com-33000'\n",
    "emp_str_3 = 'saurav-shinde-saurav@gmail.com-35000'\n",
    "\n",
    "new_emp_1 = employee.from_string(emp__str_1)\n",
    "\n",
    "print(new_emp_1.first_name +\" \" +new_emp_1.last_name)\n",
    "print(new_emp_1.email)\n",
    "print(new_emp_1.salary)"
   ]
  },
  {
   "cell_type": "code",
   "execution_count": 73,
   "id": "1d4681e5",
   "metadata": {},
   "outputs": [
    {
     "name": "stdout",
     "output_type": "stream",
     "text": [
      "True\n",
      "False\n"
     ]
    }
   ],
   "source": [
    "#for static method\n",
    "import datetime\n",
    "my_date =  datetime.date(2023, 1, 31)   #tuesday\n",
    "my_date_2 =  datetime.date(2023, 1, 29)\n",
    "\n",
    "print(employee.is_workday(my_date))     #sunday\n",
    "print(employee.is_workday(my_date_2))"
   ]
  },
  {
   "cell_type": "code",
   "execution_count": null,
   "id": "b2e7ffbf",
   "metadata": {},
   "outputs": [],
   "source": [
    "            ''' 4th video => Inheritance - Creating Subclasses'''"
   ]
  },
  {
   "cell_type": "code",
   "execution_count": 15,
   "id": "8331f9dc",
   "metadata": {},
   "outputs": [
    {
     "name": "stdout",
     "output_type": "stream",
     "text": [
      "Help on class Developer in module __main__:\n",
      "\n",
      "class Developer(employee)\n",
      " |  Developer(first_name, last_name, salary, prog_lang)\n",
      " |  \n",
      " |  Method resolution order:\n",
      " |      Developer\n",
      " |      employee\n",
      " |      builtins.object\n",
      " |  \n",
      " |  Methods defined here:\n",
      " |  \n",
      " |  __init__(self, first_name, last_name, salary, prog_lang)\n",
      " |      Initialize self.  See help(type(self)) for accurate signature.\n",
      " |  \n",
      " |  ----------------------------------------------------------------------\n",
      " |  Data and other attributes defined here:\n",
      " |  \n",
      " |  raise_amount = 1.1\n",
      " |  \n",
      " |  ----------------------------------------------------------------------\n",
      " |  Methods inherited from employee:\n",
      " |  \n",
      " |  emp_raise(self)\n",
      " |      #defining function for raise\n",
      " |  \n",
      " |  fullname(self)\n",
      " |      #defining  funtion to print full name\n",
      " |  \n",
      " |  ----------------------------------------------------------------------\n",
      " |  Data descriptors inherited from employee:\n",
      " |  \n",
      " |  __dict__\n",
      " |      dictionary for instance variables (if defined)\n",
      " |  \n",
      " |  __weakref__\n",
      " |      list of weak references to the object (if defined)\n",
      "\n",
      "None\n"
     ]
    }
   ],
   "source": [
    "class employee:\n",
    "    raise_amount = 1.04 \n",
    "    def __init__(self,first_name,last_name,salary):\n",
    "        self.first_name = first_name\n",
    "        self.last_name = last_name\n",
    "        self.salary = salary\n",
    "        self.email = first_name + last_name+'@gmail.com' \n",
    "        \n",
    "    #defining function for raise\n",
    "    def emp_raise(self):\n",
    "        self.salary = int(self.salary * self.raise_amount)\n",
    "        \n",
    "    #defining  funtion to print full name\n",
    "    def fullname(self):\n",
    "        return (f\"{self.first_name} {self.last_name}\")\n",
    "        \n",
    "\n",
    "#INHERITANCE\n",
    "class Developer(employee):\n",
    "    raise_amount = 1.10\n",
    "    #to add additional attribute in only in developer subclass\n",
    "    def __init__(self,first_name,last_name,salary,prog_lang):\n",
    "            #by using super() we dont need to copy all code inside __init__method\n",
    "        super().__init__(first_name,last_name,salary) \n",
    "        self.prog_lang = prog_lang\n",
    "        \n",
    "    \n",
    "        \n",
    "class Manager(employee):\n",
    "    def __init__(self,first_name,last_name,salary,employees=None):\n",
    "        super().__init__(first_name,last_name,salary)\n",
    "        if employees is None:\n",
    "            self.employees=[]\n",
    "        else:\n",
    "            self.employees=employees\n",
    "    \n",
    "    #defining method to add employee \n",
    "    def add_emp(self,emp):\n",
    "        if emp not in self.employees:\n",
    "            self.employees.append(emp)\n",
    "            \n",
    "    #defining method to remove employee \n",
    "    def remove_emp(self,emp):\n",
    "        if emp in self.employees:\n",
    "            self.employees.remove(emp)\n",
    "    \n",
    "    #definig method to print \n",
    "    def print_emp(self):\n",
    "        for emp in self.employees:\n",
    "            print('-->',emp.fullname)\n",
    "        \n",
    "        \n",
    "    \n",
    "\n",
    "dev1 = Developer('Ramesh', 'Shinde',70000,'python')\n",
    "dev2 = Developer('Pranay','Shinde',100000,'java')\n",
    "\n",
    "\n",
    "print(help(Developer))   #prints how subclass Developer works\n",
    "\n",
    "   "
   ]
  },
  {
   "cell_type": "code",
   "execution_count": 16,
   "id": "639376b2",
   "metadata": {},
   "outputs": [
    {
     "name": "stdout",
     "output_type": "stream",
     "text": [
      "RameshShinde@gmail.com\n",
      "PranayShinde@gmail.com\n",
      "python\n",
      "java\n"
     ]
    }
   ],
   "source": [
    "# opeations for developer subclass\n",
    "\n",
    "print(dev1.email)\n",
    "print(dev2.email)\n",
    "\n",
    "print(dev1.prog_lang)\n",
    "print(dev2.prog_lang)"
   ]
  },
  {
   "cell_type": "code",
   "execution_count": 17,
   "id": "490f9eeb",
   "metadata": {},
   "outputs": [
    {
     "name": "stdout",
     "output_type": "stream",
     "text": [
      "70000\n",
      "77000\n"
     ]
    }
   ],
   "source": [
    "#if you want to rasie amt as per employee then delete raise amt in subclass developer\n",
    "print(dev1.salary)\n",
    "dev1.emp_raise()\n",
    "print(dev1.salary)"
   ]
  },
  {
   "cell_type": "code",
   "execution_count": 23,
   "id": "0e2a9ec4",
   "metadata": {},
   "outputs": [
    {
     "name": "stdout",
     "output_type": "stream",
     "text": [
      "VishalShirke@gmail.com\n"
     ]
    }
   ],
   "source": [
    "# operations for manager subclass\n",
    "mgr_1 =  Manager('Vishal','Shirke',200000,[dev1])\n",
    "print(mgr_1.email)\n",
    "\n",
    "mgr_1.add_emp(dev2)\n",
    "mgr_1.remove_emp(dev1)\n"
   ]
  },
  {
   "cell_type": "code",
   "execution_count": 26,
   "id": "538d8db6",
   "metadata": {},
   "outputs": [
    {
     "name": "stdout",
     "output_type": "stream",
     "text": [
      "True\n"
     ]
    }
   ],
   "source": [
    "print(isinstance(mgr_1,employee))"
   ]
  },
  {
   "cell_type": "code",
   "execution_count": null,
   "id": "381759c4",
   "metadata": {},
   "outputs": [],
   "source": [
    "               '''5th video => special methods i.e. methods more like __init__'''"
   ]
  }
 ],
 "metadata": {
  "kernelspec": {
   "display_name": "Python 3 (ipykernel)",
   "language": "python",
   "name": "python3"
  },
  "language_info": {
   "codemirror_mode": {
    "name": "ipython",
    "version": 3
   },
   "file_extension": ".py",
   "mimetype": "text/x-python",
   "name": "python",
   "nbconvert_exporter": "python",
   "pygments_lexer": "ipython3",
   "version": "3.9.7"
  }
 },
 "nbformat": 4,
 "nbformat_minor": 5
}
