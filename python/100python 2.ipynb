{
 "cells": [
  {
   "cell_type": "code",
   "execution_count": 3,
   "id": "c7615293",
   "metadata": {},
   "outputs": [
    {
     "name": "stdout",
     "output_type": "stream",
     "text": [
      "5\n",
      "15\n"
     ]
    }
   ],
   "source": [
    "#41) sum of  n natural numbers\n",
    "def sum_natural(n):\n",
    "    Sum = 0\n",
    "    for i in range(1,n+1):\n",
    "        Sum = Sum + i\n",
    "        \n",
    "    print(Sum)\n",
    "    \n",
    "n = int(input())\n",
    "sum_natural(n)\n",
    "        "
   ]
  },
  {
   "cell_type": "code",
   "execution_count": 9,
   "id": "06830cf7",
   "metadata": {},
   "outputs": [
    {
     "name": "stdout",
     "output_type": "stream",
     "text": [
      "4\n",
      "10\n",
      "20\n",
      "30\n",
      "40\n",
      "maximum element from list [10, 20, 30, 40] is 40\n",
      "minimum element from list [10, 20, 30, 40] is 10\n"
     ]
    }
   ],
   "source": [
    "#42)smallest and largest element in array\n",
    "'''Get an array as input from the user and then find the smallest and largest element in the array.\n",
    "\n",
    "Input\n",
    "\n",
    "Enter the size of array: 5\n",
    "\n",
    "Enter the elements:  10 20 5 40 30\n",
    "\n",
    "Output\n",
    "\n",
    "Smallest Number: 5\n",
    "\n",
    "Largest Number: 40'''\n",
    "\n",
    "def small_large_array(size):\n",
    "    l=[]\n",
    "    for i in range(size):\n",
    "        elements = int(input())\n",
    "        l.append(elements)\n",
    "    \n",
    "    a=max(l)\n",
    "    b=min(l)\n",
    "    \n",
    "    print(f\"maximum element from list {l} is {a}\")\n",
    "    print(f\"minimum element from list {l} is {b}\")\n",
    "\n",
    "\n",
    "size=int(input())\n",
    "small_large_array(size)\n",
    "        \n",
    "        "
   ]
  },
  {
   "cell_type": "code",
   "execution_count": 7,
   "id": "69ad90fe",
   "metadata": {},
   "outputs": [
    {
     "name": "stdout",
     "output_type": "stream",
     "text": [
      "5\n",
      "1\n",
      "2\n",
      "3\n",
      "4\n",
      "7\n",
      "[1, 2, 3, 4, 7]\n"
     ]
    }
   ],
   "source": [
    "size = int(input())\n",
    "\n",
    "l=[]\n",
    "for i in range(size):\n",
    "    elements = int(input())\n",
    "    l.append(elements)\n",
    "print(l)"
   ]
  },
  {
   "cell_type": "code",
   "execution_count": 10,
   "id": "b0d313be",
   "metadata": {},
   "outputs": [
    {
     "name": "stdout",
     "output_type": "stream",
     "text": [
      "2\n",
      "10\n",
      "40\n",
      "smallest number 10\n",
      "Largest number 40\n"
     ]
    }
   ],
   "source": [
    "def small_large_arr(size):\n",
    "    l = []\n",
    "    for i in range(size):\n",
    "        elements = int(input())\n",
    "        l.append(elements)\n",
    "        \n",
    "    small = l[0]\n",
    "    big = l[0]\n",
    "    for j in range(len(l)):\n",
    "        if l[j]<small:\n",
    "            small=l[j]\n",
    "        if l[j]>big:\n",
    "            big=l[j]\n",
    "    \n",
    "    print(\"smallest number\",small)\n",
    "    print(\"Largest number\",big)\n",
    "\n",
    "size = int(input())\n",
    "small_large_arr(size)\n",
    "        "
   ]
  },
  {
   "cell_type": "code",
   "execution_count": 7,
   "id": "0f93b9f0",
   "metadata": {},
   "outputs": [
    {
     "name": "stdout",
     "output_type": "stream",
     "text": [
      "5\n",
      "10\n",
      "20\n",
      "30\n",
      "40\n",
      "50\n",
      "sum of eleents of array is 150\n"
     ]
    }
   ],
   "source": [
    "#43)sum of elements in array\n",
    "def sum_arr(size):\n",
    "    l = []\n",
    "    for i in range(size):\n",
    "        elements = int(input())\n",
    "        l.append(elements)\n",
    "    \n",
    "    Sum=0\n",
    "    for j in range(len(l)):\n",
    "        Sum = Sum + l[j]\n",
    "        \n",
    "    print(\"sum of eleents of array is\",Sum)\n",
    "\n",
    "size = int(input())    \n",
    "sum_arr(size)"
   ]
  },
  {
   "cell_type": "code",
   "execution_count": 6,
   "id": "7b5f3887",
   "metadata": {},
   "outputs": [
    {
     "name": "stdout",
     "output_type": "stream",
     "text": [
      "2\n",
      "101\n",
      "454\n",
      "longest pallindrome is  454\n"
     ]
    }
   ],
   "source": [
    "#44)longest pallindrome in list\n",
    "\n",
    "        \n",
    "def is_pallindrome(n):\n",
    "    num = str(n)\n",
    "    li=[]\n",
    "    while n>0:\n",
    "        a = n%10\n",
    "        li.append(str(a))\n",
    "        n = n//10\n",
    "    \n",
    "    b =\"\".join(li)\n",
    "    if b==num:\n",
    "        return True\n",
    "\n",
    "    \n",
    "    return False\n",
    "\n",
    "def longest_pallindrome(size):\n",
    "    l = []\n",
    "    for i in range(size):\n",
    "        elements = int(input())\n",
    "        l.append(elements)\n",
    "    \n",
    "    lis=[]\n",
    "    for j in range(len(l)):\n",
    "        if is_pallindrome(l[j]):\n",
    "            lis.append(l[j])\n",
    "    \n",
    "    big = max(lis)\n",
    "            \n",
    "    print(\"longest pallindrome is \",big)\n",
    "        \n",
    "        \n",
    "size = int(input())            \n",
    "longest_pallindrome(size)        \n",
    "        \n",
    "        \n",
    "    "
   ]
  },
  {
   "cell_type": "code",
   "execution_count": 17,
   "id": "a657b8d2",
   "metadata": {},
   "outputs": [
    {
     "name": "stdout",
     "output_type": "stream",
     "text": [
      "5\n",
      "35\n",
      "3\n",
      "35\n",
      "45\n",
      "3\n",
      "duplicate elements 35,3\n"
     ]
    }
   ],
   "source": [
    "#45) find duplicate elements\n",
    "\n",
    "\n",
    "def dup(size):\n",
    "    l=[]\n",
    "    for i in range(size):\n",
    "        element = int(input())\n",
    "        l.append(element)\n",
    "        \n",
    "    li=[]\n",
    "    for j in range(len(l)):\n",
    "        for k in range(j+1,len(l)):\n",
    "            if l[j]==l[k]:\n",
    "                li.append(str(l[j]))\n",
    "                \n",
    "    a = ','.join(li)\n",
    "    print(\"duplicate elements\",a)\n",
    "    \n",
    "size = int(input())\n",
    "dup(size)"
   ]
  },
  {
   "cell_type": "code",
   "execution_count": 26,
   "id": "aefb594a",
   "metadata": {},
   "outputs": [
    {
     "name": "stdout",
     "output_type": "stream",
     "text": [
      "5\n",
      "35\n",
      "35\n",
      "45\n",
      "60\n",
      "60\n",
      "[35, 60, 45]\n"
     ]
    }
   ],
   "source": [
    "#45) remove duplicate elements\n",
    "'''get an array as input from the user and then remove all the duplicate elements in that array.\n",
    "\n",
    "Input\n",
    "\n",
    "Enter the size of array\n",
    "\n",
    "5\n",
    "\n",
    "Enter the elements of array\n",
    "\n",
    "35  35  45  60  60\n",
    "\n",
    "Output\n",
    "\n",
    "35 45 60'''\n",
    "\n",
    "def rem_dup(size):\n",
    "    l=[]\n",
    "    for i in range(size):\n",
    "        element = int(input())\n",
    "        l.append(element)\n",
    "    \n",
    "    \n",
    "    a = list(set(l))\n",
    "    print(a)\n",
    "    \n",
    "size = int(input())\n",
    "rem_dup(size)\n"
   ]
  },
  {
   "cell_type": "code",
   "execution_count": 29,
   "id": "393edd6b",
   "metadata": {},
   "outputs": [
    {
     "name": "stdout",
     "output_type": "stream",
     "text": [
      "5\n",
      "35\n",
      "35\n",
      "45\n",
      "60\n",
      "60\n",
      "[35, 45, 60]\n"
     ]
    }
   ],
   "source": [
    "def rem_dup(size):\n",
    "    l=[]\n",
    "    for i in range(size):\n",
    "        element = int(input())\n",
    "        l.append(element)\n",
    "    \n",
    "    li=[]\n",
    "    for i in l:\n",
    "        if i not in li:\n",
    "            li.append(i)\n",
    "    \n",
    "    print(li)\n",
    "\n",
    "size = int(input())\n",
    "rem_dup(size)"
   ]
  },
  {
   "cell_type": "code",
   "execution_count": 32,
   "id": "c31faedc",
   "metadata": {},
   "outputs": [
    {
     "name": "stdout",
     "output_type": "stream",
     "text": [
      "4\n",
      "1\n",
      "3\n",
      "4\n",
      "5\n",
      "no. of even elements 1\n",
      "no. of odd elements 3\n"
     ]
    }
   ],
   "source": [
    "#46)even and odd elements in array\n",
    "'''Get an array as input from the user and then count the number of even and odd elements present in the array.\n",
    "\n",
    "Input\n",
    "\n",
    "Enter size of array\n",
    "\n",
    "4\n",
    "\n",
    "Enter the elements:\n",
    "\n",
    "1 3 4 5\n",
    "\n",
    "Output\n",
    "\n",
    "Number of even elements: 1\n",
    "\n",
    "Number of odd elements: 3\n",
    "\n",
    "'''\n",
    "def even_odd_arr(size):\n",
    "    l=[]\n",
    "    for i in range(size):\n",
    "        element = int(input())\n",
    "        l.append(element)\n",
    "    \n",
    "    count_sum=0\n",
    "    count_odd=0\n",
    "    for j in l:\n",
    "        if j%2==0:\n",
    "            count_sum = count_sum+1\n",
    "        else:\n",
    "            count_odd = count_odd+1\n",
    "            \n",
    "    print(\"no. of even elements\",count_sum)\n",
    "    print(\"no. of odd elements\",count_odd)\n",
    "\n",
    "size = int(input())\n",
    "even_odd_arr(size)\n"
   ]
  },
  {
   "cell_type": "code",
   "execution_count": 38,
   "id": "68ae1cfe",
   "metadata": {},
   "outputs": [
    {
     "name": "stdout",
     "output_type": "stream",
     "text": [
      "enter size of 1st array: 3\n",
      "enter size of 2nd array: 3\n",
      "enter elements of 1st array: 1\n",
      "enter elements of 1st array: 2\n",
      "enter elements of 1st array: 3\n",
      "enter elements of 2nd array: 1\n",
      "enter elements of 2nd array: 2\n",
      "enter elements of 2nd array: 3\n",
      "same\n"
     ]
    }
   ],
   "source": [
    "#47)check 2 arrays same or not\n",
    "'''Get two arrays as the input from the user and check whether it is the same or not.\n",
    "\n",
    "Input\n",
    "\n",
    "Enter the size of first array: 3\n",
    "\n",
    "Enter the size of second array: 3\n",
    "\n",
    "Enter elements of first array: 1 2 3\n",
    "\n",
    "Enter elements of second array: 1 2 3\n",
    "\n",
    "Output\n",
    "\n",
    "Same'''\n",
    "\n",
    "def check_2_array(size_1,size_2):\n",
    "    \n",
    "    l=[]\n",
    "    for i in range(size_1):\n",
    "        element_1 = int(input(\"enter elements of 1st array: \"))\n",
    "        l.append(element_1)\n",
    "        \n",
    "    li=[]\n",
    "    for i in range(size_2):\n",
    "        element_2 = int(input(\"enter elements of 2nd array: \"))\n",
    "        li.append(element_2)\n",
    "        \n",
    "    if  l==li:\n",
    "        print(\"same\")\n",
    "    else:\n",
    "        print(\"different\")\n",
    "        \n",
    "size_1 = int(input(\"enter size of 1st array: \"))\n",
    "size_2 = int(input(\"enter size of 2nd array: \"))\n",
    "check_2_array(size_1,size_2)"
   ]
  },
  {
   "cell_type": "code",
   "execution_count": 42,
   "id": "70440593",
   "metadata": {},
   "outputs": [
    {
     "name": "stdout",
     "output_type": "stream",
     "text": [
      "3\n",
      "1\n",
      "3\n",
      "5\n",
      "odd\n"
     ]
    }
   ],
   "source": [
    "#48)array type find\n",
    "'''Get an array as input from the user and check the type of the array, whether it is odd, even or mixed type.\n",
    "\n",
    "Input\n",
    "\n",
    "Enter size of array:\n",
    "\n",
    "3\n",
    "\n",
    "Enter elements\n",
    "\n",
    "1 3 5\n",
    "\n",
    "Output\n",
    "\n",
    "Odd'''\n",
    "\n",
    "def array_type(size):\n",
    "    l=[]\n",
    "    for i in range(size):\n",
    "        element = int(input())\n",
    "        l.append(element)\n",
    "    \n",
    "    count=0\n",
    "    count_1=0\n",
    "    for j in l:\n",
    "        if j%2==0:\n",
    "            count=count+1\n",
    "        elif j%2!=0:\n",
    "            count_1=count_1+1\n",
    "    \n",
    "    \n",
    "    if count==len(l):\n",
    "        print(\"Even\")\n",
    "        \n",
    "    elif count_1==len(l):\n",
    "        print(\"odd\")\n",
    "    \n",
    "    else:\n",
    "        print(\"mixed\")\n",
    "        \n",
    "        \n",
    "size = int(input())\n",
    "array_type(size)\n",
    "            \n",
    "            "
   ]
  },
  {
   "cell_type": "code",
   "execution_count": 41,
   "id": "cee29987",
   "metadata": {},
   "outputs": [
    {
     "data": {
      "text/plain": [
       "3"
      ]
     },
     "execution_count": 41,
     "metadata": {},
     "output_type": "execute_result"
    }
   ],
   "source": [
    "l=[4,8,12]\n",
    "a=len(l)\n",
    "a"
   ]
  },
  {
   "cell_type": "code",
   "execution_count": 76,
   "id": "04361cd0",
   "metadata": {},
   "outputs": [
    {
     "name": "stdout",
     "output_type": "stream",
     "text": [
      "3\n",
      "1\n",
      "2\n",
      "1\n",
      "1 occurs 2 times\n",
      "2 occurs 1 times\n"
     ]
    }
   ],
   "source": [
    "#49)Frequency of each elemet in array   most difficult one\n",
    "'''Get an array as input from the user and find the frequency of each element in that array.\n",
    "\n",
    "Input\n",
    "\n",
    "Enter the size of array\n",
    "\n",
    "3\n",
    "\n",
    "Enter the elements\n",
    "\n",
    "1 2 1\n",
    "\n",
    "Output\n",
    "\n",
    "1 occurs 2 times\n",
    "\n",
    "2 occurs 1 times'''\n",
    "\n",
    "def array_freq(size):\n",
    "    \n",
    "    l=[]\n",
    "    for i in range(size):\n",
    "        element = int(input())\n",
    "        l.append(element)\n",
    "    \n",
    "    visited=-1\n",
    "    for j in range(len(l)):     \n",
    "        count=1\n",
    "        for k in range(j+1,len(l)):\n",
    "            if l[j]==l[k]:\n",
    "                count = count+1\n",
    "                l[k]=visited\n",
    "        \n",
    "        if l[j]!=visited:\n",
    "            print(f\"{l[j]} occurs {count} times\")\n",
    "\n",
    "size = int(input())\n",
    "array_freq(size)"
   ]
  },
  {
   "cell_type": "code",
   "execution_count": 83,
   "id": "311b70ed",
   "metadata": {},
   "outputs": [
    {
     "name": "stdout",
     "output_type": "stream",
     "text": [
      "3\n",
      "1\n",
      "4\n",
      "7\n",
      "[7, 4, 1]\n"
     ]
    }
   ],
   "source": [
    "#50 reverse array\n",
    "def rev_array(size):\n",
    "    \n",
    "    l=[]\n",
    "    for i in range(size):\n",
    "        element = int(input())\n",
    "        l.append(element)\n",
    "     \n",
    "    l.reverse()        #or we can use ,  a = list(reversed(l)) print(a)\n",
    "    print(l)\n",
    "\n",
    "size = int(input())\n",
    "rev_array(size)    \n"
   ]
  },
  {
   "cell_type": "code",
   "execution_count": 81,
   "id": "86e03191",
   "metadata": {},
   "outputs": [
    {
     "name": "stdout",
     "output_type": "stream",
     "text": [
      "3\n",
      "1\n",
      "2\n",
      "3\n",
      "[3, 2, 1]\n"
     ]
    }
   ],
   "source": [
    "def rev_array(size):\n",
    "    \n",
    "    l=[]\n",
    "    for i in range(size):\n",
    "        element = int(input())\n",
    "        l.append(element)\n",
    "         \n",
    "    li = l[::-1]\n",
    "    \n",
    "    print(li)\n",
    "\n",
    "size = int(input())\n",
    "rev_array(size)    \n"
   ]
  },
  {
   "cell_type": "code",
   "execution_count": 4,
   "id": "f2ee07e8",
   "metadata": {},
   "outputs": [
    {
     "name": "stdout",
     "output_type": "stream",
     "text": [
      "4\n",
      "5\n",
      "5\n",
      "5\n",
      "5\n",
      "Not found\n"
     ]
    }
   ],
   "source": [
    "#51 second smallest element i array\n",
    "'''Given an integer array of size N. Write Program to find second smallest element in the array.\n",
    "\n",
    "Sample input 1:\n",
    "\n",
    "4\n",
    "\n",
    "1 2 3 4\n",
    "\n",
    "Sample output 1:\n",
    "\n",
    "2\n",
    "\n",
    "Sample input 2:\n",
    "\n",
    "4\n",
    "\n",
    "5 5 5 5\n",
    "\n",
    "Sample output 1:\n",
    "\n",
    "Not found'''\n",
    "\n",
    "def second_small_aray(size):\n",
    "    \n",
    "    l=[]\n",
    "    for i in range(size):\n",
    "        element = int(input())\n",
    "        l.append(element)\n",
    "        \n",
    "    min_l = min(l)                     #find first min \n",
    "    l.remove(min_l)                    #remove first min\n",
    "    min_second_l = min(l)               #find first min from new list\n",
    "    \n",
    "    if len(l)<=1 or min_l==min_second_l:\n",
    "        print(\"Not found\")\n",
    "    else:\n",
    "        print(min_second_l)\n",
    "    \n",
    "    \n",
    "size = int(input())\n",
    "second_small_aray(size)\n",
    "         \n"
   ]
  },
  {
   "cell_type": "code",
   "execution_count": 2,
   "id": "ef9c443e",
   "metadata": {},
   "outputs": [
    {
     "data": {
      "text/plain": [
       "[4, 7]"
      ]
     },
     "execution_count": 2,
     "metadata": {},
     "output_type": "execute_result"
    }
   ],
   "source": [
    "l=[4,7,3]\n",
    "min_l = min(l)\n",
    "l.remove(min_l)\n",
    "l"
   ]
  },
  {
   "cell_type": "code",
   "execution_count": 11,
   "id": "424d7276",
   "metadata": {},
   "outputs": [
    {
     "name": "stdout",
     "output_type": "stream",
     "text": [
      "4\n",
      "-1\n",
      "-2\n",
      "-3\n",
      "-4\n",
      "30\n"
     ]
    }
   ],
   "source": [
    "#52    Given an integer array of size N. Write Program to find sum of positive square elements in the array.\n",
    "'''Sample input 1:\n",
    "\n",
    "4\n",
    "\n",
    "1 2 3 4\n",
    "\n",
    "Sample output 1:\n",
    "\n",
    "30\n",
    "\n",
    "Explanation :\n",
    "\n",
    "(1 + 4 + 9 + 16) = 30\n",
    "\n",
    "Sample input 2:\n",
    "\n",
    "4\n",
    "\n",
    "-1 -2 -3 -4\n",
    "\n",
    "Sample output 2:\n",
    "\n",
    "30\n",
    "\n",
    "Explanation :\n",
    "\n",
    "(1 + 4 + 9 + 16) = 30'''\n",
    "\n",
    "def pos_sq_elements(size):\n",
    "    l=[]\n",
    "    for i in range(size):\n",
    "        element = int(input())\n",
    "        l.append(element)\n",
    "        \n",
    "    li=[]   \n",
    "    for j in l:\n",
    "        sq =j**2\n",
    "        li.append(sq)\n",
    "        \n",
    "    Sum=0\n",
    "    for k in li:\n",
    "        Sum = Sum +k\n",
    "    \n",
    "    print(Sum)\n",
    "    \n",
    "size=int(input())\n",
    "pos_sq_elements(size)\n",
    "        \n",
    "\n",
    "        \n",
    "        "
   ]
  },
  {
   "cell_type": "code",
   "execution_count": 7,
   "id": "6582f668",
   "metadata": {},
   "outputs": [
    {
     "data": {
      "text/plain": [
       "9"
      ]
     },
     "execution_count": 7,
     "metadata": {},
     "output_type": "execute_result"
    }
   ],
   "source": [
    "3**2\n"
   ]
  },
  {
   "cell_type": "code",
   "execution_count": 12,
   "id": "3cb696be",
   "metadata": {},
   "outputs": [
    {
     "name": "stdout",
     "output_type": "stream",
     "text": [
      "4\n",
      "-1\n",
      "-2\n",
      "-3\n",
      "-4\n",
      "30\n"
     ]
    }
   ],
   "source": [
    "\n",
    "def pos_sq_elements(size):\n",
    "    l=[]\n",
    "    for i in range(size):\n",
    "        element = int(input())\n",
    "        l.append(element)\n",
    "        \n",
    "    Sum = 0\n",
    "    for j in l:\n",
    "        Sum = Sum + l[j]*l[j]\n",
    "        \n",
    "    print(Sum)\n",
    "    \n",
    "size=int(input())\n",
    "pos_sq_elements(size)\n",
    "        "
   ]
  },
  {
   "cell_type": "code",
   "execution_count": 18,
   "id": "318e138e",
   "metadata": {},
   "outputs": [
    {
     "name": "stdout",
     "output_type": "stream",
     "text": [
      "4\n",
      "3\n",
      "2\n",
      "4\n",
      "1\n",
      "[1, 2, 3, 4]\n"
     ]
    }
   ],
   "source": [
    "#53 sort array\n",
    "\n",
    "def sort_arr(size):\n",
    "    l=[]\n",
    "    for i in range(size):\n",
    "        element = int(input())\n",
    "        l.append(element)\n",
    "        \n",
    "    l.sort()\n",
    "    print(l)\n",
    "    \n",
    "    \n",
    "size=int(input())\n",
    "sort_arr(size)\n"
   ]
  },
  {
   "cell_type": "code",
   "execution_count": 29,
   "id": "e8a5b0fb",
   "metadata": {},
   "outputs": [
    {
     "name": "stdout",
     "output_type": "stream",
     "text": [
      "7x+(2*y)\n",
      "7x+2*y"
     ]
    }
   ],
   "source": [
    "#54 \n",
    "'''Get an algebraic expression as input from the user and then remove all the brackets in that.\n",
    "\n",
    "Input\n",
    "\n",
    "7x+(2*y)\n",
    "\n",
    "Output\n",
    "\n",
    "7x+2*y'''\n",
    "\n",
    "def rem_bracket(exp):\n",
    "    l=[\"(\",\")\",\"[\",\"]\",\"{\",\"}\"]\n",
    "    l1 = []\n",
    "    for i in exp:\n",
    "        if i not in l:\n",
    "            l1.append(i)\n",
    "            print(i,end=\"\")\n",
    "            \n",
    "exp = str(input())\n",
    "rem_bracket(exp)\n",
    "\n"
   ]
  },
  {
   "cell_type": "code",
   "execution_count": 30,
   "id": "848199dc",
   "metadata": {},
   "outputs": [
    {
     "name": "stdout",
     "output_type": "stream",
     "text": [
      "7x+(2*y)\n",
      "7x+2*y\n"
     ]
    }
   ],
   "source": [
    "\n",
    "def rem_bracket(exp):\n",
    "    \n",
    "    string = \"\"\n",
    "    for i in exp:\n",
    "        if ord(i) == 41 or ord(i) == 40 or ord(i) == 91 or ord(i) == 93 or ord(i) == 123 or ord(i) == 125:\n",
    "            pass\n",
    "        else:\n",
    "            string = string + i\n",
    "    \n",
    "    print(string) \n",
    "    \n",
    "exp = str(input())\n",
    "rem_bracket(exp)\n",
    "    "
   ]
  },
  {
   "cell_type": "code",
   "execution_count": 44,
   "id": "6fb25f08",
   "metadata": {},
   "outputs": [
    {
     "name": "stdout",
     "output_type": "stream",
     "text": [
      "abc\n",
      "cba\n",
      " Anagram\n"
     ]
    }
   ],
   "source": [
    "#55 \n",
    "'''Get two strings as input from the user and check whether it is Anagram or not.\n",
    "\n",
    " \n",
    "\n",
    "Input\n",
    "\n",
    "sunlight\n",
    "\n",
    "thgiluns\n",
    "\n",
    " \n",
    "\n",
    "Output\n",
    "\n",
    "Anagram'''\n",
    "\n",
    "def anagram(string1,string2):\n",
    "    if (string1[::1])==(string2[::-1]):\n",
    "        print(\" Anagram\")\n",
    "    else:\n",
    "        print(\"no anagram\")\n",
    "        \n",
    "string1 = input()\n",
    "string2 = input()\n",
    "anagram(string1,string2)\n",
    "\n",
    "    "
   ]
  },
  {
   "cell_type": "code",
   "execution_count": 43,
   "id": "12bbd281",
   "metadata": {},
   "outputs": [
    {
     "name": "stdout",
     "output_type": "stream",
     "text": [
      "abaas\n",
      "saaba\n",
      "['a', 'a', 'a', 'b', 's']\n"
     ]
    }
   ],
   "source": [
    "\n",
    "string1=\"abaas\"\n",
    "print(string1[::1])\n",
    "print(string1[::-1])\n",
    "print(sorted(string1))"
   ]
  },
  {
   "cell_type": "code",
   "execution_count": 45,
   "id": "640cb0bb",
   "metadata": {},
   "outputs": [
    {
     "name": "stdout",
     "output_type": "stream",
     "text": [
      "sunlight\n",
      "thgiluns\n",
      "Anagram\n"
     ]
    }
   ],
   "source": [
    "def anagram(string1,string2):\n",
    "    if sorted(string1)==sorted(string2):\n",
    "        print(\"Anagram\")\n",
    "    else:\n",
    "        print(\"no anagram\")\n",
    "        \n",
    "string1 = input()\n",
    "string2 = input()\n",
    "anagram(string1,string2)"
   ]
  },
  {
   "cell_type": "code",
   "execution_count": 65,
   "id": "eee73796",
   "metadata": {},
   "outputs": [
    {
     "name": "stdout",
     "output_type": "stream",
     "text": [
      "programming\n",
      "ProgramminG\n"
     ]
    }
   ],
   "source": [
    "#56\n",
    "'''Get a string from the user and then change the first and last letter to uppercase.\n",
    "\n",
    " \n",
    "\n",
    "Input\n",
    "\n",
    "programming\n",
    "\n",
    "Output\n",
    "\n",
    "ProgramminG'''\n",
    "\n",
    "def uppercasr(string):\n",
    "    string1=string[0:1].upper()+string[1:len(string)-1]+string[len(string)-1:len(string)].upper()\n",
    "    print(string1)\n",
    "    \n",
    "    \n",
    "    \n",
    "string = input()\n",
    "uppercasr(string)"
   ]
  },
  {
   "cell_type": "code",
   "execution_count": 36,
   "id": "8c9e3b5b",
   "metadata": {},
   "outputs": [
    {
     "name": "stdout",
     "output_type": "stream",
     "text": [
      "programm\n",
      "The frequency of p is 1\n",
      "The frequency of r is 2\n",
      "The frequency of o is 1\n",
      "The frequency of g is 1\n",
      "The frequency of r is 2\n",
      "The frequency of a is 1\n",
      "The frequency of m is 2\n",
      "The frequency of m is 2\n"
     ]
    }
   ],
   "source": [
    "#57\n",
    "'''Get a string as the input from the user and find the frequency of characters in the string.\n",
    "\n",
    " \n",
    "\n",
    "Input\n",
    "\n",
    "program\n",
    "\n",
    "Output\n",
    "\n",
    "The frequency of a is 1\n",
    "\n",
    "The frequency of g is 1\n",
    "\n",
    "The frequency of m is 1\n",
    "\n",
    "The frequency of o is 1\n",
    "\n",
    "The frequency of p is 1\n",
    "\n",
    "The frequency of r is 2'''\n",
    "\n",
    "def freq(string):\n",
    "    \n",
    "    frequency = 0\n",
    "    for i in range(0,len(string)):\n",
    "        char = string[i]\n",
    "        frequency =  string.count(char)\n",
    "        \n",
    "        print(\"The frequency of \"+ char +\" is \"+str(frequency))\n",
    "\n",
    "string=input()\n",
    "freq(string)\n"
   ]
  },
  {
   "cell_type": "code",
   "execution_count": 34,
   "id": "80253e46",
   "metadata": {},
   "outputs": [
    {
     "name": "stdout",
     "output_type": "stream",
     "text": [
      "Enter a string: programm\n",
      "The frequency of p is 1\n",
      "The frequency of r is 2\n",
      "The frequency of o is 1\n",
      "The frequency of g is 1\n",
      "The frequency of a is 1\n",
      "The frequency of m is 2\n"
     ]
    }
   ],
   "source": [
    "def freq(string):\n",
    "    f={}\n",
    "    for i in string:\n",
    "        if i in f:\n",
    "            f[i]=f[i]+1\n",
    "        else:\n",
    "            f[i]=1\n",
    "            \n",
    "    for i in f:\n",
    "        count = f[i]\n",
    "        print(\"The frequency of \" + i + \" is \" + str(count))\n",
    "\n",
    "string = input(\"Enter a string: \")\n",
    "freq(string)\n",
    "\n",
    "    "
   ]
  },
  {
   "cell_type": "code",
   "execution_count": null,
   "id": "3bdf28c2",
   "metadata": {},
   "outputs": [],
   "source": [
    "'''The freq function is defined with a single parameter string, which represents the input string for which we want to calculate the frequency of characters.\n",
    "\n",
    "Inside the function, an empty dictionary f is created to store the frequency of characters.\n",
    "\n",
    "The first for loop iterates over each character i in the input string. This loop is responsible for counting the frequency of characters.\n",
    "\n",
    "For each character i, it checks if i is already a key in the dictionary f using the in operator. If it is, it means the character has already been encountered before, so its frequency is incremented by 1. If i is not in f, it means it is encountered for the first time, so it is added as a key in f with an initial count of 1.\n",
    "\n",
    "After counting the frequency of characters, the second for loop is used to print the frequency of each character. It iterates over the keys of the dictionary f.\n",
    "\n",
    "In each iteration, the variable i represents a character (key) in f. The corresponding value (frequency) is retrieved using f[i] and assigned to the variable count.\n",
    "\n",
    "Finally, the frequency of each character is printed using the print statement. It displays a message that includes the character and its frequency.'''"
   ]
  },
  {
   "cell_type": "code",
   "execution_count": null,
   "id": "b6beb3d8",
   "metadata": {},
   "outputs": [],
   "source": [
    "'''\n",
    "In the code f[i], f is a dictionary, and i is the key used to access a value in the dictionary.\n",
    "\n",
    "In the context of the provided code snippet:\n",
    "\n",
    "f is the dictionary that stores the frequencies of characters.\n",
    "i represents a character (key) in the dictionary f.\n",
    "When you use f[i], it retrieves the value associated with the key i in the dictionary f. In this case, f[i] corresponds to the frequency (count) of the character i.\n",
    "\n",
    "For example, let's say the dictionary f contains the following key-value pairs:\n",
    "\n",
    "python\n",
    "\n",
    "f = {'a': 3, 'b': 2, 'c': 1}\n",
    "If you access f['a'], it will return the value 3, which represents the frequency of the character 'a'. Similarly, f['b'] will return 2, and f['c'] will return 1.\n",
    "\n",
    "So, in the provided code, f[i] is used to access the frequency (value) associated with each character (key) in the dictionary f.'''"
   ]
  },
  {
   "cell_type": "code",
   "execution_count": 47,
   "id": "c93a7e30",
   "metadata": {},
   "outputs": [
    {
     "name": "stdout",
     "output_type": "stream",
     "text": [
      "hello\n",
      "heo"
     ]
    }
   ],
   "source": [
    "#58\n",
    "'''Get a string as the input from the user and print the non-repeating characters in a string.\n",
    "\n",
    " \n",
    "\n",
    "Input Non-repeating characters\n",
    "\n",
    " \n",
    "\n",
    "Hello\n",
    "\n",
    "Output\n",
    "\n",
    "H e o'''\n",
    "\n",
    "a = input()\n",
    "\n",
    "for i in a:\n",
    "    count=0\n",
    "    for j in a:\n",
    "        if i==j:\n",
    "            count = count+1\n",
    "        if count>1:\n",
    "            break\n",
    "    \n",
    "    if count==1:\n",
    "        print(i,end=\"\")\n",
    "            \n",
    "\n"
   ]
  },
  {
   "cell_type": "code",
   "execution_count": 48,
   "id": "51d2c552",
   "metadata": {},
   "outputs": [
    {
     "name": "stdout",
     "output_type": "stream",
     "text": [
      "hello\n",
      "heo\n"
     ]
    }
   ],
   "source": [
    "a =input()\n",
    "\n",
    "string=\"\"\n",
    "for i in a:\n",
    "    if a.count(i)==1:\n",
    "        string = string+i\n",
    "        \n",
    "print(string)\n",
    "        \n",
    "    \n"
   ]
  },
  {
   "cell_type": "code",
   "execution_count": 53,
   "id": "47104990",
   "metadata": {},
   "outputs": [
    {
     "name": "stdout",
     "output_type": "stream",
     "text": [
      "noon\n",
      "palindrome\n"
     ]
    }
   ],
   "source": [
    "#59\n",
    "'''Get an input string from the user and then check whether it is a palindrome string or not.\n",
    "\n",
    " \n",
    "\n",
    "Input\n",
    "\n",
    "noon\n",
    "\n",
    "Output\n",
    "\n",
    "Palindrome\n",
    "\n",
    " \n",
    "\n",
    "Input\n",
    "\n",
    "Talent\n",
    "\n",
    "Output\n",
    "\n",
    "Not a Palindrome\n",
    "\n",
    "'''\n",
    "\n",
    "a = input()\n",
    "if a[::1]==a[::-1]:\n",
    "    print(\"palindrome\")\n",
    "else:\n",
    "    print(\"not pallindrome\")\n",
    "    "
   ]
  },
  {
   "cell_type": "code",
   "execution_count": null,
   "id": "5864e03c",
   "metadata": {},
   "outputs": [],
   "source": [
    "#60\n",
    "'''Get a string as input from user which contains non-alphabets and then remove all the characters other than alphabets.\n",
    "\n",
    " \n",
    "\n",
    "Input\n",
    "\n",
    "Hello5678\n",
    "\n",
    "Output\n",
    "\n",
    "Hello'''\n",
    "\n",
    "\n"
   ]
  },
  {
   "cell_type": "code",
   "execution_count": 58,
   "id": "10a5d3cc",
   "metadata": {},
   "outputs": [
    {
     "name": "stdout",
     "output_type": "stream",
     "text": [
      "Hello5678\n",
      "Hello\n"
     ]
    }
   ],
   "source": [
    "a=str(input())\n",
    "\n",
    "string=\"\"\n",
    "for i in a:\n",
    "    if i.isalpha():\n",
    "        string=string+i\n",
    "print(string)\n"
   ]
  },
  {
   "cell_type": "code",
   "execution_count": null,
   "id": "0b1119cd",
   "metadata": {},
   "outputs": [],
   "source": [
    "#61\n",
    "'''Get a string as input and then remove all the spaces present in the string.\n",
    "\n",
    " \n",
    "\n",
    "Input\n",
    "\n",
    "Hi Hello\n",
    "\n",
    "Output\n",
    "\n",
    "HiHello'''\n",
    "\n"
   ]
  },
  {
   "cell_type": "code",
   "execution_count": 59,
   "id": "5570f623",
   "metadata": {},
   "outputs": [
    {
     "name": "stdout",
     "output_type": "stream",
     "text": [
      "hi hello\n",
      "hihello\n"
     ]
    }
   ],
   "source": [
    "a=str(input())\n",
    "\n",
    "string=\"\"\n",
    "for i in a:\n",
    "    if i!=\" \":\n",
    "        string=string+i\n",
    "        \n",
    "print(string)"
   ]
  },
  {
   "cell_type": "code",
   "execution_count": 62,
   "id": "ea42d17e",
   "metadata": {},
   "outputs": [
    {
     "name": "stdout",
     "output_type": "stream",
     "text": [
      "skbvd n bvksh\n",
      "skbvdnbvksh\n"
     ]
    }
   ],
   "source": [
    "a=str(input())\n",
    "b = a.split()\n",
    "c = \"\".join(b)\n",
    "print(c)"
   ]
  },
  {
   "cell_type": "code",
   "execution_count": null,
   "id": "b0dd04ab",
   "metadata": {},
   "outputs": [],
   "source": [
    "#62\n",
    "'''Get a string as the input from the user and then remove all the vowel letters from the string and give the output.\n",
    "\n",
    " \n",
    "\n",
    "Input\n",
    "\n",
    "remove\n",
    "\n",
    "Output\n",
    "\n",
    "rmv'''"
   ]
  },
  {
   "cell_type": "code",
   "execution_count": 63,
   "id": "c4d34de9",
   "metadata": {},
   "outputs": [
    {
     "name": "stdout",
     "output_type": "stream",
     "text": [
      "remove\n",
      "rmv\n"
     ]
    }
   ],
   "source": [
    "a = str(input())\n",
    "\n",
    "string=\"\"\n",
    "for i in a:\n",
    "    if i==\"a\" or i==\"A\" or i==\"e\" or i==\"E\" or i==\"i\" or i==\"I\" or i==\"o\" or i==\"O\" or i==\"u\" or i==\"U\":\n",
    "        pass\n",
    "    else:\n",
    "        string = string + i\n",
    "print(string)\n",
    "        "
   ]
  },
  {
   "cell_type": "code",
   "execution_count": null,
   "id": "b27d13f3",
   "metadata": {},
   "outputs": [],
   "source": [
    "#63\n",
    "'''Get a string as input from the user and then get another string which has to be removed from the string. Get the third input, the new substring which is placed in that substring position. Finally print the output by replacing the substring with new string.\n",
    "\n",
    " \n",
    "\n",
    "Input\n",
    "\n",
    "Enter a string\n",
    "\n",
    "talentbattle\n",
    "\n",
    "Enter the substring to be removed:\n",
    "\n",
    "talent\n",
    "\n",
    "Enter the new substring:\n",
    "\n",
    "student\n",
    "\n",
    " \n",
    "\n",
    " \n",
    "\n",
    "Output\n",
    "\n",
    "The new string:\n",
    "\n",
    "studentbattle'''"
   ]
  },
  {
   "cell_type": "code",
   "execution_count": 74,
   "id": "a752079e",
   "metadata": {},
   "outputs": [
    {
     "name": "stdout",
     "output_type": "stream",
     "text": [
      "enetr string: talentbattle\n",
      "enter removable string: talent\n",
      "enter replacable string: student\n",
      "studentbattle\n"
     ]
    }
   ],
   "source": [
    "#in python remove works with list and replace works with string\n",
    "\n",
    "a = str(input(\"enetr string: \"))\n",
    "b = str(input(\"enter removable string: \"))\n",
    "c = str(input(\"enter replacable string: \"))\n",
    "\n",
    "d = a.replace(b,c)\n",
    "print(d)\n",
    "\n",
    "    \n",
    "    "
   ]
  },
  {
   "cell_type": "code",
   "execution_count": null,
   "id": "a8629c20",
   "metadata": {},
   "outputs": [],
   "source": [
    "#64\n",
    "'''Get an input string from user and print it in reverse order.\n",
    "\n",
    " \n",
    "\n",
    "Input\n",
    "\n",
    "Hello\n",
    "\n",
    "Output\n",
    "\n",
    "olleH\n",
    "\n",
    "'''"
   ]
  },
  {
   "cell_type": "code",
   "execution_count": 75,
   "id": "ed4b20a7",
   "metadata": {},
   "outputs": [
    {
     "name": "stdout",
     "output_type": "stream",
     "text": [
      "Hello\n",
      "olleH\n"
     ]
    }
   ],
   "source": [
    "a = str(input())\n",
    "b = a[::-1]\n",
    "print(b)"
   ]
  },
  {
   "cell_type": "code",
   "execution_count": 76,
   "id": "a421a4e2",
   "metadata": {},
   "outputs": [
    {
     "name": "stdout",
     "output_type": "stream",
     "text": [
      "hi\n",
      "hello\n",
      "not equal\n"
     ]
    }
   ],
   "source": [
    "#65\n",
    "'''Input\n",
    "\n",
    "Enter a string\n",
    "\n",
    "Hi\n",
    "\n",
    "Enter another string\n",
    "\n",
    "Hello\n",
    "\n",
    " \n",
    "\n",
    "Output\n",
    "\n",
    "Strings are not equal'''\n",
    "a = str(input())\n",
    "b = str(input())\n",
    "if a==b:\n",
    "    print(\"equal\")\n",
    "else:\n",
    "    print(\"not equal\")"
   ]
  },
  {
   "cell_type": "code",
   "execution_count": 77,
   "id": "22f2df24",
   "metadata": {},
   "outputs": [
    {
     "name": "stdout",
     "output_type": "stream",
     "text": [
      "Hello\n",
      "hi\n",
      "Hellohi\n"
     ]
    }
   ],
   "source": [
    "#66\n",
    "'''Input\n",
    "\n",
    "Enter first string\n",
    "\n",
    "Hello\n",
    "\n",
    "Enter second string\n",
    "\n",
    "Hi\n",
    "\n",
    " \n",
    "\n",
    "Output\n",
    "\n",
    "HelloHi\n",
    "\n",
    " '''\n",
    "a = str(input())\n",
    "b = str(input())\n",
    "print(a+b)"
   ]
  },
  {
   "cell_type": "code",
   "execution_count": null,
   "id": "0a21a52e",
   "metadata": {},
   "outputs": [],
   "source": [
    "#67\n",
    "'''Get a string as the input and find the length of the string.\n",
    "\n",
    " \n",
    "\n",
    "Input\n",
    "\n",
    "Hello\n",
    "\n",
    "Output\n",
    "\n",
    "5'''"
   ]
  },
  {
   "cell_type": "code",
   "execution_count": 78,
   "id": "d0f0db96",
   "metadata": {},
   "outputs": [
    {
     "name": "stdout",
     "output_type": "stream",
     "text": [
      "Hello\n",
      "5\n"
     ]
    }
   ],
   "source": [
    "a = str(input())\n",
    "b =len(a)\n",
    "print(b)"
   ]
  },
  {
   "cell_type": "code",
   "execution_count": null,
   "id": "4b1c58c9",
   "metadata": {},
   "outputs": [],
   "source": [
    "#68 Toggle each charcter in string\n",
    "'''Get an input string from user and then convert the lower case of alphabets to upper case and all upper-case alphabets into lower case.\n",
    "\n",
    " \n",
    "\n",
    "Input\n",
    "\n",
    "Hello\n",
    "\n",
    "Output\n",
    "\n",
    "hELLO'''"
   ]
  },
  {
   "cell_type": "code",
   "execution_count": 84,
   "id": "921c3d4d",
   "metadata": {},
   "outputs": [
    {
     "name": "stdout",
     "output_type": "stream",
     "text": [
      "Hello\n",
      "hELLO\n"
     ]
    }
   ],
   "source": [
    "a =str(input())\n",
    "\n",
    "string=\"\"\n",
    "for i in a:\n",
    "    if i== i.upper():\n",
    "        b = i.lower()\n",
    "        string = string + b\n",
    "    else:\n",
    "        c = i.upper()\n",
    "        string = string + c\n",
    "        \n",
    "print(string)\n",
    "\n"
   ]
  },
  {
   "cell_type": "code",
   "execution_count": 83,
   "id": "ee0e475a",
   "metadata": {},
   "outputs": [
    {
     "data": {
      "text/plain": [
       "'AAA'"
      ]
     },
     "execution_count": 83,
     "metadata": {},
     "output_type": "execute_result"
    }
   ],
   "source": [
    "a =\"aaA\"\n",
    "b=a.upper()\n",
    "b"
   ]
  },
  {
   "cell_type": "code",
   "execution_count": 86,
   "id": "e17476ed",
   "metadata": {},
   "outputs": [
    {
     "name": "stdout",
     "output_type": "stream",
     "text": [
      "Hello\n",
      "hELLO\n"
     ]
    }
   ],
   "source": [
    "a =str(input())\n",
    "b = a.swapcase()\n",
    "print(b)"
   ]
  },
  {
   "cell_type": "code",
   "execution_count": null,
   "id": "36bbb758",
   "metadata": {},
   "outputs": [],
   "source": [
    "#69\n",
    "'''Get a string as input from user and print the length of the string without using strlen() function.\n",
    "\n",
    " \n",
    "\n",
    "Input\n",
    "\n",
    "Hello\n",
    "\n",
    "Output\n",
    "\n",
    "5'''"
   ]
  },
  {
   "cell_type": "code",
   "execution_count": 87,
   "id": "9d641373",
   "metadata": {},
   "outputs": [
    {
     "name": "stdout",
     "output_type": "stream",
     "text": [
      "Hello\n",
      "5\n"
     ]
    }
   ],
   "source": [
    "a =str(input())\n",
    "count=0\n",
    "for i in a:\n",
    "    count = count+1\n",
    "    \n",
    "print(count)"
   ]
  },
  {
   "cell_type": "code",
   "execution_count": null,
   "id": "009e0adb",
   "metadata": {},
   "outputs": [],
   "source": [
    "#70\n",
    "'''Get a string from the user and find the sum of numbers in the string.\n",
    "\n",
    " \n",
    "\n",
    "Input\n",
    "\n",
    "Hello56\n",
    "\n",
    "Output\n",
    "\n",
    "11'''"
   ]
  },
  {
   "cell_type": "code",
   "execution_count": 15,
   "id": "2866c7d8",
   "metadata": {},
   "outputs": [
    {
     "name": "stdout",
     "output_type": "stream",
     "text": [
      "Hello56\n",
      "11\n"
     ]
    }
   ],
   "source": [
    "a = str(input())\n",
    "\n",
    "l = []\n",
    "for i in a:\n",
    "    if i.isalpha():\n",
    "        pass\n",
    "    else:\n",
    "        l.append(i)\n",
    "        \n",
    "a = list(map(int,l))\n",
    "\n",
    "count=0\n",
    "for j in a:\n",
    "    count = count + j\n",
    "\n",
    "print(count)\n",
    "\n",
    "\n",
    "    \n"
   ]
  },
  {
   "cell_type": "code",
   "execution_count": 19,
   "id": "4de28613",
   "metadata": {},
   "outputs": [
    {
     "name": "stdout",
     "output_type": "stream",
     "text": [
      "hgsvsa367@45\n",
      "25\n"
     ]
    }
   ],
   "source": [
    "a = str(input())\n",
    "\n",
    "l = []\n",
    "for i in a:\n",
    "    if i.isdigit():\n",
    "        l.append(i)\n",
    "        \n",
    "a = list(map(int,l))\n",
    "\n",
    "count=0\n",
    "for j in a:\n",
    "    count = count + j\n",
    "\n",
    "print(count)"
   ]
  },
  {
   "cell_type": "code",
   "execution_count": null,
   "id": "11fe1928",
   "metadata": {},
   "outputs": [],
   "source": []
  }
 ],
 "metadata": {
  "kernelspec": {
   "display_name": "Python 3 (ipykernel)",
   "language": "python",
   "name": "python3"
  },
  "language_info": {
   "codemirror_mode": {
    "name": "ipython",
    "version": 3
   },
   "file_extension": ".py",
   "mimetype": "text/x-python",
   "name": "python",
   "nbconvert_exporter": "python",
   "pygments_lexer": "ipython3",
   "version": "3.9.7"
  }
 },
 "nbformat": 4,
 "nbformat_minor": 5
}
